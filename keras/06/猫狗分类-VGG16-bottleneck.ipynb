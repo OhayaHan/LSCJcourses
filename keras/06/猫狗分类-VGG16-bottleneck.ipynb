{
 "cells": [
  {
   "cell_type": "code",
   "execution_count": null,
   "metadata": {
    "collapsed": false
   },
   "outputs": [],
   "source": [
    "from keras.applications.vgg16 import VGG16\n",
    "from keras.preprocessing import image\n",
    "from keras.applications.vgg16 import preprocess_input\n",
    "import numpy as np\n",
    "from keras.preprocessing.image import ImageDataGenerator\n",
    "from keras.utils import np_utils\n",
    "from keras.models import Sequential\n",
    "from keras.layers import Dropout, Flatten, Dense\n",
    "from keras.optimizers import Adam"
   ]
  },
  {
   "cell_type": "code",
   "execution_count": 59,
   "metadata": {
    "collapsed": false
   },
   "outputs": [],
   "source": [
    "# 载入预训练的VGG16模型，不包括全连接层\n",
    "model = VGG16(weights='imagenet', include_top=False)"
   ]
  },
  {
   "cell_type": "code",
   "execution_count": 60,
   "metadata": {
    "collapsed": false
   },
   "outputs": [
    {
     "name": "stdout",
     "output_type": "stream",
     "text": [
      "_________________________________________________________________\n",
      "Layer (type)                 Output Shape              Param #   \n",
      "=================================================================\n",
      "input_4 (InputLayer)         (None, None, None, 3)     0         \n",
      "_________________________________________________________________\n",
      "block1_conv1 (Conv2D)        (None, None, None, 64)    1792      \n",
      "_________________________________________________________________\n",
      "block1_conv2 (Conv2D)        (None, None, None, 64)    36928     \n",
      "_________________________________________________________________\n",
      "block1_pool (MaxPooling2D)   (None, None, None, 64)    0         \n",
      "_________________________________________________________________\n",
      "block2_conv1 (Conv2D)        (None, None, None, 128)   73856     \n",
      "_________________________________________________________________\n",
      "block2_conv2 (Conv2D)        (None, None, None, 128)   147584    \n",
      "_________________________________________________________________\n",
      "block2_pool (MaxPooling2D)   (None, None, None, 128)   0         \n",
      "_________________________________________________________________\n",
      "block3_conv1 (Conv2D)        (None, None, None, 256)   295168    \n",
      "_________________________________________________________________\n",
      "block3_conv2 (Conv2D)        (None, None, None, 256)   590080    \n",
      "_________________________________________________________________\n",
      "block3_conv3 (Conv2D)        (None, None, None, 256)   590080    \n",
      "_________________________________________________________________\n",
      "block3_pool (MaxPooling2D)   (None, None, None, 256)   0         \n",
      "_________________________________________________________________\n",
      "block4_conv1 (Conv2D)        (None, None, None, 512)   1180160   \n",
      "_________________________________________________________________\n",
      "block4_conv2 (Conv2D)        (None, None, None, 512)   2359808   \n",
      "_________________________________________________________________\n",
      "block4_conv3 (Conv2D)        (None, None, None, 512)   2359808   \n",
      "_________________________________________________________________\n",
      "block4_pool (MaxPooling2D)   (None, None, None, 512)   0         \n",
      "_________________________________________________________________\n",
      "block5_conv1 (Conv2D)        (None, None, None, 512)   2359808   \n",
      "_________________________________________________________________\n",
      "block5_conv2 (Conv2D)        (None, None, None, 512)   2359808   \n",
      "_________________________________________________________________\n",
      "block5_conv3 (Conv2D)        (None, None, None, 512)   2359808   \n",
      "_________________________________________________________________\n",
      "block5_pool (MaxPooling2D)   (None, None, None, 512)   0         \n",
      "=================================================================\n",
      "Total params: 14,714,688\n",
      "Trainable params: 14,714,688\n",
      "Non-trainable params: 0\n",
      "_________________________________________________________________\n"
     ]
    }
   ],
   "source": [
    "model.summary()"
   ]
  },
  {
   "cell_type": "code",
   "execution_count": 47,
   "metadata": {
    "collapsed": true
   },
   "outputs": [],
   "source": [
    "datagen = ImageDataGenerator(\n",
    "        rotation_range = 40,      # 随机旋转角度\n",
    "        width_shift_range = 0.2,  # 随机水平平移\n",
    "        height_shift_range = 0.2, # 随机竖直平移\n",
    "        rescale = 1./255,         # 数值归一化\n",
    "        shear_range = 0.2,        # 随机裁剪\n",
    "        zoom_range  =0.2,         # 随机放大\n",
    "        horizontal_flip = True,   # 水平翻转\n",
    "        fill_mode='nearest')      # 填充方式"
   ]
  },
  {
   "cell_type": "code",
   "execution_count": 48,
   "metadata": {
    "collapsed": false
   },
   "outputs": [
    {
     "name": "stdout",
     "output_type": "stream",
     "text": [
      "Found 2000 images belonging to 2 classes.\n",
      "(20000, 4, 4, 512)\n",
      "Found 1000 images belonging to 2 classes.\n",
      "(10000, 4, 4, 512)\n"
     ]
    }
   ],
   "source": [
    "batch_size = 32\n",
    "# \n",
    "train_steps = int((2000 +  batch_size - 1)/batch_size)*10\n",
    "test_steps = int((1000 +  batch_size - 1)/batch_size)*10\n",
    "generator = datagen.flow_from_directory(\n",
    "        'image/train',\n",
    "        target_size=(150, 150),\n",
    "        batch_size=batch_size,\n",
    "        class_mode=None,  # 不生成标签\n",
    "        shuffle=False)    # 不随机打乱\n",
    "\n",
    "# 得到训练集数据\n",
    "bottleneck_features_train = model.predict_generator(generator, train_steps)\n",
    "print(bottleneck_features_train.shape)\n",
    "# 保存训练集bottleneck结果\n",
    "np.save(open('bottleneck_features_train.npy', 'wb'), bottleneck_features_train)\n",
    "\n",
    "generator = datagen.flow_from_directory(\n",
    "        'image/test',\n",
    "        target_size=(150, 150),\n",
    "        batch_size=batch_size,\n",
    "        class_mode=None, # 不生成标签\n",
    "        shuffle=False)  # 不随机打乱\n",
    "# 得到预测集数据\n",
    "bottleneck_features_test = model.predict_generator(generator, test_steps)\n",
    "print(bottleneck_features_test.shape)\n",
    "# 保存测试集bottleneck结果\n",
    "np.save(open('bottleneck_features_test.npy', 'wb'), bottleneck_features_test)"
   ]
  },
  {
   "cell_type": "code",
   "execution_count": 50,
   "metadata": {
    "collapsed": false
   },
   "outputs": [],
   "source": [
    "train_data = np.load(open('bottleneck_features_train.npy','rb'))\n",
    "# the features were saved in order, so recreating the labels is easy\n",
    "labels = np.array([0] * 1000 + [1] * 1000)\n",
    "train_labels = np.array([])\n",
    "for _ in range(10):\n",
    "    train_labels=np.concatenate((train_labels,labels))\n",
    "\n",
    "test_data = np.load(open('bottleneck_features_test.npy','rb'))\n",
    "labels = np.array([0] * 500 + [1] * 500)\n",
    "test_labels = np.array([])\n",
    "for _ in range(10):\n",
    "    test_labels=np.concatenate((test_labels,labels))\n",
    "\n",
    "train_labels = np_utils.to_categorical(train_labels,num_classes=2)\n",
    "test_labels = np_utils.to_categorical(test_labels,num_classes=2)"
   ]
  },
  {
   "cell_type": "code",
   "execution_count": 56,
   "metadata": {
    "collapsed": false
   },
   "outputs": [
    {
     "name": "stdout",
     "output_type": "stream",
     "text": [
      "Train on 20000 samples, validate on 10000 samples\n",
      "Epoch 1/20\n",
      "20000/20000 [==============================] - 9s - loss: 0.4213 - acc: 0.8006 - val_loss: 0.3432 - val_acc: 0.8477\n",
      "Epoch 2/20\n",
      "20000/20000 [==============================] - 9s - loss: 0.3117 - acc: 0.8632 - val_loss: 0.3290 - val_acc: 0.8551\n",
      "Epoch 3/20\n",
      "20000/20000 [==============================] - 9s - loss: 0.2711 - acc: 0.8828 - val_loss: 0.3301 - val_acc: 0.8526\n",
      "Epoch 4/20\n",
      "20000/20000 [==============================] - 9s - loss: 0.2405 - acc: 0.8985 - val_loss: 0.3297 - val_acc: 0.8574\n",
      "Epoch 5/20\n",
      "20000/20000 [==============================] - 8s - loss: 0.2120 - acc: 0.9114 - val_loss: 0.3396 - val_acc: 0.8582\n",
      "Epoch 6/20\n",
      "20000/20000 [==============================] - 9s - loss: 0.1895 - acc: 0.9216 - val_loss: 0.3429 - val_acc: 0.8572\n",
      "Epoch 7/20\n",
      "20000/20000 [==============================] - 9s - loss: 0.1681 - acc: 0.9319 - val_loss: 0.3522 - val_acc: 0.8563\n",
      "Epoch 8/20\n",
      "20000/20000 [==============================] - 8s - loss: 0.1521 - acc: 0.9401 - val_loss: 0.3532 - val_acc: 0.8593\n",
      "Epoch 9/20\n",
      "20000/20000 [==============================] - 8s - loss: 0.1326 - acc: 0.9493 - val_loss: 0.3837 - val_acc: 0.8521\n",
      "Epoch 10/20\n",
      "20000/20000 [==============================] - 8s - loss: 0.1153 - acc: 0.9571 - val_loss: 0.3743 - val_acc: 0.8593\n",
      "Epoch 11/20\n",
      "20000/20000 [==============================] - 9s - loss: 0.1036 - acc: 0.9636 - val_loss: 0.4046 - val_acc: 0.8542\n",
      "Epoch 12/20\n",
      "20000/20000 [==============================] - 9s - loss: 0.0905 - acc: 0.9689 - val_loss: 0.3980 - val_acc: 0.8577\n",
      "Epoch 13/20\n",
      "20000/20000 [==============================] - 9s - loss: 0.0786 - acc: 0.9748 - val_loss: 0.4035 - val_acc: 0.8578\n",
      "Epoch 14/20\n",
      "20000/20000 [==============================] - 9s - loss: 0.0703 - acc: 0.9775 - val_loss: 0.4243 - val_acc: 0.8562\n",
      "Epoch 15/20\n",
      "20000/20000 [==============================] - 9s - loss: 0.0608 - acc: 0.9807 - val_loss: 0.4769 - val_acc: 0.8474\n",
      "Epoch 16/20\n",
      "20000/20000 [==============================] - 9s - loss: 0.0541 - acc: 0.9836 - val_loss: 0.4395 - val_acc: 0.8586\n",
      "Epoch 17/20\n",
      "20000/20000 [==============================] - 9s - loss: 0.0485 - acc: 0.9859 - val_loss: 0.4661 - val_acc: 0.8578\n",
      "Epoch 18/20\n",
      "20000/20000 [==============================] - 9s - loss: 0.0436 - acc: 0.9864 - val_loss: 0.4800 - val_acc: 0.8560\n",
      "Epoch 19/20\n",
      "20000/20000 [==============================] - 8s - loss: 0.0391 - acc: 0.9886 - val_loss: 0.4899 - val_acc: 0.8564\n",
      "Epoch 20/20\n",
      "20000/20000 [==============================] - 8s - loss: 0.0324 - acc: 0.9914 - val_loss: 0.5024 - val_acc: 0.8563\n"
     ]
    }
   ],
   "source": [
    "model = Sequential()\n",
    "model.add(Flatten(input_shape=train_data.shape[1:]))\n",
    "model.add(Dense(256, activation='relu'))\n",
    "model.add(Dropout(0.5))\n",
    "model.add(Dense(2, activation='softmax'))\n",
    "\n",
    "# 定义优化器\n",
    "adam = Adam(lr=1e-4)\n",
    "\n",
    "# 定义优化器，loss function，训练过程中计算准确率\n",
    "model.compile(optimizer=adam,loss='categorical_crossentropy',metrics=['accuracy'])\n",
    "\n",
    "model.fit(train_data, train_labels,\n",
    "          epochs=20, batch_size=batch_size,\n",
    "          validation_data=(test_data, test_labels))\n",
    "\n",
    "model.save_weights('bottleneck_fc_model.h5')"
   ]
  },
  {
   "cell_type": "code",
   "execution_count": 62,
   "metadata": {
    "collapsed": false
   },
   "outputs": [
    {
     "data": {
      "text/plain": [
       "19"
      ]
     },
     "execution_count": 62,
     "metadata": {},
     "output_type": "execute_result"
    }
   ],
   "source": [
    "len(model.layers)"
   ]
  },
  {
   "cell_type": "code",
   "execution_count": null,
   "metadata": {
    "collapsed": true
   },
   "outputs": [],
   "source": []
  }
 ],
 "metadata": {
  "anaconda-cloud": {},
  "kernelspec": {
   "display_name": "Python [default]",
   "language": "python",
   "name": "python3"
  },
  "language_info": {
   "codemirror_mode": {
    "name": "ipython",
    "version": 3
   },
   "file_extension": ".py",
   "mimetype": "text/x-python",
   "name": "python",
   "nbconvert_exporter": "python",
   "pygments_lexer": "ipython3",
   "version": "3.5.2"
  }
 },
 "nbformat": 4,
 "nbformat_minor": 1
}
