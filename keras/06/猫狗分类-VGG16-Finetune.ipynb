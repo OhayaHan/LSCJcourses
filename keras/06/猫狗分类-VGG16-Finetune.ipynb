{
 "cells": [
  {
   "cell_type": "code",
   "execution_count": null,
   "metadata": {
    "collapsed": false
   },
   "outputs": [],
   "source": [
    "from keras.applications.vgg16 import VGG16\n",
    "from keras.preprocessing import image\n",
    "from keras.applications.vgg16 import preprocess_input\n",
    "import numpy as np\n",
    "from keras.preprocessing.image import ImageDataGenerator\n",
    "from keras.models import Sequential\n",
    "from keras.layers import Dropout, Flatten, Dense\n",
    "from keras.optimizers import SGD\n",
    "import os"
   ]
  },
  {
   "cell_type": "code",
   "execution_count": 2,
   "metadata": {
    "collapsed": false
   },
   "outputs": [],
   "source": [
    "# 载入预训练的VGG16模型，不包括全连接层\n",
    "vgg16_model = VGG16(weights='imagenet', include_top=False, input_shape=(150,150,3))"
   ]
  },
  {
   "cell_type": "code",
   "execution_count": 3,
   "metadata": {
    "collapsed": false
   },
   "outputs": [],
   "source": [
    "# 搭建全连接层\n",
    "top_model = Sequential()\n",
    "top_model.add(Flatten(input_shape=vgg16_model.output_shape[1:]))\n",
    "top_model.add(Dense(256, activation='relu'))\n",
    "top_model.add(Dropout(0.5))\n",
    "top_model.add(Dense(2, activation='softmax'))\n",
    "\n",
    "# 载入训练过的权值\n",
    "top_model.load_weights('bottleneck_fc_model.h5')\n",
    "\n",
    "model = Sequential()\n",
    "model.add(vgg16_model)\n",
    "model.add(top_model)"
   ]
  },
  {
   "cell_type": "code",
   "execution_count": 4,
   "metadata": {
    "collapsed": false
   },
   "outputs": [],
   "source": [
    "# 训练集数据生成\n",
    "train_datagen = ImageDataGenerator(\n",
    "        rescale=1./255,\n",
    "        shear_range=0.2,\n",
    "        zoom_range=0.2,\n",
    "        horizontal_flip=True)\n",
    "\n",
    "# 测试集数据处理\n",
    "test_datagen = ImageDataGenerator(rescale=1./255)"
   ]
  },
  {
   "cell_type": "code",
   "execution_count": 5,
   "metadata": {
    "collapsed": false
   },
   "outputs": [
    {
     "name": "stdout",
     "output_type": "stream",
     "text": [
      "Found 2000 images belonging to 2 classes.\n",
      "Found 1000 images belonging to 2 classes.\n"
     ]
    }
   ],
   "source": [
    "batch_size = 32\n",
    "# 生成训练数据\n",
    "train_generator = train_datagen.flow_from_directory(\n",
    "        'image/train',  # 训练数据路径\n",
    "        target_size=(150, 150),  # 设置图片大小\n",
    "        batch_size=batch_size # 批次大小\n",
    "        ) \n",
    "\n",
    "# 测试数据\n",
    "test_generator = test_datagen.flow_from_directory(\n",
    "        'image/test',  # 训练数据路径\n",
    "        target_size=(150, 150),  # 设置图片大小\n",
    "        batch_size=batch_size # 批次大小\n",
    "        )"
   ]
  },
  {
   "cell_type": "code",
   "execution_count": 6,
   "metadata": {
    "collapsed": false
   },
   "outputs": [
    {
     "name": "stdout",
     "output_type": "stream",
     "text": [
      "Epoch 1/50\n",
      "63/62 [==============================] - 136s - loss: 0.2505 - acc: 0.9196 - val_loss: 0.2805 - val_acc: 0.9021\n",
      "Epoch 2/50\n",
      "63/62 [==============================] - 118s - loss: 0.1046 - acc: 0.9563 - val_loss: 0.2127 - val_acc: 0.9228\n",
      "Epoch 3/50\n",
      "63/62 [==============================] - 118s - loss: 0.0725 - acc: 0.9792 - val_loss: 0.2039 - val_acc: 0.9304\n",
      "Epoch 4/50\n",
      "63/62 [==============================] - 118s - loss: 0.0740 - acc: 0.9678 - val_loss: 0.2118 - val_acc: 0.9258\n",
      "Epoch 5/50\n",
      "63/62 [==============================] - 118s - loss: 0.0629 - acc: 0.9777 - val_loss: 0.1960 - val_acc: 0.9375\n",
      "Epoch 6/50\n",
      "63/62 [==============================] - 118s - loss: 0.0564 - acc: 0.9807 - val_loss: 0.2109 - val_acc: 0.9304\n",
      "Epoch 7/50\n",
      "63/62 [==============================] - 118s - loss: 0.0451 - acc: 0.9821 - val_loss: 0.2611 - val_acc: 0.9299\n",
      "Epoch 8/50\n",
      "63/62 [==============================] - 118s - loss: 0.0387 - acc: 0.9856 - val_loss: 0.2099 - val_acc: 0.9365\n",
      "Epoch 9/50\n",
      "63/62 [==============================] - 118s - loss: 0.0325 - acc: 0.9871 - val_loss: 0.2239 - val_acc: 0.9380\n",
      "Epoch 10/50\n",
      "63/62 [==============================] - 118s - loss: 0.0258 - acc: 0.9931 - val_loss: 0.1950 - val_acc: 0.9431\n",
      "Epoch 11/50\n",
      "63/62 [==============================] - 118s - loss: 0.0208 - acc: 0.9936 - val_loss: 0.2281 - val_acc: 0.9390\n",
      "Epoch 12/50\n",
      "63/62 [==============================] - 118s - loss: 0.0249 - acc: 0.9916 - val_loss: 0.2190 - val_acc: 0.9502\n",
      "Epoch 13/50\n",
      "63/62 [==============================] - 118s - loss: 0.0279 - acc: 0.9886 - val_loss: 0.2553 - val_acc: 0.9350\n",
      "Epoch 14/50\n",
      "63/62 [==============================] - 118s - loss: 0.0253 - acc: 0.9911 - val_loss: 0.2204 - val_acc: 0.9456\n",
      "Epoch 15/50\n",
      "63/62 [==============================] - 118s - loss: 0.0192 - acc: 0.9931 - val_loss: 0.2310 - val_acc: 0.9365\n",
      "Epoch 16/50\n",
      "63/62 [==============================] - 118s - loss: 0.0257 - acc: 0.9926 - val_loss: 0.2394 - val_acc: 0.9385\n",
      "Epoch 17/50\n",
      "63/62 [==============================] - 118s - loss: 0.0170 - acc: 0.9936 - val_loss: 0.1984 - val_acc: 0.9441\n",
      "Epoch 18/50\n",
      "63/62 [==============================] - 118s - loss: 0.0108 - acc: 0.9975 - val_loss: 0.2797 - val_acc: 0.9416\n",
      "Epoch 19/50\n",
      "63/62 [==============================] - 118s - loss: 0.0163 - acc: 0.9931 - val_loss: 0.2974 - val_acc: 0.9355\n",
      "Epoch 20/50\n",
      "63/62 [==============================] - 118s - loss: 0.0173 - acc: 0.9940 - val_loss: 0.2146 - val_acc: 0.9482\n",
      "Epoch 21/50\n",
      "63/62 [==============================] - 118s - loss: 0.0090 - acc: 0.9965 - val_loss: 0.2802 - val_acc: 0.9360\n",
      "Epoch 22/50\n",
      "63/62 [==============================] - 118s - loss: 0.0107 - acc: 0.9945 - val_loss: 0.2359 - val_acc: 0.9360\n",
      "Epoch 23/50\n",
      "63/62 [==============================] - 118s - loss: 0.0107 - acc: 0.9970 - val_loss: 0.2245 - val_acc: 0.9426\n",
      "Epoch 24/50\n",
      "63/62 [==============================] - 118s - loss: 0.0134 - acc: 0.9960 - val_loss: 0.2199 - val_acc: 0.9482\n",
      "Epoch 25/50\n",
      "63/62 [==============================] - 118s - loss: 0.0108 - acc: 0.9960 - val_loss: 0.2463 - val_acc: 0.9416\n",
      "Epoch 26/50\n",
      "63/62 [==============================] - 118s - loss: 0.0188 - acc: 0.9940 - val_loss: 0.2849 - val_acc: 0.9390\n",
      "Epoch 27/50\n",
      "63/62 [==============================] - 118s - loss: 0.0068 - acc: 0.9990 - val_loss: 0.2631 - val_acc: 0.9385\n",
      "Epoch 28/50\n",
      "63/62 [==============================] - 118s - loss: 0.0052 - acc: 0.9980 - val_loss: 0.2866 - val_acc: 0.9416\n",
      "Epoch 29/50\n",
      "63/62 [==============================] - 118s - loss: 0.0038 - acc: 1.0000 - val_loss: 0.2921 - val_acc: 0.9446\n",
      "Epoch 30/50\n",
      "63/62 [==============================] - 118s - loss: 0.0152 - acc: 0.9940 - val_loss: 0.2446 - val_acc: 0.9395\n",
      "Epoch 31/50\n",
      "63/62 [==============================] - 118s - loss: 0.0079 - acc: 0.9965 - val_loss: 0.2171 - val_acc: 0.9431\n",
      "Epoch 32/50\n",
      "63/62 [==============================] - 118s - loss: 0.0062 - acc: 0.9985 - val_loss: 0.2334 - val_acc: 0.9441\n",
      "Epoch 33/50\n",
      "63/62 [==============================] - 118s - loss: 0.0044 - acc: 0.9990 - val_loss: 0.2686 - val_acc: 0.9438\n",
      "Epoch 34/50\n",
      "63/62 [==============================] - 118s - loss: 0.0047 - acc: 0.9985 - val_loss: 0.2572 - val_acc: 0.9405\n",
      "Epoch 35/50\n",
      "63/62 [==============================] - 118s - loss: 0.0057 - acc: 0.9980 - val_loss: 0.2505 - val_acc: 0.9497\n",
      "Epoch 36/50\n",
      "63/62 [==============================] - 118s - loss: 0.0050 - acc: 0.9985 - val_loss: 0.2552 - val_acc: 0.9482\n",
      "Epoch 37/50\n",
      "63/62 [==============================] - 118s - loss: 0.0033 - acc: 0.9990 - val_loss: 0.2510 - val_acc: 0.9482\n",
      "Epoch 38/50\n",
      "63/62 [==============================] - 118s - loss: 0.0038 - acc: 0.9990 - val_loss: 0.3125 - val_acc: 0.9365\n",
      "Epoch 39/50\n",
      "63/62 [==============================] - 118s - loss: 0.0066 - acc: 0.9970 - val_loss: 0.2213 - val_acc: 0.9487\n",
      "Epoch 40/50\n",
      "63/62 [==============================] - 118s - loss: 0.0047 - acc: 0.9985 - val_loss: 0.2260 - val_acc: 0.9507\n",
      "Epoch 41/50\n",
      "63/62 [==============================] - 118s - loss: 0.0026 - acc: 0.9995 - val_loss: 0.2355 - val_acc: 0.9451\n",
      "Epoch 42/50\n",
      "63/62 [==============================] - 118s - loss: 0.0026 - acc: 0.9995 - val_loss: 0.2508 - val_acc: 0.9466\n",
      "Epoch 43/50\n",
      "63/62 [==============================] - 118s - loss: 0.0022 - acc: 0.9995 - val_loss: 0.2681 - val_acc: 0.9466\n",
      "Epoch 44/50\n",
      "63/62 [==============================] - 118s - loss: 0.0040 - acc: 0.9990 - val_loss: 0.2797 - val_acc: 0.9497\n",
      "Epoch 45/50\n",
      "63/62 [==============================] - 118s - loss: 0.0078 - acc: 0.9970 - val_loss: 0.2531 - val_acc: 0.9502\n",
      "Epoch 46/50\n",
      "63/62 [==============================] - 118s - loss: 0.0111 - acc: 0.9965 - val_loss: 0.2625 - val_acc: 0.9553\n",
      "Epoch 47/50\n",
      "63/62 [==============================] - 118s - loss: 0.0066 - acc: 0.9980 - val_loss: 0.2821 - val_acc: 0.9451\n",
      "Epoch 48/50\n",
      "63/62 [==============================] - 118s - loss: 0.0044 - acc: 0.9985 - val_loss: 0.3363 - val_acc: 0.9350\n",
      "Epoch 49/50\n",
      "63/62 [==============================] - 118s - loss: 0.0028 - acc: 0.9995 - val_loss: 0.2447 - val_acc: 0.9472\n",
      "Epoch 50/50\n",
      "63/62 [==============================] - 118s - loss: 0.0032 - acc: 0.9990 - val_loss: 0.2661 - val_acc: 0.9421\n"
     ]
    },
    {
     "data": {
      "text/plain": [
       "<keras.callbacks.History at 0x2dbf2e1d160>"
      ]
     },
     "execution_count": 6,
     "metadata": {},
     "output_type": "execute_result"
    }
   ],
   "source": [
    "model.compile(loss='categorical_crossentropy',\n",
    "              optimizer=SGD(lr=1e-4, momentum=0.9),\n",
    "              metrics=['accuracy'])\n",
    "\n",
    "\n",
    "# 统计文件个数\n",
    "totalFileCount = sum([len(files) for root, dirs, files in os.walk('image/train')])\n",
    "\n",
    "model.fit_generator(\n",
    "        train_generator,\n",
    "        steps_per_epoch=totalFileCount/batch_size,\n",
    "        epochs=10,\n",
    "        validation_data=test_generator,\n",
    "        validation_steps=1000/batch_size,\n",
    "        )"
   ]
  },
  {
   "cell_type": "code",
   "execution_count": null,
   "metadata": {
    "collapsed": true
   },
   "outputs": [],
   "source": []
  }
 ],
 "metadata": {
  "anaconda-cloud": {},
  "kernelspec": {
   "display_name": "Python [default]",
   "language": "python",
   "name": "python3"
  },
  "language_info": {
   "codemirror_mode": {
    "name": "ipython",
    "version": 3
   },
   "file_extension": ".py",
   "mimetype": "text/x-python",
   "name": "python",
   "nbconvert_exporter": "python",
   "pygments_lexer": "ipython3",
   "version": "3.5.2"
  }
 },
 "nbformat": 4,
 "nbformat_minor": 1
}
