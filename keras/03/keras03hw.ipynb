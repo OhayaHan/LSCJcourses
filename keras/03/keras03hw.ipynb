{
 "cells": [
  {
   "cell_type": "markdown",
   "metadata": {},
   "source": [
    "## keras03hw\n",
    "写一个mnist识别的程序，使用这周讲到的所有知识点，交叉熵，dropout，正则化，其他优化器。并尽量把识别准确率调高。"
   ]
  },
  {
   "cell_type": "code",
   "execution_count": 4,
   "metadata": {},
   "outputs": [],
   "source": [
    "import numpy as np\n",
    "from keras.utils import np_utils\n",
    "from keras.models import Sequential\n",
    "from keras.layers import Dense,Dropout\n",
    "from keras.optimizers import RMSprop\n",
    "from keras.regularizers import l2"
   ]
  },
  {
   "cell_type": "code",
   "execution_count": 3,
   "metadata": {},
   "outputs": [
    {
     "name": "stdout",
     "output_type": "stream",
     "text": [
      "x_shape: (60000, 28, 28)\n",
      "y_shape: (60000,)\n"
     ]
    }
   ],
   "source": [
    "#from keras.datasets import mnist\n",
    "\n",
    "f = np.load('../02/mnist.npz') \n",
    "x_train, y_train = f['x_train'], f['y_train']  \n",
    "x_test, y_test = f['x_test'], f['y_test']  \n",
    "f.close() \n",
    "# 载入数据\n",
    "#(x_train,y_train),(x_test,y_test) = mnist.load_data()\n",
    "# (60000,28,28)\n",
    "print('x_shape:',x_train.shape)\n",
    "# (60000)\n",
    "print('y_shape:',y_train.shape)"
   ]
  },
  {
   "cell_type": "code",
   "execution_count": 5,
   "metadata": {
    "scrolled": false
   },
   "outputs": [
    {
     "name": "stdout",
     "output_type": "stream",
     "text": [
      "Epoch 1/10\n",
      "60000/60000 [==============================] - 10s 171us/step - loss: 0.3347 - acc: 0.9213\n",
      "Epoch 2/10\n",
      "60000/60000 [==============================] - 8s 140us/step - loss: 0.1636 - acc: 0.9615\n",
      "Epoch 3/10\n",
      "60000/60000 [==============================] - 8s 141us/step - loss: 0.1238 - acc: 0.9705\n",
      "Epoch 4/10\n",
      "60000/60000 [==============================] - 8s 140us/step - loss: 0.1045 - acc: 0.9758\n",
      "Epoch 5/10\n",
      "60000/60000 [==============================] - 8s 141us/step - loss: 0.0939 - acc: 0.9778\n",
      "Epoch 6/10\n",
      "60000/60000 [==============================] - 8s 133us/step - loss: 0.0847 - acc: 0.9804\n",
      "Epoch 7/10\n",
      "60000/60000 [==============================] - 8s 139us/step - loss: 0.0790 - acc: 0.9816\n",
      "Epoch 8/10\n",
      "60000/60000 [==============================] - 8s 141us/step - loss: 0.0731 - acc: 0.9832\n",
      "Epoch 9/10\n",
      "60000/60000 [==============================] - 8s 141us/step - loss: 0.0693 - acc: 0.9839\n",
      "Epoch 10/10\n",
      "60000/60000 [==============================] - 8s 141us/step - loss: 0.0654 - acc: 0.9853\n",
      "60000/60000 [==============================] - 3s 55us/step\n",
      "\n",
      "train loss 0.05819055448671182\n",
      "accuracy 0.9874\n",
      "10000/10000 [==============================] - 1s 56us/step\n",
      "\n",
      "test loss 0.11465090882182122\n",
      "accuracy 0.9714\n"
     ]
    }
   ],
   "source": [
    "# (60000,28,28)->(60000,784) & 线性归一化\n",
    "x_train = x_train.reshape(x_train.shape[0],-1)/255.0\n",
    "x_test = x_test.reshape(x_test.shape[0],-1)/255.0\n",
    "# 换one hot格式\n",
    "y_train = np_utils.to_categorical(y_train,num_classes=10)\n",
    "y_test = np_utils.to_categorical(y_test,num_classes=10)\n",
    "\n",
    "# 创建模型，输入784个神经元，输出10个神经元\n",
    "model = Sequential()\n",
    "model.add(Dense(units=100,input_dim=784,bias_initializer='one',activation='tanh'))\n",
    "Dropout(0.5)\n",
    "model.add(Dense(units=100,bias_initializer='one',activation='tanh',kernel_regularizer=l2(0.001)))\n",
    "model.add(Dense(units=10,activation='softmax'))\n",
    "\n",
    "# 定义优化器\n",
    "rms = RMSprop(lr=0.001)\n",
    "# 定义优化器，loss function，训练过程中计算准确率\n",
    "model.compile(\n",
    "    optimizer = rms,\n",
    "    loss = 'categorical_crossentropy',\n",
    "    metrics=['accuracy'],\n",
    ")\n",
    "\n",
    "# 训练模型\n",
    "model.fit(x_train,y_train,batch_size=32,epochs=10)\n",
    "\n",
    "# 评估模型\n",
    "loss,accuracy = model.evaluate(x_train,y_train)\n",
    "\n",
    "print('\\ntrain loss',loss)\n",
    "print('accuracy',accuracy)\n",
    "# 评估模型\n",
    "loss,accuracy = model.evaluate(x_test,y_test)\n",
    "\n",
    "print('\\ntest loss',loss)\n",
    "print('accuracy',accuracy)"
   ]
  },
  {
   "cell_type": "code",
   "execution_count": null,
   "metadata": {
    "collapsed": true
   },
   "outputs": [],
   "source": []
  }
 ],
 "metadata": {
  "anaconda-cloud": {},
  "kernelspec": {
   "display_name": "Python 3",
   "language": "python",
   "name": "python3"
  },
  "language_info": {
   "codemirror_mode": {
    "name": "ipython",
    "version": 3
   },
   "file_extension": ".py",
   "mimetype": "text/x-python",
   "name": "python",
   "nbconvert_exporter": "python",
   "pygments_lexer": "ipython3",
   "version": "3.6.4"
  }
 },
 "nbformat": 4,
 "nbformat_minor": 1
}
