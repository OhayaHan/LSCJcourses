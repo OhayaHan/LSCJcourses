{
 "cells": [
  {
   "cell_type": "code",
   "execution_count": 2,
   "metadata": {},
   "outputs": [
    {
     "name": "stderr",
     "output_type": "stream",
     "text": [
      "C:\\Users\\Ian\\Anaconda3\\lib\\site-packages\\h5py\\__init__.py:36: FutureWarning: Conversion of the second argument of issubdtype from `float` to `np.floating` is deprecated. In future, it will be treated as `np.float64 == np.dtype(float).type`.\n",
      "  from ._conv import register_converters as _register_converters\n",
      "Using TensorFlow backend.\n"
     ]
    }
   ],
   "source": [
    "import numpy as np\n",
    "from keras.utils import np_utils\n",
    "from keras.models import Sequential\n",
    "from keras.layers import Dense,Dropout\n",
    "from keras.optimizers import SGD"
   ]
  },
  {
   "cell_type": "code",
   "execution_count": 1,
   "metadata": {},
   "outputs": [
    {
     "ename": "NameError",
     "evalue": "name 'np' is not defined",
     "output_type": "error",
     "traceback": [
      "\u001b[1;31m---------------------------------------------------------------------------\u001b[0m",
      "\u001b[1;31mNameError\u001b[0m                                 Traceback (most recent call last)",
      "\u001b[1;32m<ipython-input-1-671c88aeac26>\u001b[0m in \u001b[0;36m<module>\u001b[1;34m()\u001b[0m\n\u001b[0;32m      1\u001b[0m \u001b[1;31m#from keras.datasets import mnist\u001b[0m\u001b[1;33m\u001b[0m\u001b[1;33m\u001b[0m\u001b[0m\n\u001b[0;32m      2\u001b[0m \u001b[1;33m\u001b[0m\u001b[0m\n\u001b[1;32m----> 3\u001b[1;33m \u001b[0mf\u001b[0m \u001b[1;33m=\u001b[0m \u001b[0mnp\u001b[0m\u001b[1;33m.\u001b[0m\u001b[0mload\u001b[0m\u001b[1;33m(\u001b[0m\u001b[1;34m'../02/mnist.npz'\u001b[0m\u001b[1;33m)\u001b[0m\u001b[1;33m\u001b[0m\u001b[0m\n\u001b[0m\u001b[0;32m      4\u001b[0m \u001b[0mx_train\u001b[0m\u001b[1;33m,\u001b[0m \u001b[0my_train\u001b[0m \u001b[1;33m=\u001b[0m \u001b[0mf\u001b[0m\u001b[1;33m[\u001b[0m\u001b[1;34m'x_train'\u001b[0m\u001b[1;33m]\u001b[0m\u001b[1;33m,\u001b[0m \u001b[0mf\u001b[0m\u001b[1;33m[\u001b[0m\u001b[1;34m'y_train'\u001b[0m\u001b[1;33m]\u001b[0m\u001b[1;33m\u001b[0m\u001b[0m\n\u001b[0;32m      5\u001b[0m \u001b[0mx_test\u001b[0m\u001b[1;33m,\u001b[0m \u001b[0my_test\u001b[0m \u001b[1;33m=\u001b[0m \u001b[0mf\u001b[0m\u001b[1;33m[\u001b[0m\u001b[1;34m'x_test'\u001b[0m\u001b[1;33m]\u001b[0m\u001b[1;33m,\u001b[0m \u001b[0mf\u001b[0m\u001b[1;33m[\u001b[0m\u001b[1;34m'y_test'\u001b[0m\u001b[1;33m]\u001b[0m\u001b[1;33m\u001b[0m\u001b[0m\n",
      "\u001b[1;31mNameError\u001b[0m: name 'np' is not defined"
     ]
    }
   ],
   "source": [
    "#from keras.datasets import mnist\n",
    "\n",
    "f = np.load('../02/mnist.npz') \n",
    "x_train, y_train = f['x_train'], f['y_train']  \n",
    "x_test, y_test = f['x_test'], f['y_test']  \n",
    "f.close() \n",
    "# 载入数据\n",
    "#(x_train,y_train),(x_test,y_test) = mnist.load_data()\n",
    "# (60000,28,28)\n",
    "print('x_shape:',x_train.shape)\n",
    "# (60000)\n",
    "print('y_shape:',y_train.shape)"
   ]
  },
  {
   "cell_type": "code",
   "execution_count": 3,
   "metadata": {
    "scrolled": false
   },
   "outputs": [
    {
     "name": "stdout",
     "output_type": "stream",
     "text": [
      "Epoch 1/10\n",
      "60000/60000 [==============================] - 9s 146us/step - loss: 0.2774 - acc: 0.9172\n",
      "Epoch 2/10\n",
      "60000/60000 [==============================] - 7s 115us/step - loss: 0.1381 - acc: 0.9591\n",
      "Epoch 3/10\n",
      "60000/60000 [==============================] - 7s 114us/step - loss: 0.1005 - acc: 0.9708\n",
      "Epoch 4/10\n",
      "60000/60000 [==============================] - 7s 116us/step - loss: 0.0777 - acc: 0.9768\n",
      "Epoch 5/10\n",
      "60000/60000 [==============================] - 7s 116us/step - loss: 0.0631 - acc: 0.9813\n",
      "Epoch 6/10\n",
      "60000/60000 [==============================] - 7s 115us/step - loss: 0.0527 - acc: 0.9844\n",
      "Epoch 7/10\n",
      "60000/60000 [==============================] - 7s 115us/step - loss: 0.0435 - acc: 0.9875\n",
      "Epoch 8/10\n",
      "60000/60000 [==============================] - 7s 115us/step - loss: 0.0363 - acc: 0.9902\n",
      "Epoch 9/10\n",
      "60000/60000 [==============================] - 7s 116us/step - loss: 0.0309 - acc: 0.9915\n",
      "Epoch 10/10\n",
      "60000/60000 [==============================] - 7s 115us/step - loss: 0.0258 - acc: 0.9937\n",
      "60000/60000 [==============================] - 3s 50us/step\n",
      "\n",
      "train loss 0.01876421094632242\n",
      "accuracy 0.9964333333333333\n",
      "10000/10000 [==============================] - 1s 51us/step\n",
      "\n",
      "test loss 0.07339327502283267\n",
      "accuracy 0.9779\n"
     ]
    }
   ],
   "source": [
    "# (60000,28,28)->(60000,784) & 线性归一化\n",
    "x_train = x_train.reshape(x_train.shape[0],-1)/255.0\n",
    "x_test = x_test.reshape(x_test.shape[0],-1)/255.0\n",
    "# 换one hot格式\n",
    "y_train = np_utils.to_categorical(y_train,num_classes=10)\n",
    "y_test = np_utils.to_categorical(y_test,num_classes=10)\n",
    "\n",
    "# 创建模型，输入784个神经元，输出10个神经元\n",
    "# 第一种表述方式\n",
    "# model = Sequential([\n",
    "#     Dense(units=100,input_dim=784,bias_initializer='one',activation='tanh'),\n",
    "#     Dropout(0.4),\n",
    "#     Dense(units=10,activation='softmax')\n",
    "# ])\n",
    "# 第二种表述方式\n",
    "model = Sequential()\n",
    "model.add(Dense(units=100,input_dim=784,bias_initializer='one',activation='tanh'))\n",
    "Dropout(0.4)\n",
    "model.add(Dense(units=10,activation='softmax'))\n",
    "\n",
    "# 定义优化器\n",
    "sgd = SGD(lr=0.2)\n",
    "\n",
    "# 定义优化器，loss function，训练过程中计算准确率\n",
    "model.compile(\n",
    "    optimizer = sgd,\n",
    "    loss = 'categorical_crossentropy',\n",
    "    metrics=['accuracy'],\n",
    ")\n",
    "\n",
    "# 训练模型\n",
    "model.fit(x_train,y_train,batch_size=32,epochs=10)\n",
    "\n",
    "# 评估模型\n",
    "loss,accuracy = model.evaluate(x_train,y_train)\n",
    "\n",
    "print('\\ntrain loss',loss)\n",
    "print('accuracy',accuracy)\n",
    "\n",
    "# 评估模型\n",
    "loss,accuracy = model.evaluate(x_test,y_test)\n",
    "\n",
    "print('\\ntest loss',loss)\n",
    "print('accuracy',accuracy)"
   ]
  },
  {
   "cell_type": "code",
   "execution_count": null,
   "metadata": {
    "collapsed": true
   },
   "outputs": [],
   "source": []
  }
 ],
 "metadata": {
  "anaconda-cloud": {},
  "kernelspec": {
   "display_name": "Python 3",
   "language": "python",
   "name": "python3"
  },
  "language_info": {
   "codemirror_mode": {
    "name": "ipython",
    "version": 3
   },
   "file_extension": ".py",
   "mimetype": "text/x-python",
   "name": "python",
   "nbconvert_exporter": "python",
   "pygments_lexer": "ipython3",
   "version": "3.6.5"
  }
 },
 "nbformat": 4,
 "nbformat_minor": 1
}
