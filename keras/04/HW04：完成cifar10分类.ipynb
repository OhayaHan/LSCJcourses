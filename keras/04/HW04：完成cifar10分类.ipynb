{
 "cells": [
  {
   "cell_type": "markdown",
   "metadata": {},
   "source": [
    "## HW04：完成cifar10分类\n",
    "http://www.cs.toronto.edu/~kriz/cifar.html\n",
    "The CIFAR-10 dataset consists of 60000 32x32 colour images in 10 classes, with 6000 images per class. There are 50000 training images and 10000 test images. \n",
    "Here are the classes in the dataset:\n",
    "airplane\t\t\t\t\t\t\t\t\t\t\n",
    "automobile\t\t\t\t\t\t\t\t\t\t\n",
    "bird\t\t\t\t\t\t\t\t\t\t\n",
    "cat\t\t\t\t\t\t\t\t\t\t\n",
    "deer\t\t\t\t\t\t\t\t\t\t\n",
    "dog\t\t\t\t\t\t\t\t\t\t\n",
    "frog\t\t\t\t\t\t\t\t\t\t\n",
    "horse\t\t\t\t\t\t\t\t\t\t\n",
    "ship\t\t\t\t\t\t\t\t\t\t\n",
    "truck"
   ]
  },
  {
   "cell_type": "code",
   "execution_count": 1,
   "metadata": {},
   "outputs": [],
   "source": [
    "from keras.datasets import cifar10\n",
    "import numpy as np\n",
    "from keras.utils import np_utils\n",
    "from keras.models import Sequential\n",
    "from keras.layers import Dense,Dropout,Convolution2D,MaxPooling2D,Flatten\n",
    "from keras.optimizers import Adam"
   ]
  },
  {
   "cell_type": "code",
   "execution_count": 2,
   "metadata": {},
   "outputs": [],
   "source": [
    "(x_train,y_train),(x_test,y_test)=cifar10.load_data()"
   ]
  },
  {
   "cell_type": "code",
   "execution_count": 3,
   "metadata": {},
   "outputs": [
    {
     "data": {
      "text/plain": [
       "numpy.ndarray"
      ]
     },
     "execution_count": 3,
     "metadata": {},
     "output_type": "execute_result"
    }
   ],
   "source": [
    "type(x_train)"
   ]
  },
  {
   "cell_type": "code",
   "execution_count": 4,
   "metadata": {},
   "outputs": [
    {
     "data": {
      "text/plain": [
       "((50000, 32, 32, 3), (50000, 1), (10000, 32, 32, 3), (10000, 1))"
      ]
     },
     "execution_count": 4,
     "metadata": {},
     "output_type": "execute_result"
    }
   ],
   "source": [
    "x_train.shape,y_train.shape,x_test.shape,y_test.shape"
   ]
  },
  {
   "cell_type": "code",
   "execution_count": 3,
   "metadata": {},
   "outputs": [],
   "source": [
    "#归一化\n",
    "x_train = x_train/255.0\n",
    "x_test = x_test/255.0\n",
    "# 换one hot格式\n",
    "y_train = np_utils.to_categorical(y_train,num_classes=10)\n",
    "y_test = np_utils.to_categorical(y_test,num_classes=10)"
   ]
  },
  {
   "cell_type": "code",
   "execution_count": 4,
   "metadata": {},
   "outputs": [],
   "source": [
    "# 定义顺序模型\n",
    "model = Sequential()\n",
    "\n",
    "# 第一个卷积层\n",
    "# input_shape 输入平面\n",
    "# filters 卷积核/滤波器个数\n",
    "# kernel_size 卷积窗口大小\n",
    "# strides 步长\n",
    "# padding padding方式 same/valid\n",
    "# activation 激活函数\n",
    "model.add(Convolution2D(\n",
    "    input_shape = (32,32,3),\n",
    "    filters = 32,\n",
    "    kernel_size = 5,\n",
    "    strides = 1,\n",
    "    padding = 'same',\n",
    "    activation = 'relu'\n",
    "))\n",
    "# 第一个池化层\n",
    "model.add(MaxPooling2D(\n",
    "    pool_size = 2,\n",
    "    strides = 2,\n",
    "    padding = 'same',\n",
    "))\n",
    "# 第二个卷积层\n",
    "model.add(Convolution2D(64,5,strides=1,padding='same',activation = 'relu'))\n",
    "# 第二个池化层\n",
    "model.add(MaxPooling2D(2,2,'same'))\n",
    "# 把第二个池化层的输出扁平化为1维\n",
    "model.add(Flatten())\n",
    "# 第一个全连接层\n",
    "model.add(Dense(1024,activation = 'relu'))\n",
    "# Dropout\n",
    "model.add(Dropout(0.5))\n",
    "# 第二个全连接层\n",
    "model.add(Dense(10,activation='softmax'))\n",
    "\n",
    "# 定义优化器\n",
    "adam = Adam(lr=1e-4)\n",
    "\n",
    "# 定义优化器，loss function，训练过程中计算准确率\n",
    "model.compile(optimizer=adam,loss='categorical_crossentropy',metrics=['accuracy'])"
   ]
  },
  {
   "cell_type": "code",
   "execution_count": 6,
   "metadata": {},
   "outputs": [
    {
     "name": "stdout",
     "output_type": "stream",
     "text": [
      "Epoch 1/10\n",
      "50000/50000 [==============================] - 41s 822us/step - loss: 1.7103 - acc: 0.3846\n",
      "Epoch 2/10\n",
      "50000/50000 [==============================] - 36s 711us/step - loss: 1.3995 - acc: 0.4985\n",
      "Epoch 3/10\n",
      "50000/50000 [==============================] - 36s 710us/step - loss: 1.2662 - acc: 0.5497\n",
      "Epoch 4/10\n",
      "50000/50000 [==============================] - 36s 714us/step - loss: 1.1662 - acc: 0.5892\n",
      "Epoch 5/10\n",
      "50000/50000 [==============================] - 36s 716us/step - loss: 1.0907 - acc: 0.6189\n",
      "Epoch 6/10\n",
      "50000/50000 [==============================] - 36s 711us/step - loss: 1.0317 - acc: 0.6387\n",
      "Epoch 7/10\n",
      "50000/50000 [==============================] - 36s 718us/step - loss: 0.9782 - acc: 0.6595\n",
      "Epoch 8/10\n",
      "50000/50000 [==============================] - 36s 717us/step - loss: 0.9376 - acc: 0.6737\n",
      "Epoch 9/10\n",
      "50000/50000 [==============================] - 36s 712us/step - loss: 0.8979 - acc: 0.6880\n",
      "Epoch 10/10\n",
      "50000/50000 [==============================] - 36s 713us/step - loss: 0.8592 - acc: 0.7012\n"
     ]
    },
    {
     "data": {
      "text/plain": [
       "<keras.callbacks.History at 0x1e425167a58>"
      ]
     },
     "execution_count": 6,
     "metadata": {},
     "output_type": "execute_result"
    }
   ],
   "source": [
    "\n",
    "\n",
    "# 训练模型\n",
    "model.fit(x_train,y_train,batch_size=600,epochs=30)"
   ]
  },
  {
   "cell_type": "code",
   "execution_count": 7,
   "metadata": {},
   "outputs": [
    {
     "name": "stdout",
     "output_type": "stream",
     "text": [
      "10000/10000 [==============================] - 2s 224us/step\n",
      "test loss 0.9127934813499451\n",
      "test accuracy 0.6838\n"
     ]
    }
   ],
   "source": [
    "# 评估模型\n",
    "loss,accuracy = model.evaluate(x_test,y_test)\n",
    "\n",
    "print('test loss',loss)\n",
    "print('test accuracy',accuracy)"
   ]
  },
  {
   "cell_type": "code",
   "execution_count": 8,
   "metadata": {
    "scrolled": false
   },
   "outputs": [
    {
     "name": "stdout",
     "output_type": "stream",
     "text": [
      "Epoch 1/30\n",
      "50000/50000 [==============================] - 20s 391us/step - loss: 0.8025 - acc: 0.7235\n",
      "Epoch 2/30\n",
      "50000/50000 [==============================] - 18s 362us/step - loss: 0.7762 - acc: 0.7326\n",
      "Epoch 3/30\n",
      "50000/50000 [==============================] - 18s 362us/step - loss: 0.7681 - acc: 0.7350\n",
      "Epoch 4/30\n",
      "50000/50000 [==============================] - 18s 361us/step - loss: 0.7632 - acc: 0.7369\n",
      "Epoch 5/30\n",
      "50000/50000 [==============================] - 18s 361us/step - loss: 0.7584 - acc: 0.7402\n",
      "Epoch 6/30\n",
      "50000/50000 [==============================] - 18s 361us/step - loss: 0.7503 - acc: 0.7440\n",
      "Epoch 7/30\n",
      "50000/50000 [==============================] - 18s 362us/step - loss: 0.7427 - acc: 0.7455\n",
      "Epoch 8/30\n",
      "50000/50000 [==============================] - 18s 362us/step - loss: 0.7388 - acc: 0.7472\n",
      "Epoch 9/30\n",
      "50000/50000 [==============================] - 18s 361us/step - loss: 0.7330 - acc: 0.7501\n",
      "Epoch 10/30\n",
      "50000/50000 [==============================] - 18s 361us/step - loss: 0.7266 - acc: 0.7507\n",
      "Epoch 11/30\n",
      "50000/50000 [==============================] - 18s 361us/step - loss: 0.7186 - acc: 0.7535\n",
      "Epoch 12/30\n",
      "50000/50000 [==============================] - 18s 360us/step - loss: 0.7116 - acc: 0.7566\n",
      "Epoch 13/30\n",
      "50000/50000 [==============================] - 18s 362us/step - loss: 0.7072 - acc: 0.7580\n",
      "Epoch 14/30\n",
      "50000/50000 [==============================] - 18s 361us/step - loss: 0.7011 - acc: 0.7626\n",
      "Epoch 15/30\n",
      "50000/50000 [==============================] - 18s 360us/step - loss: 0.6918 - acc: 0.7644\n",
      "Epoch 16/30\n",
      "50000/50000 [==============================] - 18s 361us/step - loss: 0.6861 - acc: 0.7647\n",
      "Epoch 17/30\n",
      "50000/50000 [==============================] - 18s 361us/step - loss: 0.6795 - acc: 0.7692\n",
      "Epoch 18/30\n",
      "50000/50000 [==============================] - 18s 362us/step - loss: 0.6749 - acc: 0.7709\n",
      "Epoch 19/30\n",
      "50000/50000 [==============================] - 18s 362us/step - loss: 0.6667 - acc: 0.7720\n",
      "Epoch 20/30\n",
      "50000/50000 [==============================] - 18s 361us/step - loss: 0.6567 - acc: 0.7766\n",
      "Epoch 21/30\n",
      "50000/50000 [==============================] - 18s 361us/step - loss: 0.6559 - acc: 0.7764\n",
      "Epoch 22/30\n",
      "50000/50000 [==============================] - 18s 361us/step - loss: 0.6417 - acc: 0.7800\n",
      "Epoch 23/30\n",
      "50000/50000 [==============================] - 18s 361us/step - loss: 0.6346 - acc: 0.7859\n",
      "Epoch 24/30\n",
      "50000/50000 [==============================] - 18s 362us/step - loss: 0.6292 - acc: 0.7868\n",
      "Epoch 25/30\n",
      "50000/50000 [==============================] - 18s 362us/step - loss: 0.6171 - acc: 0.7906\n",
      "Epoch 26/30\n",
      "50000/50000 [==============================] - 18s 361us/step - loss: 0.6116 - acc: 0.7906\n",
      "Epoch 27/30\n",
      "50000/50000 [==============================] - 18s 363us/step - loss: 0.6051 - acc: 0.7952\n",
      "Epoch 28/30\n",
      "50000/50000 [==============================] - 18s 362us/step - loss: 0.5940 - acc: 0.7993\n",
      "Epoch 29/30\n",
      "50000/50000 [==============================] - 18s 363us/step - loss: 0.5858 - acc: 0.8015\n",
      "Epoch 30/30\n",
      "50000/50000 [==============================] - 18s 362us/step - loss: 0.5787 - acc: 0.8062\n"
     ]
    },
    {
     "data": {
      "text/plain": [
       "<keras.callbacks.History at 0x1e424ea2f28>"
      ]
     },
     "execution_count": 8,
     "metadata": {},
     "output_type": "execute_result"
    }
   ],
   "source": [
    "# 训练模型\n",
    "model.fit(x_train,y_train,batch_size=600,epochs=30)"
   ]
  },
  {
   "cell_type": "code",
   "execution_count": 9,
   "metadata": {},
   "outputs": [
    {
     "name": "stdout",
     "output_type": "stream",
     "text": [
      "Epoch 1/30\n",
      "50000/50000 [==============================] - 18s 368us/step - loss: 0.5768 - acc: 0.8037\n",
      "Epoch 2/30\n",
      "50000/50000 [==============================] - 18s 361us/step - loss: 0.5656 - acc: 0.8104\n",
      "Epoch 3/30\n",
      "50000/50000 [==============================] - 18s 362us/step - loss: 0.5551 - acc: 0.8112\n",
      "Epoch 4/30\n",
      "50000/50000 [==============================] - 18s 362us/step - loss: 0.5473 - acc: 0.8156\n",
      "Epoch 5/30\n",
      "50000/50000 [==============================] - 18s 362us/step - loss: 0.5402 - acc: 0.8177\n",
      "Epoch 6/30\n",
      "50000/50000 [==============================] - 18s 361us/step - loss: 0.5343 - acc: 0.8188\n",
      "Epoch 7/30\n",
      "50000/50000 [==============================] - 18s 362us/step - loss: 0.5255 - acc: 0.8240\n",
      "Epoch 8/30\n",
      "50000/50000 [==============================] - 18s 363us/step - loss: 0.5169 - acc: 0.8265\n",
      "Epoch 9/30\n",
      "50000/50000 [==============================] - 18s 364us/step - loss: 0.5083 - acc: 0.8288\n",
      "Epoch 10/30\n",
      "50000/50000 [==============================] - 18s 363us/step - loss: 0.5037 - acc: 0.8297\n",
      "Epoch 11/30\n",
      "50000/50000 [==============================] - 18s 362us/step - loss: 0.4955 - acc: 0.8335\n",
      "Epoch 12/30\n",
      "50000/50000 [==============================] - 18s 362us/step - loss: 0.4873 - acc: 0.8378\n",
      "Epoch 13/30\n",
      "50000/50000 [==============================] - 18s 362us/step - loss: 0.4827 - acc: 0.8375\n",
      "Epoch 14/30\n",
      "50000/50000 [==============================] - 18s 363us/step - loss: 0.4681 - acc: 0.8433\n",
      "Epoch 15/30\n",
      "50000/50000 [==============================] - 18s 363us/step - loss: 0.4663 - acc: 0.8451\n",
      "Epoch 16/30\n",
      "50000/50000 [==============================] - 18s 361us/step - loss: 0.4570 - acc: 0.8463\n",
      "Epoch 17/30\n",
      "50000/50000 [==============================] - 18s 361us/step - loss: 0.4475 - acc: 0.8515\n",
      "Epoch 18/30\n",
      "50000/50000 [==============================] - 18s 361us/step - loss: 0.4391 - acc: 0.8551\n",
      "Epoch 19/30\n",
      "50000/50000 [==============================] - 18s 362us/step - loss: 0.4333 - acc: 0.8554\n",
      "Epoch 20/30\n",
      "50000/50000 [==============================] - 18s 363us/step - loss: 0.4282 - acc: 0.8588\n",
      "Epoch 21/30\n",
      "50000/50000 [==============================] - 18s 362us/step - loss: 0.4176 - acc: 0.8627\n",
      "Epoch 22/30\n",
      "50000/50000 [==============================] - 18s 361us/step - loss: 0.4108 - acc: 0.8633\n",
      "Epoch 23/30\n",
      "50000/50000 [==============================] - 18s 362us/step - loss: 0.4054 - acc: 0.8642\n",
      "Epoch 24/30\n",
      "50000/50000 [==============================] - 18s 362us/step - loss: 0.3973 - acc: 0.8701\n",
      "Epoch 25/30\n",
      "50000/50000 [==============================] - 18s 363us/step - loss: 0.3907 - acc: 0.8712\n",
      "Epoch 26/30\n",
      "50000/50000 [==============================] - 18s 363us/step - loss: 0.3785 - acc: 0.8751\n",
      "Epoch 27/30\n",
      "50000/50000 [==============================] - 18s 363us/step - loss: 0.3766 - acc: 0.8760\n",
      "Epoch 28/30\n",
      "50000/50000 [==============================] - 18s 362us/step - loss: 0.3695 - acc: 0.8785\n",
      "Epoch 29/30\n",
      "50000/50000 [==============================] - 18s 363us/step - loss: 0.3622 - acc: 0.8808\n",
      "Epoch 30/30\n",
      "50000/50000 [==============================] - 18s 363us/step - loss: 0.3506 - acc: 0.8851\n"
     ]
    },
    {
     "data": {
      "text/plain": [
       "<keras.callbacks.History at 0x1e424ea2b70>"
      ]
     },
     "execution_count": 9,
     "metadata": {},
     "output_type": "execute_result"
    }
   ],
   "source": [
    "# 训练模型\n",
    "model.fit(x_train,y_train,batch_size=600,epochs=30)"
   ]
  },
  {
   "cell_type": "code",
   "execution_count": 10,
   "metadata": {},
   "outputs": [
    {
     "name": "stdout",
     "output_type": "stream",
     "text": [
      "10000/10000 [==============================] - 2s 217us/step\n",
      "test loss 0.7937112154960633\n",
      "test accuracy 0.7335\n"
     ]
    }
   ],
   "source": [
    "# 评估模型\n",
    "loss,accuracy = model.evaluate(x_test,y_test)\n",
    "\n",
    "print('test loss',loss)\n",
    "print('test accuracy',accuracy)"
   ]
  }
 ],
 "metadata": {
  "kernelspec": {
   "display_name": "Python 3",
   "language": "python",
   "name": "python3"
  },
  "language_info": {
   "codemirror_mode": {
    "name": "ipython",
    "version": 3
   },
   "file_extension": ".py",
   "mimetype": "text/x-python",
   "name": "python",
   "nbconvert_exporter": "python",
   "pygments_lexer": "ipython3",
   "version": "3.6.5"
  }
 },
 "nbformat": 4,
 "nbformat_minor": 2
}
