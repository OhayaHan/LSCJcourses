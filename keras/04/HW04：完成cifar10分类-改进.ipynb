{
 "cells": [
  {
   "cell_type": "markdown",
   "metadata": {},
   "source": [
    "## HW04：完成cifar10分类-改进\n",
    "http://www.cs.toronto.edu/~kriz/cifar.html\n",
    "The CIFAR-10 dataset consists of 60000 32x32 colour images in 10 classes, with 6000 images per class. There are 50000 training images and 10000 test images. \n",
    "Here are the classes in the dataset:\n",
    "* airplane\t\t\t\t\t\t\t\t\t\t\n",
    "* automobile\t\t\t\t\t\t\t\t\t\t\n",
    "* bird\t\t\t\t\t\t\t\t\t\t\n",
    "* cat\t\t\t\t\t\t\t\t\t\t\n",
    "* deer\t\t\t\t\t\t\t\t\t\t\n",
    "* dog\t\t\t\t\t\t\t\t\t\t\n",
    "* frog\t\t\t\t\t\t\t\t\t\t\n",
    "* horse\t\t\t\t\t\t\t\t\t\t\n",
    "* ship\t\t\t\t\t\t\t\t\t\t\n",
    "* truck\n",
    ">改进：增加一层卷积层，用128个卷积核。进行了120个epoch的训练。训练集的准确率达到0.9070，测试集的准确率达到0.7343"
   ]
  },
  {
   "cell_type": "code",
   "execution_count": 1,
   "metadata": {},
   "outputs": [
    {
     "name": "stderr",
     "output_type": "stream",
     "text": [
      "C:\\Users\\Ian\\Anaconda3\\lib\\site-packages\\h5py\\__init__.py:36: FutureWarning: Conversion of the second argument of issubdtype from `float` to `np.floating` is deprecated. In future, it will be treated as `np.float64 == np.dtype(float).type`.\n",
      "  from ._conv import register_converters as _register_converters\n",
      "Using TensorFlow backend.\n"
     ]
    }
   ],
   "source": [
    "from keras.datasets import cifar10\n",
    "import numpy as np\n",
    "from keras.utils import np_utils\n",
    "from keras.models import Sequential\n",
    "from keras.layers import Dense,Dropout,Convolution2D,MaxPooling2D,Flatten\n",
    "from keras.optimizers import Adam"
   ]
  },
  {
   "cell_type": "code",
   "execution_count": 2,
   "metadata": {},
   "outputs": [],
   "source": [
    "(x_train,y_train),(x_test,y_test)=cifar10.load_data()"
   ]
  },
  {
   "cell_type": "code",
   "execution_count": 3,
   "metadata": {},
   "outputs": [],
   "source": [
    "#归一化\n",
    "x_train = x_train/255.0\n",
    "x_test = x_test/255.0\n",
    "# 换one hot格式\n",
    "y_train = np_utils.to_categorical(y_train,num_classes=10)\n",
    "y_test = np_utils.to_categorical(y_test,num_classes=10)"
   ]
  },
  {
   "cell_type": "code",
   "execution_count": 4,
   "metadata": {},
   "outputs": [
    {
     "name": "stdout",
     "output_type": "stream",
     "text": [
      "Epoch 1/30\n",
      "50000/50000 [==============================] - 28s 558us/step - loss: 2.0321 - acc: 0.2635\n",
      "Epoch 2/30\n",
      "50000/50000 [==============================] - 21s 424us/step - loss: 1.7008 - acc: 0.3900\n",
      "Epoch 3/30\n",
      "50000/50000 [==============================] - 21s 424us/step - loss: 1.5617 - acc: 0.4369\n",
      "Epoch 4/30\n",
      "50000/50000 [==============================] - 21s 422us/step - loss: 1.4886 - acc: 0.4649\n",
      "Epoch 5/30\n",
      "50000/50000 [==============================] - 21s 422us/step - loss: 1.4374 - acc: 0.4815\n",
      "Epoch 6/30\n",
      "50000/50000 [==============================] - 21s 423us/step - loss: 1.3949 - acc: 0.5007\n",
      "Epoch 7/30\n",
      "50000/50000 [==============================] - 21s 423us/step - loss: 1.3605 - acc: 0.5146\n",
      "Epoch 8/30\n",
      "50000/50000 [==============================] - 21s 423us/step - loss: 1.3257 - acc: 0.5287\n",
      "Epoch 9/30\n",
      "50000/50000 [==============================] - 21s 423us/step - loss: 1.2985 - acc: 0.5385\n",
      "Epoch 10/30\n",
      "50000/50000 [==============================] - 21s 424us/step - loss: 1.2697 - acc: 0.5490\n",
      "Epoch 11/30\n",
      "50000/50000 [==============================] - 21s 423us/step - loss: 1.2379 - acc: 0.5625\n",
      "Epoch 12/30\n",
      "50000/50000 [==============================] - 21s 424us/step - loss: 1.2170 - acc: 0.5700\n",
      "Epoch 13/30\n",
      "50000/50000 [==============================] - 21s 424us/step - loss: 1.1886 - acc: 0.5790\n",
      "Epoch 14/30\n",
      "50000/50000 [==============================] - 21s 424us/step - loss: 1.1707 - acc: 0.5864\n",
      "Epoch 15/30\n",
      "50000/50000 [==============================] - 21s 429us/step - loss: 1.1569 - acc: 0.5927\n",
      "Epoch 16/30\n",
      "50000/50000 [==============================] - 21s 428us/step - loss: 1.1299 - acc: 0.6008\n",
      "Epoch 17/30\n",
      "50000/50000 [==============================] - 21s 425us/step - loss: 1.1240 - acc: 0.6043\n",
      "Epoch 18/30\n",
      "50000/50000 [==============================] - 21s 424us/step - loss: 1.0933 - acc: 0.6148\n",
      "Epoch 19/30\n",
      "50000/50000 [==============================] - 21s 424us/step - loss: 1.0819 - acc: 0.6201\n",
      "Epoch 20/30\n",
      "50000/50000 [==============================] - 21s 424us/step - loss: 1.0612 - acc: 0.6276\n",
      "Epoch 21/30\n",
      "50000/50000 [==============================] - 21s 424us/step - loss: 1.0541 - acc: 0.6306\n",
      "Epoch 22/30\n",
      "50000/50000 [==============================] - 21s 425us/step - loss: 1.0379 - acc: 0.6371\n",
      "Epoch 23/30\n",
      "50000/50000 [==============================] - 21s 423us/step - loss: 1.0260 - acc: 0.6402\n",
      "Epoch 24/30\n",
      "50000/50000 [==============================] - 21s 421us/step - loss: 1.0072 - acc: 0.6489\n",
      "Epoch 25/30\n",
      "50000/50000 [==============================] - 21s 423us/step - loss: 0.9929 - acc: 0.6548\n",
      "Epoch 26/30\n",
      "50000/50000 [==============================] - 21s 423us/step - loss: 0.9841 - acc: 0.6551\n",
      "Epoch 27/30\n",
      "50000/50000 [==============================] - 21s 423us/step - loss: 0.9722 - acc: 0.6596\n",
      "Epoch 28/30\n",
      "50000/50000 [==============================] - 21s 422us/step - loss: 0.9563 - acc: 0.6658\n",
      "Epoch 29/30\n",
      "50000/50000 [==============================] - 21s 422us/step - loss: 0.9404 - acc: 0.6716\n",
      "Epoch 30/30\n",
      "50000/50000 [==============================] - 21s 421us/step - loss: 0.9308 - acc: 0.6750\n"
     ]
    },
    {
     "data": {
      "text/plain": [
       "<keras.callbacks.History at 0x216802af9b0>"
      ]
     },
     "execution_count": 4,
     "metadata": {},
     "output_type": "execute_result"
    }
   ],
   "source": [
    "# 定义顺序模型\n",
    "model = Sequential()\n",
    "\n",
    "# 第一个卷积层\n",
    "# input_shape 输入平面\n",
    "# filters 卷积核/滤波器个数\n",
    "# kernel_size 卷积窗口大小\n",
    "# strides 步长\n",
    "# padding padding方式 same/valid\n",
    "# activation 激活函数\n",
    "model.add(Convolution2D(\n",
    "    input_shape = (32,32,3),\n",
    "    filters = 32,\n",
    "    kernel_size = 5,\n",
    "    strides = 1,\n",
    "    padding = 'same',\n",
    "    activation = 'relu'\n",
    "))\n",
    "# 第一个池化层\n",
    "model.add(MaxPooling2D(\n",
    "    pool_size = 2,\n",
    "    strides = 2,\n",
    "    padding = 'same',\n",
    "))\n",
    "# 第二个卷积层\n",
    "model.add(Convolution2D(64,5,strides=1,padding='same',activation = 'relu'))\n",
    "# 第二个池化层\n",
    "model.add(MaxPooling2D(2,2,'same'))\n",
    "\n",
    "# 第三个卷积层\n",
    "model.add(Convolution2D(128,5,strides=1,padding='same',activation = 'relu'))\n",
    "# 第三个池化层\n",
    "model.add(MaxPooling2D(2,2,'same'))\n",
    "\n",
    "# 把第三个池化层的输出扁平化为1维\n",
    "model.add(Flatten())\n",
    "# 第一个全连接层\n",
    "model.add(Dense(1024,activation = 'relu'))\n",
    "# Dropout\n",
    "model.add(Dropout(0.5))\n",
    "# 第二个全连接层\n",
    "model.add(Dense(10,activation='softmax'))\n",
    "\n",
    "# 定义优化器\n",
    "adam = Adam(lr=1e-4)\n",
    "\n",
    "# 定义优化器，loss function，训练过程中计算准确率\n",
    "model.compile(optimizer=adam,loss='categorical_crossentropy',metrics=['accuracy'])\n",
    "\n",
    "# 训练模型\n",
    "model.fit(x_train,y_train,batch_size=600,epochs=30)"
   ]
  },
  {
   "cell_type": "code",
   "execution_count": 5,
   "metadata": {},
   "outputs": [
    {
     "name": "stdout",
     "output_type": "stream",
     "text": [
      "10000/10000 [==============================] - 3s 304us/step\n",
      "test loss 0.9897313816070556\n",
      "test accuracy 0.65\n"
     ]
    }
   ],
   "source": [
    "# 评估模型\n",
    "loss,accuracy = model.evaluate(x_test,y_test)\n",
    "\n",
    "print('test loss',loss)\n",
    "print('test accuracy',accuracy)"
   ]
  },
  {
   "cell_type": "code",
   "execution_count": 6,
   "metadata": {
    "scrolled": false
   },
   "outputs": [
    {
     "name": "stdout",
     "output_type": "stream",
     "text": [
      "Epoch 1/30\n",
      "50000/50000 [==============================] - 21s 422us/step - loss: 0.9196 - acc: 0.6791\n",
      "Epoch 2/30\n",
      "50000/50000 [==============================] - 21s 419us/step - loss: 0.9105 - acc: 0.6830\n",
      "Epoch 3/30\n",
      "50000/50000 [==============================] - 21s 419us/step - loss: 0.9004 - acc: 0.6878\n",
      "Epoch 4/30\n",
      "50000/50000 [==============================] - 21s 418us/step - loss: 0.8849 - acc: 0.6926\n",
      "Epoch 5/30\n",
      "50000/50000 [==============================] - 21s 418us/step - loss: 0.8771 - acc: 0.6957\n",
      "Epoch 6/30\n",
      "50000/50000 [==============================] - 21s 420us/step - loss: 0.8670 - acc: 0.6974\n",
      "Epoch 7/30\n",
      "50000/50000 [==============================] - 21s 420us/step - loss: 0.8597 - acc: 0.7027\n",
      "Epoch 8/30\n",
      "50000/50000 [==============================] - 21s 420us/step - loss: 0.8461 - acc: 0.7067\n",
      "Epoch 9/30\n",
      "50000/50000 [==============================] - 21s 419us/step - loss: 0.8368 - acc: 0.7100\n",
      "Epoch 10/30\n",
      "50000/50000 [==============================] - 21s 420us/step - loss: 0.8367 - acc: 0.7113\n",
      "Epoch 11/30\n",
      "50000/50000 [==============================] - 21s 418us/step - loss: 0.8241 - acc: 0.7147\n",
      "Epoch 12/30\n",
      "50000/50000 [==============================] - 21s 419us/step - loss: 0.8131 - acc: 0.7166\n",
      "Epoch 13/30\n",
      "50000/50000 [==============================] - 21s 418us/step - loss: 0.8063 - acc: 0.7202\n",
      "Epoch 14/30\n",
      "50000/50000 [==============================] - 21s 418us/step - loss: 0.7923 - acc: 0.7263\n",
      "Epoch 15/30\n",
      "50000/50000 [==============================] - 21s 418us/step - loss: 0.7829 - acc: 0.7289\n",
      "Epoch 16/30\n",
      "50000/50000 [==============================] - 21s 419us/step - loss: 0.7770 - acc: 0.7300\n",
      "Epoch 17/30\n",
      "50000/50000 [==============================] - 21s 418us/step - loss: 0.7695 - acc: 0.7340\n",
      "Epoch 18/30\n",
      "50000/50000 [==============================] - 21s 418us/step - loss: 0.7567 - acc: 0.7388\n",
      "Epoch 19/30\n",
      "50000/50000 [==============================] - 21s 418us/step - loss: 0.7506 - acc: 0.7389\n",
      "Epoch 20/30\n",
      "50000/50000 [==============================] - 21s 418us/step - loss: 0.7486 - acc: 0.7392\n",
      "Epoch 21/30\n",
      "50000/50000 [==============================] - 21s 418us/step - loss: 0.7323 - acc: 0.7471\n",
      "Epoch 22/30\n",
      "50000/50000 [==============================] - 21s 418us/step - loss: 0.7246 - acc: 0.7490\n",
      "Epoch 23/30\n",
      "50000/50000 [==============================] - 21s 417us/step - loss: 0.7282 - acc: 0.7463\n",
      "Epoch 24/30\n",
      "50000/50000 [==============================] - 21s 419us/step - loss: 0.7070 - acc: 0.7559\n",
      "Epoch 25/30\n",
      "50000/50000 [==============================] - 21s 418us/step - loss: 0.7032 - acc: 0.7556\n",
      "Epoch 26/30\n",
      "50000/50000 [==============================] - 21s 418us/step - loss: 0.7019 - acc: 0.7557\n",
      "Epoch 27/30\n",
      "50000/50000 [==============================] - 21s 419us/step - loss: 0.6818 - acc: 0.7639\n",
      "Epoch 28/30\n",
      "50000/50000 [==============================] - 21s 417us/step - loss: 0.6904 - acc: 0.7619\n",
      "Epoch 29/30\n",
      "50000/50000 [==============================] - 21s 419us/step - loss: 0.6717 - acc: 0.7684\n",
      "Epoch 30/30\n",
      "50000/50000 [==============================] - 21s 420us/step - loss: 0.6664 - acc: 0.7684\n"
     ]
    },
    {
     "data": {
      "text/plain": [
       "<keras.callbacks.History at 0x216f6156a90>"
      ]
     },
     "execution_count": 6,
     "metadata": {},
     "output_type": "execute_result"
    }
   ],
   "source": [
    "# 训练模型\n",
    "model.fit(x_train,y_train,batch_size=600,epochs=30)"
   ]
  },
  {
   "cell_type": "code",
   "execution_count": 7,
   "metadata": {},
   "outputs": [
    {
     "name": "stdout",
     "output_type": "stream",
     "text": [
      "Epoch 1/30\n",
      "50000/50000 [==============================] - 21s 428us/step - loss: 0.6673 - acc: 0.7699\n",
      "Epoch 2/30\n",
      "50000/50000 [==============================] - 21s 422us/step - loss: 0.6461 - acc: 0.7773\n",
      "Epoch 3/30\n",
      "50000/50000 [==============================] - 21s 423us/step - loss: 0.6419 - acc: 0.7775\n",
      "Epoch 4/30\n",
      "50000/50000 [==============================] - 21s 422us/step - loss: 0.6364 - acc: 0.7814\n",
      "Epoch 5/30\n",
      "50000/50000 [==============================] - 21s 422us/step - loss: 0.6266 - acc: 0.7856\n",
      "Epoch 6/30\n",
      "50000/50000 [==============================] - 21s 421us/step - loss: 0.6193 - acc: 0.7862\n",
      "Epoch 7/30\n",
      "50000/50000 [==============================] - 21s 423us/step - loss: 0.6129 - acc: 0.7882\n",
      "Epoch 8/30\n",
      "50000/50000 [==============================] - 21s 423us/step - loss: 0.6055 - acc: 0.7923\n",
      "Epoch 9/30\n",
      "50000/50000 [==============================] - 21s 421us/step - loss: 0.5995 - acc: 0.7943\n",
      "Epoch 10/30\n",
      "50000/50000 [==============================] - 21s 421us/step - loss: 0.5971 - acc: 0.7963\n",
      "Epoch 11/30\n",
      "50000/50000 [==============================] - 21s 423us/step - loss: 0.5869 - acc: 0.7981\n",
      "Epoch 12/30\n",
      "50000/50000 [==============================] - 21s 424us/step - loss: 0.5797 - acc: 0.8014\n",
      "Epoch 13/30\n",
      "50000/50000 [==============================] - 21s 426us/step - loss: 0.5723 - acc: 0.8036\n",
      "Epoch 14/30\n",
      "50000/50000 [==============================] - 21s 425us/step - loss: 0.5639 - acc: 0.8065\n",
      "Epoch 15/30\n",
      "50000/50000 [==============================] - 21s 427us/step - loss: 0.5608 - acc: 0.8079\n",
      "Epoch 16/30\n",
      "50000/50000 [==============================] - 21s 425us/step - loss: 0.5549 - acc: 0.8108\n",
      "Epoch 17/30\n",
      "50000/50000 [==============================] - 21s 423us/step - loss: 0.5392 - acc: 0.8135\n",
      "Epoch 18/30\n",
      "50000/50000 [==============================] - 21s 422us/step - loss: 0.5320 - acc: 0.8173\n",
      "Epoch 19/30\n",
      "50000/50000 [==============================] - 21s 422us/step - loss: 0.5333 - acc: 0.8162\n",
      "Epoch 20/30\n",
      "50000/50000 [==============================] - 21s 422us/step - loss: 0.5222 - acc: 0.8212\n",
      "Epoch 21/30\n",
      "50000/50000 [==============================] - 21s 421us/step - loss: 0.5175 - acc: 0.8223\n",
      "Epoch 22/30\n",
      "50000/50000 [==============================] - 21s 421us/step - loss: 0.5080 - acc: 0.8263\n",
      "Epoch 23/30\n",
      "50000/50000 [==============================] - 21s 421us/step - loss: 0.5037 - acc: 0.8277\n",
      "Epoch 24/30\n",
      "50000/50000 [==============================] - 21s 421us/step - loss: 0.4983 - acc: 0.8298\n",
      "Epoch 25/30\n",
      "50000/50000 [==============================] - 21s 422us/step - loss: 0.4889 - acc: 0.8320\n",
      "Epoch 26/30\n",
      "50000/50000 [==============================] - 21s 422us/step - loss: 0.4843 - acc: 0.8354\n",
      "Epoch 27/30\n",
      "50000/50000 [==============================] - 21s 423us/step - loss: 0.4774 - acc: 0.8385\n",
      "Epoch 28/30\n",
      "50000/50000 [==============================] - 21s 421us/step - loss: 0.4705 - acc: 0.8401\n",
      "Epoch 29/30\n",
      "50000/50000 [==============================] - 21s 421us/step - loss: 0.4630 - acc: 0.8435\n",
      "Epoch 30/30\n",
      "50000/50000 [==============================] - 21s 421us/step - loss: 0.4592 - acc: 0.8425\n"
     ]
    },
    {
     "data": {
      "text/plain": [
       "<keras.callbacks.History at 0x216f61569e8>"
      ]
     },
     "execution_count": 7,
     "metadata": {},
     "output_type": "execute_result"
    }
   ],
   "source": [
    "# 训练模型\n",
    "model.fit(x_train,y_train,batch_size=600,epochs=30)"
   ]
  },
  {
   "cell_type": "code",
   "execution_count": 8,
   "metadata": {},
   "outputs": [
    {
     "name": "stdout",
     "output_type": "stream",
     "text": [
      "Epoch 1/30\n",
      "50000/50000 [==============================] - 21s 428us/step - loss: 0.4481 - acc: 0.8497\n",
      "Epoch 2/30\n",
      "50000/50000 [==============================] - 21s 421us/step - loss: 0.4491 - acc: 0.8463\n",
      "Epoch 3/30\n",
      "50000/50000 [==============================] - 21s 422us/step - loss: 0.4413 - acc: 0.8485\n",
      "Epoch 4/30\n",
      "50000/50000 [==============================] - 21s 423us/step - loss: 0.4315 - acc: 0.8539\n",
      "Epoch 5/30\n",
      "50000/50000 [==============================] - 21s 422us/step - loss: 0.4224 - acc: 0.8568\n",
      "Epoch 6/30\n",
      "50000/50000 [==============================] - 21s 422us/step - loss: 0.4193 - acc: 0.8590\n",
      "Epoch 7/30\n",
      "50000/50000 [==============================] - 21s 423us/step - loss: 0.4154 - acc: 0.8591\n",
      "Epoch 8/30\n",
      "50000/50000 [==============================] - 21s 422us/step - loss: 0.4106 - acc: 0.8607\n",
      "Epoch 9/30\n",
      "50000/50000 [==============================] - 21s 421us/step - loss: 0.3963 - acc: 0.8667\n",
      "Epoch 10/30\n",
      "50000/50000 [==============================] - 21s 421us/step - loss: 0.3949 - acc: 0.8659\n",
      "Epoch 11/30\n",
      "50000/50000 [==============================] - 21s 420us/step - loss: 0.3895 - acc: 0.8667\n",
      "Epoch 12/30\n",
      "50000/50000 [==============================] - 21s 422us/step - loss: 0.3867 - acc: 0.8682\n",
      "Epoch 13/30\n",
      "50000/50000 [==============================] - 21s 421us/step - loss: 0.3803 - acc: 0.8723\n",
      "Epoch 14/30\n",
      "50000/50000 [==============================] - 21s 421us/step - loss: 0.3689 - acc: 0.8752\n",
      "Epoch 15/30\n",
      "50000/50000 [==============================] - 21s 424us/step - loss: 0.3630 - acc: 0.8765\n",
      "Epoch 16/30\n",
      "50000/50000 [==============================] - 21s 421us/step - loss: 0.3582 - acc: 0.8784\n",
      "Epoch 17/30\n",
      "50000/50000 [==============================] - 21s 425us/step - loss: 0.3514 - acc: 0.8809\n",
      "Epoch 18/30\n",
      "50000/50000 [==============================] - 21s 421us/step - loss: 0.3463 - acc: 0.8839\n",
      "Epoch 19/30\n",
      "50000/50000 [==============================] - 21s 421us/step - loss: 0.3440 - acc: 0.8839\n",
      "Epoch 20/30\n",
      "50000/50000 [==============================] - 21s 421us/step - loss: 0.3379 - acc: 0.8867\n",
      "Epoch 21/30\n",
      "50000/50000 [==============================] - 21s 422us/step - loss: 0.3346 - acc: 0.8885\n",
      "Epoch 22/30\n",
      "50000/50000 [==============================] - 21s 421us/step - loss: 0.3253 - acc: 0.8906\n",
      "Epoch 23/30\n",
      "50000/50000 [==============================] - 21s 422us/step - loss: 0.3186 - acc: 0.8933\n",
      "Epoch 24/30\n",
      "50000/50000 [==============================] - 21s 422us/step - loss: 0.3126 - acc: 0.8947\n",
      "Epoch 25/30\n",
      "50000/50000 [==============================] - 21s 421us/step - loss: 0.3135 - acc: 0.8949\n",
      "Epoch 26/30\n",
      "50000/50000 [==============================] - 21s 422us/step - loss: 0.3051 - acc: 0.8976\n",
      "Epoch 27/30\n",
      "50000/50000 [==============================] - 21s 422us/step - loss: 0.2969 - acc: 0.9007\n",
      "Epoch 28/30\n",
      "50000/50000 [==============================] - 21s 422us/step - loss: 0.2957 - acc: 0.9017\n",
      "Epoch 29/30\n",
      "50000/50000 [==============================] - 21s 421us/step - loss: 0.2934 - acc: 0.9017\n",
      "Epoch 30/30\n",
      "50000/50000 [==============================] - 21s 422us/step - loss: 0.2819 - acc: 0.9070\n"
     ]
    },
    {
     "data": {
      "text/plain": [
       "<keras.callbacks.History at 0x216efdce240>"
      ]
     },
     "execution_count": 8,
     "metadata": {},
     "output_type": "execute_result"
    }
   ],
   "source": [
    "# 训练模型\n",
    "model.fit(x_train,y_train,batch_size=600,epochs=30)"
   ]
  },
  {
   "cell_type": "code",
   "execution_count": 9,
   "metadata": {},
   "outputs": [
    {
     "name": "stdout",
     "output_type": "stream",
     "text": [
      "10000/10000 [==============================] - 3s 291us/step\n",
      "test loss 0.8677863619804382\n",
      "test accuracy 0.7343\n"
     ]
    }
   ],
   "source": [
    "# 评估模型\n",
    "loss,accuracy = model.evaluate(x_test,y_test)\n",
    "\n",
    "print('test loss',loss)\n",
    "print('test accuracy',accuracy)"
   ]
  }
 ],
 "metadata": {
  "kernelspec": {
   "display_name": "Python 3",
   "language": "python",
   "name": "python3"
  },
  "language_info": {
   "codemirror_mode": {
    "name": "ipython",
    "version": 3
   },
   "file_extension": ".py",
   "mimetype": "text/x-python",
   "name": "python",
   "nbconvert_exporter": "python",
   "pygments_lexer": "ipython3",
   "version": "3.6.4"
  }
 },
 "nbformat": 4,
 "nbformat_minor": 2
}
