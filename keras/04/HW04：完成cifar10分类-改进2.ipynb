{
 "cells": [
  {
   "cell_type": "markdown",
   "metadata": {},
   "source": [
    "## HW04：完成cifar10分类-改进\n",
    "http://www.cs.toronto.edu/~kriz/cifar.html\n",
    "The CIFAR-10 dataset consists of 60000 32x32 colour images in 10 classes, with 6000 images per class. There are 50000 training images and 10000 test images. \n",
    "Here are the classes in the dataset:\n",
    "* airplane\t\t\t\t\t\t\t\t\t\t\n",
    "* automobile\t\t\t\t\t\t\t\t\t\t\n",
    "* bird\t\t\t\t\t\t\t\t\t\t\n",
    "* cat\t\t\t\t\t\t\t\t\t\t\n",
    "* deer\t\t\t\t\t\t\t\t\t\t\n",
    "* dog\t\t\t\t\t\t\t\t\t\t\n",
    "* frog\t\t\t\t\t\t\t\t\t\t\n",
    "* horse\t\t\t\t\t\t\t\t\t\t\n",
    "* ship\t\t\t\t\t\t\t\t\t\t\n",
    "* truck\n",
    ">改进：每层卷积核的数量翻倍。训练集的准确率达到0.9070，测试集的准确率达到0.7343"
   ]
  },
  {
   "cell_type": "code",
   "execution_count": 8,
   "metadata": {},
   "outputs": [],
   "source": [
    "from keras.datasets import cifar10\n",
    "import numpy as np\n",
    "from keras.utils import np_utils\n",
    "from keras.models import Sequential\n",
    "from keras.layers import Dense,Dropout,Convolution2D,MaxPooling2D,Flatten\n",
    "from keras.optimizers import Adam\n",
    "import time"
   ]
  },
  {
   "cell_type": "code",
   "execution_count": 2,
   "metadata": {},
   "outputs": [],
   "source": [
    "(x_train,y_train),(x_test,y_test)=cifar10.load_data()"
   ]
  },
  {
   "cell_type": "code",
   "execution_count": 3,
   "metadata": {},
   "outputs": [],
   "source": [
    "#归一化\n",
    "x_train = x_train/255.0\n",
    "x_test = x_test/255.0\n",
    "# 换one hot格式\n",
    "y_train = np_utils.to_categorical(y_train,num_classes=10)\n",
    "y_test = np_utils.to_categorical(y_test,num_classes=10)"
   ]
  },
  {
   "cell_type": "code",
   "execution_count": 4,
   "metadata": {},
   "outputs": [
    {
     "data": {
      "text/plain": [
       "(50000, 32, 32, 3)"
      ]
     },
     "execution_count": 4,
     "metadata": {},
     "output_type": "execute_result"
    }
   ],
   "source": [
    "x_train.shape"
   ]
  },
  {
   "cell_type": "code",
   "execution_count": 6,
   "metadata": {},
   "outputs": [
    {
     "name": "stdout",
     "output_type": "stream",
     "text": [
      "_________________________________________________________________\n",
      "Layer (type)                 Output Shape              Param #   \n",
      "=================================================================\n",
      "conv2d_4 (Conv2D)            (None, 32, 32, 64)        4864      \n",
      "_________________________________________________________________\n",
      "max_pooling2d_4 (MaxPooling2 (None, 16, 16, 64)        0         \n",
      "_________________________________________________________________\n",
      "conv2d_5 (Conv2D)            (None, 16, 16, 126)       201726    \n",
      "_________________________________________________________________\n",
      "max_pooling2d_5 (MaxPooling2 (None, 8, 8, 126)         0         \n",
      "_________________________________________________________________\n",
      "conv2d_6 (Conv2D)            (None, 8, 8, 256)         806656    \n",
      "_________________________________________________________________\n",
      "max_pooling2d_6 (MaxPooling2 (None, 4, 4, 256)         0         \n",
      "_________________________________________________________________\n",
      "flatten_2 (Flatten)          (None, 4096)              0         \n",
      "_________________________________________________________________\n",
      "dense_3 (Dense)              (None, 1024)              4195328   \n",
      "_________________________________________________________________\n",
      "dropout_2 (Dropout)          (None, 1024)              0         \n",
      "_________________________________________________________________\n",
      "dense_4 (Dense)              (None, 10)                10250     \n",
      "=================================================================\n",
      "Total params: 5,218,824\n",
      "Trainable params: 5,218,824\n",
      "Non-trainable params: 0\n",
      "_________________________________________________________________\n"
     ]
    }
   ],
   "source": [
    "# 定义顺序模型\n",
    "model = Sequential()\n",
    "\n",
    "# 第一个卷积层\n",
    "# input_shape 输入平面\n",
    "# filters 卷积核/滤波器个数\n",
    "# kernel_size 卷积窗口大小\n",
    "# strides 步长\n",
    "# padding padding方式 same/valid\n",
    "# activation 激活函数\n",
    "model.add(Convolution2D(\n",
    "    input_shape = (32,32,3),\n",
    "    filters = 64,\n",
    "    kernel_size = 5,\n",
    "    strides = 1,\n",
    "    padding = 'same',\n",
    "    activation = 'relu'\n",
    "))\n",
    "# 第一个池化层\n",
    "model.add(MaxPooling2D(\n",
    "    pool_size = 2,\n",
    "    strides = 2,\n",
    "    padding = 'same',\n",
    "))\n",
    "# 第二个卷积层\n",
    "model.add(Convolution2D(126,5,strides=1,padding='same',activation = 'relu'))\n",
    "# 第二个池化层\n",
    "model.add(MaxPooling2D(2,2,'same'))\n",
    "\n",
    "# 第三个卷积层\n",
    "model.add(Convolution2D(256,5,strides=1,padding='same',activation = 'relu'))\n",
    "# 第三个池化层\n",
    "model.add(MaxPooling2D(2,2,'same'))\n",
    "\n",
    "# 把第三个池化层的输出扁平化为1维\n",
    "model.add(Flatten())\n",
    "# 第一个全连接层\n",
    "model.add(Dense(1024,activation = 'relu'))\n",
    "# Dropout\n",
    "model.add(Dropout(0.5))\n",
    "# 第二个全连接层\n",
    "model.add(Dense(10,activation='softmax'))\n",
    "\n",
    "# 定义优化器\n",
    "adam = Adam(lr=1e-4)\n",
    "\n",
    "# 定义优化器，loss function，训练过程中计算准确率\n",
    "model.compile(optimizer=adam,loss='categorical_crossentropy',metrics=['accuracy'])\n",
    "\n",
    "model.summary()"
   ]
  },
  {
   "cell_type": "code",
   "execution_count": 9,
   "metadata": {
    "scrolled": false
   },
   "outputs": [
    {
     "name": "stdout",
     "output_type": "stream",
     "text": [
      "Epoch 1/30\n",
      "50000/50000 [==============================] - 65s 1ms/step - loss: 1.8168 - acc: 0.3369\n",
      "Epoch 2/30\n",
      "50000/50000 [==============================] - 46s 917us/step - loss: 1.4833 - acc: 0.4638\n",
      "Epoch 3/30\n",
      "50000/50000 [==============================] - 46s 917us/step - loss: 1.3532 - acc: 0.5138\n",
      "Epoch 4/30\n",
      "50000/50000 [==============================] - 46s 916us/step - loss: 1.2633 - acc: 0.5521\n",
      "Epoch 5/30\n",
      "50000/50000 [==============================] - 46s 915us/step - loss: 1.1804 - acc: 0.5824\n",
      "Epoch 6/30\n",
      "50000/50000 [==============================] - 46s 914us/step - loss: 1.1169 - acc: 0.6054\n",
      "Epoch 7/30\n",
      "50000/50000 [==============================] - 46s 917us/step - loss: 1.0587 - acc: 0.6274\n",
      "Epoch 8/30\n",
      "50000/50000 [==============================] - 46s 916us/step - loss: 1.0074 - acc: 0.6476\n",
      "Epoch 9/30\n",
      "50000/50000 [==============================] - 46s 920us/step - loss: 0.9679 - acc: 0.6622\n",
      "Epoch 10/30\n",
      "50000/50000 [==============================] - 46s 918us/step - loss: 0.9240 - acc: 0.6762\n",
      "Epoch 11/30\n",
      "50000/50000 [==============================] - 46s 918us/step - loss: 0.8877 - acc: 0.6908\n",
      "Epoch 12/30\n",
      "50000/50000 [==============================] - 46s 922us/step - loss: 0.8524 - acc: 0.7021\n",
      "Epoch 13/30\n",
      "50000/50000 [==============================] - 46s 915us/step - loss: 0.8270 - acc: 0.7121\n",
      "Epoch 14/30\n",
      "50000/50000 [==============================] - 46s 916us/step - loss: 0.7929 - acc: 0.7243\n",
      "Epoch 15/30\n",
      "50000/50000 [==============================] - 46s 915us/step - loss: 0.7653 - acc: 0.7352\n",
      "Epoch 16/30\n",
      "50000/50000 [==============================] - 46s 914us/step - loss: 0.7387 - acc: 0.7447\n",
      "Epoch 17/30\n",
      "50000/50000 [==============================] - 46s 915us/step - loss: 0.7154 - acc: 0.7519\n",
      "Epoch 18/30\n",
      "50000/50000 [==============================] - 46s 914us/step - loss: 0.6808 - acc: 0.7674\n",
      "Epoch 19/30\n",
      "50000/50000 [==============================] - 46s 917us/step - loss: 0.6662 - acc: 0.7713\n",
      "Epoch 20/30\n",
      "50000/50000 [==============================] - 46s 918us/step - loss: 0.6352 - acc: 0.7832\n",
      "Epoch 21/30\n",
      "50000/50000 [==============================] - 46s 917us/step - loss: 0.6120 - acc: 0.7894\n",
      "Epoch 22/30\n",
      "50000/50000 [==============================] - 46s 918us/step - loss: 0.5889 - acc: 0.7975\n",
      "Epoch 23/30\n",
      "50000/50000 [==============================] - 46s 920us/step - loss: 0.5654 - acc: 0.8071\n",
      "Epoch 24/30\n",
      "50000/50000 [==============================] - 46s 918us/step - loss: 0.5470 - acc: 0.8115\n",
      "Epoch 25/30\n",
      "50000/50000 [==============================] - 46s 920us/step - loss: 0.5233 - acc: 0.8210\n",
      "Epoch 26/30\n",
      "50000/50000 [==============================] - 46s 920us/step - loss: 0.4966 - acc: 0.8304\n",
      "Epoch 27/30\n",
      "50000/50000 [==============================] - 46s 920us/step - loss: 0.4799 - acc: 0.8369\n",
      "Epoch 28/30\n",
      "50000/50000 [==============================] - 46s 920us/step - loss: 0.4634 - acc: 0.8405\n",
      "Epoch 29/30\n",
      "50000/50000 [==============================] - 46s 920us/step - loss: 0.4300 - acc: 0.8542\n",
      "Epoch 30/30\n",
      "50000/50000 [==============================] - 46s 918us/step - loss: 0.4115 - acc: 0.8612\n",
      "@ Total Time Spent: 1396.20 seconds\n"
     ]
    }
   ],
   "source": [
    "start = time.time()\n",
    "# 训练模型\n",
    "model.fit(x_train,y_train,batch_size=256,epochs=30)\n",
    "print('@ Total Time Spent: %.2f seconds' % (time.time() - start))"
   ]
  },
  {
   "cell_type": "code",
   "execution_count": 10,
   "metadata": {},
   "outputs": [
    {
     "name": "stdout",
     "output_type": "stream",
     "text": [
      "10000/10000 [==============================] - 5s 507us/step\n",
      "test loss 0.7677775183677673\n",
      "test accuracy 0.7466\n"
     ]
    }
   ],
   "source": [
    "# 评估模型\n",
    "loss,accuracy = model.evaluate(x_test,y_test)\n",
    "\n",
    "print('test loss',loss)\n",
    "print('test accuracy',accuracy)"
   ]
  },
  {
   "cell_type": "code",
   "execution_count": 11,
   "metadata": {
    "scrolled": false
   },
   "outputs": [
    {
     "name": "stdout",
     "output_type": "stream",
     "text": [
      "Epoch 1/20\n",
      "50000/50000 [==============================] - 46s 927us/step - loss: 0.3949 - acc: 0.8673\n",
      "Epoch 2/20\n",
      "50000/50000 [==============================] - 46s 920us/step - loss: 0.3692 - acc: 0.8756\n",
      "Epoch 3/20\n",
      "50000/50000 [==============================] - 46s 919us/step - loss: 0.3518 - acc: 0.8809\n",
      "Epoch 4/20\n",
      "50000/50000 [==============================] - 46s 915us/step - loss: 0.3353 - acc: 0.8883\n",
      "Epoch 5/20\n",
      "50000/50000 [==============================] - 46s 914us/step - loss: 0.3184 - acc: 0.8934\n",
      "Epoch 6/20\n",
      "50000/50000 [==============================] - 46s 912us/step - loss: 0.2944 - acc: 0.9029\n",
      "Epoch 7/20\n",
      "50000/50000 [==============================] - 46s 912us/step - loss: 0.2811 - acc: 0.9063\n",
      "Epoch 8/20\n",
      "50000/50000 [==============================] - 46s 912us/step - loss: 0.2628 - acc: 0.9136\n",
      "Epoch 9/20\n",
      "50000/50000 [==============================] - 46s 911us/step - loss: 0.2449 - acc: 0.9213\n",
      "Epoch 10/20\n",
      "50000/50000 [==============================] - 46s 912us/step - loss: 0.2308 - acc: 0.9244\n",
      "Epoch 11/20\n",
      "50000/50000 [==============================] - 46s 912us/step - loss: 0.2122 - acc: 0.9315\n",
      "Epoch 12/20\n",
      "50000/50000 [==============================] - 46s 913us/step - loss: 0.2019 - acc: 0.9350\n",
      "Epoch 13/20\n",
      "50000/50000 [==============================] - 46s 912us/step - loss: 0.1894 - acc: 0.9402\n",
      "Epoch 14/20\n",
      "50000/50000 [==============================] - 46s 912us/step - loss: 0.1740 - acc: 0.9459\n",
      "Epoch 15/20\n",
      "50000/50000 [==============================] - 46s 912us/step - loss: 0.1652 - acc: 0.9486\n",
      "Epoch 16/20\n",
      "50000/50000 [==============================] - 46s 912us/step - loss: 0.1463 - acc: 0.9551\n",
      "Epoch 17/20\n",
      "50000/50000 [==============================] - 46s 912us/step - loss: 0.1353 - acc: 0.9585\n",
      "Epoch 18/20\n",
      "50000/50000 [==============================] - 46s 912us/step - loss: 0.1257 - acc: 0.9618\n",
      "Epoch 19/20\n",
      "50000/50000 [==============================] - 46s 912us/step - loss: 0.1227 - acc: 0.9639\n",
      "Epoch 20/20\n",
      "50000/50000 [==============================] - 46s 911us/step - loss: 0.1113 - acc: 0.9660\n"
     ]
    },
    {
     "data": {
      "text/plain": [
       "<keras.callbacks.History at 0x18f2b0dccf8>"
      ]
     },
     "execution_count": 11,
     "metadata": {},
     "output_type": "execute_result"
    }
   ],
   "source": [
    "# 训练模型\n",
    "model.fit(x_train,y_train,batch_size=256,epochs=20)"
   ]
  },
  {
   "cell_type": "code",
   "execution_count": 12,
   "metadata": {},
   "outputs": [
    {
     "name": "stdout",
     "output_type": "stream",
     "text": [
      "10000/10000 [==============================] - 5s 519us/step\n",
      "test loss 0.9697794011116028\n",
      "test accuracy 0.7483\n"
     ]
    }
   ],
   "source": [
    "# 评估模型\n",
    "loss,accuracy = model.evaluate(x_test,y_test)\n",
    "\n",
    "print('test loss',loss)\n",
    "print('test accuracy',accuracy)"
   ]
  }
 ],
 "metadata": {
  "kernelspec": {
   "display_name": "Python 3",
   "language": "python",
   "name": "python3"
  },
  "language_info": {
   "codemirror_mode": {
    "name": "ipython",
    "version": 3
   },
   "file_extension": ".py",
   "mimetype": "text/x-python",
   "name": "python",
   "nbconvert_exporter": "python",
   "pygments_lexer": "ipython3",
   "version": "3.6.5"
  }
 },
 "nbformat": 4,
 "nbformat_minor": 2
}
