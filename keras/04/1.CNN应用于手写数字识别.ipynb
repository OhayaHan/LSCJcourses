{
 "cells": [
  {
   "cell_type": "code",
   "execution_count": 5,
   "metadata": {},
   "outputs": [],
   "source": [
    "import numpy as np\n",
    "from keras.datasets import mnist\n",
    "from keras.utils import np_utils\n",
    "from keras.models import Sequential\n",
    "from keras.layers import Dense,Dropout,Convolution2D,MaxPooling2D,Flatten\n",
    "from keras.optimizers import Adam\n",
    "from keras.callbacks import TensorBoard"
   ]
  },
  {
   "cell_type": "code",
   "execution_count": 2,
   "metadata": {},
   "outputs": [
    {
     "name": "stdout",
     "output_type": "stream",
     "text": [
      "x_shape: (60000, 28, 28)\n",
      "y_shape: (60000,)\n"
     ]
    }
   ],
   "source": [
    "#from keras.datasets import mnist\n",
    "\n",
    "f = np.load('../02/mnist.npz') \n",
    "x_train, y_train = f['x_train'], f['y_train']  \n",
    "x_test, y_test = f['x_test'], f['y_test']  \n",
    "f.close() \n",
    "# 载入数据\n",
    "#(x_train,y_train),(x_test,y_test) = mnist.load_data()\n",
    "# (60000,28,28)\n",
    "print('x_shape:',x_train.shape)\n",
    "# (60000)\n",
    "print('y_shape:',y_train.shape)"
   ]
  },
  {
   "cell_type": "code",
   "execution_count": 3,
   "metadata": {},
   "outputs": [],
   "source": [
    "# (60000,28,28)->(60000,28,28,1)\n",
    "x_train = x_train.reshape(-1,28,28,1)/255.0\n",
    "x_test = x_test.reshape(-1,28,28,1)/255.0\n",
    "# 换one hot格式\n",
    "y_train = np_utils.to_categorical(y_train,num_classes=10)\n",
    "y_test = np_utils.to_categorical(y_test,num_classes=10)\n",
    "\n",
    "# 定义顺序模型\n",
    "model = Sequential()\n",
    "\n",
    "# 第一个卷积层\n",
    "# input_shape 输入平面\n",
    "# filters 卷积核/滤波器个数\n",
    "# kernel_size 卷积窗口大小\n",
    "# strides 步长\n",
    "# padding padding方式 same/valid\n",
    "# activation 激活函数\n",
    "model.add(Convolution2D(\n",
    "    input_shape = (28,28,1),\n",
    "    filters = 32,\n",
    "    kernel_size = 5,\n",
    "    strides = 1,\n",
    "    padding = 'same',\n",
    "    activation = 'relu'\n",
    "))\n",
    "# 第一个池化层\n",
    "model.add(MaxPooling2D(\n",
    "    pool_size = 2,\n",
    "    strides = 2,\n",
    "    padding = 'same',\n",
    "))\n",
    "# 第二个卷积层\n",
    "model.add(Convolution2D(64,5,strides=1,padding='same',activation = 'relu'))\n",
    "# 第二个池化层\n",
    "model.add(MaxPooling2D(2,2,'same'))\n",
    "# 把第二个池化层的输出扁平化为1维\n",
    "model.add(Flatten())\n",
    "# 第一个全连接层\n",
    "model.add(Dense(1024,activation = 'relu'))\n",
    "# Dropout\n",
    "model.add(Dropout(0.5))\n",
    "# 第二个全连接层\n",
    "model.add(Dense(10,activation='softmax'))\n",
    "\n",
    "# 定义优化器\n",
    "adam = Adam(lr=1e-4)\n",
    "\n",
    "# 定义优化器，loss function，训练过程中计算准确率\n",
    "model.compile(optimizer=adam,loss='categorical_crossentropy',metrics=['accuracy'])"
   ]
  },
  {
   "cell_type": "code",
   "execution_count": 7,
   "metadata": {},
   "outputs": [
    {
     "name": "stdout",
     "output_type": "stream",
     "text": [
      "Epoch 1/10\n",
      "60000/60000 [==============================] - 30s 503us/step - loss: 0.3318 - acc: 0.9061\n",
      "Epoch 2/10\n",
      "60000/60000 [==============================] - 28s 469us/step - loss: 0.0913 - acc: 0.9718\n",
      "Epoch 3/10\n",
      "60000/60000 [==============================] - 29s 476us/step - loss: 0.0637 - acc: 0.9798\n",
      "Epoch 4/10\n",
      "60000/60000 [==============================] - 28s 464us/step - loss: 0.0499 - acc: 0.9848\n",
      "Epoch 5/10\n",
      "60000/60000 [==============================] - 28s 466us/step - loss: 0.0412 - acc: 0.9870\n",
      "Epoch 6/10\n",
      "60000/60000 [==============================] - 28s 461us/step - loss: 0.0356 - acc: 0.9891\n",
      "Epoch 7/10\n",
      "60000/60000 [==============================] - 28s 474us/step - loss: 0.0307 - acc: 0.9901\n",
      "Epoch 8/10\n",
      "60000/60000 [==============================] - 28s 472us/step - loss: 0.0263 - acc: 0.9920\n",
      "Epoch 9/10\n",
      "60000/60000 [==============================] - 28s 474us/step - loss: 0.0227 - acc: 0.9929\n",
      "Epoch 10/10\n",
      "60000/60000 [==============================] - 27s 455us/step - loss: 0.0207 - acc: 0.9934\n"
     ]
    },
    {
     "data": {
      "text/plain": [
       "<keras.callbacks.History at 0x7fab52f17278>"
      ]
     },
     "execution_count": 7,
     "metadata": {},
     "output_type": "execute_result"
    }
   ],
   "source": [
    "# 训练模型\n",
    "model.fit(x_train,y_train,batch_size=64,epochs=10,callbacks=[TensorBoard(log_dir='./tmp/log')])"
   ]
  },
  {
   "cell_type": "code",
   "execution_count": 3,
   "metadata": {},
   "outputs": [
    {
     "name": "stdout",
     "output_type": "stream",
     "text": [
      "Epoch 1/10\n",
      "60000/60000 [==============================] - 52s 871us/step - loss: 0.3376 - acc: 0.9031\n",
      "Epoch 2/10\n",
      "60000/60000 [==============================] - 34s 567us/step - loss: 0.0913 - acc: 0.9729\n",
      "Epoch 3/10\n",
      "60000/60000 [==============================] - 34s 566us/step - loss: 0.0639 - acc: 0.9804\n",
      "Epoch 4/10\n",
      "60000/60000 [==============================] - 34s 562us/step - loss: 0.0491 - acc: 0.9849\n",
      "Epoch 5/10\n",
      "60000/60000 [==============================] - 34s 560us/step - loss: 0.0410 - acc: 0.9872\n",
      "Epoch 6/10\n",
      "60000/60000 [==============================] - 34s 560us/step - loss: 0.0354 - acc: 0.9893\n",
      "Epoch 7/10\n",
      "60000/60000 [==============================] - 34s 563us/step - loss: 0.0309 - acc: 0.9904\n",
      "Epoch 8/10\n",
      "60000/60000 [==============================] - 34s 566us/step - loss: 0.0264 - acc: 0.9922\n",
      "Epoch 9/10\n",
      "60000/60000 [==============================] - 34s 567us/step - loss: 0.0233 - acc: 0.9926\n",
      "Epoch 10/10\n",
      "60000/60000 [==============================] - 34s 561us/step - loss: 0.0203 - acc: 0.9936\n",
      "10000/10000 [==============================] - 2s 180us/step\n",
      "test loss 0.02061265280317457\n",
      "test accuracy 0.9926\n"
     ]
    }
   ],
   "source": [
    "\n",
    "\n",
    "\n",
    "\n",
    "# 评估模型\n",
    "loss,accuracy = model.evaluate(x_test,y_test)\n",
    "\n",
    "print('test loss',loss)\n",
    "print('test accuracy',accuracy)"
   ]
  },
  {
   "cell_type": "code",
   "execution_count": null,
   "metadata": {
    "collapsed": true
   },
   "outputs": [],
   "source": []
  }
 ],
 "metadata": {
  "anaconda-cloud": {},
  "kernelspec": {
   "display_name": "Python 3",
   "language": "python",
   "name": "python3"
  },
  "language_info": {
   "codemirror_mode": {
    "name": "ipython",
    "version": 3
   },
   "file_extension": ".py",
   "mimetype": "text/x-python",
   "name": "python",
   "nbconvert_exporter": "python",
   "pygments_lexer": "ipython3",
   "version": "3.6.5"
  }
 },
 "nbformat": 4,
 "nbformat_minor": 1
}
