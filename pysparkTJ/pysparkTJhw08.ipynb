{
 "cells": [
  {
   "cell_type": "markdown",
   "metadata": {},
   "source": [
    "## pysparkTJhw08\n",
    "用DataFrame API 完成发现共同好友和好友推荐"
   ]
  },
  {
   "cell_type": "code",
   "execution_count": 1,
   "metadata": {},
   "outputs": [],
   "source": [
    "import pyspark\n",
    "from pyspark.sql import SparkSession"
   ]
  },
  {
   "cell_type": "code",
   "execution_count": 2,
   "metadata": {},
   "outputs": [],
   "source": [
    "#生成SparkSession实例\n",
    "spark = SparkSession.builder \\\n",
    "     .master(\"local[*]\") \\\n",
    "     .appName(\"pysparkTJhw07\") \\\n",
    "     .config(\"spark.some.config.option\", \"some-value\") \\\n",
    "     .getOrCreate()"
   ]
  },
  {
   "cell_type": "code",
   "execution_count": 3,
   "metadata": {},
   "outputs": [
    {
     "name": "stdout",
     "output_type": "stream",
     "text": [
      "+-----+------+\n",
      "|  _c0|   _c1|\n",
      "+-----+------+\n",
      "|11342|387543|\n",
      "|11342|427436|\n",
      "|11342|538214|\n",
      "|11342|638706|\n",
      "|11342|645018|\n",
      "+-----+------+\n",
      "only showing top 5 rows\n",
      "\n"
     ]
    }
   ],
   "source": [
    "df1 = spark.read.csv(\"file:///home/ian/code/github/LSCJcourses/pysparkTJ/friends.txt\", sep='\\t', header=False)\n",
    "df1.show(5)"
   ]
  },
  {
   "cell_type": "code",
   "execution_count": 4,
   "metadata": {},
   "outputs": [],
   "source": [
    "df1.registerTempTable('f1')"
   ]
  },
  {
   "cell_type": "code",
   "execution_count": 5,
   "metadata": {},
   "outputs": [
    {
     "name": "stdout",
     "output_type": "stream",
     "text": [
      "+--------+\n",
      "|count(1)|\n",
      "+--------+\n",
      "|    3769|\n",
      "+--------+\n",
      "\n"
     ]
    }
   ],
   "source": [
    "spark.sql('select count(*) from f1').show()"
   ]
  },
  {
   "cell_type": "code",
   "execution_count": 6,
   "metadata": {},
   "outputs": [
    {
     "name": "stdout",
     "output_type": "stream",
     "text": [
      "+------+--------------------+\n",
      "|   _c0|                  t1|\n",
      "+------+--------------------+\n",
      "|465399|251691 855832 659...|\n",
      "|174836|507854 226374 877041|\n",
      "|     7|19576 514170 4334...|\n",
      "|805694|185067 21 711442 ...|\n",
      "|909316|806291 876328 756...|\n",
      "+------+--------------------+\n",
      "only showing top 5 rows\n",
      "\n"
     ]
    }
   ],
   "source": [
    "#spark 分组后字符串拼接\n",
    "df2 = spark.sql('select _c0, concat_ws(\" \",collect_set(_c1)) t1  from f1 GROUP BY _c0')\n",
    "df2.show(5)"
   ]
  },
  {
   "cell_type": "code",
   "execution_count": 7,
   "metadata": {},
   "outputs": [
    {
     "name": "stdout",
     "output_type": "stream",
     "text": [
      "+------+--------------------+\n",
      "|    id|             friends|\n",
      "+------+--------------------+\n",
      "|465399|[251691, 855832, ...|\n",
      "|174836|[507854, 226374, ...|\n",
      "|     7|[19576, 514170, 4...|\n",
      "|805694|[185067, 21, 7114...|\n",
      "|909316|[806291, 876328, ...|\n",
      "+------+--------------------+\n",
      "only showing top 5 rows\n",
      "\n"
     ]
    }
   ],
   "source": [
    "df3 = spark.sql('select _c0 id, collect_set(_c1) friends  from f1 GROUP BY id')\n",
    "df3.show(5)"
   ]
  },
  {
   "cell_type": "code",
   "execution_count": 8,
   "metadata": {},
   "outputs": [],
   "source": [
    "import itertools"
   ]
  },
  {
   "cell_type": "code",
   "execution_count": 9,
   "metadata": {},
   "outputs": [],
   "source": [
    "rdd1 = df3.rdd.flatMap(lambda x:[(i,x[0]) for i in list(itertools.combinations(x[1],2))])"
   ]
  },
  {
   "cell_type": "code",
   "execution_count": 10,
   "metadata": {},
   "outputs": [
    {
     "name": "stdout",
     "output_type": "stream",
     "text": [
      "+----------------+------+\n",
      "|              _1|    _2|\n",
      "+----------------+------+\n",
      "|[251691, 855832]|465399|\n",
      "|[251691, 659637]|465399|\n",
      "|[251691, 271187]|465399|\n",
      "|[251691, 476261]|465399|\n",
      "|[251691, 126013]|465399|\n",
      "+----------------+------+\n",
      "only showing top 5 rows\n",
      "\n"
     ]
    }
   ],
   "source": [
    "df4 = rdd1.toDF()\n",
    "df4.show(5)"
   ]
  },
  {
   "cell_type": "code",
   "execution_count": 11,
   "metadata": {},
   "outputs": [
    {
     "name": "stdout",
     "output_type": "stream",
     "text": [
      "+----------------+--------------------+\n",
      "|              _1|     collect_set(_2)|\n",
      "+----------------+--------------------+\n",
      "|[121202, 700840]|    [738994, 465399]|\n",
      "|[126108, 366358]|    [738994, 465399]|\n",
      "|[251691, 575717]|            [465399]|\n",
      "|[741151, 803349]|            [465399]|\n",
      "|[104279, 317571]|[806291, 876328, ...|\n",
      "|[460382, 771890]|                [15]|\n",
      "|[537900, 616640]|[621034, 151230, 28]|\n",
      "|[635575, 648208]|[748615, 862566, ...|\n",
      "|[291224, 430708]|            [818382]|\n",
      "|[291879, 202128]|            [502809]|\n",
      "|[310385, 417121]|            [502809]|\n",
      "|[215367, 479713]|[51633, 891240, 3...|\n",
      "|[721816, 490263]|[215367, 479713, ...|\n",
      "|[116209, 204549]|[40033, 202339, 8...|\n",
      "| [396121, 12199]|            [498271]|\n",
      "|[455271, 285042]|[297289, 241611, ...|\n",
      "|[494042, 528391]|     [430119, 30957]|\n",
      "|[396121, 390239]|            [781983]|\n",
      "|[396121, 431311]|            [781983]|\n",
      "|[166776, 104370]|                [31]|\n",
      "+----------------+--------------------+\n",
      "only showing top 20 rows\n",
      "\n"
     ]
    }
   ],
   "source": [
    "df5 = df4.groupBy('_1').agg({'_2':'collect_set'})\n",
    "df5.show()"
   ]
  },
  {
   "cell_type": "code",
   "execution_count": null,
   "metadata": {},
   "outputs": [],
   "source": []
  }
 ],
 "metadata": {
  "kernelspec": {
   "display_name": "Python 3",
   "language": "python",
   "name": "python3"
  },
  "language_info": {
   "codemirror_mode": {
    "name": "ipython",
    "version": 3
   },
   "file_extension": ".py",
   "mimetype": "text/x-python",
   "name": "python",
   "nbconvert_exporter": "python",
   "pygments_lexer": "ipython3",
   "version": "3.6.5"
  }
 },
 "nbformat": 4,
 "nbformat_minor": 2
}
