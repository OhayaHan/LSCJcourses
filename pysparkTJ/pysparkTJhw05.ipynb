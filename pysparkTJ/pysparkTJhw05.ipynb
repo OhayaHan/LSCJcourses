{
 "cells": [
  {
   "cell_type": "markdown",
   "metadata": {},
   "source": [
    "## pysparkTJhw05\n",
    "\n",
    "还是用上节课的数据集，完成好友推荐：  \n",
    "要求：两个人不是直接好友，但是有共同好友，这时就可以向各自推荐另一个为好友；  \n",
    "结果集格式：A,(推荐好友列表） "
   ]
  },
  {
   "cell_type": "code",
   "execution_count": 1,
   "metadata": {},
   "outputs": [],
   "source": [
    "import pyspark\n",
    "from pyspark.sql import SparkSession"
   ]
  },
  {
   "cell_type": "code",
   "execution_count": 2,
   "metadata": {},
   "outputs": [],
   "source": [
    "#生成SparkSession实例\n",
    "spark = SparkSession.builder \\\n",
    "     .master(\"local[*]\") \\\n",
    "     .appName(\"pysparkTJhw05\") \\\n",
    "     .config(\"spark.some.config.option\", \"some-value\") \\\n",
    "     .getOrCreate()"
   ]
  },
  {
   "cell_type": "code",
   "execution_count": 3,
   "metadata": {},
   "outputs": [],
   "source": [
    "#通过sparkSession获取上下文\n",
    "sc = spark.sparkContext"
   ]
  },
  {
   "cell_type": "code",
   "execution_count": 4,
   "metadata": {},
   "outputs": [],
   "source": [
    "rdd1 = sc.textFile('file:///home/ian/code/github/LSCJcourses/pysparkTJ/friends.txt')"
   ]
  },
  {
   "cell_type": "code",
   "execution_count": 6,
   "metadata": {},
   "outputs": [],
   "source": [
    "import itertools"
   ]
  },
  {
   "cell_type": "code",
   "execution_count": 7,
   "metadata": {},
   "outputs": [
    {
     "data": {
      "text/plain": [
       "[(('0', '136593'), ['867923']),\n",
       " (('0', '523684'), ['867923']),\n",
       " (('0', '815602'), ['867923']),\n",
       " (('0', '835220'), ['867923']),\n",
       " (('0', '857527'), ['867923', '891835'])]"
      ]
     },
     "execution_count": 7,
     "metadata": {},
     "output_type": "execute_result"
    }
   ],
   "source": [
    "rdd2 = rdd1.map(lambda x:x.split('\\t'))\n",
    "\n",
    "rdd3 = rdd2.groupByKey().map(lambda x:(x[0],list(x[1])))\n",
    "\n",
    "rdd4 = rdd3.flatMap(lambda x:[(i,x[0]) for i in list(itertools.combinations(x[1],2))])\n",
    "\n",
    "rdd5 = rdd4.groupByKey().map(lambda x:(x[0],list(x[1])))\n",
    "\n",
    "rdd5.take(5)"
   ]
  },
  {
   "cell_type": "code",
   "execution_count": 8,
   "metadata": {},
   "outputs": [
    {
     "data": {
      "text/plain": [
       "[['11342', '387543'],\n",
       " ['11342', '427436'],\n",
       " ['11342', '538214'],\n",
       " ['11342', '638706'],\n",
       " ['11342', '645018']]"
      ]
     },
     "execution_count": 8,
     "metadata": {},
     "output_type": "execute_result"
    }
   ],
   "source": [
    "rdd2.take(5)"
   ]
  },
  {
   "cell_type": "code",
   "execution_count": 10,
   "metadata": {},
   "outputs": [
    {
     "data": {
      "text/plain": [
       "True"
      ]
     },
     "execution_count": 10,
     "metadata": {},
     "output_type": "execute_result"
    }
   ],
   "source": [
    "['11342', '387543'] in rdd2.collect()"
   ]
  },
  {
   "cell_type": "code",
   "execution_count": 11,
   "metadata": {},
   "outputs": [],
   "source": [
    "rdd6 = rdd5.map(lambda x:x[0])"
   ]
  },
  {
   "cell_type": "code",
   "execution_count": 14,
   "metadata": {},
   "outputs": [],
   "source": [
    "f = rdd2.collect()"
   ]
  },
  {
   "cell_type": "code",
   "execution_count": 20,
   "metadata": {},
   "outputs": [],
   "source": [
    "rdd7 = rdd6.filter(lambda x: x not in f and (x[1],x[0]) not in f)"
   ]
  },
  {
   "cell_type": "code",
   "execution_count": 21,
   "metadata": {},
   "outputs": [],
   "source": [
    "rdd8 = rdd7.flatMap(lambda x:[(x[0],x[1]),(x[1],x[0])])"
   ]
  },
  {
   "cell_type": "code",
   "execution_count": 22,
   "metadata": {},
   "outputs": [],
   "source": [
    "rdd9 = rdd8.groupByKey().mapValues(list)"
   ]
  },
  {
   "cell_type": "code",
   "execution_count": 23,
   "metadata": {},
   "outputs": [
    {
     "data": {
      "text/plain": [
       "[('0',\n",
       "  ['136593',\n",
       "   '523684',\n",
       "   '815602',\n",
       "   '835220',\n",
       "   '857527',\n",
       "   '891835',\n",
       "   '112028',\n",
       "   '235849',\n",
       "   '302284',\n",
       "   '417728',\n",
       "   '693969',\n",
       "   '867923',\n",
       "   '438493',\n",
       "   '11342',\n",
       "   '414038',\n",
       "   '500627',\n",
       "   '760842',\n",
       "   '846213',\n",
       "   '451592',\n",
       "   '91807',\n",
       "   '322178',\n",
       "   '387543',\n",
       "   '535748',\n",
       "   '695578']),\n",
       " ('136593',\n",
       "  ['0',\n",
       "   '523684',\n",
       "   '815602',\n",
       "   '835220',\n",
       "   '857527',\n",
       "   '891835',\n",
       "   '11342',\n",
       "   '414038',\n",
       "   '500627',\n",
       "   '760842',\n",
       "   '846213']),\n",
       " ('523684',\n",
       "  ['0',\n",
       "   '136593',\n",
       "   '815602',\n",
       "   '835220',\n",
       "   '857527',\n",
       "   '891835',\n",
       "   '11342',\n",
       "   '414038',\n",
       "   '500627',\n",
       "   '760842',\n",
       "   '846213']),\n",
       " ('815602',\n",
       "  ['0',\n",
       "   '136593',\n",
       "   '523684',\n",
       "   '835220',\n",
       "   '857527',\n",
       "   '891835',\n",
       "   '11342',\n",
       "   '414038',\n",
       "   '500627',\n",
       "   '760842',\n",
       "   '846213']),\n",
       " ('835220',\n",
       "  ['0',\n",
       "   '136593',\n",
       "   '523684',\n",
       "   '815602',\n",
       "   '857527',\n",
       "   '891835',\n",
       "   '427436',\n",
       "   '638706',\n",
       "   '856657',\n",
       "   '867923',\n",
       "   '11342',\n",
       "   '414038',\n",
       "   '500627',\n",
       "   '760842',\n",
       "   '846213',\n",
       "   '387543',\n",
       "   '538214',\n",
       "   '645018'])]"
      ]
     },
     "execution_count": 23,
     "metadata": {},
     "output_type": "execute_result"
    }
   ],
   "source": [
    "rdd9.take(5)"
   ]
  },
  {
   "cell_type": "markdown",
   "metadata": {},
   "source": [
    "## end"
   ]
  },
  {
   "cell_type": "markdown",
   "metadata": {},
   "source": [
    "## end"
   ]
  },
  {
   "cell_type": "markdown",
   "metadata": {},
   "source": [
    "## end"
   ]
  },
  {
   "cell_type": "markdown",
   "metadata": {},
   "source": [
    "## end"
   ]
  },
  {
   "cell_type": "markdown",
   "metadata": {},
   "source": [
    "## end"
   ]
  },
  {
   "cell_type": "code",
   "execution_count": null,
   "metadata": {},
   "outputs": [],
   "source": []
  }
 ],
 "metadata": {
  "kernelspec": {
   "display_name": "Python 3",
   "language": "python",
   "name": "python3"
  },
  "language_info": {
   "codemirror_mode": {
    "name": "ipython",
    "version": 3
   },
   "file_extension": ".py",
   "mimetype": "text/x-python",
   "name": "python",
   "nbconvert_exporter": "python",
   "pygments_lexer": "ipython3",
   "version": "3.6.5"
  }
 },
 "nbformat": 4,
 "nbformat_minor": 2
}
