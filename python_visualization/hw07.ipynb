{
 "cells": [
  {
   "cell_type": "code",
   "execution_count": 1,
   "metadata": {},
   "outputs": [],
   "source": [
    "import pandas as pd\n",
    "import numpy as np\n",
    "import matplotlib.pyplot as plt\n",
    "# 支持中文显示\n",
    "plt.rcParams['font.sans-serif'] = ['STFangsong']\n",
    "plt.rcParams['axes.unicode_minus'] = False"
   ]
  },
  {
   "cell_type": "markdown",
   "metadata": {},
   "source": [
    "## Q1 利用本周所学知识，将朝阳医院每月的销售数量和销售总额变化趋势通过一张图展示出来(双y轴)"
   ]
  },
  {
   "cell_type": "code",
   "execution_count": 2,
   "metadata": {},
   "outputs": [
    {
     "data": {
      "text/html": [
       "<div>\n",
       "<style scoped>\n",
       "    .dataframe tbody tr th:only-of-type {\n",
       "        vertical-align: middle;\n",
       "    }\n",
       "\n",
       "    .dataframe tbody tr th {\n",
       "        vertical-align: top;\n",
       "    }\n",
       "\n",
       "    .dataframe thead th {\n",
       "        text-align: right;\n",
       "    }\n",
       "</style>\n",
       "<table border=\"1\" class=\"dataframe\">\n",
       "  <thead>\n",
       "    <tr style=\"text-align: right;\">\n",
       "      <th></th>\n",
       "      <th>购药时间</th>\n",
       "      <th>社保卡号</th>\n",
       "      <th>商品编码</th>\n",
       "      <th>商品名称</th>\n",
       "      <th>销售数量</th>\n",
       "      <th>应收金额</th>\n",
       "      <th>实收金额</th>\n",
       "    </tr>\n",
       "  </thead>\n",
       "  <tbody>\n",
       "    <tr>\n",
       "      <th>0</th>\n",
       "      <td>2018-01-01 星期五</td>\n",
       "      <td>1.616528e+06</td>\n",
       "      <td>236701.0</td>\n",
       "      <td>强力VC银翘片</td>\n",
       "      <td>6.0</td>\n",
       "      <td>82.8</td>\n",
       "      <td>69.00</td>\n",
       "    </tr>\n",
       "    <tr>\n",
       "      <th>1</th>\n",
       "      <td>2018-01-02 星期六</td>\n",
       "      <td>1.616528e+06</td>\n",
       "      <td>236701.0</td>\n",
       "      <td>清热解毒口服液</td>\n",
       "      <td>1.0</td>\n",
       "      <td>28.0</td>\n",
       "      <td>24.64</td>\n",
       "    </tr>\n",
       "    <tr>\n",
       "      <th>2</th>\n",
       "      <td>2018-01-06 星期三</td>\n",
       "      <td>1.260283e+07</td>\n",
       "      <td>236701.0</td>\n",
       "      <td>感康</td>\n",
       "      <td>2.0</td>\n",
       "      <td>16.8</td>\n",
       "      <td>15.00</td>\n",
       "    </tr>\n",
       "    <tr>\n",
       "      <th>3</th>\n",
       "      <td>2018-01-11 星期一</td>\n",
       "      <td>1.007034e+10</td>\n",
       "      <td>236701.0</td>\n",
       "      <td>三九感冒灵</td>\n",
       "      <td>1.0</td>\n",
       "      <td>28.0</td>\n",
       "      <td>28.00</td>\n",
       "    </tr>\n",
       "    <tr>\n",
       "      <th>4</th>\n",
       "      <td>2018-01-15 星期五</td>\n",
       "      <td>1.015543e+08</td>\n",
       "      <td>236701.0</td>\n",
       "      <td>三九感冒灵</td>\n",
       "      <td>8.0</td>\n",
       "      <td>224.0</td>\n",
       "      <td>208.00</td>\n",
       "    </tr>\n",
       "  </tbody>\n",
       "</table>\n",
       "</div>"
      ],
      "text/plain": [
       "             购药时间          社保卡号      商品编码     商品名称  销售数量   应收金额    实收金额\n",
       "0  2018-01-01 星期五  1.616528e+06  236701.0  强力VC银翘片   6.0   82.8   69.00\n",
       "1  2018-01-02 星期六  1.616528e+06  236701.0  清热解毒口服液   1.0   28.0   24.64\n",
       "2  2018-01-06 星期三  1.260283e+07  236701.0       感康   2.0   16.8   15.00\n",
       "3  2018-01-11 星期一  1.007034e+10  236701.0    三九感冒灵   1.0   28.0   28.00\n",
       "4  2018-01-15 星期五  1.015543e+08  236701.0    三九感冒灵   8.0  224.0  208.00"
      ]
     },
     "execution_count": 2,
     "metadata": {},
     "output_type": "execute_result"
    }
   ],
   "source": [
    "df = pd.read_excel('朝阳医院2018年销售数据.xlsx')\n",
    "df.head()"
   ]
  },
  {
   "cell_type": "code",
   "execution_count": 7,
   "metadata": {},
   "outputs": [],
   "source": [
    "df['购药日期'] = df['购药时间'].str.split(' ').str.get(0)"
   ]
  },
  {
   "cell_type": "code",
   "execution_count": 8,
   "metadata": {},
   "outputs": [],
   "source": [
    "df = df[df['购药日期']!='2018-02-29']"
   ]
  },
  {
   "cell_type": "code",
   "execution_count": 9,
   "metadata": {},
   "outputs": [],
   "source": [
    "df['购药日期'] = pd.to_datetime(df['购药时间'].str.split(' ').str.get(0), format='%Y-%m-%d')"
   ]
  },
  {
   "cell_type": "code",
   "execution_count": 10,
   "metadata": {},
   "outputs": [],
   "source": [
    "df.set_index('购药日期', inplace=True)"
   ]
  },
  {
   "cell_type": "code",
   "execution_count": 11,
   "metadata": {},
   "outputs": [
    {
     "data": {
      "text/html": [
       "<div>\n",
       "<style scoped>\n",
       "    .dataframe tbody tr th:only-of-type {\n",
       "        vertical-align: middle;\n",
       "    }\n",
       "\n",
       "    .dataframe tbody tr th {\n",
       "        vertical-align: top;\n",
       "    }\n",
       "\n",
       "    .dataframe thead th {\n",
       "        text-align: right;\n",
       "    }\n",
       "</style>\n",
       "<table border=\"1\" class=\"dataframe\">\n",
       "  <thead>\n",
       "    <tr style=\"text-align: right;\">\n",
       "      <th></th>\n",
       "      <th>购药时间</th>\n",
       "      <th>社保卡号</th>\n",
       "      <th>商品编码</th>\n",
       "      <th>商品名称</th>\n",
       "      <th>销售数量</th>\n",
       "      <th>应收金额</th>\n",
       "      <th>实收金额</th>\n",
       "    </tr>\n",
       "    <tr>\n",
       "      <th>购药日期</th>\n",
       "      <th></th>\n",
       "      <th></th>\n",
       "      <th></th>\n",
       "      <th></th>\n",
       "      <th></th>\n",
       "      <th></th>\n",
       "      <th></th>\n",
       "    </tr>\n",
       "  </thead>\n",
       "  <tbody>\n",
       "    <tr>\n",
       "      <th>2018-01-01</th>\n",
       "      <td>2018-01-01 星期五</td>\n",
       "      <td>1.616528e+06</td>\n",
       "      <td>236701.0</td>\n",
       "      <td>强力VC银翘片</td>\n",
       "      <td>6.0</td>\n",
       "      <td>82.8</td>\n",
       "      <td>69.00</td>\n",
       "    </tr>\n",
       "    <tr>\n",
       "      <th>2018-01-02</th>\n",
       "      <td>2018-01-02 星期六</td>\n",
       "      <td>1.616528e+06</td>\n",
       "      <td>236701.0</td>\n",
       "      <td>清热解毒口服液</td>\n",
       "      <td>1.0</td>\n",
       "      <td>28.0</td>\n",
       "      <td>24.64</td>\n",
       "    </tr>\n",
       "    <tr>\n",
       "      <th>2018-01-06</th>\n",
       "      <td>2018-01-06 星期三</td>\n",
       "      <td>1.260283e+07</td>\n",
       "      <td>236701.0</td>\n",
       "      <td>感康</td>\n",
       "      <td>2.0</td>\n",
       "      <td>16.8</td>\n",
       "      <td>15.00</td>\n",
       "    </tr>\n",
       "    <tr>\n",
       "      <th>2018-01-11</th>\n",
       "      <td>2018-01-11 星期一</td>\n",
       "      <td>1.007034e+10</td>\n",
       "      <td>236701.0</td>\n",
       "      <td>三九感冒灵</td>\n",
       "      <td>1.0</td>\n",
       "      <td>28.0</td>\n",
       "      <td>28.00</td>\n",
       "    </tr>\n",
       "    <tr>\n",
       "      <th>2018-01-15</th>\n",
       "      <td>2018-01-15 星期五</td>\n",
       "      <td>1.015543e+08</td>\n",
       "      <td>236701.0</td>\n",
       "      <td>三九感冒灵</td>\n",
       "      <td>8.0</td>\n",
       "      <td>224.0</td>\n",
       "      <td>208.00</td>\n",
       "    </tr>\n",
       "  </tbody>\n",
       "</table>\n",
       "</div>"
      ],
      "text/plain": [
       "                      购药时间          社保卡号      商品编码     商品名称  销售数量   应收金额  \\\n",
       "购药日期                                                                       \n",
       "2018-01-01  2018-01-01 星期五  1.616528e+06  236701.0  强力VC银翘片   6.0   82.8   \n",
       "2018-01-02  2018-01-02 星期六  1.616528e+06  236701.0  清热解毒口服液   1.0   28.0   \n",
       "2018-01-06  2018-01-06 星期三  1.260283e+07  236701.0       感康   2.0   16.8   \n",
       "2018-01-11  2018-01-11 星期一  1.007034e+10  236701.0    三九感冒灵   1.0   28.0   \n",
       "2018-01-15  2018-01-15 星期五  1.015543e+08  236701.0    三九感冒灵   8.0  224.0   \n",
       "\n",
       "              实收金额  \n",
       "购药日期                \n",
       "2018-01-01   69.00  \n",
       "2018-01-02   24.64  \n",
       "2018-01-06   15.00  \n",
       "2018-01-11   28.00  \n",
       "2018-01-15  208.00  "
      ]
     },
     "execution_count": 11,
     "metadata": {},
     "output_type": "execute_result"
    }
   ],
   "source": [
    "df.head()"
   ]
  },
  {
   "cell_type": "code",
   "execution_count": 12,
   "metadata": {},
   "outputs": [
    {
     "data": {
      "text/html": [
       "<div>\n",
       "<style scoped>\n",
       "    .dataframe tbody tr th:only-of-type {\n",
       "        vertical-align: middle;\n",
       "    }\n",
       "\n",
       "    .dataframe tbody tr th {\n",
       "        vertical-align: top;\n",
       "    }\n",
       "\n",
       "    .dataframe thead th {\n",
       "        text-align: right;\n",
       "    }\n",
       "</style>\n",
       "<table border=\"1\" class=\"dataframe\">\n",
       "  <thead>\n",
       "    <tr style=\"text-align: right;\">\n",
       "      <th></th>\n",
       "      <th>销售数量</th>\n",
       "      <th>应收金额</th>\n",
       "    </tr>\n",
       "    <tr>\n",
       "      <th>购药日期</th>\n",
       "      <th></th>\n",
       "      <th></th>\n",
       "    </tr>\n",
       "  </thead>\n",
       "  <tbody>\n",
       "    <tr>\n",
       "      <th>2018-01-31</th>\n",
       "      <td>2518.0</td>\n",
       "      <td>53295.0</td>\n",
       "    </tr>\n",
       "    <tr>\n",
       "      <th>2018-02-28</th>\n",
       "      <td>1850.0</td>\n",
       "      <td>41907.7</td>\n",
       "    </tr>\n",
       "    <tr>\n",
       "      <th>2018-03-31</th>\n",
       "      <td>2224.0</td>\n",
       "      <td>45311.0</td>\n",
       "    </tr>\n",
       "    <tr>\n",
       "      <th>2018-04-30</th>\n",
       "      <td>3009.0</td>\n",
       "      <td>54249.5</td>\n",
       "    </tr>\n",
       "    <tr>\n",
       "      <th>2018-05-31</th>\n",
       "      <td>2214.0</td>\n",
       "      <td>50875.6</td>\n",
       "    </tr>\n",
       "  </tbody>\n",
       "</table>\n",
       "</div>"
      ],
      "text/plain": [
       "              销售数量     应收金额\n",
       "购药日期                       \n",
       "2018-01-31  2518.0  53295.0\n",
       "2018-02-28  1850.0  41907.7\n",
       "2018-03-31  2224.0  45311.0\n",
       "2018-04-30  3009.0  54249.5\n",
       "2018-05-31  2214.0  50875.6"
      ]
     },
     "execution_count": 12,
     "metadata": {},
     "output_type": "execute_result"
    }
   ],
   "source": [
    "df_month = df[['销售数量','应收金额']].resample(rule='1M').sum()\n",
    "df_month.head()"
   ]
  },
  {
   "cell_type": "code",
   "execution_count": 13,
   "metadata": {},
   "outputs": [
    {
     "name": "stderr",
     "output_type": "stream",
     "text": [
      "/Users/luoyonggui/anaconda3/lib/python3.7/site-packages/pandas/plotting/_converter.py:129: FutureWarning: Using an implicitly registered datetime converter for a matplotlib plotting method. The converter was registered by pandas on import. Future versions of pandas will require you to explicitly register matplotlib converters.\n",
      "\n",
      "To register the converters:\n",
      "\t>>> from pandas.plotting import register_matplotlib_converters\n",
      "\t>>> register_matplotlib_converters()\n",
      "  warnings.warn(msg, FutureWarning)\n"
     ]
    },
    {
     "data": {
      "image/png": "[encoded data removed]",
      "text/plain": [
       "<Figure size 432x288 with 2 Axes>"
      ]
     },
     "metadata": {
      "needs_background": "light"
     },
     "output_type": "display_data"
    }
   ],
   "source": [
    "fig, ax1 = plt.subplots() #创建画图对象\n",
    "ax1.plot(df_month.index,df_month['销售数量'],c='b',ls='--',label='销售数量')\n",
    "ax1.legend(loc='upper right')\n",
    "ax1.set_xlabel('月份',fontsize=10)\n",
    "ax1.set_ylabel('销售数量',color='b')\n",
    "ax1.tick_params('y',colors='b') #使坐标轴的和线条相匹配\n",
    "ax2 = ax1.twinx() #使用子坐标\n",
    "ax2.plot(df_month.index,df_month['应收金额'],c='r',ls=':',label='应收金额')\n",
    "ax2.legend(loc='upper left')\n",
    "ax2.set_xlabel('日期',fontsize=10)\n",
    "ax2.set_ylabel('应收金额',color='r')\n",
    "ax2.tick_params('y',colors='r') #使坐标轴的和线条相匹配\n",
    "plt.show()"
   ]
  },
  {
   "cell_type": "markdown",
   "metadata": {},
   "source": [
    "## Q2 利用本周所学的相关知识，将朝阳医院不同商品的销售数量进行汇总，然后展示出来。\n"
   ]
  },
  {
   "cell_type": "markdown",
   "metadata": {},
   "source": [
    "**抱歉, 看起来 ggplot(又称ggpy)是一个官方不再维护的项目了, github上的最近一次提交还是三年前.** "
   ]
  },
  {
   "cell_type": "code",
   "execution_count": 15,
   "metadata": {},
   "outputs": [
    {
     "data": {
      "text/plain": [
       "商品名称\n",
       "**盐酸阿罗洛尔片(阿尔马尔)    101.0\n",
       "**阿替洛尔片             17.0\n",
       "D厄贝沙坦氢氯噻嗪片(倍悦)       2.0\n",
       "D替格瑞洛片              10.0\n",
       "D盐酸贝尼地平片            33.0\n",
       "Name: 销售数量, dtype: float64"
      ]
     },
     "execution_count": 15,
     "metadata": {},
     "output_type": "execute_result"
    }
   ],
   "source": [
    "s1 = df.groupby('商品名称')['销售数量'].sum()\n",
    "s1[:5]"
   ]
  },
  {
   "cell_type": "code",
   "execution_count": 16,
   "metadata": {},
   "outputs": [
    {
     "data": {
      "text/plain": [
       "<matplotlib.axes._subplots.AxesSubplot at 0x11b3017b8>"
      ]
     },
     "execution_count": 16,
     "metadata": {},
     "output_type": "execute_result"
    },
    {
     "data": {
      "image/png": "[encoded data removed]",
      "text/plain": [
       "<Figure size 432x288 with 1 Axes>"
      ]
     },
     "metadata": {
      "needs_background": "light"
     },
     "output_type": "display_data"
    }
   ],
   "source": [
    "s1.plot(kind='barh')"
   ]
  },
  {
   "cell_type": "markdown",
   "metadata": {},
   "source": [
    "## Q3 利用本周所学的相关知识，在creditcard_exp中，绘制不同edu_class下的 avg_exp和Income的关系图。"
   ]
  },
  {
   "cell_type": "code",
   "execution_count": 17,
   "metadata": {},
   "outputs": [
    {
     "data": {
      "text/html": [
       "<div>\n",
       "<style scoped>\n",
       "    .dataframe tbody tr th:only-of-type {\n",
       "        vertical-align: middle;\n",
       "    }\n",
       "\n",
       "    .dataframe tbody tr th {\n",
       "        vertical-align: top;\n",
       "    }\n",
       "\n",
       "    .dataframe thead th {\n",
       "        text-align: right;\n",
       "    }\n",
       "</style>\n",
       "<table border=\"1\" class=\"dataframe\">\n",
       "  <thead>\n",
       "    <tr style=\"text-align: right;\">\n",
       "      <th></th>\n",
       "      <th>id</th>\n",
       "      <th>Acc</th>\n",
       "      <th>avg_exp</th>\n",
       "      <th>avg_exp_ln</th>\n",
       "      <th>gender</th>\n",
       "      <th>Age</th>\n",
       "      <th>Income</th>\n",
       "      <th>Ownrent</th>\n",
       "      <th>Selfempl</th>\n",
       "      <th>dist_home_val</th>\n",
       "      <th>dist_avg_income</th>\n",
       "      <th>age2</th>\n",
       "      <th>high_avg</th>\n",
       "      <th>edu_class</th>\n",
       "    </tr>\n",
       "  </thead>\n",
       "  <tbody>\n",
       "    <tr>\n",
       "      <th>0</th>\n",
       "      <td>19</td>\n",
       "      <td>1</td>\n",
       "      <td>1217.03</td>\n",
       "      <td>7.104168743</td>\n",
       "      <td>1</td>\n",
       "      <td>40</td>\n",
       "      <td>16.03515</td>\n",
       "      <td>1</td>\n",
       "      <td>1</td>\n",
       "      <td>99.93</td>\n",
       "      <td>15.932789</td>\n",
       "      <td>1600</td>\n",
       "      <td>0.102361</td>\n",
       "      <td>3</td>\n",
       "    </tr>\n",
       "    <tr>\n",
       "      <th>1</th>\n",
       "      <td>5</td>\n",
       "      <td>1</td>\n",
       "      <td>1251.5</td>\n",
       "      <td>7.132098111</td>\n",
       "      <td>1</td>\n",
       "      <td>32</td>\n",
       "      <td>15.84750</td>\n",
       "      <td>1</td>\n",
       "      <td>0</td>\n",
       "      <td>49.88</td>\n",
       "      <td>15.796316</td>\n",
       "      <td>1024</td>\n",
       "      <td>0.051184</td>\n",
       "      <td>2</td>\n",
       "    </tr>\n",
       "  </tbody>\n",
       "</table>\n",
       "</div>"
      ],
      "text/plain": [
       "   id  Acc  avg_exp   avg_exp_ln  gender  Age    Income  Ownrent  Selfempl  \\\n",
       "0  19    1  1217.03  7.104168743       1   40  16.03515        1         1   \n",
       "1   5    1   1251.5  7.132098111       1   32  15.84750        1         0   \n",
       "\n",
       "   dist_home_val  dist_avg_income  age2  high_avg  edu_class  \n",
       "0          99.93        15.932789  1600  0.102361          3  \n",
       "1          49.88        15.796316  1024  0.051184          2  "
      ]
     },
     "execution_count": 17,
     "metadata": {},
     "output_type": "execute_result"
    }
   ],
   "source": [
    "df = pd.read_csv('creditcard_exp.csv')\n",
    "df.head(2)"
   ]
  },
  {
   "cell_type": "code",
   "execution_count": 20,
   "metadata": {},
   "outputs": [
    {
     "data": {
      "text/plain": [
       "array([3, 2, 1, 0])"
      ]
     },
     "execution_count": 20,
     "metadata": {},
     "output_type": "execute_result"
    }
   ],
   "source": [
    "df['edu_class'].unique()"
   ]
  },
  {
   "cell_type": "code",
   "execution_count": 26,
   "metadata": {},
   "outputs": [
    {
     "data": {
      "image/png": "[encoded data removed]",
      "text/plain": [
       "<Figure size 432x288 with 4 Axes>"
      ]
     },
     "metadata": {
      "needs_background": "light"
     },
     "output_type": "display_data"
    }
   ],
   "source": [
    "fig,ax = plt.subplots(2,2) #可以取'none','row','col','all'\n",
    "ax1 = plt.subplot(221)\n",
    "ax1.scatter(df.loc[df['edu_class']==0, 'avg_exp'], df.loc[df['edu_class']==0, 'Income'])\n",
    "ax2= plt.subplot(222)\n",
    "ax2.scatter(df.loc[df['edu_class']==1, 'avg_exp'], df.loc[df['edu_class']==1, 'Income'])\n",
    "ax3 = plt.subplot(223)\n",
    "ax3.scatter(df.loc[df['edu_class']==2, 'avg_exp'], df.loc[df['edu_class']==2, 'Income'])\n",
    "ax4 =plt.subplot(224,sharex=ax1) #改sharey试试效果\n",
    "ax4.scatter(df.loc[df['edu_class']==3, 'avg_exp'], df.loc[df['edu_class']==3, 'Income'])\n",
    "plt.autoscale(enable=True,axis='both',tight=True) #调整坐标轴范围\n",
    "plt.show()"
   ]
  }
 ],
 "metadata": {
  "kernelspec": {
   "display_name": "Python 3",
   "language": "python",
   "name": "python3"
  },
  "language_info": {
   "codemirror_mode": {
    "name": "ipython",
    "version": 3
   },
   "file_extension": ".py",
   "mimetype": "text/x-python",
   "name": "python",
   "nbconvert_exporter": "python",
   "pygments_lexer": "ipython3",
   "version": "3.7.3"
  },
  "toc": {
   "base_numbering": 1,
   "nav_menu": {},
   "number_sections": true,
   "sideBar": true,
   "skip_h1_title": false,
   "title_cell": "Table of Contents",
   "title_sidebar": "Contents",
   "toc_cell": false,
   "toc_position": {},
   "toc_section_display": true,
   "toc_window_display": false
  }
 },
 "nbformat": 4,
 "nbformat_minor": 2
}
