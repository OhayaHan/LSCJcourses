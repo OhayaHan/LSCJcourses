{
 "cells": [
  {
   "cell_type": "markdown",
   "metadata": {},
   "source": [
    "利用本周所学知识，绘制以下图形:\n",
    "# Q1 在taobao_data 中，绘制不同省份的成交价格和数量(总数和均值\n"
   ]
  },
  {
   "cell_type": "code",
   "execution_count": 4,
   "metadata": {},
   "outputs": [],
   "source": [
    "import pandas as pd\n",
    "import numpy as np\n",
    "import matplotlib.pyplot as plt\n",
    "# 支持中文显示\n",
    "plt.rcParams['font.sans-serif'] = ['STFangsong']\n",
    "plt.rcParams['axes.unicode_minus'] = False\n",
    "import os\n",
    "import seaborn as sns"
   ]
  },
  {
   "cell_type": "code",
   "execution_count": 3,
   "metadata": {},
   "outputs": [
    {
     "data": {
      "text/html": [
       "<div>\n",
       "<style scoped>\n",
       "    .dataframe tbody tr th:only-of-type {\n",
       "        vertical-align: middle;\n",
       "    }\n",
       "\n",
       "    .dataframe tbody tr th {\n",
       "        vertical-align: top;\n",
       "    }\n",
       "\n",
       "    .dataframe thead th {\n",
       "        text-align: right;\n",
       "    }\n",
       "</style>\n",
       "<table border=\"1\" class=\"dataframe\">\n",
       "  <thead>\n",
       "    <tr style=\"text-align: right;\">\n",
       "      <th></th>\n",
       "      <th>宝贝</th>\n",
       "      <th>价格</th>\n",
       "      <th>成交量</th>\n",
       "      <th>卖家</th>\n",
       "      <th>位置</th>\n",
       "    </tr>\n",
       "  </thead>\n",
       "  <tbody>\n",
       "    <tr>\n",
       "      <th>0</th>\n",
       "      <td>新款中老年女装春装雪纺打底衫妈妈装夏装中袖宽松上衣中年人t恤</td>\n",
       "      <td>99.0</td>\n",
       "      <td>16647</td>\n",
       "      <td>夏奈凤凰旗舰店</td>\n",
       "      <td>江苏</td>\n",
       "    </tr>\n",
       "    <tr>\n",
       "      <th>1</th>\n",
       "      <td>中老年女装清凉两件套妈妈装夏装大码短袖T恤上衣雪纺衫裙裤套装</td>\n",
       "      <td>286.0</td>\n",
       "      <td>14045</td>\n",
       "      <td>夏洛特的文艺</td>\n",
       "      <td>上海</td>\n",
       "    </tr>\n",
       "    <tr>\n",
       "      <th>2</th>\n",
       "      <td>母亲节衣服夏季妈妈装夏装套装短袖中年人40-50岁中老年女装T恤</td>\n",
       "      <td>298.0</td>\n",
       "      <td>13458</td>\n",
       "      <td>云新旗舰店</td>\n",
       "      <td>江苏</td>\n",
       "    </tr>\n",
       "    <tr>\n",
       "      <th>3</th>\n",
       "      <td>母亲节衣服中老年人春装女40岁50中年妈妈装套装夏装奶奶装两件套</td>\n",
       "      <td>279.0</td>\n",
       "      <td>13340</td>\n",
       "      <td>韶妃旗舰店</td>\n",
       "      <td>浙江</td>\n",
       "    </tr>\n",
       "    <tr>\n",
       "      <th>4</th>\n",
       "      <td>中老年女装春夏装裤大码 中年妇女40-50岁妈妈装夏装套装七分裤</td>\n",
       "      <td>59.0</td>\n",
       "      <td>12939</td>\n",
       "      <td>千百奈旗舰店</td>\n",
       "      <td>江苏</td>\n",
       "    </tr>\n",
       "  </tbody>\n",
       "</table>\n",
       "</div>"
      ],
      "text/plain": [
       "                                 宝贝     价格    成交量       卖家  位置\n",
       "0    新款中老年女装春装雪纺打底衫妈妈装夏装中袖宽松上衣中年人t恤   99.0  16647  夏奈凤凰旗舰店  江苏\n",
       "1    中老年女装清凉两件套妈妈装夏装大码短袖T恤上衣雪纺衫裙裤套装  286.0  14045   夏洛特的文艺  上海\n",
       "2  母亲节衣服夏季妈妈装夏装套装短袖中年人40-50岁中老年女装T恤  298.0  13458    云新旗舰店  江苏\n",
       "3  母亲节衣服中老年人春装女40岁50中年妈妈装套装夏装奶奶装两件套  279.0  13340    韶妃旗舰店  浙江\n",
       "4  中老年女装春夏装裤大码 中年妇女40-50岁妈妈装夏装套装七分裤   59.0  12939   千百奈旗舰店  江苏"
      ]
     },
     "execution_count": 3,
     "metadata": {},
     "output_type": "execute_result"
    }
   ],
   "source": [
    "df = pd.read_csv('taobao_data.csv')\n",
    "df.head()"
   ]
  },
  {
   "cell_type": "code",
   "execution_count": 5,
   "metadata": {},
   "outputs": [],
   "source": [
    "dfg = df.groupby('位置')"
   ]
  },
  {
   "cell_type": "code",
   "execution_count": 8,
   "metadata": {},
   "outputs": [],
   "source": [
    "gg = dfg[['价格', '成交量']].agg(['sum', 'mean'])"
   ]
  },
  {
   "cell_type": "code",
   "execution_count": 9,
   "metadata": {},
   "outputs": [
    {
     "data": {
      "text/html": [
       "<div>\n",
       "<style scoped>\n",
       "    .dataframe tbody tr th:only-of-type {\n",
       "        vertical-align: middle;\n",
       "    }\n",
       "\n",
       "    .dataframe tbody tr th {\n",
       "        vertical-align: top;\n",
       "    }\n",
       "\n",
       "    .dataframe thead tr th {\n",
       "        text-align: left;\n",
       "    }\n",
       "\n",
       "    .dataframe thead tr:last-of-type th {\n",
       "        text-align: right;\n",
       "    }\n",
       "</style>\n",
       "<table border=\"1\" class=\"dataframe\">\n",
       "  <thead>\n",
       "    <tr>\n",
       "      <th></th>\n",
       "      <th colspan=\"2\" halign=\"left\">价格</th>\n",
       "      <th colspan=\"2\" halign=\"left\">成交量</th>\n",
       "    </tr>\n",
       "    <tr>\n",
       "      <th></th>\n",
       "      <th>sum</th>\n",
       "      <th>mean</th>\n",
       "      <th>sum</th>\n",
       "      <th>mean</th>\n",
       "    </tr>\n",
       "    <tr>\n",
       "      <th>位置</th>\n",
       "      <th></th>\n",
       "      <th></th>\n",
       "      <th></th>\n",
       "      <th></th>\n",
       "    </tr>\n",
       "  </thead>\n",
       "  <tbody>\n",
       "    <tr>\n",
       "      <th>上海</th>\n",
       "      <td>1612.0</td>\n",
       "      <td>161.200000</td>\n",
       "      <td>68015</td>\n",
       "      <td>6801.500000</td>\n",
       "    </tr>\n",
       "    <tr>\n",
       "      <th>北京</th>\n",
       "      <td>900.0</td>\n",
       "      <td>150.000000</td>\n",
       "      <td>27116</td>\n",
       "      <td>4519.333333</td>\n",
       "    </tr>\n",
       "    <tr>\n",
       "      <th>广东</th>\n",
       "      <td>326.0</td>\n",
       "      <td>326.000000</td>\n",
       "      <td>5164</td>\n",
       "      <td>5164.000000</td>\n",
       "    </tr>\n",
       "    <tr>\n",
       "      <th>江苏</th>\n",
       "      <td>9838.9</td>\n",
       "      <td>223.611364</td>\n",
       "      <td>309360</td>\n",
       "      <td>7030.909091</td>\n",
       "    </tr>\n",
       "    <tr>\n",
       "      <th>河北</th>\n",
       "      <td>456.0</td>\n",
       "      <td>152.000000</td>\n",
       "      <td>18152</td>\n",
       "      <td>6050.666667</td>\n",
       "    </tr>\n",
       "    <tr>\n",
       "      <th>河南</th>\n",
       "      <td>119.0</td>\n",
       "      <td>119.000000</td>\n",
       "      <td>5986</td>\n",
       "      <td>5986.000000</td>\n",
       "    </tr>\n",
       "    <tr>\n",
       "      <th>浙江</th>\n",
       "      <td>8132.0</td>\n",
       "      <td>290.428571</td>\n",
       "      <td>161826</td>\n",
       "      <td>5779.500000</td>\n",
       "    </tr>\n",
       "    <tr>\n",
       "      <th>湖北</th>\n",
       "      <td>1783.0</td>\n",
       "      <td>254.714286</td>\n",
       "      <td>43274</td>\n",
       "      <td>6182.000000</td>\n",
       "    </tr>\n",
       "  </tbody>\n",
       "</table>\n",
       "</div>"
      ],
      "text/plain": [
       "        价格                 成交量             \n",
       "       sum        mean     sum         mean\n",
       "位置                                         \n",
       "上海  1612.0  161.200000   68015  6801.500000\n",
       "北京   900.0  150.000000   27116  4519.333333\n",
       "广东   326.0  326.000000    5164  5164.000000\n",
       "江苏  9838.9  223.611364  309360  7030.909091\n",
       "河北   456.0  152.000000   18152  6050.666667\n",
       "河南   119.0  119.000000    5986  5986.000000\n",
       "浙江  8132.0  290.428571  161826  5779.500000\n",
       "湖北  1783.0  254.714286   43274  6182.000000"
      ]
     },
     "execution_count": 9,
     "metadata": {},
     "output_type": "execute_result"
    }
   ],
   "source": [
    "gg"
   ]
  },
  {
   "cell_type": "code",
   "execution_count": 17,
   "metadata": {},
   "outputs": [],
   "source": [
    "gg['位置'] = gg.index"
   ]
  },
  {
   "cell_type": "code",
   "execution_count": 10,
   "metadata": {},
   "outputs": [
    {
     "data": {
      "text/plain": [
       "MultiIndex(levels=[['价格', '成交量'], ['sum', 'mean']],\n",
       "           codes=[[0, 0, 1, 1], [0, 1, 0, 1]])"
      ]
     },
     "execution_count": 10,
     "metadata": {},
     "output_type": "execute_result"
    }
   ],
   "source": [
    "gg.columns"
   ]
  },
  {
   "cell_type": "code",
   "execution_count": 11,
   "metadata": {},
   "outputs": [
    {
     "data": {
      "text/plain": [
       "位置\n",
       "上海    1612.0\n",
       "北京     900.0\n",
       "广东     326.0\n",
       "江苏    9838.9\n",
       "河北     456.0\n",
       "河南     119.0\n",
       "浙江    8132.0\n",
       "湖北    1783.0\n",
       "Name: (价格, sum), dtype: float64"
      ]
     },
     "execution_count": 11,
     "metadata": {},
     "output_type": "execute_result"
    }
   ],
   "source": [
    "gg[('价格', 'sum')]"
   ]
  },
  {
   "cell_type": "code",
   "execution_count": 18,
   "metadata": {},
   "outputs": [
    {
     "data": {
      "text/plain": [
       "<seaborn.axisgrid.FacetGrid at 0x120540588>"
      ]
     },
     "execution_count": 18,
     "metadata": {},
     "output_type": "execute_result"
    },
    {
     "data": {
      "image/png": "[encoded data removed]",
      "text/plain": [
       "<Figure size 360x360 with 1 Axes>"
      ]
     },
     "metadata": {
      "needs_background": "light"
     },
     "output_type": "display_data"
    }
   ],
   "source": [
    "sns.catplot('位置', ('价格', 'sum'), kind='bar', data=gg)"
   ]
  },
  {
   "cell_type": "code",
   "execution_count": 19,
   "metadata": {},
   "outputs": [
    {
     "data": {
      "text/plain": [
       "<seaborn.axisgrid.FacetGrid at 0x120618710>"
      ]
     },
     "execution_count": 19,
     "metadata": {},
     "output_type": "execute_result"
    },
    {
     "data": {
      "image/png": "[encoded data removed]",
      "text/plain": [
       "<Figure size 360x360 with 1 Axes>"
      ]
     },
     "metadata": {
      "needs_background": "light"
     },
     "output_type": "display_data"
    }
   ],
   "source": [
    "sns.catplot('位置', ('成交量', 'sum'), kind='bar', data=gg)"
   ]
  },
  {
   "cell_type": "code",
   "execution_count": 21,
   "metadata": {},
   "outputs": [
    {
     "data": {
      "text/plain": [
       "<seaborn.axisgrid.FacetGrid at 0x11cb44c18>"
      ]
     },
     "execution_count": 21,
     "metadata": {},
     "output_type": "execute_result"
    },
    {
     "data": {
      "image/png": "[encoded data removed]",
      "text/plain": [
       "<Figure size 360x360 with 1 Axes>"
      ]
     },
     "metadata": {
      "needs_background": "light"
     },
     "output_type": "display_data"
    }
   ],
   "source": [
    "sns.catplot('位置', ('价格', 'mean'), kind='bar', data=gg)"
   ]
  },
  {
   "cell_type": "code",
   "execution_count": 20,
   "metadata": {},
   "outputs": [
    {
     "data": {
      "text/plain": [
       "<seaborn.axisgrid.FacetGrid at 0x120262e80>"
      ]
     },
     "execution_count": 20,
     "metadata": {},
     "output_type": "execute_result"
    },
    {
     "data": {
      "image/png": "[encoded data removed]",
      "text/plain": [
       "<Figure size 360x360 with 1 Axes>"
      ]
     },
     "metadata": {
      "needs_background": "light"
     },
     "output_type": "display_data"
    }
   ],
   "source": [
    "sns.catplot('位置', ('成交量', 'mean'), kind='bar', data=gg)"
   ]
  },
  {
   "cell_type": "markdown",
   "metadata": {},
   "source": [
    "# Q2 在朝阳医院数据，绘制销售数量和应收金额的关系。在不同的月份，绘制销售数量和应收金额的关系"
   ]
  },
  {
   "cell_type": "code",
   "execution_count": 22,
   "metadata": {},
   "outputs": [
    {
     "data": {
      "text/html": [
       "<div>\n",
       "<style scoped>\n",
       "    .dataframe tbody tr th:only-of-type {\n",
       "        vertical-align: middle;\n",
       "    }\n",
       "\n",
       "    .dataframe tbody tr th {\n",
       "        vertical-align: top;\n",
       "    }\n",
       "\n",
       "    .dataframe thead th {\n",
       "        text-align: right;\n",
       "    }\n",
       "</style>\n",
       "<table border=\"1\" class=\"dataframe\">\n",
       "  <thead>\n",
       "    <tr style=\"text-align: right;\">\n",
       "      <th></th>\n",
       "      <th>购药时间</th>\n",
       "      <th>社保卡号</th>\n",
       "      <th>商品编码</th>\n",
       "      <th>商品名称</th>\n",
       "      <th>销售数量</th>\n",
       "      <th>应收金额</th>\n",
       "      <th>实收金额</th>\n",
       "    </tr>\n",
       "  </thead>\n",
       "  <tbody>\n",
       "    <tr>\n",
       "      <th>0</th>\n",
       "      <td>2018-01-01 星期五</td>\n",
       "      <td>1.616528e+06</td>\n",
       "      <td>236701.0</td>\n",
       "      <td>强力VC银翘片</td>\n",
       "      <td>6.0</td>\n",
       "      <td>82.8</td>\n",
       "      <td>69.00</td>\n",
       "    </tr>\n",
       "    <tr>\n",
       "      <th>1</th>\n",
       "      <td>2018-01-02 星期六</td>\n",
       "      <td>1.616528e+06</td>\n",
       "      <td>236701.0</td>\n",
       "      <td>清热解毒口服液</td>\n",
       "      <td>1.0</td>\n",
       "      <td>28.0</td>\n",
       "      <td>24.64</td>\n",
       "    </tr>\n",
       "    <tr>\n",
       "      <th>2</th>\n",
       "      <td>2018-01-06 星期三</td>\n",
       "      <td>1.260283e+07</td>\n",
       "      <td>236701.0</td>\n",
       "      <td>感康</td>\n",
       "      <td>2.0</td>\n",
       "      <td>16.8</td>\n",
       "      <td>15.00</td>\n",
       "    </tr>\n",
       "    <tr>\n",
       "      <th>3</th>\n",
       "      <td>2018-01-11 星期一</td>\n",
       "      <td>1.007034e+10</td>\n",
       "      <td>236701.0</td>\n",
       "      <td>三九感冒灵</td>\n",
       "      <td>1.0</td>\n",
       "      <td>28.0</td>\n",
       "      <td>28.00</td>\n",
       "    </tr>\n",
       "    <tr>\n",
       "      <th>4</th>\n",
       "      <td>2018-01-15 星期五</td>\n",
       "      <td>1.015543e+08</td>\n",
       "      <td>236701.0</td>\n",
       "      <td>三九感冒灵</td>\n",
       "      <td>8.0</td>\n",
       "      <td>224.0</td>\n",
       "      <td>208.00</td>\n",
       "    </tr>\n",
       "  </tbody>\n",
       "</table>\n",
       "</div>"
      ],
      "text/plain": [
       "             购药时间          社保卡号      商品编码     商品名称  销售数量   应收金额    实收金额\n",
       "0  2018-01-01 星期五  1.616528e+06  236701.0  强力VC银翘片   6.0   82.8   69.00\n",
       "1  2018-01-02 星期六  1.616528e+06  236701.0  清热解毒口服液   1.0   28.0   24.64\n",
       "2  2018-01-06 星期三  1.260283e+07  236701.0       感康   2.0   16.8   15.00\n",
       "3  2018-01-11 星期一  1.007034e+10  236701.0    三九感冒灵   1.0   28.0   28.00\n",
       "4  2018-01-15 星期五  1.015543e+08  236701.0    三九感冒灵   8.0  224.0  208.00"
      ]
     },
     "execution_count": 22,
     "metadata": {},
     "output_type": "execute_result"
    }
   ],
   "source": [
    "df = pd.read_excel('朝阳医院2018年销售数据.xlsx')\n",
    "df.head()"
   ]
  },
  {
   "cell_type": "code",
   "execution_count": 23,
   "metadata": {},
   "outputs": [
    {
     "data": {
      "text/html": [
       "<div>\n",
       "<style scoped>\n",
       "    .dataframe tbody tr th:only-of-type {\n",
       "        vertical-align: middle;\n",
       "    }\n",
       "\n",
       "    .dataframe tbody tr th {\n",
       "        vertical-align: top;\n",
       "    }\n",
       "\n",
       "    .dataframe thead th {\n",
       "        text-align: right;\n",
       "    }\n",
       "</style>\n",
       "<table border=\"1\" class=\"dataframe\">\n",
       "  <thead>\n",
       "    <tr style=\"text-align: right;\">\n",
       "      <th></th>\n",
       "      <th>购药时间</th>\n",
       "      <th>社保卡号</th>\n",
       "      <th>商品编码</th>\n",
       "      <th>商品名称</th>\n",
       "      <th>销售数量</th>\n",
       "      <th>应收金额</th>\n",
       "      <th>实收金额</th>\n",
       "    </tr>\n",
       "    <tr>\n",
       "      <th>购药日期</th>\n",
       "      <th></th>\n",
       "      <th></th>\n",
       "      <th></th>\n",
       "      <th></th>\n",
       "      <th></th>\n",
       "      <th></th>\n",
       "      <th></th>\n",
       "    </tr>\n",
       "  </thead>\n",
       "  <tbody>\n",
       "    <tr>\n",
       "      <th>2018-01-01</th>\n",
       "      <td>2018-01-01 星期五</td>\n",
       "      <td>1.616528e+06</td>\n",
       "      <td>236701.0</td>\n",
       "      <td>强力VC银翘片</td>\n",
       "      <td>6.0</td>\n",
       "      <td>82.8</td>\n",
       "      <td>69.00</td>\n",
       "    </tr>\n",
       "    <tr>\n",
       "      <th>2018-01-02</th>\n",
       "      <td>2018-01-02 星期六</td>\n",
       "      <td>1.616528e+06</td>\n",
       "      <td>236701.0</td>\n",
       "      <td>清热解毒口服液</td>\n",
       "      <td>1.0</td>\n",
       "      <td>28.0</td>\n",
       "      <td>24.64</td>\n",
       "    </tr>\n",
       "    <tr>\n",
       "      <th>2018-01-06</th>\n",
       "      <td>2018-01-06 星期三</td>\n",
       "      <td>1.260283e+07</td>\n",
       "      <td>236701.0</td>\n",
       "      <td>感康</td>\n",
       "      <td>2.0</td>\n",
       "      <td>16.8</td>\n",
       "      <td>15.00</td>\n",
       "    </tr>\n",
       "    <tr>\n",
       "      <th>2018-01-11</th>\n",
       "      <td>2018-01-11 星期一</td>\n",
       "      <td>1.007034e+10</td>\n",
       "      <td>236701.0</td>\n",
       "      <td>三九感冒灵</td>\n",
       "      <td>1.0</td>\n",
       "      <td>28.0</td>\n",
       "      <td>28.00</td>\n",
       "    </tr>\n",
       "    <tr>\n",
       "      <th>2018-01-15</th>\n",
       "      <td>2018-01-15 星期五</td>\n",
       "      <td>1.015543e+08</td>\n",
       "      <td>236701.0</td>\n",
       "      <td>三九感冒灵</td>\n",
       "      <td>8.0</td>\n",
       "      <td>224.0</td>\n",
       "      <td>208.00</td>\n",
       "    </tr>\n",
       "  </tbody>\n",
       "</table>\n",
       "</div>"
      ],
      "text/plain": [
       "                      购药时间          社保卡号      商品编码     商品名称  销售数量   应收金额  \\\n",
       "购药日期                                                                       \n",
       "2018-01-01  2018-01-01 星期五  1.616528e+06  236701.0  强力VC银翘片   6.0   82.8   \n",
       "2018-01-02  2018-01-02 星期六  1.616528e+06  236701.0  清热解毒口服液   1.0   28.0   \n",
       "2018-01-06  2018-01-06 星期三  1.260283e+07  236701.0       感康   2.0   16.8   \n",
       "2018-01-11  2018-01-11 星期一  1.007034e+10  236701.0    三九感冒灵   1.0   28.0   \n",
       "2018-01-15  2018-01-15 星期五  1.015543e+08  236701.0    三九感冒灵   8.0  224.0   \n",
       "\n",
       "              实收金额  \n",
       "购药日期                \n",
       "2018-01-01   69.00  \n",
       "2018-01-02   24.64  \n",
       "2018-01-06   15.00  \n",
       "2018-01-11   28.00  \n",
       "2018-01-15  208.00  "
      ]
     },
     "execution_count": 23,
     "metadata": {},
     "output_type": "execute_result"
    }
   ],
   "source": [
    "df['购药日期'] = df['购药时间'].str.split(' ').str.get(0)\n",
    "df = df[df['购药日期']!='2018-02-29']\n",
    "df['购药日期'] = pd.to_datetime(df['购药时间'].str.split(' ').str.get(0), format='%Y-%m-%d')\n",
    "df.set_index('购药日期', inplace=True)\n",
    "df.head()"
   ]
  },
  {
   "cell_type": "code",
   "execution_count": 33,
   "metadata": {},
   "outputs": [],
   "source": [
    "df['month'] = df.index.month"
   ]
  },
  {
   "cell_type": "code",
   "execution_count": 34,
   "metadata": {},
   "outputs": [
    {
     "data": {
      "text/html": [
       "<div>\n",
       "<style scoped>\n",
       "    .dataframe tbody tr th:only-of-type {\n",
       "        vertical-align: middle;\n",
       "    }\n",
       "\n",
       "    .dataframe tbody tr th {\n",
       "        vertical-align: top;\n",
       "    }\n",
       "\n",
       "    .dataframe thead th {\n",
       "        text-align: right;\n",
       "    }\n",
       "</style>\n",
       "<table border=\"1\" class=\"dataframe\">\n",
       "  <thead>\n",
       "    <tr style=\"text-align: right;\">\n",
       "      <th></th>\n",
       "      <th>购药时间</th>\n",
       "      <th>社保卡号</th>\n",
       "      <th>商品编码</th>\n",
       "      <th>商品名称</th>\n",
       "      <th>销售数量</th>\n",
       "      <th>应收金额</th>\n",
       "      <th>实收金额</th>\n",
       "      <th>month</th>\n",
       "    </tr>\n",
       "    <tr>\n",
       "      <th>购药日期</th>\n",
       "      <th></th>\n",
       "      <th></th>\n",
       "      <th></th>\n",
       "      <th></th>\n",
       "      <th></th>\n",
       "      <th></th>\n",
       "      <th></th>\n",
       "      <th></th>\n",
       "    </tr>\n",
       "  </thead>\n",
       "  <tbody>\n",
       "    <tr>\n",
       "      <th>2018-01-01</th>\n",
       "      <td>2018-01-01 星期五</td>\n",
       "      <td>1.616528e+06</td>\n",
       "      <td>236701.0</td>\n",
       "      <td>强力VC银翘片</td>\n",
       "      <td>6.0</td>\n",
       "      <td>82.8</td>\n",
       "      <td>69.00</td>\n",
       "      <td>1.0</td>\n",
       "    </tr>\n",
       "    <tr>\n",
       "      <th>2018-01-02</th>\n",
       "      <td>2018-01-02 星期六</td>\n",
       "      <td>1.616528e+06</td>\n",
       "      <td>236701.0</td>\n",
       "      <td>清热解毒口服液</td>\n",
       "      <td>1.0</td>\n",
       "      <td>28.0</td>\n",
       "      <td>24.64</td>\n",
       "      <td>1.0</td>\n",
       "    </tr>\n",
       "    <tr>\n",
       "      <th>2018-01-06</th>\n",
       "      <td>2018-01-06 星期三</td>\n",
       "      <td>1.260283e+07</td>\n",
       "      <td>236701.0</td>\n",
       "      <td>感康</td>\n",
       "      <td>2.0</td>\n",
       "      <td>16.8</td>\n",
       "      <td>15.00</td>\n",
       "      <td>1.0</td>\n",
       "    </tr>\n",
       "    <tr>\n",
       "      <th>2018-01-11</th>\n",
       "      <td>2018-01-11 星期一</td>\n",
       "      <td>1.007034e+10</td>\n",
       "      <td>236701.0</td>\n",
       "      <td>三九感冒灵</td>\n",
       "      <td>1.0</td>\n",
       "      <td>28.0</td>\n",
       "      <td>28.00</td>\n",
       "      <td>1.0</td>\n",
       "    </tr>\n",
       "    <tr>\n",
       "      <th>2018-01-15</th>\n",
       "      <td>2018-01-15 星期五</td>\n",
       "      <td>1.015543e+08</td>\n",
       "      <td>236701.0</td>\n",
       "      <td>三九感冒灵</td>\n",
       "      <td>8.0</td>\n",
       "      <td>224.0</td>\n",
       "      <td>208.00</td>\n",
       "      <td>1.0</td>\n",
       "    </tr>\n",
       "  </tbody>\n",
       "</table>\n",
       "</div>"
      ],
      "text/plain": [
       "                      购药时间          社保卡号      商品编码     商品名称  销售数量   应收金额  \\\n",
       "购药日期                                                                       \n",
       "2018-01-01  2018-01-01 星期五  1.616528e+06  236701.0  强力VC银翘片   6.0   82.8   \n",
       "2018-01-02  2018-01-02 星期六  1.616528e+06  236701.0  清热解毒口服液   1.0   28.0   \n",
       "2018-01-06  2018-01-06 星期三  1.260283e+07  236701.0       感康   2.0   16.8   \n",
       "2018-01-11  2018-01-11 星期一  1.007034e+10  236701.0    三九感冒灵   1.0   28.0   \n",
       "2018-01-15  2018-01-15 星期五  1.015543e+08  236701.0    三九感冒灵   8.0  224.0   \n",
       "\n",
       "              实收金额  month  \n",
       "购药日期                       \n",
       "2018-01-01   69.00    1.0  \n",
       "2018-01-02   24.64    1.0  \n",
       "2018-01-06   15.00    1.0  \n",
       "2018-01-11   28.00    1.0  \n",
       "2018-01-15  208.00    1.0  "
      ]
     },
     "execution_count": 34,
     "metadata": {},
     "output_type": "execute_result"
    }
   ],
   "source": [
    "df.head()"
   ]
  },
  {
   "cell_type": "code",
   "execution_count": 37,
   "metadata": {
    "scrolled": false
   },
   "outputs": [
    {
     "data": {
      "text/plain": [
       "<seaborn.axisgrid.FacetGrid at 0x127a63e80>"
      ]
     },
     "execution_count": 37,
     "metadata": {},
     "output_type": "execute_result"
    },
    {
     "data": {
      "image/png": "[encoded data removed]",
      "text/plain": [
       "<Figure size 360x2520 with 7 Axes>"
      ]
     },
     "metadata": {
      "needs_background": "light"
     },
     "output_type": "display_data"
    }
   ],
   "source": [
    "sns.relplot('销售数量', '应收金额', data=df, kind='line', row='month')"
   ]
  },
  {
   "cell_type": "code",
   "execution_count": null,
   "metadata": {},
   "outputs": [],
   "source": []
  }
 ],
 "metadata": {
  "kernelspec": {
   "display_name": "Python 3",
   "language": "python",
   "name": "python3"
  },
  "language_info": {
   "codemirror_mode": {
    "name": "ipython",
    "version": 3
   },
   "file_extension": ".py",
   "mimetype": "text/x-python",
   "name": "python",
   "nbconvert_exporter": "python",
   "pygments_lexer": "ipython3",
   "version": "3.7.3"
  },
  "toc": {
   "base_numbering": 1,
   "nav_menu": {},
   "number_sections": true,
   "sideBar": true,
   "skip_h1_title": false,
   "title_cell": "Table of Contents",
   "title_sidebar": "Contents",
   "toc_cell": false,
   "toc_position": {},
   "toc_section_display": true,
   "toc_window_display": false
  }
 },
 "nbformat": 4,
 "nbformat_minor": 2
}
