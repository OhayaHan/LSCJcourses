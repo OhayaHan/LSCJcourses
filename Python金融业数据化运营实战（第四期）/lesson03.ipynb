{
 "cells": [
  {
   "cell_type": "code",
   "execution_count": 1,
   "metadata": {},
   "outputs": [],
   "source": [
    "import numpy as np\n",
    "import pandas as pd\n",
    "from scipy import stats\n",
    "import os"
   ]
  },
  {
   "cell_type": "code",
   "execution_count": 2,
   "metadata": {},
   "outputs": [
    {
     "data": {
      "text/html": [
       "<div>\n",
       "<style scoped>\n",
       "    .dataframe tbody tr th:only-of-type {\n",
       "        vertical-align: middle;\n",
       "    }\n",
       "\n",
       "    .dataframe tbody tr th {\n",
       "        vertical-align: top;\n",
       "    }\n",
       "\n",
       "    .dataframe thead th {\n",
       "        text-align: right;\n",
       "    }\n",
       "</style>\n",
       "<table border=\"1\" class=\"dataframe\">\n",
       "  <thead>\n",
       "    <tr style=\"text-align: right;\">\n",
       "      <th></th>\n",
       "      <th>dis_name</th>\n",
       "      <th>rate</th>\n",
       "    </tr>\n",
       "  </thead>\n",
       "  <tbody>\n",
       "    <tr>\n",
       "      <th>0</th>\n",
       "      <td>东城区甘南小区</td>\n",
       "      <td>0.169747</td>\n",
       "    </tr>\n",
       "    <tr>\n",
       "      <th>1</th>\n",
       "      <td>东城区察慈小区</td>\n",
       "      <td>0.165484</td>\n",
       "    </tr>\n",
       "    <tr>\n",
       "      <th>2</th>\n",
       "      <td>东城区胡家园小区</td>\n",
       "      <td>0.141358</td>\n",
       "    </tr>\n",
       "    <tr>\n",
       "      <th>3</th>\n",
       "      <td>东城区台基厂小区</td>\n",
       "      <td>0.063197</td>\n",
       "    </tr>\n",
       "    <tr>\n",
       "      <th>4</th>\n",
       "      <td>东城区青年湖小区</td>\n",
       "      <td>0.101528</td>\n",
       "    </tr>\n",
       "  </tbody>\n",
       "</table>\n",
       "</div>"
      ],
      "text/plain": [
       "   dis_name      rate\n",
       "0   东城区甘南小区  0.169747\n",
       "1   东城区察慈小区  0.165484\n",
       "2  东城区胡家园小区  0.141358\n",
       "3  东城区台基厂小区  0.063197\n",
       "4  东城区青年湖小区  0.101528"
      ]
     },
     "execution_count": 2,
     "metadata": {},
     "output_type": "execute_result"
    }
   ],
   "source": [
    "house_price_gr = pd.read_csv(\"house_price_gr.csv\",encoding= 'gbk')\n",
    "house_price_gr.head()"
   ]
  },
  {
   "cell_type": "markdown",
   "metadata": {},
   "source": [
    "## 进行点估计"
   ]
  },
  {
   "cell_type": "code",
   "execution_count": 3,
   "metadata": {},
   "outputs": [
    {
     "data": {
      "text/plain": [
       "0.11006099670192315"
      ]
     },
     "execution_count": 3,
     "metadata": {},
     "output_type": "execute_result"
    }
   ],
   "source": [
    "np.mean(house_price_gr.rate)"
   ]
  },
  {
   "cell_type": "code",
   "execution_count": 4,
   "metadata": {},
   "outputs": [
    {
     "data": {
      "text/plain": [
       "0.0033748324091783266"
      ]
     },
     "execution_count": 4,
     "metadata": {},
     "output_type": "execute_result"
    }
   ],
   "source": [
    "stats.sem(house_price_gr.rate) #样本均值的标准误"
   ]
  },
  {
   "cell_type": "code",
   "execution_count": 5,
   "metadata": {},
   "outputs": [
    {
     "data": {
      "text/plain": [
       "0.041195079496415814"
      ]
     },
     "execution_count": 5,
     "metadata": {},
     "output_type": "execute_result"
    }
   ],
   "source": [
    "np.std(house_price_gr.rate)"
   ]
  },
  {
   "cell_type": "markdown",
   "metadata": {},
   "source": [
    "## 进行区间估计"
   ]
  },
  {
   "cell_type": "code",
   "execution_count": 6,
   "metadata": {},
   "outputs": [
    {
     "name": "stdout",
     "output_type": "stream",
     "text": [
      "0.10337882853175007 0.11674316487209624\n"
     ]
    }
   ],
   "source": [
    "se = stats.sem(house_price_gr.rate)\n",
    "LB = house_price_gr.rate.mean()  - 1.98*se\n",
    "UB = house_price_gr.rate.mean()  + 1.98*se\n",
    "print (LB,UB)"
   ]
  },
  {
   "cell_type": "code",
   "execution_count": 8,
   "metadata": {},
   "outputs": [
    {
     "data": {
      "text/plain": [
       "1.9623390808264074"
      ]
     },
     "execution_count": 8,
     "metadata": {},
     "output_type": "execute_result"
    }
   ],
   "source": [
    "stats.t.ppf(1-0.05/2, 1000)"
   ]
  },
  {
   "cell_type": "code",
   "execution_count": 9,
   "metadata": {},
   "outputs": [
    {
     "data": {
      "text/plain": [
       "(-0.0006112437012950778, 0.0007318872656515137)"
      ]
     },
     "execution_count": 9,
     "metadata": {},
     "output_type": "execute_result"
    }
   ],
   "source": [
    "#==============================================================================\n",
    "# #上证指数的收益率\n",
    "#==============================================================================\n",
    "#读取数据\n",
    "SHindex = pd.read_csv(\"TRD_Index.csv\")\n",
    "mu = SHindex.Retindex.mean()\n",
    "sigma =  SHindex.Retindex.std()\n",
    "#计算区间\n",
    "stats.t.interval(0.95,len(SHindex)-1,mu,stats.sem(SHindex.Retindex))"
   ]
  },
  {
   "cell_type": "code",
   "execution_count": 10,
   "metadata": {},
   "outputs": [
    {
     "data": {
      "text/html": [
       "<div>\n",
       "<style scoped>\n",
       "    .dataframe tbody tr th:only-of-type {\n",
       "        vertical-align: middle;\n",
       "    }\n",
       "\n",
       "    .dataframe tbody tr th {\n",
       "        vertical-align: top;\n",
       "    }\n",
       "\n",
       "    .dataframe thead th {\n",
       "        text-align: right;\n",
       "    }\n",
       "</style>\n",
       "<table border=\"1\" class=\"dataframe\">\n",
       "  <thead>\n",
       "    <tr style=\"text-align: right;\">\n",
       "      <th></th>\n",
       "      <th>Code</th>\n",
       "      <th>Year</th>\n",
       "      <th>Return</th>\n",
       "      <th>Industry</th>\n",
       "    </tr>\n",
       "  </thead>\n",
       "  <tbody>\n",
       "    <tr>\n",
       "      <th>0</th>\n",
       "      <td>1</td>\n",
       "      <td>2014</td>\n",
       "      <td>0.572980</td>\n",
       "      <td>货币金融服务</td>\n",
       "    </tr>\n",
       "    <tr>\n",
       "      <th>1</th>\n",
       "      <td>2</td>\n",
       "      <td>2014</td>\n",
       "      <td>0.827567</td>\n",
       "      <td>房地产业</td>\n",
       "    </tr>\n",
       "    <tr>\n",
       "      <th>2</th>\n",
       "      <td>4</td>\n",
       "      <td>2014</td>\n",
       "      <td>0.336481</td>\n",
       "      <td>医药制造业</td>\n",
       "    </tr>\n",
       "    <tr>\n",
       "      <th>3</th>\n",
       "      <td>5</td>\n",
       "      <td>2014</td>\n",
       "      <td>0.640000</td>\n",
       "      <td>房地产业</td>\n",
       "    </tr>\n",
       "    <tr>\n",
       "      <th>4</th>\n",
       "      <td>6</td>\n",
       "      <td>2014</td>\n",
       "      <td>0.477997</td>\n",
       "      <td>房地产业</td>\n",
       "    </tr>\n",
       "  </tbody>\n",
       "</table>\n",
       "</div>"
      ],
      "text/plain": [
       "   Code  Year    Return Industry\n",
       "0     1  2014  0.572980   货币金融服务\n",
       "1     2  2014  0.827567     房地产业\n",
       "2     4  2014  0.336481    医药制造业\n",
       "3     5  2014  0.640000     房地产业\n",
       "4     6  2014  0.477997     房地产业"
      ]
     },
     "execution_count": 10,
     "metadata": {},
     "output_type": "execute_result"
    }
   ],
   "source": [
    "#%%\n",
    "#==============================================================================\n",
    "# #3.4 方差分析\n",
    "#==============================================================================\n",
    "#单因素方差分析\n",
    "# 研究不同行业股票收益率水平\n",
    "from statsmodels.stats.anova import anova_lm\n",
    "from statsmodels.formula.api import ols\n",
    "year_return = pd.read_csv('TRD_Year.csv',encoding= 'gbk')\n",
    "year_return.head()"
   ]
  },
  {
   "cell_type": "code",
   "execution_count": 11,
   "metadata": {},
   "outputs": [
    {
     "name": "stdout",
     "output_type": "stream",
     "text": [
      "              df      sum_sq   mean_sq         F        PR(>F)\n",
      "Industry    74.0   60.517228  0.817800  4.177614  4.382045e-28\n",
      "Residual  2302.0  450.634318  0.195758       NaN           NaN\n"
     ]
    }
   ],
   "source": [
    "model = ols('Return ~Industry',data =year_return.dropna()).fit()\n",
    "print(anova_lm(model))"
   ]
  },
  {
   "cell_type": "markdown",
   "metadata": {},
   "source": [
    "可以看到PR(P值远小于0.05，P值越小，影响越显著！)，所以结论是行业对于收益率是有影响的"
   ]
  },
  {
   "cell_type": "code",
   "execution_count": 13,
   "metadata": {},
   "outputs": [
    {
     "data": {
      "text/html": [
       "<div>\n",
       "<style scoped>\n",
       "    .dataframe tbody tr th:only-of-type {\n",
       "        vertical-align: middle;\n",
       "    }\n",
       "\n",
       "    .dataframe tbody tr th {\n",
       "        vertical-align: top;\n",
       "    }\n",
       "\n",
       "    .dataframe thead th {\n",
       "        text-align: right;\n",
       "    }\n",
       "</style>\n",
       "<table border=\"1\" class=\"dataframe\">\n",
       "  <thead>\n",
       "    <tr style=\"text-align: right;\">\n",
       "      <th></th>\n",
       "      <th>id</th>\n",
       "      <th>Acc</th>\n",
       "      <th>avg_exp</th>\n",
       "      <th>avg_exp_ln</th>\n",
       "      <th>gender</th>\n",
       "      <th>Age</th>\n",
       "      <th>Income</th>\n",
       "      <th>Ownrent</th>\n",
       "      <th>Selfempl</th>\n",
       "      <th>dist_home_val</th>\n",
       "      <th>dist_avg_income</th>\n",
       "      <th>age2</th>\n",
       "      <th>high_avg</th>\n",
       "      <th>edu_class</th>\n",
       "    </tr>\n",
       "  </thead>\n",
       "  <tbody>\n",
       "    <tr>\n",
       "      <th>0</th>\n",
       "      <td>19</td>\n",
       "      <td>1</td>\n",
       "      <td>1217.03</td>\n",
       "      <td>7.104169</td>\n",
       "      <td>1</td>\n",
       "      <td>40</td>\n",
       "      <td>16.03515</td>\n",
       "      <td>1</td>\n",
       "      <td>1</td>\n",
       "      <td>99.93</td>\n",
       "      <td>15.932789</td>\n",
       "      <td>1600</td>\n",
       "      <td>0.102361</td>\n",
       "      <td>3</td>\n",
       "    </tr>\n",
       "    <tr>\n",
       "      <th>1</th>\n",
       "      <td>5</td>\n",
       "      <td>1</td>\n",
       "      <td>1251.50</td>\n",
       "      <td>7.132098</td>\n",
       "      <td>1</td>\n",
       "      <td>32</td>\n",
       "      <td>15.84750</td>\n",
       "      <td>1</td>\n",
       "      <td>0</td>\n",
       "      <td>49.88</td>\n",
       "      <td>15.796316</td>\n",
       "      <td>1024</td>\n",
       "      <td>0.051184</td>\n",
       "      <td>2</td>\n",
       "    </tr>\n",
       "    <tr>\n",
       "      <th>2</th>\n",
       "      <td>95</td>\n",
       "      <td>0</td>\n",
       "      <td>NaN</td>\n",
       "      <td>NaN</td>\n",
       "      <td>1</td>\n",
       "      <td>36</td>\n",
       "      <td>8.40000</td>\n",
       "      <td>0</td>\n",
       "      <td>0</td>\n",
       "      <td>88.61</td>\n",
       "      <td>7.490000</td>\n",
       "      <td>1296</td>\n",
       "      <td>0.910000</td>\n",
       "      <td>1</td>\n",
       "    </tr>\n",
       "    <tr>\n",
       "      <th>3</th>\n",
       "      <td>86</td>\n",
       "      <td>1</td>\n",
       "      <td>856.57</td>\n",
       "      <td>6.752936</td>\n",
       "      <td>1</td>\n",
       "      <td>41</td>\n",
       "      <td>11.47285</td>\n",
       "      <td>1</td>\n",
       "      <td>0</td>\n",
       "      <td>16.10</td>\n",
       "      <td>11.275632</td>\n",
       "      <td>1681</td>\n",
       "      <td>0.197218</td>\n",
       "      <td>3</td>\n",
       "    </tr>\n",
       "    <tr>\n",
       "      <th>4</th>\n",
       "      <td>50</td>\n",
       "      <td>1</td>\n",
       "      <td>1321.83</td>\n",
       "      <td>7.186772</td>\n",
       "      <td>1</td>\n",
       "      <td>28</td>\n",
       "      <td>13.40915</td>\n",
       "      <td>1</td>\n",
       "      <td>0</td>\n",
       "      <td>100.39</td>\n",
       "      <td>13.346474</td>\n",
       "      <td>784</td>\n",
       "      <td>0.062676</td>\n",
       "      <td>2</td>\n",
       "    </tr>\n",
       "  </tbody>\n",
       "</table>\n",
       "</div>"
      ],
      "text/plain": [
       "   id  Acc  avg_exp  avg_exp_ln  gender  Age    Income  Ownrent  Selfempl  \\\n",
       "0  19    1  1217.03    7.104169       1   40  16.03515        1         1   \n",
       "1   5    1  1251.50    7.132098       1   32  15.84750        1         0   \n",
       "2  95    0      NaN         NaN       1   36   8.40000        0         0   \n",
       "3  86    1   856.57    6.752936       1   41  11.47285        1         0   \n",
       "4  50    1  1321.83    7.186772       1   28  13.40915        1         0   \n",
       "\n",
       "   dist_home_val  dist_avg_income  age2  high_avg  edu_class  \n",
       "0          99.93        15.932789  1600  0.102361          3  \n",
       "1          49.88        15.796316  1024  0.051184          2  \n",
       "2          88.61         7.490000  1296  0.910000          1  \n",
       "3          16.10        11.275632  1681  0.197218          3  \n",
       "4         100.39        13.346474   784  0.062676          2  "
      ]
     },
     "execution_count": 13,
     "metadata": {},
     "output_type": "execute_result"
    }
   ],
   "source": [
    "#%%\n",
    "# 多因素方差分析\n",
    "\n",
    "creditcard_exp  = pd.read_csv('creditcard_exp.csv',skipinitialspace = True)\n",
    "creditcard_exp.head()"
   ]
  },
  {
   "cell_type": "code",
   "execution_count": 14,
   "metadata": {},
   "outputs": [
    {
     "data": {
      "text/html": [
       "<div>\n",
       "<style scoped>\n",
       "    .dataframe tbody tr th:only-of-type {\n",
       "        vertical-align: middle;\n",
       "    }\n",
       "\n",
       "    .dataframe tbody tr th {\n",
       "        vertical-align: top;\n",
       "    }\n",
       "\n",
       "    .dataframe thead th {\n",
       "        text-align: right;\n",
       "    }\n",
       "</style>\n",
       "<table border=\"1\" class=\"dataframe\">\n",
       "  <thead>\n",
       "    <tr style=\"text-align: right;\">\n",
       "      <th></th>\n",
       "      <th>df</th>\n",
       "      <th>sum_sq</th>\n",
       "      <th>mean_sq</th>\n",
       "      <th>F</th>\n",
       "      <th>PR(&gt;F)</th>\n",
       "    </tr>\n",
       "  </thead>\n",
       "  <tbody>\n",
       "    <tr>\n",
       "      <th>C(edu_class)</th>\n",
       "      <td>3.0</td>\n",
       "      <td>8.126056e+06</td>\n",
       "      <td>2.708685e+06</td>\n",
       "      <td>31.578365</td>\n",
       "      <td>1.031496e-12</td>\n",
       "    </tr>\n",
       "    <tr>\n",
       "      <th>C(gender)</th>\n",
       "      <td>1.0</td>\n",
       "      <td>4.178273e+04</td>\n",
       "      <td>4.178273e+04</td>\n",
       "      <td>0.487111</td>\n",
       "      <td>4.877082e-01</td>\n",
       "    </tr>\n",
       "    <tr>\n",
       "      <th>Residual</th>\n",
       "      <td>65.0</td>\n",
       "      <td>5.575481e+06</td>\n",
       "      <td>8.577662e+04</td>\n",
       "      <td>NaN</td>\n",
       "      <td>NaN</td>\n",
       "    </tr>\n",
       "  </tbody>\n",
       "</table>\n",
       "</div>"
      ],
      "text/plain": [
       "                df        sum_sq       mean_sq          F        PR(>F)\n",
       "C(edu_class)   3.0  8.126056e+06  2.708685e+06  31.578365  1.031496e-12\n",
       "C(gender)      1.0  4.178273e+04  4.178273e+04   0.487111  4.877082e-01\n",
       "Residual      65.0  5.575481e+06  8.577662e+04        NaN           NaN"
      ]
     },
     "execution_count": 14,
     "metadata": {},
     "output_type": "execute_result"
    }
   ],
   "source": [
    "ana = ols('avg_exp ~ C(edu_class) + C (gender)', data = creditcard_exp).fit()\n",
    "anova_lm(ana)"
   ]
  },
  {
   "cell_type": "code",
   "execution_count": null,
   "metadata": {},
   "outputs": [],
   "source": [
    "可以看出，edu_class的PR远小于0.05，说明教育水平对收入的影响很显著！\n",
    "gender的PR值为0.487，远大于0.05，说明性别对于收入的影响不显著！"
   ]
  },
  {
   "cell_type": "code",
   "execution_count": 15,
   "metadata": {},
   "outputs": [
    {
     "data": {
      "text/html": [
       "<table class=\"simpletable\">\n",
       "<caption>OLS Regression Results</caption>\n",
       "<tr>\n",
       "  <th>Dep. Variable:</th>         <td>avg_exp</td>     <th>  R-squared:         </th> <td>   0.594</td>\n",
       "</tr>\n",
       "<tr>\n",
       "  <th>Model:</th>                   <td>OLS</td>       <th>  Adj. R-squared:    </th> <td>   0.569</td>\n",
       "</tr>\n",
       "<tr>\n",
       "  <th>Method:</th>             <td>Least Squares</td>  <th>  F-statistic:       </th> <td>   23.81</td>\n",
       "</tr>\n",
       "<tr>\n",
       "  <th>Date:</th>             <td>Tue, 23 Jul 2019</td> <th>  Prob (F-statistic):</th> <td>3.75e-12</td>\n",
       "</tr>\n",
       "<tr>\n",
       "  <th>Time:</th>                 <td>12:17:08</td>     <th>  Log-Likelihood:    </th> <td> -494.31</td>\n",
       "</tr>\n",
       "<tr>\n",
       "  <th>No. Observations:</th>      <td>    70</td>      <th>  AIC:               </th> <td>   998.6</td>\n",
       "</tr>\n",
       "<tr>\n",
       "  <th>Df Residuals:</th>          <td>    65</td>      <th>  BIC:               </th> <td>   1010.</td>\n",
       "</tr>\n",
       "<tr>\n",
       "  <th>Df Model:</th>              <td>     4</td>      <th>                     </th>     <td> </td>   \n",
       "</tr>\n",
       "<tr>\n",
       "  <th>Covariance Type:</th>      <td>nonrobust</td>    <th>                     </th>     <td> </td>   \n",
       "</tr>\n",
       "</table>\n",
       "<table class=\"simpletable\">\n",
       "<tr>\n",
       "          <td></td>             <th>coef</th>     <th>std err</th>      <th>t</th>      <th>P>|t|</th>  <th>[0.025</th>    <th>0.975]</th>  \n",
       "</tr>\n",
       "<tr>\n",
       "  <th>Intercept</th>         <td>  207.3700</td> <td>  207.095</td> <td>    1.001</td> <td> 0.320</td> <td> -206.227</td> <td>  620.967</td>\n",
       "</tr>\n",
       "<tr>\n",
       "  <th>C(edu_class)[T.1]</th> <td>  439.5956</td> <td>  216.032</td> <td>    2.035</td> <td> 0.046</td> <td>    8.151</td> <td>  871.040</td>\n",
       "</tr>\n",
       "<tr>\n",
       "  <th>C(edu_class)[T.2]</th> <td>  786.0626</td> <td>  217.826</td> <td>    3.609</td> <td> 0.001</td> <td>  351.035</td> <td> 1221.091</td>\n",
       "</tr>\n",
       "<tr>\n",
       "  <th>C(edu_class)[T.3]</th> <td> 1241.1927</td> <td>  219.557</td> <td>    5.653</td> <td> 0.000</td> <td>  802.707</td> <td> 1679.678</td>\n",
       "</tr>\n",
       "<tr>\n",
       "  <th>C(gender)[T.1]</th>    <td>  -57.8200</td> <td>   82.845</td> <td>   -0.698</td> <td> 0.488</td> <td> -223.272</td> <td>  107.632</td>\n",
       "</tr>\n",
       "</table>\n",
       "<table class=\"simpletable\">\n",
       "<tr>\n",
       "  <th>Omnibus:</th>       <td>15.243</td> <th>  Durbin-Watson:     </th> <td>   2.303</td>\n",
       "</tr>\n",
       "<tr>\n",
       "  <th>Prob(Omnibus):</th> <td> 0.000</td> <th>  Jarque-Bera (JB):  </th> <td>  21.012</td>\n",
       "</tr>\n",
       "<tr>\n",
       "  <th>Skew:</th>          <td> 0.875</td> <th>  Prob(JB):          </th> <td>2.74e-05</td>\n",
       "</tr>\n",
       "<tr>\n",
       "  <th>Kurtosis:</th>      <td> 5.035</td> <th>  Cond. No.          </th> <td>    14.2</td>\n",
       "</tr>\n",
       "</table><br/><br/>Warnings:<br/>[1] Standard Errors assume that the covariance matrix of the errors is correctly specified."
      ],
      "text/plain": [
       "<class 'statsmodels.iolib.summary.Summary'>\n",
       "\"\"\"\n",
       "                            OLS Regression Results                            \n",
       "==============================================================================\n",
       "Dep. Variable:                avg_exp   R-squared:                       0.594\n",
       "Model:                            OLS   Adj. R-squared:                  0.569\n",
       "Method:                 Least Squares   F-statistic:                     23.81\n",
       "Date:                Tue, 23 Jul 2019   Prob (F-statistic):           3.75e-12\n",
       "Time:                        12:17:08   Log-Likelihood:                -494.31\n",
       "No. Observations:                  70   AIC:                             998.6\n",
       "Df Residuals:                      65   BIC:                             1010.\n",
       "Df Model:                           4                                         \n",
       "Covariance Type:            nonrobust                                         \n",
       "=====================================================================================\n",
       "                        coef    std err          t      P>|t|      [0.025      0.975]\n",
       "-------------------------------------------------------------------------------------\n",
       "Intercept           207.3700    207.095      1.001      0.320    -206.227     620.967\n",
       "C(edu_class)[T.1]   439.5956    216.032      2.035      0.046       8.151     871.040\n",
       "C(edu_class)[T.2]   786.0626    217.826      3.609      0.001     351.035    1221.091\n",
       "C(edu_class)[T.3]  1241.1927    219.557      5.653      0.000     802.707    1679.678\n",
       "C(gender)[T.1]      -57.8200     82.845     -0.698      0.488    -223.272     107.632\n",
       "==============================================================================\n",
       "Omnibus:                       15.243   Durbin-Watson:                   2.303\n",
       "Prob(Omnibus):                  0.000   Jarque-Bera (JB):               21.012\n",
       "Skew:                           0.875   Prob(JB):                     2.74e-05\n",
       "Kurtosis:                       5.035   Cond. No.                         14.2\n",
       "==============================================================================\n",
       "\n",
       "Warnings:\n",
       "[1] Standard Errors assume that the covariance matrix of the errors is correctly specified.\n",
       "\"\"\""
      ]
     },
     "execution_count": 15,
     "metadata": {},
     "output_type": "execute_result"
    }
   ],
   "source": [
    "ana.summary()"
   ]
  },
  {
   "cell_type": "code",
   "execution_count": 16,
   "metadata": {},
   "outputs": [
    {
     "data": {
      "text/html": [
       "<div>\n",
       "<style scoped>\n",
       "    .dataframe tbody tr th:only-of-type {\n",
       "        vertical-align: middle;\n",
       "    }\n",
       "\n",
       "    .dataframe tbody tr th {\n",
       "        vertical-align: top;\n",
       "    }\n",
       "\n",
       "    .dataframe thead th {\n",
       "        text-align: right;\n",
       "    }\n",
       "</style>\n",
       "<table border=\"1\" class=\"dataframe\">\n",
       "  <thead>\n",
       "    <tr style=\"text-align: right;\">\n",
       "      <th></th>\n",
       "      <th>df</th>\n",
       "      <th>sum_sq</th>\n",
       "      <th>mean_sq</th>\n",
       "      <th>F</th>\n",
       "      <th>PR(&gt;F)</th>\n",
       "    </tr>\n",
       "  </thead>\n",
       "  <tbody>\n",
       "    <tr>\n",
       "      <th>C(edu_class)</th>\n",
       "      <td>3.0</td>\n",
       "      <td>8.126056e+06</td>\n",
       "      <td>2.708685e+06</td>\n",
       "      <td>33.839350</td>\n",
       "      <td>3.753889e-13</td>\n",
       "    </tr>\n",
       "    <tr>\n",
       "      <th>C(gender)</th>\n",
       "      <td>1.0</td>\n",
       "      <td>4.178273e+04</td>\n",
       "      <td>4.178273e+04</td>\n",
       "      <td>0.521988</td>\n",
       "      <td>4.726685e-01</td>\n",
       "    </tr>\n",
       "    <tr>\n",
       "      <th>C(edu_class):C(gender)</th>\n",
       "      <td>3.0</td>\n",
       "      <td>5.355799e+05</td>\n",
       "      <td>1.785266e+05</td>\n",
       "      <td>2.230316</td>\n",
       "      <td>9.333507e-02</td>\n",
       "    </tr>\n",
       "    <tr>\n",
       "      <th>Residual</th>\n",
       "      <td>63.0</td>\n",
       "      <td>5.042862e+06</td>\n",
       "      <td>8.004544e+04</td>\n",
       "      <td>NaN</td>\n",
       "      <td>NaN</td>\n",
       "    </tr>\n",
       "  </tbody>\n",
       "</table>\n",
       "</div>"
      ],
      "text/plain": [
       "                          df        sum_sq       mean_sq          F  \\\n",
       "C(edu_class)             3.0  8.126056e+06  2.708685e+06  33.839350   \n",
       "C(gender)                1.0  4.178273e+04  4.178273e+04   0.521988   \n",
       "C(edu_class):C(gender)   3.0  5.355799e+05  1.785266e+05   2.230316   \n",
       "Residual                63.0  5.042862e+06  8.004544e+04        NaN   \n",
       "\n",
       "                              PR(>F)  \n",
       "C(edu_class)            3.753889e-13  \n",
       "C(gender)               4.726685e-01  \n",
       "C(edu_class):C(gender)  9.333507e-02  \n",
       "Residual                         NaN  "
      ]
     },
     "execution_count": 16,
     "metadata": {},
     "output_type": "execute_result"
    }
   ],
   "source": [
    "#添加交互项\n",
    "\n",
    "ana1 = ols('avg_exp ~ C(edu_class) + C (gender) + C(edu_class)*C(gender)', data = creditcard_exp).fit()\n",
    "anova_lm(ana1)"
   ]
  },
  {
   "cell_type": "code",
   "execution_count": 17,
   "metadata": {},
   "outputs": [
    {
     "data": {
      "text/html": [
       "<table class=\"simpletable\">\n",
       "<caption>OLS Regression Results</caption>\n",
       "<tr>\n",
       "  <th>Dep. Variable:</th>         <td>avg_exp</td>     <th>  R-squared:         </th> <td>   0.633</td>\n",
       "</tr>\n",
       "<tr>\n",
       "  <th>Model:</th>                   <td>OLS</td>       <th>  Adj. R-squared:    </th> <td>   0.598</td>\n",
       "</tr>\n",
       "<tr>\n",
       "  <th>Method:</th>             <td>Least Squares</td>  <th>  F-statistic:       </th> <td>   18.12</td>\n",
       "</tr>\n",
       "<tr>\n",
       "  <th>Date:</th>             <td>Tue, 23 Jul 2019</td> <th>  Prob (F-statistic):</th> <td>4.35e-12</td>\n",
       "</tr>\n",
       "<tr>\n",
       "  <th>Time:</th>                 <td>12:18:12</td>     <th>  Log-Likelihood:    </th> <td> -490.80</td>\n",
       "</tr>\n",
       "<tr>\n",
       "  <th>No. Observations:</th>      <td>    70</td>      <th>  AIC:               </th> <td>   995.6</td>\n",
       "</tr>\n",
       "<tr>\n",
       "  <th>Df Residuals:</th>          <td>    63</td>      <th>  BIC:               </th> <td>   1011.</td>\n",
       "</tr>\n",
       "<tr>\n",
       "  <th>Df Model:</th>              <td>     6</td>      <th>                     </th>     <td> </td>   \n",
       "</tr>\n",
       "<tr>\n",
       "  <th>Covariance Type:</th>      <td>nonrobust</td>    <th>                     </th>     <td> </td>   \n",
       "</tr>\n",
       "</table>\n",
       "<table class=\"simpletable\">\n",
       "<tr>\n",
       "                  <td></td>                    <th>coef</th>     <th>std err</th>      <th>t</th>      <th>P>|t|</th>  <th>[0.025</th>    <th>0.975]</th>  \n",
       "</tr>\n",
       "<tr>\n",
       "  <th>Intercept</th>                        <td>  207.3700</td> <td>  200.057</td> <td>    1.037</td> <td> 0.304</td> <td> -192.412</td> <td>  607.152</td>\n",
       "</tr>\n",
       "<tr>\n",
       "  <th>C(edu_class)[T.1]</th>                <td>  417.8090</td> <td>  209.367</td> <td>    1.996</td> <td> 0.050</td> <td>   -0.577</td> <td>  836.195</td>\n",
       "</tr>\n",
       "<tr>\n",
       "  <th>C(edu_class)[T.2]</th>                <td>  732.2613</td> <td>  212.977</td> <td>    3.438</td> <td> 0.001</td> <td>  306.661</td> <td> 1157.861</td>\n",
       "</tr>\n",
       "<tr>\n",
       "  <th>C(edu_class)[T.3]</th>                <td> 1346.5708</td> <td>  216.086</td> <td>    6.232</td> <td> 0.000</td> <td>  914.757</td> <td> 1778.384</td>\n",
       "</tr>\n",
       "<tr>\n",
       "  <th>C(gender)[T.1]</th>                   <td>   -0.0168</td> <td>   67.939</td> <td>   -0.000</td> <td> 1.000</td> <td> -135.782</td> <td>  135.749</td>\n",
       "</tr>\n",
       "<tr>\n",
       "  <th>C(edu_class)[T.1]:C(gender)[T.1]</th> <td>  192.7428</td> <td>  162.889</td> <td>    1.183</td> <td> 0.241</td> <td> -132.765</td> <td>  518.251</td>\n",
       "</tr>\n",
       "<tr>\n",
       "  <th>C(edu_class)[T.2]:C(gender)[T.1]</th> <td>   96.8755</td> <td>  110.846</td> <td>    0.874</td> <td> 0.385</td> <td> -124.632</td> <td>  318.383</td>\n",
       "</tr>\n",
       "<tr>\n",
       "  <th>C(edu_class)[T.3]:C(gender)[T.1]</th> <td> -289.6350</td> <td>  109.331</td> <td>   -2.649</td> <td> 0.010</td> <td> -508.115</td> <td>  -71.155</td>\n",
       "</tr>\n",
       "</table>\n",
       "<table class=\"simpletable\">\n",
       "<tr>\n",
       "  <th>Omnibus:</th>       <td>35.697</td> <th>  Durbin-Watson:     </th> <td>   2.331</td>\n",
       "</tr>\n",
       "<tr>\n",
       "  <th>Prob(Omnibus):</th> <td> 0.000</td> <th>  Jarque-Bera (JB):  </th> <td>  98.497</td>\n",
       "</tr>\n",
       "<tr>\n",
       "  <th>Skew:</th>          <td> 1.590</td> <th>  Prob(JB):          </th> <td>4.09e-22</td>\n",
       "</tr>\n",
       "<tr>\n",
       "  <th>Kurtosis:</th>      <td> 7.864</td> <th>  Cond. No.          </th> <td>2.12e+16</td>\n",
       "</tr>\n",
       "</table><br/><br/>Warnings:<br/>[1] Standard Errors assume that the covariance matrix of the errors is correctly specified.<br/>[2] The smallest eigenvalue is 2.28e-31. This might indicate that there are<br/>strong multicollinearity problems or that the design matrix is singular."
      ],
      "text/plain": [
       "<class 'statsmodels.iolib.summary.Summary'>\n",
       "\"\"\"\n",
       "                            OLS Regression Results                            \n",
       "==============================================================================\n",
       "Dep. Variable:                avg_exp   R-squared:                       0.633\n",
       "Model:                            OLS   Adj. R-squared:                  0.598\n",
       "Method:                 Least Squares   F-statistic:                     18.12\n",
       "Date:                Tue, 23 Jul 2019   Prob (F-statistic):           4.35e-12\n",
       "Time:                        12:18:12   Log-Likelihood:                -490.80\n",
       "No. Observations:                  70   AIC:                             995.6\n",
       "Df Residuals:                      63   BIC:                             1011.\n",
       "Df Model:                           6                                         \n",
       "Covariance Type:            nonrobust                                         \n",
       "====================================================================================================\n",
       "                                       coef    std err          t      P>|t|      [0.025      0.975]\n",
       "----------------------------------------------------------------------------------------------------\n",
       "Intercept                          207.3700    200.057      1.037      0.304    -192.412     607.152\n",
       "C(edu_class)[T.1]                  417.8090    209.367      1.996      0.050      -0.577     836.195\n",
       "C(edu_class)[T.2]                  732.2613    212.977      3.438      0.001     306.661    1157.861\n",
       "C(edu_class)[T.3]                 1346.5708    216.086      6.232      0.000     914.757    1778.384\n",
       "C(gender)[T.1]                      -0.0168     67.939     -0.000      1.000    -135.782     135.749\n",
       "C(edu_class)[T.1]:C(gender)[T.1]   192.7428    162.889      1.183      0.241    -132.765     518.251\n",
       "C(edu_class)[T.2]:C(gender)[T.1]    96.8755    110.846      0.874      0.385    -124.632     318.383\n",
       "C(edu_class)[T.3]:C(gender)[T.1]  -289.6350    109.331     -2.649      0.010    -508.115     -71.155\n",
       "==============================================================================\n",
       "Omnibus:                       35.697   Durbin-Watson:                   2.331\n",
       "Prob(Omnibus):                  0.000   Jarque-Bera (JB):               98.497\n",
       "Skew:                           1.590   Prob(JB):                     4.09e-22\n",
       "Kurtosis:                       7.864   Cond. No.                     2.12e+16\n",
       "==============================================================================\n",
       "\n",
       "Warnings:\n",
       "[1] Standard Errors assume that the covariance matrix of the errors is correctly specified.\n",
       "[2] The smallest eigenvalue is 2.28e-31. This might indicate that there are\n",
       "strong multicollinearity problems or that the design matrix is singular.\n",
       "\"\"\""
      ]
     },
     "execution_count": 17,
     "metadata": {},
     "output_type": "execute_result"
    }
   ],
   "source": [
    "ana1.summary()"
   ]
  },
  {
   "cell_type": "code",
   "execution_count": null,
   "metadata": {},
   "outputs": [],
   "source": []
  }
 ],
 "metadata": {
  "kernelspec": {
   "display_name": "Python 3",
   "language": "python",
   "name": "python3"
  },
  "language_info": {
   "codemirror_mode": {
    "name": "ipython",
    "version": 3
   },
   "file_extension": ".py",
   "mimetype": "text/x-python",
   "name": "python",
   "nbconvert_exporter": "python",
   "pygments_lexer": "ipython3",
   "version": "3.7.3"
  },
  "toc": {
   "base_numbering": 1,
   "nav_menu": {},
   "number_sections": true,
   "sideBar": true,
   "skip_h1_title": false,
   "title_cell": "Table of Contents",
   "title_sidebar": "Contents",
   "toc_cell": false,
   "toc_position": {},
   "toc_section_display": true,
   "toc_window_display": false
  }
 },
 "nbformat": 4,
 "nbformat_minor": 2
}
