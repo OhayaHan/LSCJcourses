{
 "cells": [
  {
   "cell_type": "code",
   "execution_count": 1,
   "metadata": {},
   "outputs": [],
   "source": [
    "# 先导入相关库\n",
    "import pandas as pd\n",
    "import os\n",
    "import ffn\n",
    "# import matplotlib.pyplot as plt\n",
    "#ffn - Financial Functions for Python\n",
    "# 转换到当前目录，即存放数据的目录\n",
    "#数据日期为2014年1月1日到2014年12月31日\n",
    "#SAPower代表“航天动力”股票，股票代码为“600343”\n",
    "#DalianRP代表“大橡塑”股票，股票代码为“600346”"
   ]
  },
  {
   "cell_type": "code",
   "execution_count": 2,
   "metadata": {},
   "outputs": [],
   "source": [
    "SAPower=pd.read_csv('SAPower.csv',index_col='Date')\n",
    "SAPower.index=pd.to_datetime(SAPower.index) #索引进行时间转化(时间格式)\n",
    "DalianRP=pd.read_csv('DalianRP.csv',index_col='Date')\n",
    "DalianRP.index=pd.to_datetime(DalianRP.index)"
   ]
  },
  {
   "cell_type": "code",
   "execution_count": 3,
   "metadata": {},
   "outputs": [
    {
     "data": {
      "text/html": [
       "<div>\n",
       "<style scoped>\n",
       "    .dataframe tbody tr th:only-of-type {\n",
       "        vertical-align: middle;\n",
       "    }\n",
       "\n",
       "    .dataframe tbody tr th {\n",
       "        vertical-align: top;\n",
       "    }\n",
       "\n",
       "    .dataframe thead th {\n",
       "        text-align: right;\n",
       "    }\n",
       "</style>\n",
       "<table border=\"1\" class=\"dataframe\">\n",
       "  <thead>\n",
       "    <tr style=\"text-align: right;\">\n",
       "      <th></th>\n",
       "      <th>Unnamed: 0</th>\n",
       "      <th>Open</th>\n",
       "      <th>High</th>\n",
       "      <th>Low</th>\n",
       "      <th>Close</th>\n",
       "      <th>Volume</th>\n",
       "    </tr>\n",
       "    <tr>\n",
       "      <th>Date</th>\n",
       "      <th></th>\n",
       "      <th></th>\n",
       "      <th></th>\n",
       "      <th></th>\n",
       "      <th></th>\n",
       "      <th></th>\n",
       "    </tr>\n",
       "  </thead>\n",
       "  <tbody>\n",
       "    <tr>\n",
       "      <th>2014-01-01</th>\n",
       "      <td>1</td>\n",
       "      <td>14.24</td>\n",
       "      <td>14.24</td>\n",
       "      <td>14.24</td>\n",
       "      <td>14.24</td>\n",
       "      <td>0</td>\n",
       "    </tr>\n",
       "    <tr>\n",
       "      <th>2014-01-02</th>\n",
       "      <td>2</td>\n",
       "      <td>14.23</td>\n",
       "      <td>14.57</td>\n",
       "      <td>14.15</td>\n",
       "      <td>14.55</td>\n",
       "      <td>7093500</td>\n",
       "    </tr>\n",
       "    <tr>\n",
       "      <th>2014-01-03</th>\n",
       "      <td>3</td>\n",
       "      <td>14.43</td>\n",
       "      <td>14.50</td>\n",
       "      <td>14.09</td>\n",
       "      <td>14.24</td>\n",
       "      <td>6885700</td>\n",
       "    </tr>\n",
       "    <tr>\n",
       "      <th>2014-01-06</th>\n",
       "      <td>4</td>\n",
       "      <td>14.14</td>\n",
       "      <td>14.14</td>\n",
       "      <td>13.50</td>\n",
       "      <td>13.68</td>\n",
       "      <td>5462500</td>\n",
       "    </tr>\n",
       "    <tr>\n",
       "      <th>2014-01-07</th>\n",
       "      <td>5</td>\n",
       "      <td>13.68</td>\n",
       "      <td>14.14</td>\n",
       "      <td>13.39</td>\n",
       "      <td>13.91</td>\n",
       "      <td>4491900</td>\n",
       "    </tr>\n",
       "  </tbody>\n",
       "</table>\n",
       "</div>"
      ],
      "text/plain": [
       "            Unnamed: 0   Open   High    Low  Close   Volume\n",
       "Date                                                       \n",
       "2014-01-01           1  14.24  14.24  14.24  14.24        0\n",
       "2014-01-02           2  14.23  14.57  14.15  14.55  7093500\n",
       "2014-01-03           3  14.43  14.50  14.09  14.24  6885700\n",
       "2014-01-06           4  14.14  14.14  13.50  13.68  5462500\n",
       "2014-01-07           5  13.68  14.14  13.39  13.91  4491900"
      ]
     },
     "execution_count": 3,
     "metadata": {},
     "output_type": "execute_result"
    }
   ],
   "source": [
    "SAPower.head()"
   ]
  },
  {
   "cell_type": "code",
   "execution_count": 4,
   "metadata": {},
   "outputs": [],
   "source": [
    "returnS=ffn.to_returns(SAPower.Close).dropna()\n",
    "returnD=ffn.to_returns(DalianRP.Close).dropna()"
   ]
  },
  {
   "cell_type": "code",
   "execution_count": 6,
   "metadata": {},
   "outputs": [
    {
     "name": "stdout",
     "output_type": "stream",
     "text": [
      "0.041511404614033375\n",
      "0.020319411733180383\n"
     ]
    }
   ],
   "source": [
    "print(returnS.std())\n",
    "print(returnD.std())"
   ]
  },
  {
   "cell_type": "code",
   "execution_count": 7,
   "metadata": {},
   "outputs": [
    {
     "name": "stdout",
     "output_type": "stream",
     "text": [
      "0.03559345345188915\n",
      "0.013699709683876092\n"
     ]
    }
   ],
   "source": [
    "#计算下行风险\n",
    "def cal_half_dev(returns):\n",
    "    mu=returns.mean() #计算均值\n",
    "    temp=returns[returns<mu] #筛选出小于均值的收益\n",
    "    half_deviation=(sum((mu-temp)**2)/len(returns))**0.5 #计算风险\n",
    "    return half_deviation\n",
    "\n",
    "print(cal_half_dev(returnS))\n",
    "print(cal_half_dev(returnD))"
   ]
  },
  {
   "cell_type": "code",
   "execution_count": 8,
   "metadata": {},
   "outputs": [
    {
     "name": "stdout",
     "output_type": "stream",
     "text": [
      "600343 股票最大回撤是: -0.5676\n"
     ]
    }
   ],
   "source": [
    "#计算最大回测\n",
    "ffn.calc_max_drawdown((1+returnS).cumprod())\n",
    "ffn.calc_max_drawdown((1+returnD).cumprod())\n",
    "print (\"600343 股票最大回撤是: %.4f\" % ffn.calc_max_drawdown((1+returnS).cumprod()))"
   ]
  },
  {
   "cell_type": "code",
   "execution_count": 9,
   "metadata": {},
   "outputs": [
    {
     "data": {
      "text/plain": [
       "Date\n",
       "2014-01-02    1.021770\n",
       "2014-01-03    1.000000\n",
       "2014-01-06    0.960674\n",
       "2014-01-07    0.976826\n",
       "2014-01-08    1.004213\n",
       "2014-01-09    0.962079\n",
       "2014-01-10    0.932584\n",
       "2014-01-13    0.924157\n",
       "2014-01-14    0.941011\n",
       "2014-01-15    0.959270\n",
       "2014-01-16    0.947331\n",
       "2014-01-17    0.924860\n",
       "2014-01-20    0.930478\n",
       "2014-01-21    0.942416\n",
       "2014-01-22    0.971208\n",
       "2014-01-23    0.966994\n",
       "2014-01-24    0.981742\n",
       "2014-01-27    0.959972\n",
       "2014-01-28    0.950140\n",
       "2014-01-29    1.004916\n",
       "2014-01-30    1.042135\n",
       "2014-01-31    1.042135\n",
       "2014-02-03    1.042135\n",
       "2014-02-05    1.042135\n",
       "2014-02-06    1.042135\n",
       "2014-02-07    1.055478\n",
       "2014-02-10    1.070225\n",
       "2014-02-11    1.051966\n",
       "2014-02-12    1.050562\n",
       "2014-02-13    1.016152\n",
       "                ...   \n",
       "2014-11-20    1.094101\n",
       "2014-11-21    1.110253\n",
       "2014-11-24    1.143258\n",
       "2014-11-25    1.161517\n",
       "2014-11-26    1.171348\n",
       "2014-11-27    1.179073\n",
       "2014-11-28    1.187500\n",
       "2014-12-01    1.162921\n",
       "2014-12-02    1.176264\n",
       "2014-12-03    1.200140\n",
       "2014-12-04    1.227528\n",
       "2014-12-05    1.350421\n",
       "2014-12-08    1.438904\n",
       "2014-12-09    1.294944\n",
       "2014-12-10    1.337079\n",
       "2014-12-11    1.389045\n",
       "2014-12-12    1.389045\n",
       "2014-12-15    1.432584\n",
       "2014-12-16    1.428371\n",
       "2014-12-17    1.389045\n",
       "2014-12-18    1.417837\n",
       "2014-12-19    1.355337\n",
       "2014-12-22    1.247893\n",
       "2014-12-23    1.235253\n",
       "2014-12-24    1.317416\n",
       "2014-12-25    1.333567\n",
       "2014-12-26    1.334972\n",
       "2014-12-29    1.282303\n",
       "2014-12-30    1.268961\n",
       "2014-12-31    1.292135\n",
       "Name: Close, Length: 259, dtype: float64"
      ]
     },
     "execution_count": 9,
     "metadata": {},
     "output_type": "execute_result"
    }
   ],
   "source": [
    "(1+returnS).cumprod()"
   ]
  },
  {
   "cell_type": "code",
   "execution_count": null,
   "metadata": {},
   "outputs": [],
   "source": []
  }
 ],
 "metadata": {
  "kernelspec": {
   "display_name": "Python 3",
   "language": "python",
   "name": "python3"
  },
  "language_info": {
   "codemirror_mode": {
    "name": "ipython",
    "version": 3
   },
   "file_extension": ".py",
   "mimetype": "text/x-python",
   "name": "python",
   "nbconvert_exporter": "python",
   "pygments_lexer": "ipython3",
   "version": "3.7.3"
  },
  "toc": {
   "base_numbering": 1,
   "nav_menu": {},
   "number_sections": true,
   "sideBar": true,
   "skip_h1_title": false,
   "title_cell": "Table of Contents",
   "title_sidebar": "Contents",
   "toc_cell": false,
   "toc_position": {},
   "toc_section_display": true,
   "toc_window_display": false
  }
 },
 "nbformat": 4,
 "nbformat_minor": 2
}
