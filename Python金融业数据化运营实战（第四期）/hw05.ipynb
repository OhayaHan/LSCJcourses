{
 "cells": [
  {
   "cell_type": "markdown",
   "metadata": {},
   "source": [
    "# Q1 给定一组参数，s =40,x =40,t = 0.25,r=0.05, sigma=0.20,使用BS公式计算着看涨期权的价格，保持其他参数不变，调整S（股票当前价格），来显示看涨期权的价格和S之间的关系（绘制图形）"
   ]
  },
  {
   "cell_type": "markdown",
   "metadata": {},
   "source": [
    "$$\n",
    "c = S_0N(d_1) - Xe^{-rT}N(d_2)  \n",
    "$$  \n"
   ]
  },
  {
   "cell_type": "code",
   "execution_count": 7,
   "metadata": {},
   "outputs": [],
   "source": [
    "import matplotlib.pyplot as plt\n",
    "%matplotlib inline"
   ]
  },
  {
   "cell_type": "code",
   "execution_count": 2,
   "metadata": {},
   "outputs": [],
   "source": [
    "#期权定价BS\n",
    "# 看涨期权定价公式\n",
    "from scipy import stats\n",
    "import numpy as np\n",
    "def bs_call(S,X,T,r,sigma):\n",
    "    d1 = (np.log(S/X) + (r+0.5*pow(sigma,2))*T)/(sigma*np.sqrt(T))\n",
    "    d2 = d1 - sigma*np.sqrt(T)\n",
    "    call_price = S*stats.norm.cdf(d1,0,1) - X*np.exp(-r*T)*stats.norm.cdf(d2,0,1)\n",
    "    return call_price"
   ]
  },
  {
   "cell_type": "code",
   "execution_count": 10,
   "metadata": {},
   "outputs": [],
   "source": [
    "s = np.arange(1, 100, 1)\n",
    "c = bs_call(s, 40, 0.25, 0.05, 0.2)"
   ]
  },
  {
   "cell_type": "code",
   "execution_count": 11,
   "metadata": {},
   "outputs": [
    {
     "data": {
      "text/plain": [
       "[<matplotlib.lines.Line2D at 0x11a84e860>]"
      ]
     },
     "execution_count": 11,
     "metadata": {},
     "output_type": "execute_result"
    },
    {
     "data": {
      "image/png": "[encoded data removed]",
      "text/plain": [
       "<Figure size 432x288 with 1 Axes>"
      ]
     },
     "metadata": {
      "needs_background": "light"
     },
     "output_type": "display_data"
    }
   ],
   "source": [
    "plt.plot(s, c)"
   ]
  },
  {
   "cell_type": "markdown",
   "metadata": {},
   "source": [
    "# Q2 股票A当前价格为38.5美元，看涨期权和看跌期权目前行权价均为37美元，如果无风险利率为3.2%，期权有效期6个月，股票A的波动率为0.25,欧式看涨和看跌期权的价格分别为多少？\n",
    "\n",
    "$$\n",
    "c = S_0N(d_1) - Xe^{-rT}N(d_2)  \n",
    "$$  \n",
    " \n",
    "$$\n",
    "p = Xe^{-rT}N(-d_2) - S_0N(-d_1)d_2\n",
    "$$  \n",
    "\n"
   ]
  },
  {
   "cell_type": "code",
   "execution_count": 20,
   "metadata": {},
   "outputs": [],
   "source": [
    "# 看跌期权定价公式\n",
    "from scipy import stats\n",
    "import numpy as np\n",
    "def bs_put(S,X,T,r,sigma):\n",
    "    d1 = (np.log(S/X) + (r+0.5*pow(sigma,2))*T)/(sigma*np.sqrt(T))\n",
    "    d2 = d1 - sigma*np.sqrt(T)\n",
    "    call_price = X*np.exp(-r*T)*stats.norm.cdf(-d2,0,1) - S*stats.norm.cdf(-d1,0,1)*d2\n",
    "    return call_price\n",
    "def bs_call(S,X,T,r,sigma):\n",
    "    d1 = (np.log(S/X) + (r+0.5*pow(sigma,2))*T)/(sigma*np.sqrt(T))\n",
    "    d2 = d1 - sigma*np.sqrt(T)\n",
    "    call_price = S*stats.norm.cdf(d1,0,1) - X*np.exp(-r*T)*stats.norm.cdf(d2,0,1)\n",
    "    return call_price"
   ]
  },
  {
   "cell_type": "code",
   "execution_count": 21,
   "metadata": {},
   "outputs": [],
   "source": [
    "p = bs_put(38.5, 37, 0.5, 0.032, 0.25)\n",
    "c = bs_call(38.5, 37, 0.5, 0.032, 0.25)"
   ]
  },
  {
   "cell_type": "code",
   "execution_count": 24,
   "metadata": {},
   "outputs": [
    {
     "name": "stdout",
     "output_type": "stream",
     "text": [
      "看跌期权价格：11.93940457007854\n",
      "看涨期权价格：3.8114594072676162\n"
     ]
    }
   ],
   "source": [
    "print(f'看跌期权价格：{p}\\n看涨期权价格：{c}')"
   ]
  },
  {
   "cell_type": "markdown",
   "metadata": {},
   "source": [
    "# Q3 假设一个投资持有一个欧式看跌期权，当前期权行权价格为45，期权费用为2元，绘制出看跌期权买方和卖方收益函数"
   ]
  },
  {
   "cell_type": "code",
   "execution_count": 18,
   "metadata": {},
   "outputs": [
    {
     "data": {
      "image/png": "[encoded data removed]",
      "text/plain": [
       "<Figure size 432x288 with 1 Axes>"
      ]
     },
     "metadata": {
      "needs_background": "light"
     },
     "output_type": "display_data"
    }
   ],
   "source": [
    "# 绘图看涨期权交易双方收益图\n",
    "# 定义相关函数\n",
    "#看跌期权\n",
    "def pay_off_call(ST,x,c):\n",
    "    return (x -ST + abs(x -ST))/2 - c\n",
    "import scipy as sp\n",
    "s = np.arange(20,80,2)\n",
    "x = 45; c=2\n",
    "profit = pay_off_call(s,x,c)\n",
    "y2 = np.zeros(len(s))\n",
    "plt.ylim(-30,50)\n",
    "plt.plot(s,profit)\n",
    "plt.plot(s,y2,'-.')\n",
    "plt.plot(s,-profit)\n",
    "plt.title('Profit/Loss function')\n",
    "plt.xlabel('Stock Price')\n",
    "plt.ylabel('Profit Loss')\n",
    "plt.annotate('put option seller',xy=(55,15),xytext=(35,20), arrowprops=dict(facecolor='blue',shrink=0.01),)\n",
    "plt.annotate('put option buyer',xy=(55,-10),xytext=(40,-20), arrowprops=dict(facecolor='red',shrink=0.01),)\n",
    "plt.show()"
   ]
  },
  {
   "cell_type": "code",
   "execution_count": null,
   "metadata": {},
   "outputs": [],
   "source": []
  }
 ],
 "metadata": {
  "kernelspec": {
   "display_name": "Python 3",
   "language": "python",
   "name": "python3"
  },
  "language_info": {
   "codemirror_mode": {
    "name": "ipython",
    "version": 3
   },
   "file_extension": ".py",
   "mimetype": "text/x-python",
   "name": "python",
   "nbconvert_exporter": "python",
   "pygments_lexer": "ipython3",
   "version": "3.7.3"
  },
  "toc": {
   "base_numbering": 1,
   "nav_menu": {},
   "number_sections": true,
   "sideBar": true,
   "skip_h1_title": false,
   "title_cell": "Table of Contents",
   "title_sidebar": "Contents",
   "toc_cell": false,
   "toc_position": {},
   "toc_section_display": true,
   "toc_window_display": false
  }
 },
 "nbformat": 4,
 "nbformat_minor": 2
}
