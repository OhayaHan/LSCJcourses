{
 "cells": [
  {
   "cell_type": "code",
   "execution_count": 7,
   "metadata": {},
   "outputs": [],
   "source": [
    "#==============================================================================\n",
    "# 4.5资本资产定价模型与证券市场线\n",
    "#==============================================================================\n",
    "#Python计算但资产的风险情况\n",
    "import os\n",
    "import pandas as pd\n",
    "indexcd = pd.read_csv(\"TRD_Index.csv\",index_col = 'Trddt')"
   ]
  },
  {
   "cell_type": "code",
   "execution_count": 8,
   "metadata": {},
   "outputs": [
    {
     "data": {
      "text/html": [
       "<div>\n",
       "<style scoped>\n",
       "    .dataframe tbody tr th:only-of-type {\n",
       "        vertical-align: middle;\n",
       "    }\n",
       "\n",
       "    .dataframe tbody tr th {\n",
       "        vertical-align: top;\n",
       "    }\n",
       "\n",
       "    .dataframe thead th {\n",
       "        text-align: right;\n",
       "    }\n",
       "</style>\n",
       "<table border=\"1\" class=\"dataframe\">\n",
       "  <thead>\n",
       "    <tr style=\"text-align: right;\">\n",
       "      <th></th>\n",
       "      <th>Indexcd</th>\n",
       "      <th>Daywk</th>\n",
       "      <th>Opnindex</th>\n",
       "      <th>Hiindex</th>\n",
       "      <th>Loindex</th>\n",
       "      <th>Clsindex</th>\n",
       "      <th>Retindex</th>\n",
       "    </tr>\n",
       "    <tr>\n",
       "      <th>Trddt</th>\n",
       "      <th></th>\n",
       "      <th></th>\n",
       "      <th></th>\n",
       "      <th></th>\n",
       "      <th></th>\n",
       "      <th></th>\n",
       "      <th></th>\n",
       "    </tr>\n",
       "  </thead>\n",
       "  <tbody>\n",
       "    <tr>\n",
       "      <th>2014/1/2</th>\n",
       "      <td>1</td>\n",
       "      <td>4</td>\n",
       "      <td>2112.126</td>\n",
       "      <td>2113.110</td>\n",
       "      <td>2101.016</td>\n",
       "      <td>2109.387</td>\n",
       "      <td>-0.003115</td>\n",
       "    </tr>\n",
       "    <tr>\n",
       "      <th>2014/1/3</th>\n",
       "      <td>1</td>\n",
       "      <td>5</td>\n",
       "      <td>2101.542</td>\n",
       "      <td>2102.167</td>\n",
       "      <td>2075.899</td>\n",
       "      <td>2083.136</td>\n",
       "      <td>-0.012445</td>\n",
       "    </tr>\n",
       "    <tr>\n",
       "      <th>2014/1/6</th>\n",
       "      <td>1</td>\n",
       "      <td>1</td>\n",
       "      <td>2078.684</td>\n",
       "      <td>2078.684</td>\n",
       "      <td>2034.006</td>\n",
       "      <td>2045.709</td>\n",
       "      <td>-0.017967</td>\n",
       "    </tr>\n",
       "    <tr>\n",
       "      <th>2014/1/7</th>\n",
       "      <td>1</td>\n",
       "      <td>2</td>\n",
       "      <td>2034.224</td>\n",
       "      <td>2052.279</td>\n",
       "      <td>2029.246</td>\n",
       "      <td>2047.317</td>\n",
       "      <td>0.000786</td>\n",
       "    </tr>\n",
       "    <tr>\n",
       "      <th>2014/1/8</th>\n",
       "      <td>1</td>\n",
       "      <td>3</td>\n",
       "      <td>2047.256</td>\n",
       "      <td>2062.952</td>\n",
       "      <td>2037.110</td>\n",
       "      <td>2044.340</td>\n",
       "      <td>-0.001454</td>\n",
       "    </tr>\n",
       "  </tbody>\n",
       "</table>\n",
       "</div>"
      ],
      "text/plain": [
       "          Indexcd  Daywk  Opnindex   Hiindex   Loindex  Clsindex  Retindex\n",
       "Trddt                                                                     \n",
       "2014/1/2        1      4  2112.126  2113.110  2101.016  2109.387 -0.003115\n",
       "2014/1/3        1      5  2101.542  2102.167  2075.899  2083.136 -0.012445\n",
       "2014/1/6        1      1  2078.684  2078.684  2034.006  2045.709 -0.017967\n",
       "2014/1/7        1      2  2034.224  2052.279  2029.246  2047.317  0.000786\n",
       "2014/1/8        1      3  2047.256  2062.952  2037.110  2044.340 -0.001454"
      ]
     },
     "execution_count": 8,
     "metadata": {},
     "output_type": "execute_result"
    }
   ],
   "source": [
    "indexcd.head()"
   ]
  },
  {
   "cell_type": "code",
   "execution_count": 9,
   "metadata": {},
   "outputs": [
    {
     "data": {
      "text/plain": [
       "399005    311\n",
       "399001    311\n",
       "903       311\n",
       "3         311\n",
       "399108    311\n",
       "399004    311\n",
       "902       311\n",
       "10        311\n",
       "2         311\n",
       "399107    311\n",
       "1         311\n",
       "399106    311\n",
       "399903    311\n",
       "300       311\n",
       "20        311\n",
       "Name: Indexcd, dtype: int64"
      ]
     },
     "execution_count": 9,
     "metadata": {},
     "output_type": "execute_result"
    }
   ],
   "source": [
    "indexcd['Indexcd'].value_counts()"
   ]
  },
  {
   "cell_type": "code",
   "execution_count": 11,
   "metadata": {},
   "outputs": [
    {
     "data": {
      "text/html": [
       "<div>\n",
       "<style scoped>\n",
       "    .dataframe tbody tr th:only-of-type {\n",
       "        vertical-align: middle;\n",
       "    }\n",
       "\n",
       "    .dataframe tbody tr th {\n",
       "        vertical-align: top;\n",
       "    }\n",
       "\n",
       "    .dataframe thead th {\n",
       "        text-align: right;\n",
       "    }\n",
       "</style>\n",
       "<table border=\"1\" class=\"dataframe\">\n",
       "  <thead>\n",
       "    <tr style=\"text-align: right;\">\n",
       "      <th></th>\n",
       "      <th>Indexcd</th>\n",
       "      <th>Daywk</th>\n",
       "      <th>Opnindex</th>\n",
       "      <th>Hiindex</th>\n",
       "      <th>Loindex</th>\n",
       "      <th>Clsindex</th>\n",
       "      <th>Retindex</th>\n",
       "    </tr>\n",
       "    <tr>\n",
       "      <th>Trddt</th>\n",
       "      <th></th>\n",
       "      <th></th>\n",
       "      <th></th>\n",
       "      <th></th>\n",
       "      <th></th>\n",
       "      <th></th>\n",
       "      <th></th>\n",
       "    </tr>\n",
       "  </thead>\n",
       "  <tbody>\n",
       "    <tr>\n",
       "      <th>2014/1/2</th>\n",
       "      <td>902</td>\n",
       "      <td>4</td>\n",
       "      <td>3014.540</td>\n",
       "      <td>3029.042</td>\n",
       "      <td>3006.146</td>\n",
       "      <td>3028.749</td>\n",
       "      <td>0.002563</td>\n",
       "    </tr>\n",
       "    <tr>\n",
       "      <th>2014/1/3</th>\n",
       "      <td>902</td>\n",
       "      <td>5</td>\n",
       "      <td>3019.490</td>\n",
       "      <td>3022.980</td>\n",
       "      <td>2988.794</td>\n",
       "      <td>3001.462</td>\n",
       "      <td>-0.009009</td>\n",
       "    </tr>\n",
       "    <tr>\n",
       "      <th>2014/1/6</th>\n",
       "      <td>902</td>\n",
       "      <td>1</td>\n",
       "      <td>2995.242</td>\n",
       "      <td>2995.242</td>\n",
       "      <td>2922.058</td>\n",
       "      <td>2927.477</td>\n",
       "      <td>-0.024650</td>\n",
       "    </tr>\n",
       "    <tr>\n",
       "      <th>2014/1/7</th>\n",
       "      <td>902</td>\n",
       "      <td>2</td>\n",
       "      <td>2911.057</td>\n",
       "      <td>2943.681</td>\n",
       "      <td>2905.071</td>\n",
       "      <td>2938.602</td>\n",
       "      <td>0.003800</td>\n",
       "    </tr>\n",
       "    <tr>\n",
       "      <th>2014/1/8</th>\n",
       "      <td>902</td>\n",
       "      <td>3</td>\n",
       "      <td>2942.276</td>\n",
       "      <td>2972.339</td>\n",
       "      <td>2933.970</td>\n",
       "      <td>2950.733</td>\n",
       "      <td>0.004128</td>\n",
       "    </tr>\n",
       "  </tbody>\n",
       "</table>\n",
       "</div>"
      ],
      "text/plain": [
       "          Indexcd  Daywk  Opnindex   Hiindex   Loindex  Clsindex  Retindex\n",
       "Trddt                                                                     \n",
       "2014/1/2      902      4  3014.540  3029.042  3006.146  3028.749  0.002563\n",
       "2014/1/3      902      5  3019.490  3022.980  2988.794  3001.462 -0.009009\n",
       "2014/1/6      902      1  2995.242  2995.242  2922.058  2927.477 -0.024650\n",
       "2014/1/7      902      2  2911.057  2943.681  2905.071  2938.602  0.003800\n",
       "2014/1/8      902      3  2942.276  2972.339  2933.970  2950.733  0.004128"
      ]
     },
     "execution_count": 11,
     "metadata": {},
     "output_type": "execute_result"
    }
   ],
   "source": [
    "#获取中证流通指数的收益率\n",
    "mktcd = indexcd[indexcd.Indexcd ==902]\n",
    "mktcd.head()"
   ]
  },
  {
   "cell_type": "code",
   "execution_count": 12,
   "metadata": {},
   "outputs": [
    {
     "data": {
      "text/plain": [
       "Trddt\n",
       "2014-01-02    0.002563\n",
       "2014-01-03   -0.009009\n",
       "2014-01-06   -0.024650\n",
       "2014-01-07    0.003800\n",
       "2014-01-08    0.004128\n",
       "Name: market, dtype: float64"
      ]
     },
     "execution_count": 12,
     "metadata": {},
     "output_type": "execute_result"
    }
   ],
   "source": [
    "mktret = pd.Series(mktcd.Retindex.values,index = pd.to_datetime(mktcd.index))\n",
    "mktret.name= 'market'\n",
    "\n",
    "mktret = mktret['2014-01-01':'2014']\n",
    "mktret.head()"
   ]
  },
  {
   "cell_type": "code",
   "execution_count": 13,
   "metadata": {},
   "outputs": [
    {
     "data": {
      "text/html": [
       "<div>\n",
       "<style scoped>\n",
       "    .dataframe tbody tr th:only-of-type {\n",
       "        vertical-align: middle;\n",
       "    }\n",
       "\n",
       "    .dataframe tbody tr th {\n",
       "        vertical-align: top;\n",
       "    }\n",
       "\n",
       "    .dataframe thead th {\n",
       "        text-align: right;\n",
       "    }\n",
       "</style>\n",
       "<table border=\"1\" class=\"dataframe\">\n",
       "  <thead>\n",
       "    <tr style=\"text-align: right;\">\n",
       "      <th></th>\n",
       "      <th>Unnamed: 0</th>\n",
       "      <th>Open</th>\n",
       "      <th>High</th>\n",
       "      <th>Low</th>\n",
       "      <th>Close</th>\n",
       "      <th>Volume</th>\n",
       "    </tr>\n",
       "    <tr>\n",
       "      <th>Date</th>\n",
       "      <th></th>\n",
       "      <th></th>\n",
       "      <th></th>\n",
       "      <th></th>\n",
       "      <th></th>\n",
       "      <th></th>\n",
       "    </tr>\n",
       "  </thead>\n",
       "  <tbody>\n",
       "    <tr>\n",
       "      <th>2014-01-01</th>\n",
       "      <td>1</td>\n",
       "      <td>10.59</td>\n",
       "      <td>10.59</td>\n",
       "      <td>10.59</td>\n",
       "      <td>10.59</td>\n",
       "      <td>0</td>\n",
       "    </tr>\n",
       "    <tr>\n",
       "      <th>2014-01-02</th>\n",
       "      <td>2</td>\n",
       "      <td>10.62</td>\n",
       "      <td>10.99</td>\n",
       "      <td>10.58</td>\n",
       "      <td>10.96</td>\n",
       "      <td>10984100</td>\n",
       "    </tr>\n",
       "    <tr>\n",
       "      <th>2014-01-03</th>\n",
       "      <td>3</td>\n",
       "      <td>10.89</td>\n",
       "      <td>11.04</td>\n",
       "      <td>10.71</td>\n",
       "      <td>10.85</td>\n",
       "      <td>7629900</td>\n",
       "    </tr>\n",
       "    <tr>\n",
       "      <th>2014-01-06</th>\n",
       "      <td>4</td>\n",
       "      <td>10.83</td>\n",
       "      <td>10.83</td>\n",
       "      <td>10.00</td>\n",
       "      <td>10.10</td>\n",
       "      <td>14364700</td>\n",
       "    </tr>\n",
       "    <tr>\n",
       "      <th>2014-01-07</th>\n",
       "      <td>5</td>\n",
       "      <td>10.05</td>\n",
       "      <td>10.22</td>\n",
       "      <td>9.95</td>\n",
       "      <td>10.11</td>\n",
       "      <td>5219100</td>\n",
       "    </tr>\n",
       "  </tbody>\n",
       "</table>\n",
       "</div>"
      ],
      "text/plain": [
       "            Unnamed: 0   Open   High    Low  Close    Volume\n",
       "Date                                                        \n",
       "2014-01-01           1  10.59  10.59  10.59  10.59         0\n",
       "2014-01-02           2  10.62  10.99  10.58  10.96  10984100\n",
       "2014-01-03           3  10.89  11.04  10.71  10.85   7629900\n",
       "2014-01-06           4  10.83  10.83  10.00  10.10  14364700\n",
       "2014-01-07           5  10.05  10.22   9.95  10.11   5219100"
      ]
     },
     "execution_count": 13,
     "metadata": {},
     "output_type": "execute_result"
    }
   ],
   "source": [
    "#获取新安股份的数据\n",
    "xin_an = pd.read_csv('xin_an.csv',index_col='Date')\n",
    "xin_an.index = pd.to_datetime(xin_an.index)\n",
    "xin_an.head()"
   ]
  },
  {
   "cell_type": "code",
   "execution_count": 14,
   "metadata": {},
   "outputs": [],
   "source": [
    "#剔除交易量等于0的数据\n",
    "xin_an = xin_an[xin_an.Volume !=0]\n",
    "xin_an['return'] = (xin_an['Close'] - xin_an['Close'].shift(1))/xin_an['Close'].shift(1)\n",
    "#保留收益率变量\n",
    "xin_an = xin_an['return']\n",
    "xin_an.dropna(inplace=True)"
   ]
  },
  {
   "cell_type": "code",
   "execution_count": 15,
   "metadata": {},
   "outputs": [],
   "source": [
    "#将新安股份收益率和市场收益率数据进行合并，计算风险溢价\n",
    "Ret = pd.merge(pd.DataFrame(mktret),pd.DataFrame(xin_an),left_index=True,right_index=True,\n",
    "               how ='inner')\n",
    "#计算无风险收益率\n",
    "rf = 1.036**(1/365) -1\n",
    "Ret['risk_premium'] = Ret['market'] - rf"
   ]
  },
  {
   "cell_type": "code",
   "execution_count": 17,
   "metadata": {},
   "outputs": [
    {
     "data": {
      "text/plain": [
       "Text(0.5, 1.0, 'xinan return VS market return')"
      ]
     },
     "execution_count": 17,
     "metadata": {},
     "output_type": "execute_result"
    },
    {
     "data": {
      "image/png": "[encoded data removed]",
      "text/plain": [
       "<Figure size 432x288 with 1 Axes>"
      ]
     },
     "metadata": {
      "needs_background": "light"
     },
     "output_type": "display_data"
    }
   ],
   "source": [
    "#绘制新安股份和中证指数的散点图\n",
    "import matplotlib.pyplot as plt\n",
    "%matplotlib inline\n",
    "plt.scatter(Ret['return'],Ret['market'])\n",
    "plt.xlabel('xin an return'); plt.ylabel('market')\n",
    "plt.title('xinan return VS market return')"
   ]
  },
  {
   "cell_type": "code",
   "execution_count": 18,
   "metadata": {},
   "outputs": [
    {
     "name": "stdout",
     "output_type": "stream",
     "text": [
      "                            OLS Regression Results                            \n",
      "==============================================================================\n",
      "Dep. Variable:                 return   R-squared:                       0.241\n",
      "Model:                            OLS   Adj. R-squared:                  0.238\n",
      "Method:                 Least Squares   F-statistic:                     76.50\n",
      "Date:                Sun, 28 Jul 2019   Prob (F-statistic):           3.86e-16\n",
      "Time:                        11:15:58   Log-Likelihood:                 578.51\n",
      "No. Observations:                 243   AIC:                            -1153.\n",
      "Df Residuals:                     241   BIC:                            -1146.\n",
      "Df Model:                           1                                         \n",
      "Covariance Type:            nonrobust                                         \n",
      "================================================================================\n",
      "                   coef    std err          t      P>|t|      [0.025      0.975]\n",
      "--------------------------------------------------------------------------------\n",
      "constant        -0.0016      0.001     -1.087      0.278      -0.004       0.001\n",
      "risk_premium     1.1293      0.129      8.747      0.000       0.875       1.384\n",
      "==============================================================================\n",
      "Omnibus:                       47.180   Durbin-Watson:                   1.997\n",
      "Prob(Omnibus):                  0.000   Jarque-Bera (JB):              217.325\n",
      "Skew:                           0.658   Prob(JB):                     6.43e-48\n",
      "Kurtosis:                       7.442   Cond. No.                         89.6\n",
      "==============================================================================\n",
      "\n",
      "Warnings:\n",
      "[1] Standard Errors assume that the covariance matrix of the errors is correctly specified.\n"
     ]
    }
   ],
   "source": [
    "#拟合曲线，找到beta\n",
    "#提出X和Y\n",
    "import  statsmodels.api as sm \n",
    "Ret['constant'] = 1 #增加截距项\n",
    "X  = Ret[['constant','risk_premium']]\n",
    "Y = Ret['return']\n",
    "\n",
    "model= sm.OLS(Y,X)\n",
    "result =model.fit()\n",
    "print(result.summary())"
   ]
  },
  {
   "cell_type": "code",
   "execution_count": 19,
   "metadata": {},
   "outputs": [
    {
     "name": "stderr",
     "output_type": "stream",
     "text": [
      "/Users/luoyonggui/anaconda3/lib/python3.7/site-packages/ipykernel_launcher.py:8: FutureWarning: read_table is deprecated, use read_csv instead.\n",
      "  \n"
     ]
    },
    {
     "data": {
      "text/html": [
       "<div>\n",
       "<style scoped>\n",
       "    .dataframe tbody tr th:only-of-type {\n",
       "        vertical-align: middle;\n",
       "    }\n",
       "\n",
       "    .dataframe tbody tr th {\n",
       "        vertical-align: top;\n",
       "    }\n",
       "\n",
       "    .dataframe thead th {\n",
       "        text-align: right;\n",
       "    }\n",
       "</style>\n",
       "<table border=\"1\" class=\"dataframe\">\n",
       "  <thead>\n",
       "    <tr style=\"text-align: right;\">\n",
       "      <th></th>\n",
       "      <th>Stkcd</th>\n",
       "      <th>Opnprc</th>\n",
       "      <th>Hiprc</th>\n",
       "      <th>Loprc</th>\n",
       "      <th>Clsprc</th>\n",
       "      <th>Dnshrtrd</th>\n",
       "      <th>Dnvaltrd</th>\n",
       "      <th>Dsmvosd</th>\n",
       "      <th>Dsmvtll</th>\n",
       "      <th>Dretwd</th>\n",
       "      <th>Dretnd</th>\n",
       "      <th>Adjprcwd</th>\n",
       "      <th>Adjprcnd</th>\n",
       "      <th>Markettype</th>\n",
       "      <th>Capchgdt</th>\n",
       "      <th>Trdsta</th>\n",
       "    </tr>\n",
       "    <tr>\n",
       "      <th>Trddt</th>\n",
       "      <th></th>\n",
       "      <th></th>\n",
       "      <th></th>\n",
       "      <th></th>\n",
       "      <th></th>\n",
       "      <th></th>\n",
       "      <th></th>\n",
       "      <th></th>\n",
       "      <th></th>\n",
       "      <th></th>\n",
       "      <th></th>\n",
       "      <th></th>\n",
       "      <th></th>\n",
       "      <th></th>\n",
       "      <th></th>\n",
       "      <th></th>\n",
       "    </tr>\n",
       "  </thead>\n",
       "  <tbody>\n",
       "    <tr>\n",
       "      <th>2014/1/2</th>\n",
       "      <td>600015</td>\n",
       "      <td>8.51</td>\n",
       "      <td>8.51</td>\n",
       "      <td>8.24</td>\n",
       "      <td>8.30</td>\n",
       "      <td>37610633</td>\n",
       "      <td>312566002.0</td>\n",
       "      <td>53847800.53</td>\n",
       "      <td>73908541.12</td>\n",
       "      <td>-0.031505</td>\n",
       "      <td>-0.031505</td>\n",
       "      <td>21.201796</td>\n",
       "      <td>16.832287</td>\n",
       "      <td>1</td>\n",
       "      <td>2013/7/24</td>\n",
       "      <td>1</td>\n",
       "    </tr>\n",
       "    <tr>\n",
       "      <th>2014/1/3</th>\n",
       "      <td>600015</td>\n",
       "      <td>8.25</td>\n",
       "      <td>8.25</td>\n",
       "      <td>8.00</td>\n",
       "      <td>8.06</td>\n",
       "      <td>29878459</td>\n",
       "      <td>241173977.0</td>\n",
       "      <td>52290755.70</td>\n",
       "      <td>71771426.68</td>\n",
       "      <td>-0.028916</td>\n",
       "      <td>-0.028916</td>\n",
       "      <td>20.588732</td>\n",
       "      <td>16.345570</td>\n",
       "      <td>1</td>\n",
       "      <td>2013/7/24</td>\n",
       "      <td>1</td>\n",
       "    </tr>\n",
       "    <tr>\n",
       "      <th>2014/1/6</th>\n",
       "      <td>600015</td>\n",
       "      <td>8.10</td>\n",
       "      <td>8.15</td>\n",
       "      <td>7.81</td>\n",
       "      <td>7.87</td>\n",
       "      <td>34358547</td>\n",
       "      <td>272247252.0</td>\n",
       "      <td>51058095.20</td>\n",
       "      <td>70079544.42</td>\n",
       "      <td>-0.023573</td>\n",
       "      <td>-0.023573</td>\n",
       "      <td>20.103390</td>\n",
       "      <td>15.960253</td>\n",
       "      <td>1</td>\n",
       "      <td>2013/7/24</td>\n",
       "      <td>1</td>\n",
       "    </tr>\n",
       "    <tr>\n",
       "      <th>2014/1/7</th>\n",
       "      <td>600015</td>\n",
       "      <td>7.82</td>\n",
       "      <td>7.91</td>\n",
       "      <td>7.74</td>\n",
       "      <td>7.84</td>\n",
       "      <td>21266442</td>\n",
       "      <td>166163363.0</td>\n",
       "      <td>50863464.60</td>\n",
       "      <td>69812405.11</td>\n",
       "      <td>-0.003812</td>\n",
       "      <td>-0.003812</td>\n",
       "      <td>20.026757</td>\n",
       "      <td>15.899413</td>\n",
       "      <td>1</td>\n",
       "      <td>2013/7/24</td>\n",
       "      <td>1</td>\n",
       "    </tr>\n",
       "    <tr>\n",
       "      <th>2014/1/8</th>\n",
       "      <td>600015</td>\n",
       "      <td>7.87</td>\n",
       "      <td>8.04</td>\n",
       "      <td>7.81</td>\n",
       "      <td>8.01</td>\n",
       "      <td>29337361</td>\n",
       "      <td>233617796.0</td>\n",
       "      <td>51966371.36</td>\n",
       "      <td>71326194.51</td>\n",
       "      <td>0.021684</td>\n",
       "      <td>0.021684</td>\n",
       "      <td>20.461011</td>\n",
       "      <td>16.244171</td>\n",
       "      <td>1</td>\n",
       "      <td>2013/7/24</td>\n",
       "      <td>1</td>\n",
       "    </tr>\n",
       "  </tbody>\n",
       "</table>\n",
       "</div>"
      ],
      "text/plain": [
       "           Stkcd  Opnprc  Hiprc  Loprc  Clsprc  Dnshrtrd     Dnvaltrd  \\\n",
       "Trddt                                                                   \n",
       "2014/1/2  600015    8.51   8.51   8.24    8.30  37610633  312566002.0   \n",
       "2014/1/3  600015    8.25   8.25   8.00    8.06  29878459  241173977.0   \n",
       "2014/1/6  600015    8.10   8.15   7.81    7.87  34358547  272247252.0   \n",
       "2014/1/7  600015    7.82   7.91   7.74    7.84  21266442  166163363.0   \n",
       "2014/1/8  600015    7.87   8.04   7.81    8.01  29337361  233617796.0   \n",
       "\n",
       "              Dsmvosd      Dsmvtll    Dretwd    Dretnd   Adjprcwd   Adjprcnd  \\\n",
       "Trddt                                                                          \n",
       "2014/1/2  53847800.53  73908541.12 -0.031505 -0.031505  21.201796  16.832287   \n",
       "2014/1/3  52290755.70  71771426.68 -0.028916 -0.028916  20.588732  16.345570   \n",
       "2014/1/6  51058095.20  70079544.42 -0.023573 -0.023573  20.103390  15.960253   \n",
       "2014/1/7  50863464.60  69812405.11 -0.003812 -0.003812  20.026757  15.899413   \n",
       "2014/1/8  51966371.36  71326194.51  0.021684  0.021684  20.461011  16.244171   \n",
       "\n",
       "          Markettype   Capchgdt  Trdsta  \n",
       "Trddt                                    \n",
       "2014/1/2           1  2013/7/24       1  \n",
       "2014/1/3           1  2013/7/24       1  \n",
       "2014/1/6           1  2013/7/24       1  \n",
       "2014/1/7           1  2013/7/24       1  \n",
       "2014/1/8           1  2013/7/24       1  "
      ]
     },
     "execution_count": 19,
     "metadata": {},
     "output_type": "execute_result"
    }
   ],
   "source": [
    "#==============================================================================\n",
    "# 4.7 Fama-French三因子模型\n",
    "#==============================================================================\n",
    "# 华夏银行案例\n",
    "import os\n",
    "import pandas as pd\n",
    "#%%\n",
    "stock=pd.read_table('stock.txt',sep='\\t',index_col='Trddt')\n",
    "\n",
    "HXBank = stock[stock.Stkcd==600015] #获取华夏银行数据\n",
    "HXBank.head()"
   ]
  },
  {
   "cell_type": "code",
   "execution_count": 20,
   "metadata": {},
   "outputs": [
    {
     "data": {
      "text/plain": [
       "<matplotlib.axes._subplots.AxesSubplot at 0x1299cb6d8>"
      ]
     },
     "execution_count": 20,
     "metadata": {},
     "output_type": "execute_result"
    },
    {
     "data": {
      "image/png": "[encoded data removed]",
      "text/plain": [
       "<Figure size 432x288 with 1 Axes>"
      ]
     },
     "metadata": {
      "needs_background": "light"
     },
     "output_type": "display_data"
    }
   ],
   "source": [
    "HXBank.index=pd.to_datetime(HXBank.index)\n",
    "HXRet=HXBank.Dretwd\n",
    "HXRet.name='HXRet'\n",
    "HXRet.plot()"
   ]
  },
  {
   "cell_type": "code",
   "execution_count": 21,
   "metadata": {},
   "outputs": [
    {
     "name": "stderr",
     "output_type": "stream",
     "text": [
      "/Users/luoyonggui/anaconda3/lib/python3.7/site-packages/ipykernel_launcher.py:3: FutureWarning: read_table is deprecated, use read_csv instead.\n",
      "  This is separate from the ipykernel package so we can avoid doing imports until\n"
     ]
    }
   ],
   "source": [
    "#读取三因子数据\n",
    "ThreeFactors=pd.read_table('ThreeFactors.txt',sep='\\t',\n",
    "                           index_col='TradingDate')\n",
    "#将索引转化为时间格式\n",
    "ThreeFactors.index=pd.to_datetime(ThreeFactors.index)\n",
    "ThrFac=ThreeFactors['2014-01-02':] #截取2014年1月2号以后的数据\n",
    "ThrFac=ThrFac.iloc[:,[2,4,6]] #提取对应的3个因子\n",
    "#合并股票收益率和3因子的相关数据\n",
    "HXThrFac=pd.merge(pd.DataFrame(HXRet),pd.DataFrame(ThrFac),\n",
    "                  left_index=True,right_index=True)"
   ]
  },
  {
   "cell_type": "code",
   "execution_count": 22,
   "metadata": {},
   "outputs": [
    {
     "data": {
      "image/png": "[encoded data removed]",
      "text/plain": [
       "<Figure size 432x288 with 3 Axes>"
      ]
     },
     "metadata": {
      "needs_background": "light"
     },
     "output_type": "display_data"
    }
   ],
   "source": [
    "#作图\n",
    "import matplotlib.pyplot as plt\n",
    "plt.subplot(2,2,1)\n",
    "plt.scatter(HXThrFac.HXRet,HXThrFac.RiskPremium2)\n",
    "plt.subplot(2,2,2)\n",
    "plt.scatter(HXThrFac.HXRet,HXThrFac.SMB2)\n",
    "plt.subplot(2,2,3)\n",
    "plt.scatter(HXThrFac.HXRet,HXThrFac.HML2)\n",
    "plt.show()"
   ]
  },
  {
   "cell_type": "code",
   "execution_count": 23,
   "metadata": {},
   "outputs": [
    {
     "name": "stderr",
     "output_type": "stream",
     "text": [
      "/Users/luoyonggui/anaconda3/lib/python3.7/site-packages/numpy/core/fromnumeric.py:2389: FutureWarning: Method .ptp is deprecated and will be removed in a future version. Use numpy.ptp instead.\n",
      "  return ptp(axis=axis, out=out, **kwargs)\n"
     ]
    },
    {
     "data": {
      "text/html": [
       "<table class=\"simpletable\">\n",
       "<caption>OLS Regression Results</caption>\n",
       "<tr>\n",
       "  <th>Dep. Variable:</th>          <td>HXRet</td>      <th>  R-squared:         </th> <td>   0.695</td>\n",
       "</tr>\n",
       "<tr>\n",
       "  <th>Model:</th>                   <td>OLS</td>       <th>  Adj. R-squared:    </th> <td>   0.692</td>\n",
       "</tr>\n",
       "<tr>\n",
       "  <th>Method:</th>             <td>Least Squares</td>  <th>  F-statistic:       </th> <td>   232.5</td>\n",
       "</tr>\n",
       "<tr>\n",
       "  <th>Date:</th>             <td>Sun, 28 Jul 2019</td> <th>  Prob (F-statistic):</th> <td>1.43e-78</td>\n",
       "</tr>\n",
       "<tr>\n",
       "  <th>Time:</th>                 <td>16:11:04</td>     <th>  Log-Likelihood:    </th> <td>  929.94</td>\n",
       "</tr>\n",
       "<tr>\n",
       "  <th>No. Observations:</th>      <td>   310</td>      <th>  AIC:               </th> <td>  -1852.</td>\n",
       "</tr>\n",
       "<tr>\n",
       "  <th>Df Residuals:</th>          <td>   306</td>      <th>  BIC:               </th> <td>  -1837.</td>\n",
       "</tr>\n",
       "<tr>\n",
       "  <th>Df Model:</th>              <td>     3</td>      <th>                     </th>     <td> </td>   \n",
       "</tr>\n",
       "<tr>\n",
       "  <th>Covariance Type:</th>      <td>nonrobust</td>    <th>                     </th>     <td> </td>   \n",
       "</tr>\n",
       "</table>\n",
       "<table class=\"simpletable\">\n",
       "<tr>\n",
       "        <td></td>          <th>coef</th>     <th>std err</th>      <th>t</th>      <th>P>|t|</th>  <th>[0.025</th>    <th>0.975]</th>  \n",
       "</tr>\n",
       "<tr>\n",
       "  <th>const</th>        <td>    0.0003</td> <td>    0.001</td> <td>    0.444</td> <td> 0.657</td> <td>   -0.001</td> <td>    0.002</td>\n",
       "</tr>\n",
       "<tr>\n",
       "  <th>RiskPremium2</th> <td>    1.0459</td> <td>    0.057</td> <td>   18.438</td> <td> 0.000</td> <td>    0.934</td> <td>    1.158</td>\n",
       "</tr>\n",
       "<tr>\n",
       "  <th>SMB2</th>         <td>    0.1899</td> <td>    0.104</td> <td>    1.820</td> <td> 0.070</td> <td>   -0.015</td> <td>    0.395</td>\n",
       "</tr>\n",
       "<tr>\n",
       "  <th>HML2</th>         <td>    0.5659</td> <td>    0.091</td> <td>    6.236</td> <td> 0.000</td> <td>    0.387</td> <td>    0.744</td>\n",
       "</tr>\n",
       "</table>\n",
       "<table class=\"simpletable\">\n",
       "<tr>\n",
       "  <th>Omnibus:</th>       <td>56.500</td> <th>  Durbin-Watson:     </th> <td>   1.917</td>\n",
       "</tr>\n",
       "<tr>\n",
       "  <th>Prob(Omnibus):</th> <td> 0.000</td> <th>  Jarque-Bera (JB):  </th> <td> 270.229</td>\n",
       "</tr>\n",
       "<tr>\n",
       "  <th>Skew:</th>          <td> 0.637</td> <th>  Prob(JB):          </th> <td>2.09e-59</td>\n",
       "</tr>\n",
       "<tr>\n",
       "  <th>Kurtosis:</th>      <td> 7.393</td> <th>  Cond. No.          </th> <td>    194.</td>\n",
       "</tr>\n",
       "</table><br/><br/>Warnings:<br/>[1] Standard Errors assume that the covariance matrix of the errors is correctly specified."
      ],
      "text/plain": [
       "<class 'statsmodels.iolib.summary.Summary'>\n",
       "\"\"\"\n",
       "                            OLS Regression Results                            \n",
       "==============================================================================\n",
       "Dep. Variable:                  HXRet   R-squared:                       0.695\n",
       "Model:                            OLS   Adj. R-squared:                  0.692\n",
       "Method:                 Least Squares   F-statistic:                     232.5\n",
       "Date:                Sun, 28 Jul 2019   Prob (F-statistic):           1.43e-78\n",
       "Time:                        16:11:04   Log-Likelihood:                 929.94\n",
       "No. Observations:                 310   AIC:                            -1852.\n",
       "Df Residuals:                     306   BIC:                            -1837.\n",
       "Df Model:                           3                                         \n",
       "Covariance Type:            nonrobust                                         \n",
       "================================================================================\n",
       "                   coef    std err          t      P>|t|      [0.025      0.975]\n",
       "--------------------------------------------------------------------------------\n",
       "const            0.0003      0.001      0.444      0.657      -0.001       0.002\n",
       "RiskPremium2     1.0459      0.057     18.438      0.000       0.934       1.158\n",
       "SMB2             0.1899      0.104      1.820      0.070      -0.015       0.395\n",
       "HML2             0.5659      0.091      6.236      0.000       0.387       0.744\n",
       "==============================================================================\n",
       "Omnibus:                       56.500   Durbin-Watson:                   1.917\n",
       "Prob(Omnibus):                  0.000   Jarque-Bera (JB):              270.229\n",
       "Skew:                           0.637   Prob(JB):                     2.09e-59\n",
       "Kurtosis:                       7.393   Cond. No.                         194.\n",
       "==============================================================================\n",
       "\n",
       "Warnings:\n",
       "[1] Standard Errors assume that the covariance matrix of the errors is correctly specified.\n",
       "\"\"\""
      ]
     },
     "execution_count": 23,
     "metadata": {},
     "output_type": "execute_result"
    }
   ],
   "source": [
    "#回归\n",
    "import statsmodels.api as sm\n",
    "regThrFac=sm.OLS(HXThrFac.HXRet,sm.add_constant(HXThrFac.iloc[:,1:4]))\n",
    "result=regThrFac.fit()\n",
    "result.summary()"
   ]
  },
  {
   "cell_type": "code",
   "execution_count": 24,
   "metadata": {},
   "outputs": [
    {
     "data": {
      "text/plain": [
       "const           0.000313\n",
       "RiskPremium2    1.045921\n",
       "SMB2            0.189923\n",
       "HML2            0.565870\n",
       "dtype: float64"
      ]
     },
     "execution_count": 24,
     "metadata": {},
     "output_type": "execute_result"
    }
   ],
   "source": [
    "result.params"
   ]
  },
  {
   "cell_type": "code",
   "execution_count": null,
   "metadata": {},
   "outputs": [],
   "source": []
  }
 ],
 "metadata": {
  "kernelspec": {
   "display_name": "Python 3",
   "language": "python",
   "name": "python3"
  },
  "language_info": {
   "codemirror_mode": {
    "name": "ipython",
    "version": 3
   },
   "file_extension": ".py",
   "mimetype": "text/x-python",
   "name": "python",
   "nbconvert_exporter": "python",
   "pygments_lexer": "ipython3",
   "version": "3.7.3"
  },
  "toc": {
   "base_numbering": 1,
   "nav_menu": {},
   "number_sections": true,
   "sideBar": true,
   "skip_h1_title": false,
   "title_cell": "Table of Contents",
   "title_sidebar": "Contents",
   "toc_cell": false,
   "toc_position": {},
   "toc_section_display": true,
   "toc_window_display": false
  }
 },
 "nbformat": 4,
 "nbformat_minor": 2
}
