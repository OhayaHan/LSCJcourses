{
 "cells": [
  {
   "cell_type": "markdown",
   "metadata": {},
   "source": [
    "# Q1. CAPM模型中的alpha值，经常被投资者用来作为投资决策的依据，一般来讲投资者会选择持有alpha较大的股票，现在，假设市场投资组合的收益率为10%,无风险利率为4%，A公司的β值为1.2，预期收益率为9%，而B公司的β值为1.3，预期收益率为12%，那么投资者应该选择那只股票？\n",
    "\n",
    " α=Ri−Rf−βi∗(E(Rm)−Rf)\n",
    "\n",
    "\n",
    "\n",
    "\n",
    "E(Ri): 资产期望回报率\n",
    "\n",
    "\n",
    "Rf: 无风险利率\n",
    "βi: 资产Beta系数，描述资产与市场相关性\n",
    "\n",
    "\n",
    "βi=Cov(Ri,Rm)Var(Rm)\n",
    "βi=Cov(Ri,Rm)Var(Rm)\n",
    "\n",
    "\n",
    "E(Rm): 市场期望回报率\n",
    "\n",
    "\n",
    "E(Rm)−Rf: 市场风险溢价补偿\n",
    "\n",
    "\n",
    "E(Ri)−Rf: 资产风险溢价补偿\n",
    "\n",
    "\n",
    "α>0，表示一基金或股票的价格可能被低估，建议买入。亦即表示该基金或股票以投资技术获得平均比预期回报大的实际回报。\n",
    "\n",
    "\n",
    "　　\n",
    "α<0，表示一基金或股票的价格可能被高估，建议卖空。亦即表示该基金或股票以投资技术获得平均比预期回报小的实际回报。\n",
    "\n",
    "\n",
    "　　\n",
    "α=0，表示一基金或股票的价格准确反映其内在价值，未被高估也未被低估。亦即表示该基金或股票以投资技术获得平均与预期回报相等的实际回报。\n",
    "\n",
    "\n",
    "\n",
    "\n",
    "αA=0.09-0.04-1.2*（0.1-0.04）=0.05-1.2*0.06=0.05-0.072=-0.022\n",
    "αB=0.12-0.04-1.3*（0.1-0.04）=0.08-1.3*0.06=0.08-0.078=0.002\n",
    "\n",
    "\n",
    "得出：αB>0，应该选择B公司的这个股票。"
   ]
  },
  {
   "cell_type": "code",
   "execution_count": 1,
   "metadata": {},
   "outputs": [],
   "source": [
    "RiA = 0.09\n",
    "RiB = 0.12\n",
    "Rf = 0.04\n",
    "betaA = 1.2\n",
    "betaB = 1.3\n",
    "Rm = 0.1"
   ]
  },
  {
   "cell_type": "markdown",
   "metadata": {},
   "source": [
    "可以看出，A公司的收益率0.09要小于市场投资组合收益率10%，而要承担比市场投资组合更高的风险（betaA>1)；\n",
    "\n",
    "显然投资B公司的股票要更划算！"
   ]
  },
  {
   "cell_type": "markdown",
   "metadata": {},
   "source": [
    "# Q2. 获取中国农业银行2014年的股票数据，并建立CAPM模型，市场组合收益率用本次课程的数据，无风险利率为3.6%。\n",
    "\n",
    "下载农业银行的数据代码为：\n",
    "```\n",
    "import pandas_datareader.data as web\n",
    "nyyh = web.DataReader('601288.SS','yahoo', dt.datetime(2014,1,1),dt.datetime(2014,12,31))\n",
    "```\n",
    "\n",
    "\n"
   ]
  },
  {
   "cell_type": "code",
   "execution_count": 4,
   "metadata": {},
   "outputs": [],
   "source": [
    "import datetime as dt"
   ]
  },
  {
   "cell_type": "code",
   "execution_count": 5,
   "metadata": {},
   "outputs": [],
   "source": [
    "import pandas_datareader.data as web\n",
    "nyyh = web.DataReader('601288.SS','yahoo', dt.datetime(2014,1,1),dt.datetime(2014,12,31))"
   ]
  },
  {
   "cell_type": "code",
   "execution_count": 6,
   "metadata": {},
   "outputs": [
    {
     "data": {
      "text/html": [
       "<div>\n",
       "<style scoped>\n",
       "    .dataframe tbody tr th:only-of-type {\n",
       "        vertical-align: middle;\n",
       "    }\n",
       "\n",
       "    .dataframe tbody tr th {\n",
       "        vertical-align: top;\n",
       "    }\n",
       "\n",
       "    .dataframe thead th {\n",
       "        text-align: right;\n",
       "    }\n",
       "</style>\n",
       "<table border=\"1\" class=\"dataframe\">\n",
       "  <thead>\n",
       "    <tr style=\"text-align: right;\">\n",
       "      <th></th>\n",
       "      <th>High</th>\n",
       "      <th>Low</th>\n",
       "      <th>Open</th>\n",
       "      <th>Close</th>\n",
       "      <th>Volume</th>\n",
       "      <th>Adj Close</th>\n",
       "    </tr>\n",
       "    <tr>\n",
       "      <th>Date</th>\n",
       "      <th></th>\n",
       "      <th></th>\n",
       "      <th></th>\n",
       "      <th></th>\n",
       "      <th></th>\n",
       "      <th></th>\n",
       "    </tr>\n",
       "  </thead>\n",
       "  <tbody>\n",
       "    <tr>\n",
       "      <th>2014-01-02</th>\n",
       "      <td>2.48</td>\n",
       "      <td>2.45</td>\n",
       "      <td>2.48</td>\n",
       "      <td>2.47</td>\n",
       "      <td>58007158.0</td>\n",
       "      <td>1.804129</td>\n",
       "    </tr>\n",
       "    <tr>\n",
       "      <th>2014-01-03</th>\n",
       "      <td>2.47</td>\n",
       "      <td>2.44</td>\n",
       "      <td>2.46</td>\n",
       "      <td>2.46</td>\n",
       "      <td>65319035.0</td>\n",
       "      <td>1.796825</td>\n",
       "    </tr>\n",
       "    <tr>\n",
       "      <th>2014-01-06</th>\n",
       "      <td>2.46</td>\n",
       "      <td>2.41</td>\n",
       "      <td>2.46</td>\n",
       "      <td>2.44</td>\n",
       "      <td>103628249.0</td>\n",
       "      <td>1.782217</td>\n",
       "    </tr>\n",
       "    <tr>\n",
       "      <th>2014-01-07</th>\n",
       "      <td>2.43</td>\n",
       "      <td>2.41</td>\n",
       "      <td>2.42</td>\n",
       "      <td>2.43</td>\n",
       "      <td>62578367.0</td>\n",
       "      <td>1.774912</td>\n",
       "    </tr>\n",
       "    <tr>\n",
       "      <th>2014-01-08</th>\n",
       "      <td>2.43</td>\n",
       "      <td>2.41</td>\n",
       "      <td>2.42</td>\n",
       "      <td>2.42</td>\n",
       "      <td>80706713.0</td>\n",
       "      <td>1.767608</td>\n",
       "    </tr>\n",
       "  </tbody>\n",
       "</table>\n",
       "</div>"
      ],
      "text/plain": [
       "            High   Low  Open  Close       Volume  Adj Close\n",
       "Date                                                       \n",
       "2014-01-02  2.48  2.45  2.48   2.47   58007158.0   1.804129\n",
       "2014-01-03  2.47  2.44  2.46   2.46   65319035.0   1.796825\n",
       "2014-01-06  2.46  2.41  2.46   2.44  103628249.0   1.782217\n",
       "2014-01-07  2.43  2.41  2.42   2.43   62578367.0   1.774912\n",
       "2014-01-08  2.43  2.41  2.42   2.42   80706713.0   1.767608"
      ]
     },
     "execution_count": 6,
     "metadata": {},
     "output_type": "execute_result"
    }
   ],
   "source": [
    "nyyh.head()"
   ]
  },
  {
   "cell_type": "code",
   "execution_count": 8,
   "metadata": {},
   "outputs": [],
   "source": [
    "#Python计算但资产的风险情况\n",
    "import os\n",
    "import pandas as pd\n",
    "indexcd = pd.read_csv(\"TRD_Index.csv\",index_col = 'Trddt')\n",
    "#获取中证流通指数的收益率\n",
    "mktcd = indexcd[indexcd.Indexcd ==902]\n",
    "mktret = pd.Series(mktcd.Retindex.values,index = pd.to_datetime(mktcd.index))\n",
    "mktret.name= 'market'\n",
    "\n",
    "mktret = mktret['2014-01-01':'2014']"
   ]
  },
  {
   "cell_type": "code",
   "execution_count": 9,
   "metadata": {},
   "outputs": [],
   "source": [
    "#将新安股份收益率和市场收益率数据进行合并，计算风险溢价\n",
    "Ret = pd.merge(pd.DataFrame(mktret),pd.DataFrame(nyyh['Ret']),left_index=True,right_index=True,\n",
    "               how ='inner')\n",
    "#计算无风险收益率\n",
    "rf = 1.036**(1/365) -1\n",
    "Ret['risk_premium'] = Ret['market'] - rf"
   ]
  },
  {
   "cell_type": "code",
   "execution_count": 20,
   "metadata": {},
   "outputs": [],
   "source": [
    "nyyh['Ret'] = (nyyh['Close'] - nyyh['Open'])/nyyh['Open'] - rf"
   ]
  },
  {
   "cell_type": "code",
   "execution_count": 21,
   "metadata": {},
   "outputs": [
    {
     "data": {
      "text/plain": [
       "Text(0.5, 1.0, 'nyyh return VS market return')"
      ]
     },
     "execution_count": 21,
     "metadata": {},
     "output_type": "execute_result"
    },
    {
     "data": {
      "image/png": "[encoded data removed]",
      "text/plain": [
       "<Figure size 432x288 with 1 Axes>"
      ]
     },
     "metadata": {
      "needs_background": "light"
     },
     "output_type": "display_data"
    }
   ],
   "source": [
    "#绘制新安股份和中证指数的散点图\n",
    "import matplotlib.pyplot as plt\n",
    "%matplotlib inline\n",
    "plt.scatter(Ret['Ret'],Ret['market'])\n",
    "plt.xlabel('nyyh return'); plt.ylabel('market')\n",
    "plt.title('nyyh return VS market return')"
   ]
  },
  {
   "cell_type": "code",
   "execution_count": 22,
   "metadata": {},
   "outputs": [],
   "source": [
    "from sklearn.linear_model import LinearRegression"
   ]
  },
  {
   "cell_type": "code",
   "execution_count": 23,
   "metadata": {},
   "outputs": [
    {
     "data": {
      "text/html": [
       "<div>\n",
       "<style scoped>\n",
       "    .dataframe tbody tr th:only-of-type {\n",
       "        vertical-align: middle;\n",
       "    }\n",
       "\n",
       "    .dataframe tbody tr th {\n",
       "        vertical-align: top;\n",
       "    }\n",
       "\n",
       "    .dataframe thead th {\n",
       "        text-align: right;\n",
       "    }\n",
       "</style>\n",
       "<table border=\"1\" class=\"dataframe\">\n",
       "  <thead>\n",
       "    <tr style=\"text-align: right;\">\n",
       "      <th></th>\n",
       "      <th>market</th>\n",
       "      <th>Ret</th>\n",
       "      <th>risk_premium</th>\n",
       "    </tr>\n",
       "    <tr>\n",
       "      <th>Trddt</th>\n",
       "      <th></th>\n",
       "      <th></th>\n",
       "      <th></th>\n",
       "    </tr>\n",
       "  </thead>\n",
       "  <tbody>\n",
       "    <tr>\n",
       "      <th>2014-01-02</th>\n",
       "      <td>0.002563</td>\n",
       "      <td>-0.004032</td>\n",
       "      <td>0.002466</td>\n",
       "    </tr>\n",
       "    <tr>\n",
       "      <th>2014-01-03</th>\n",
       "      <td>-0.009009</td>\n",
       "      <td>0.000000</td>\n",
       "      <td>-0.009106</td>\n",
       "    </tr>\n",
       "    <tr>\n",
       "      <th>2014-01-06</th>\n",
       "      <td>-0.024650</td>\n",
       "      <td>-0.008130</td>\n",
       "      <td>-0.024747</td>\n",
       "    </tr>\n",
       "    <tr>\n",
       "      <th>2014-01-07</th>\n",
       "      <td>0.003800</td>\n",
       "      <td>0.004132</td>\n",
       "      <td>0.003703</td>\n",
       "    </tr>\n",
       "    <tr>\n",
       "      <th>2014-01-08</th>\n",
       "      <td>0.004128</td>\n",
       "      <td>0.000000</td>\n",
       "      <td>0.004031</td>\n",
       "    </tr>\n",
       "  </tbody>\n",
       "</table>\n",
       "</div>"
      ],
      "text/plain": [
       "              market       Ret  risk_premium\n",
       "Trddt                                       \n",
       "2014-01-02  0.002563 -0.004032      0.002466\n",
       "2014-01-03 -0.009009  0.000000     -0.009106\n",
       "2014-01-06 -0.024650 -0.008130     -0.024747\n",
       "2014-01-07  0.003800  0.004132      0.003703\n",
       "2014-01-08  0.004128  0.000000      0.004031"
      ]
     },
     "execution_count": 23,
     "metadata": {},
     "output_type": "execute_result"
    }
   ],
   "source": [
    "Ret.head()"
   ]
  },
  {
   "cell_type": "code",
   "execution_count": 24,
   "metadata": {},
   "outputs": [],
   "source": [
    "import numpy as np"
   ]
  },
  {
   "cell_type": "code",
   "execution_count": 25,
   "metadata": {},
   "outputs": [
    {
     "data": {
      "text/plain": [
       "LinearRegression(copy_X=True, fit_intercept=True, n_jobs=None,\n",
       "         normalize=False)"
      ]
     },
     "execution_count": 25,
     "metadata": {},
     "output_type": "execute_result"
    }
   ],
   "source": [
    "lr = LinearRegression()\n",
    "lr.fit(np.array(Ret['risk_premium'].tolist()).reshape(-1, 1), Ret['Ret'])"
   ]
  },
  {
   "cell_type": "code",
   "execution_count": 26,
   "metadata": {},
   "outputs": [
    {
     "data": {
      "text/plain": [
       "(0.0016955652016139885, array([0.46805527]))"
      ]
     },
     "execution_count": 26,
     "metadata": {},
     "output_type": "execute_result"
    }
   ],
   "source": [
    "lr.intercept_, lr.coef_"
   ]
  },
  {
   "attachments": {
    "image.png": {
     "image/png": "[encoded data removed]"
    }
   },
   "cell_type": "markdown",
   "metadata": {},
   "source": [
    "# Q3\n",
    "![image.png](attachment:image.png)"
   ]
  },
  {
   "cell_type": "markdown",
   "metadata": {},
   "source": [
    "异常收益率是指某种证券的实际收益率与市场预期收益率之间的差值。"
   ]
  },
  {
   "cell_type": "markdown",
   "metadata": {},
   "source": [
    "Ri - Rm"
   ]
  },
  {
   "cell_type": "code",
   "execution_count": 27,
   "metadata": {},
   "outputs": [
    {
     "data": {
      "text/plain": [
       "0.046799999999999994"
      ]
     },
     "execution_count": 27,
     "metadata": {},
     "output_type": "execute_result"
    }
   ],
   "source": [
    "Ri = 0.01 + 1.2*(0.02-0.005) + 0.5*0.024 + 0.1 * 0.018 + 0.005\n",
    "Ri"
   ]
  },
  {
   "cell_type": "markdown",
   "metadata": {},
   "source": [
    "# Q4. 读取problem21.txt文件中中远航运2014年股价数据以及ThreeFactors.txt文件中的2014年三因子数据，按照相关步骤建立三因子模型。"
   ]
  },
  {
   "cell_type": "code",
   "execution_count": 31,
   "metadata": {},
   "outputs": [
    {
     "data": {
      "text/html": [
       "<div>\n",
       "<style scoped>\n",
       "    .dataframe tbody tr th:only-of-type {\n",
       "        vertical-align: middle;\n",
       "    }\n",
       "\n",
       "    .dataframe tbody tr th {\n",
       "        vertical-align: top;\n",
       "    }\n",
       "\n",
       "    .dataframe thead th {\n",
       "        text-align: right;\n",
       "    }\n",
       "</style>\n",
       "<table border=\"1\" class=\"dataframe\">\n",
       "  <thead>\n",
       "    <tr style=\"text-align: right;\">\n",
       "      <th></th>\n",
       "      <th>zhongxin</th>\n",
       "      <th>zyhy</th>\n",
       "    </tr>\n",
       "    <tr>\n",
       "      <th>Date</th>\n",
       "      <th></th>\n",
       "      <th></th>\n",
       "    </tr>\n",
       "  </thead>\n",
       "  <tbody>\n",
       "    <tr>\n",
       "      <th>2014-01-01</th>\n",
       "      <td>3.87</td>\n",
       "      <td>3.51</td>\n",
       "    </tr>\n",
       "    <tr>\n",
       "      <th>2014-01-02</th>\n",
       "      <td>3.86</td>\n",
       "      <td>3.52</td>\n",
       "    </tr>\n",
       "    <tr>\n",
       "      <th>2014-01-03</th>\n",
       "      <td>3.80</td>\n",
       "      <td>3.35</td>\n",
       "    </tr>\n",
       "    <tr>\n",
       "      <th>2014-01-06</th>\n",
       "      <td>3.74</td>\n",
       "      <td>3.23</td>\n",
       "    </tr>\n",
       "    <tr>\n",
       "      <th>2014-01-07</th>\n",
       "      <td>3.73</td>\n",
       "      <td>3.20</td>\n",
       "    </tr>\n",
       "  </tbody>\n",
       "</table>\n",
       "</div>"
      ],
      "text/plain": [
       "            zhongxin  zyhy\n",
       "Date                      \n",
       "2014-01-01      3.87  3.51\n",
       "2014-01-02      3.86  3.52\n",
       "2014-01-03      3.80  3.35\n",
       "2014-01-06      3.74  3.23\n",
       "2014-01-07      3.73  3.20"
      ]
     },
     "execution_count": 31,
     "metadata": {},
     "output_type": "execute_result"
    }
   ],
   "source": [
    "# 读取中远航运2014年股价数据\n",
    "df = pd.read_csv('problem21.txt', sep='\\s+', parse_dates=['Date'])\n",
    "df.set_index('Date', inplace=True)\n",
    "df.head()"
   ]
  },
  {
   "cell_type": "code",
   "execution_count": 42,
   "metadata": {
    "scrolled": true
   },
   "outputs": [
    {
     "data": {
      "text/plain": [
       "Date\n",
       "2014-01-02    0.002841\n",
       "2014-01-03   -0.050746\n",
       "2014-01-06   -0.037152\n",
       "2014-01-07   -0.009375\n",
       "2014-01-08   -0.009464\n",
       "Name: zyhy, dtype: float64"
      ]
     },
     "execution_count": 42,
     "metadata": {},
     "output_type": "execute_result"
    }
   ],
   "source": [
    "# 计算收益率\n",
    "s = ((df['zyhy']-df['zyhy'].shift(1))/df['zyhy']).dropna()\n",
    "s[:5]"
   ]
  },
  {
   "cell_type": "code",
   "execution_count": 36,
   "metadata": {},
   "outputs": [
    {
     "data": {
      "text/html": [
       "<div>\n",
       "<style scoped>\n",
       "    .dataframe tbody tr th:only-of-type {\n",
       "        vertical-align: middle;\n",
       "    }\n",
       "\n",
       "    .dataframe tbody tr th {\n",
       "        vertical-align: top;\n",
       "    }\n",
       "\n",
       "    .dataframe thead th {\n",
       "        text-align: right;\n",
       "    }\n",
       "</style>\n",
       "<table border=\"1\" class=\"dataframe\">\n",
       "  <thead>\n",
       "    <tr style=\"text-align: right;\">\n",
       "      <th></th>\n",
       "      <th>MarkettypeID</th>\n",
       "      <th>RiskPremium1</th>\n",
       "      <th>RiskPremium2</th>\n",
       "      <th>SMB1</th>\n",
       "      <th>SMB2</th>\n",
       "      <th>HML1</th>\n",
       "      <th>HML2</th>\n",
       "    </tr>\n",
       "    <tr>\n",
       "      <th>TradingDate</th>\n",
       "      <th></th>\n",
       "      <th></th>\n",
       "      <th></th>\n",
       "      <th></th>\n",
       "      <th></th>\n",
       "      <th></th>\n",
       "      <th></th>\n",
       "    </tr>\n",
       "  </thead>\n",
       "  <tbody>\n",
       "    <tr>\n",
       "      <th>1992-01-30</th>\n",
       "      <td>P9710</td>\n",
       "      <td>0.0098</td>\n",
       "      <td>0.0068</td>\n",
       "      <td>-0.000193</td>\n",
       "      <td>-0.003945</td>\n",
       "      <td>0.001878</td>\n",
       "      <td>0.001132</td>\n",
       "    </tr>\n",
       "    <tr>\n",
       "      <th>1992-01-31</th>\n",
       "      <td>P9710</td>\n",
       "      <td>0.0138</td>\n",
       "      <td>0.0098</td>\n",
       "      <td>0.007597</td>\n",
       "      <td>0.006065</td>\n",
       "      <td>-0.003275</td>\n",
       "      <td>-0.002141</td>\n",
       "    </tr>\n",
       "    <tr>\n",
       "      <th>1992-02-01</th>\n",
       "      <td>P9710</td>\n",
       "      <td>0.0058</td>\n",
       "      <td>0.0058</td>\n",
       "      <td>0.011516</td>\n",
       "      <td>0.009544</td>\n",
       "      <td>-0.006743</td>\n",
       "      <td>-0.006776</td>\n",
       "    </tr>\n",
       "    <tr>\n",
       "      <th>1992-02-02</th>\n",
       "      <td>P9710</td>\n",
       "      <td>0.0068</td>\n",
       "      <td>0.0068</td>\n",
       "      <td>0.002621</td>\n",
       "      <td>0.002467</td>\n",
       "      <td>0.004255</td>\n",
       "      <td>0.004255</td>\n",
       "    </tr>\n",
       "    <tr>\n",
       "      <th>1992-02-03</th>\n",
       "      <td>P9710</td>\n",
       "      <td>0.0058</td>\n",
       "      <td>0.0068</td>\n",
       "      <td>0.006923</td>\n",
       "      <td>0.007519</td>\n",
       "      <td>-0.009798</td>\n",
       "      <td>-0.009623</td>\n",
       "    </tr>\n",
       "  </tbody>\n",
       "</table>\n",
       "</div>"
      ],
      "text/plain": [
       "            MarkettypeID  RiskPremium1  RiskPremium2      SMB1      SMB2  \\\n",
       "TradingDate                                                                \n",
       "1992-01-30         P9710        0.0098        0.0068 -0.000193 -0.003945   \n",
       "1992-01-31         P9710        0.0138        0.0098  0.007597  0.006065   \n",
       "1992-02-01         P9710        0.0058        0.0058  0.011516  0.009544   \n",
       "1992-02-02         P9710        0.0068        0.0068  0.002621  0.002467   \n",
       "1992-02-03         P9710        0.0058        0.0068  0.006923  0.007519   \n",
       "\n",
       "                 HML1      HML2  \n",
       "TradingDate                      \n",
       "1992-01-30   0.001878  0.001132  \n",
       "1992-01-31  -0.003275 -0.002141  \n",
       "1992-02-01  -0.006743 -0.006776  \n",
       "1992-02-02   0.004255  0.004255  \n",
       "1992-02-03  -0.009798 -0.009623  "
      ]
     },
     "execution_count": 36,
     "metadata": {},
     "output_type": "execute_result"
    }
   ],
   "source": [
    "ThreeFactors = pd.read_csv('ThreeFactors.txt', sep='\\s+', parse_dates=['TradingDate'])\n",
    "ThreeFactors.set_index('TradingDate', inplace=True)\n",
    "ThreeFactors.head()"
   ]
  },
  {
   "cell_type": "code",
   "execution_count": 37,
   "metadata": {},
   "outputs": [
    {
     "data": {
      "text/html": [
       "<div>\n",
       "<style scoped>\n",
       "    .dataframe tbody tr th:only-of-type {\n",
       "        vertical-align: middle;\n",
       "    }\n",
       "\n",
       "    .dataframe tbody tr th {\n",
       "        vertical-align: top;\n",
       "    }\n",
       "\n",
       "    .dataframe thead th {\n",
       "        text-align: right;\n",
       "    }\n",
       "</style>\n",
       "<table border=\"1\" class=\"dataframe\">\n",
       "  <thead>\n",
       "    <tr style=\"text-align: right;\">\n",
       "      <th></th>\n",
       "      <th>MarkettypeID</th>\n",
       "      <th>RiskPremium1</th>\n",
       "      <th>RiskPremium2</th>\n",
       "      <th>SMB1</th>\n",
       "      <th>SMB2</th>\n",
       "      <th>HML1</th>\n",
       "      <th>HML2</th>\n",
       "    </tr>\n",
       "    <tr>\n",
       "      <th>TradingDate</th>\n",
       "      <th></th>\n",
       "      <th></th>\n",
       "      <th></th>\n",
       "      <th></th>\n",
       "      <th></th>\n",
       "      <th></th>\n",
       "      <th></th>\n",
       "    </tr>\n",
       "  </thead>\n",
       "  <tbody>\n",
       "    <tr>\n",
       "      <th>2014-01-02</th>\n",
       "      <td>P9710</td>\n",
       "      <td>-0.001081</td>\n",
       "      <td>0.000919</td>\n",
       "      <td>-0.017003</td>\n",
       "      <td>-0.014747</td>\n",
       "      <td>-0.017604</td>\n",
       "      <td>-0.019279</td>\n",
       "    </tr>\n",
       "    <tr>\n",
       "      <th>2014-01-03</th>\n",
       "      <td>P9710</td>\n",
       "      <td>-0.010081</td>\n",
       "      <td>-0.009081</td>\n",
       "      <td>-0.008988</td>\n",
       "      <td>-0.005061</td>\n",
       "      <td>-0.013391</td>\n",
       "      <td>-0.015440</td>\n",
       "    </tr>\n",
       "    <tr>\n",
       "      <th>2014-01-06</th>\n",
       "      <td>P9710</td>\n",
       "      <td>-0.018081</td>\n",
       "      <td>-0.020081</td>\n",
       "      <td>0.015599</td>\n",
       "      <td>0.015898</td>\n",
       "      <td>0.009912</td>\n",
       "      <td>0.009018</td>\n",
       "    </tr>\n",
       "    <tr>\n",
       "      <th>2014-01-07</th>\n",
       "      <td>P9710</td>\n",
       "      <td>0.000919</td>\n",
       "      <td>0.001919</td>\n",
       "      <td>-0.008349</td>\n",
       "      <td>-0.007034</td>\n",
       "      <td>-0.014506</td>\n",
       "      <td>-0.015003</td>\n",
       "    </tr>\n",
       "    <tr>\n",
       "      <th>2014-01-08</th>\n",
       "      <td>P9710</td>\n",
       "      <td>-0.000081</td>\n",
       "      <td>0.001919</td>\n",
       "      <td>-0.005764</td>\n",
       "      <td>-0.001121</td>\n",
       "      <td>-0.017683</td>\n",
       "      <td>-0.019687</td>\n",
       "    </tr>\n",
       "  </tbody>\n",
       "</table>\n",
       "</div>"
      ],
      "text/plain": [
       "            MarkettypeID  RiskPremium1  RiskPremium2      SMB1      SMB2  \\\n",
       "TradingDate                                                                \n",
       "2014-01-02         P9710     -0.001081      0.000919 -0.017003 -0.014747   \n",
       "2014-01-03         P9710     -0.010081     -0.009081 -0.008988 -0.005061   \n",
       "2014-01-06         P9710     -0.018081     -0.020081  0.015599  0.015898   \n",
       "2014-01-07         P9710      0.000919      0.001919 -0.008349 -0.007034   \n",
       "2014-01-08         P9710     -0.000081      0.001919 -0.005764 -0.001121   \n",
       "\n",
       "                 HML1      HML2  \n",
       "TradingDate                      \n",
       "2014-01-02  -0.017604 -0.019279  \n",
       "2014-01-03  -0.013391 -0.015440  \n",
       "2014-01-06   0.009912  0.009018  \n",
       "2014-01-07  -0.014506 -0.015003  \n",
       "2014-01-08  -0.017683 -0.019687  "
      ]
     },
     "execution_count": 37,
     "metadata": {},
     "output_type": "execute_result"
    }
   ],
   "source": [
    "# 获取2014年的三因子数据\n",
    "ThreeFactors = ThreeFactors['2014']\n",
    "ThreeFactors.head()"
   ]
  },
  {
   "cell_type": "code",
   "execution_count": 43,
   "metadata": {},
   "outputs": [
    {
     "data": {
      "text/html": [
       "<div>\n",
       "<style scoped>\n",
       "    .dataframe tbody tr th:only-of-type {\n",
       "        vertical-align: middle;\n",
       "    }\n",
       "\n",
       "    .dataframe tbody tr th {\n",
       "        vertical-align: top;\n",
       "    }\n",
       "\n",
       "    .dataframe thead th {\n",
       "        text-align: right;\n",
       "    }\n",
       "</style>\n",
       "<table border=\"1\" class=\"dataframe\">\n",
       "  <thead>\n",
       "    <tr style=\"text-align: right;\">\n",
       "      <th></th>\n",
       "      <th>MarkettypeID</th>\n",
       "      <th>RiskPremium1</th>\n",
       "      <th>RiskPremium2</th>\n",
       "      <th>SMB1</th>\n",
       "      <th>SMB2</th>\n",
       "      <th>HML1</th>\n",
       "      <th>HML2</th>\n",
       "      <th>Ret</th>\n",
       "    </tr>\n",
       "    <tr>\n",
       "      <th>TradingDate</th>\n",
       "      <th></th>\n",
       "      <th></th>\n",
       "      <th></th>\n",
       "      <th></th>\n",
       "      <th></th>\n",
       "      <th></th>\n",
       "      <th></th>\n",
       "      <th></th>\n",
       "    </tr>\n",
       "  </thead>\n",
       "  <tbody>\n",
       "    <tr>\n",
       "      <th>2014-01-02</th>\n",
       "      <td>P9710</td>\n",
       "      <td>-0.001081</td>\n",
       "      <td>0.000919</td>\n",
       "      <td>-0.017003</td>\n",
       "      <td>-0.014747</td>\n",
       "      <td>-0.017604</td>\n",
       "      <td>-0.019279</td>\n",
       "      <td>0.002841</td>\n",
       "    </tr>\n",
       "    <tr>\n",
       "      <th>2014-01-03</th>\n",
       "      <td>P9710</td>\n",
       "      <td>-0.010081</td>\n",
       "      <td>-0.009081</td>\n",
       "      <td>-0.008988</td>\n",
       "      <td>-0.005061</td>\n",
       "      <td>-0.013391</td>\n",
       "      <td>-0.015440</td>\n",
       "      <td>-0.050746</td>\n",
       "    </tr>\n",
       "    <tr>\n",
       "      <th>2014-01-06</th>\n",
       "      <td>P9710</td>\n",
       "      <td>-0.018081</td>\n",
       "      <td>-0.020081</td>\n",
       "      <td>0.015599</td>\n",
       "      <td>0.015898</td>\n",
       "      <td>0.009912</td>\n",
       "      <td>0.009018</td>\n",
       "      <td>-0.037152</td>\n",
       "    </tr>\n",
       "    <tr>\n",
       "      <th>2014-01-07</th>\n",
       "      <td>P9710</td>\n",
       "      <td>0.000919</td>\n",
       "      <td>0.001919</td>\n",
       "      <td>-0.008349</td>\n",
       "      <td>-0.007034</td>\n",
       "      <td>-0.014506</td>\n",
       "      <td>-0.015003</td>\n",
       "      <td>-0.009375</td>\n",
       "    </tr>\n",
       "    <tr>\n",
       "      <th>2014-01-08</th>\n",
       "      <td>P9710</td>\n",
       "      <td>-0.000081</td>\n",
       "      <td>0.001919</td>\n",
       "      <td>-0.005764</td>\n",
       "      <td>-0.001121</td>\n",
       "      <td>-0.017683</td>\n",
       "      <td>-0.019687</td>\n",
       "      <td>-0.009464</td>\n",
       "    </tr>\n",
       "  </tbody>\n",
       "</table>\n",
       "</div>"
      ],
      "text/plain": [
       "            MarkettypeID  RiskPremium1  RiskPremium2      SMB1      SMB2  \\\n",
       "TradingDate                                                                \n",
       "2014-01-02         P9710     -0.001081      0.000919 -0.017003 -0.014747   \n",
       "2014-01-03         P9710     -0.010081     -0.009081 -0.008988 -0.005061   \n",
       "2014-01-06         P9710     -0.018081     -0.020081  0.015599  0.015898   \n",
       "2014-01-07         P9710      0.000919      0.001919 -0.008349 -0.007034   \n",
       "2014-01-08         P9710     -0.000081      0.001919 -0.005764 -0.001121   \n",
       "\n",
       "                 HML1      HML2       Ret  \n",
       "TradingDate                                \n",
       "2014-01-02  -0.017604 -0.019279  0.002841  \n",
       "2014-01-03  -0.013391 -0.015440 -0.050746  \n",
       "2014-01-06   0.009912  0.009018 -0.037152  \n",
       "2014-01-07  -0.014506 -0.015003 -0.009375  \n",
       "2014-01-08  -0.017683 -0.019687 -0.009464  "
      ]
     },
     "execution_count": 43,
     "metadata": {},
     "output_type": "execute_result"
    }
   ],
   "source": [
    "ThreeFactors['Ret'] = s\n",
    "ThreeFactors.head()"
   ]
  },
  {
   "cell_type": "code",
   "execution_count": 44,
   "metadata": {},
   "outputs": [
    {
     "data": {
      "text/plain": [
       "Index(['MarkettypeID', 'RiskPremium1', 'RiskPremium2', 'SMB1', 'SMB2', 'HML1',\n",
       "       'HML2', 'Ret'],\n",
       "      dtype='object')"
      ]
     },
     "execution_count": 44,
     "metadata": {},
     "output_type": "execute_result"
    }
   ],
   "source": [
    "ThreeFactors.columns"
   ]
  },
  {
   "cell_type": "code",
   "execution_count": 45,
   "metadata": {},
   "outputs": [
    {
     "data": {
      "text/plain": [
       "LinearRegression(copy_X=True, fit_intercept=True, n_jobs=None,\n",
       "         normalize=False)"
      ]
     },
     "execution_count": 45,
     "metadata": {},
     "output_type": "execute_result"
    }
   ],
   "source": [
    "from sklearn.linear_model import LinearRegression\n",
    "lr = LinearRegression()\n",
    "lr.fit(ThreeFactors[['RiskPremium1', 'RiskPremium2', 'SMB1', 'SMB2', 'HML1','HML2']], ThreeFactors['Ret'])"
   ]
  },
  {
   "cell_type": "code",
   "execution_count": 46,
   "metadata": {},
   "outputs": [
    {
     "data": {
      "text/plain": [
       "array([-2.64156505,  3.60204897, -1.09020599,  0.41850609, -2.05665879,\n",
       "        3.01835166])"
      ]
     },
     "execution_count": 46,
     "metadata": {},
     "output_type": "execute_result"
    }
   ],
   "source": [
    "lr.coef_"
   ]
  },
  {
   "cell_type": "code",
   "execution_count": 47,
   "metadata": {},
   "outputs": [
    {
     "data": {
      "text/plain": [
       "0.0015748483691422044"
      ]
     },
     "execution_count": 47,
     "metadata": {},
     "output_type": "execute_result"
    }
   ],
   "source": [
    "lr.intercept_"
   ]
  },
  {
   "cell_type": "code",
   "execution_count": null,
   "metadata": {},
   "outputs": [],
   "source": []
  }
 ],
 "metadata": {
  "kernelspec": {
   "display_name": "Python 3",
   "language": "python",
   "name": "python3"
  },
  "language_info": {
   "codemirror_mode": {
    "name": "ipython",
    "version": 3
   },
   "file_extension": ".py",
   "mimetype": "text/x-python",
   "name": "python",
   "nbconvert_exporter": "python",
   "pygments_lexer": "ipython3",
   "version": "3.7.3"
  },
  "toc": {
   "base_numbering": 1,
   "nav_menu": {},
   "number_sections": true,
   "sideBar": true,
   "skip_h1_title": false,
   "title_cell": "Table of Contents",
   "title_sidebar": "Contents",
   "toc_cell": false,
   "toc_position": {},
   "toc_section_display": true,
   "toc_window_display": false
  }
 },
 "nbformat": 4,
 "nbformat_minor": 2
}
