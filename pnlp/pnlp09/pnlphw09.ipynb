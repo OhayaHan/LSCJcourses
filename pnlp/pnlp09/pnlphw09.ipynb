{
 "cells": [
  {
   "cell_type": "markdown",
   "metadata": {},
   "source": [
    "## pnlphw09\n",
    "《Python自然语言处理》第7章课后习题 2，6，7，17  \n",
    "2.写一个标记模式匹配包含复数中心名词在内的名词短语，如many/JJ researchers/NNS, two/CD weeks/NNS, both/DT new/JJ positions/NNS。通过泛化处理单数名词短语的标记模式，尝试做这个。  \n",
    "\n",
    "6.写一个或多个标记模式处理有连接词的名词短语，如：July/NNP and/CC August/NNP，all/DT your/PRP$ managers/NNS and/CC supervisors/NNS，company/NN courts/NNS and/CC adjudicators/NNS。  \n",
    "\n",
    "7.用任何你之前已经开发的分块器执行下列评估任务。（请注意，大多数分块语料库包含一些内部的不一致，以至于任何合理的基于规则的方法都将产生错误。）  \n",
    "a. 在来自分块语料库的100 个句子上评估你的分块器，报告精度、召回率和F 量度。  \n",
    "b. 使用chunkscore.missed()和chunkscore.incorrect()方法识别你的分块器的错误，并讨论它。  \n",
    "c. 与本章的评估部分讨论的基准分块器比较你的分块器的性能。    \n",
    "\n",
    "17.一个n-gram 分块器可以使用除当前词性标记和n-1 个前面的块的标记以外其他信息。\n",
    "调查其他的上下文模型，如n-1 个前面的词性标记，或一个写前面块标记连同前面和后面的词性标记的组合。"
   ]
  },
  {
   "cell_type": "code",
   "execution_count": null,
   "metadata": {},
   "outputs": [],
   "source": []
  }
 ],
 "metadata": {
  "kernelspec": {
   "display_name": "Python 3",
   "language": "python",
   "name": "python3"
  },
  "language_info": {
   "codemirror_mode": {
    "name": "ipython",
    "version": 3
   },
   "file_extension": ".py",
   "mimetype": "text/x-python",
   "name": "python",
   "nbconvert_exporter": "python",
   "pygments_lexer": "ipython3",
   "version": "3.6.5"
  }
 },
 "nbformat": 4,
 "nbformat_minor": 2
}
