{
 "cells": [
  {
   "cell_type": "markdown",
   "metadata": {},
   "source": [
    "## sparkmlhw01\n",
    "采用Datasets操作，实现WordCount实例，并且按照count值降序显示前50行数据，其中word转换成小写，去除标点符号，去除停用词，考查点：  \n",
    "1）  spark读取文件  \n",
    "2）  dataset转换操作、聚合操作  \n",
    "重点在数据清洗，转成小写，去除标点、停用词等，这里需要自己自定义停用词集合 和 标点符号集合  \n",
    "3）  dataset排序及显示  "
   ]
  },
  {
   "cell_type": "code",
   "execution_count": 3,
   "metadata": {},
   "outputs": [],
   "source": [
    "import pyspark\n",
    "from pyspark.sql import SparkSession"
   ]
  },
  {
   "cell_type": "code",
   "execution_count": 4,
   "metadata": {},
   "outputs": [],
   "source": [
    "#生成SparkSession实例\n",
    "spark = SparkSession.builder \\\n",
    "     .master(\"local[*]\") \\\n",
    "     .appName(\"Word Count\") \\\n",
    "     .config(\"spark.some.config.option\", \"some-value\") \\\n",
    "     .getOrCreate()"
   ]
  },
  {
   "cell_type": "code",
   "execution_count": 11,
   "metadata": {},
   "outputs": [
    {
     "data": {
      "text/plain": [
       "pyspark.sql.dataframe.DataFrame"
      ]
     },
     "execution_count": 11,
     "metadata": {},
     "output_type": "execute_result"
    }
   ],
   "source": [
    "df1 = spark.read.csv(\"file:///home/ian/code/data/sparkml/wordcount\", sep='|', header=False)\n",
    "type(df1)"
   ]
  },
  {
   "cell_type": "code",
   "execution_count": 12,
   "metadata": {},
   "outputs": [
    {
     "name": "stdout",
     "output_type": "stream",
     "text": [
      "+---+--------------------+\n",
      "|_c0|                 _c1|\n",
      "+---+--------------------+\n",
      "|  1|The Apache Hadoop...|\n",
      "|  2|Apache Spark is a...|\n",
      "|  3|Apache Storm is a...|\n",
      "|  4|Below is a high-l...|\n",
      "+---+--------------------+\n",
      "\n"
     ]
    }
   ],
   "source": [
    "df1.show(5)"
   ]
  },
  {
   "cell_type": "code",
   "execution_count": 15,
   "metadata": {},
   "outputs": [],
   "source": [
    "df1 = df1.withColumnRenamed('_c0','index').withColumnRenamed('_c1','content')"
   ]
  },
  {
   "cell_type": "code",
   "execution_count": 16,
   "metadata": {},
   "outputs": [
    {
     "data": {
      "text/plain": [
       "[('index', 'string'), ('content', 'string')]"
      ]
     },
     "execution_count": 16,
     "metadata": {},
     "output_type": "execute_result"
    }
   ],
   "source": [
    "df1.dtypes"
   ]
  },
  {
   "cell_type": "code",
   "execution_count": 18,
   "metadata": {},
   "outputs": [],
   "source": [
    "df2 = df1.select('content')"
   ]
  },
  {
   "cell_type": "code",
   "execution_count": 24,
   "metadata": {},
   "outputs": [],
   "source": [
    "rdd1 = df2.rdd.flatMap(lambda x:x[0].split())\\\n",
    "    .map(lambda x:x.lower())\\\n",
    "    .filter(lambda x: x not in list(\",.:!';\"))\\\n",
    "    .filter(lambda x: x not in [\"the\",\"of\",\"a\",\"to\",\"that\",\"it\",\"for\",\"is\",\"and\"])\\\n",
    "    .map(lambda x:(x,1))\\\n",
    "    .reduceByKey(lambda a,b:a+b)"
   ]
  },
  {
   "cell_type": "code",
   "execution_count": 30,
   "metadata": {},
   "outputs": [
    {
     "name": "stdout",
     "output_type": "stream",
     "text": [
      "+-----------+---+\n",
      "|         _1| _2|\n",
      "+-----------+---+\n",
      "|     apache|  4|\n",
      "|      storm|  3|\n",
      "|      spark|  3|\n",
      "|     hadoop|  2|\n",
      "|    library|  2|\n",
      "|distributed|  2|\n",
      "|       data|  2|\n",
      "|   designed|  2|\n",
      "|computation|  2|\n",
      "| processing|  2|\n",
      "|    system.|  2|\n",
      "|programming|  2|\n",
      "|        sql|  2|\n",
      "|       each|  2|\n",
      "|         on|  2|\n",
      "|    cluster|  2|\n",
      "|         be|  2|\n",
      "| high-level|  2|\n",
      "|         in|  2|\n",
      "|   supports|  2|\n",
      "+-----------+---+\n",
      "only showing top 20 rows\n",
      "\n"
     ]
    }
   ],
   "source": [
    "df3 = spark.createDataFrame(rdd1)\n",
    "df3.sort(df3['_2'].desc()).show()"
   ]
  },
  {
   "cell_type": "code",
   "execution_count": null,
   "metadata": {},
   "outputs": [],
   "source": []
  }
 ],
 "metadata": {
  "kernelspec": {
   "display_name": "Python 3",
   "language": "python",
   "name": "python3"
  },
  "language_info": {
   "codemirror_mode": {
    "name": "ipython",
    "version": 3
   },
   "file_extension": ".py",
   "mimetype": "text/x-python",
   "name": "python",
   "nbconvert_exporter": "python",
   "pygments_lexer": "ipython3",
   "version": "3.7.3"
  }
 },
 "nbformat": 4,
 "nbformat_minor": 2
}
