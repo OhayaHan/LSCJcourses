{
 "cells": [
  {
   "cell_type": "code",
   "execution_count": 1,
   "metadata": {},
   "outputs": [],
   "source": [
    "import pyspark\n",
    "from pyspark.sql import SparkSession"
   ]
  },
  {
   "cell_type": "code",
   "execution_count": 2,
   "metadata": {},
   "outputs": [],
   "source": [
    "#生成SparkSession实例\n",
    "spark = SparkSession.builder \\\n",
    "     .master(\"local[*]\") \\\n",
    "     .appName(\"Word Count\") \\\n",
    "     .config(\"spark.some.config.option\", \"some-value\") \\\n",
    "     .getOrCreate()"
   ]
  },
  {
   "cell_type": "code",
   "execution_count": 5,
   "metadata": {},
   "outputs": [
    {
     "name": "stdout",
     "output_type": "stream",
     "text": [
      "+-------+-------+-----+--------------------+--------------------+-------+----------------+--------------------+\n",
      "|doc_id1|doc_id2|soure|                name|            doc_name|country|        typename|                text|\n",
      "+-------+-------+-----+--------------------+--------------------+-------+----------------+--------------------+\n",
      "|1494604| 549745|    7|Curriculum Vitae-...|curriculum.vitae....|     en|        Business|My professional r...|\n",
      "|1494602| 604435|    7|Five Questions (S...|com.kevinhecker.t...|     en|          Puzzle|Five Questions is...|\n",
      "|1494599| 495855|    7|      RhymasaurusRex|com.yeti.rhymasau...|     en|   Entertainment|Are you a songwri...|\n",
      "|1494596| 714480|    7|            helphelp|com.triplekingkon...|     en|       Lifestyle|guardian angel %2...|\n",
      "|1494593| 568853|    7|Calorie Intake Ca...|com.piusvelte.cal...|     en|Health & Fitness|Description Estim...|\n",
      "+-------+-------+-----+--------------------+--------------------+-------+----------------+--------------------+\n",
      "only showing top 5 rows\n",
      "\n"
     ]
    }
   ],
   "source": [
    "df1 = spark.read.csv(\"file:///Users/luoyonggui/Downloads/data_app\", sep='|', header=False)\n",
    "df2 = df1.withColumnRenamed('_c0','doc_id1')\\\n",
    "    .withColumnRenamed('_c1','doc_id2')\\\n",
    "    .withColumnRenamed('_c2','soure')\\\n",
    "    .withColumnRenamed('_c3','name')\\\n",
    "    .withColumnRenamed('_c4','doc_name')\\\n",
    "    .withColumnRenamed('_c5','country')\\\n",
    "    .withColumnRenamed('_c6','typename')\\\n",
    "    .withColumnRenamed('_c7','text')\n",
    "df2.show(5)"
   ]
  },
  {
   "cell_type": "code",
   "execution_count": 6,
   "metadata": {},
   "outputs": [
    {
     "data": {
      "text/plain": [
       "[('doc_id1', 'string'),\n",
       " ('doc_id2', 'string'),\n",
       " ('soure', 'string'),\n",
       " ('name', 'string'),\n",
       " ('doc_name', 'string'),\n",
       " ('country', 'string'),\n",
       " ('typename', 'string'),\n",
       " ('text', 'string')]"
      ]
     },
     "execution_count": 6,
     "metadata": {},
     "output_type": "execute_result"
    }
   ],
   "source": [
    "df2.dtypes"
   ]
  },
  {
   "cell_type": "code",
   "execution_count": 7,
   "metadata": {},
   "outputs": [],
   "source": [
    "df = spark.createDataFrame([(\"a\", 1), (\"b\", 2), (\"a\",  3), (\"b\", 2), (\"a\",  2), (\"b\", 4), (\"a\",  6)], [\"Col1\", \"Col2\"])"
   ]
  },
  {
   "cell_type": "code",
   "execution_count": 17,
   "metadata": {},
   "outputs": [
    {
     "name": "stdout",
     "output_type": "stream",
     "text": [
      "+----+----+\n",
      "|Col1|Col2|\n",
      "+----+----+\n",
      "|   a|   1|\n",
      "|   b|   2|\n",
      "|   a|   3|\n",
      "|   b|   2|\n",
      "|   a|   2|\n",
      "|   b|   4|\n",
      "|   a|   6|\n",
      "+----+----+\n",
      "\n"
     ]
    }
   ],
   "source": [
    "df.show()"
   ]
  },
  {
   "cell_type": "code",
   "execution_count": 9,
   "metadata": {},
   "outputs": [],
   "source": [
    "from pyspark.sql import Window"
   ]
  },
  {
   "cell_type": "code",
   "execution_count": 12,
   "metadata": {},
   "outputs": [],
   "source": [
    "window = Window.partitionBy(\"Col1\").orderBy(\"Col2\").rowsBetween(Window.unboundedPreceding, Window.currentRow)"
   ]
  },
  {
   "cell_type": "markdown",
   "metadata": {},
   "source": [
    "## rank"
   ]
  },
  {
   "cell_type": "code",
   "execution_count": 14,
   "metadata": {},
   "outputs": [],
   "source": [
    "from pyspark.sql.functions import rank"
   ]
  },
  {
   "cell_type": "code",
   "execution_count": 16,
   "metadata": {},
   "outputs": [
    {
     "name": "stdout",
     "output_type": "stream",
     "text": [
      "+----+----+----+\n",
      "|Col1|Col2|rank|\n",
      "+----+----+----+\n",
      "|   b|   2|   1|\n",
      "|   b|   2|   1|\n",
      "|   b|   4|   3|\n",
      "|   a|   1|   1|\n",
      "|   a|   2|   2|\n",
      "|   a|   3|   3|\n",
      "|   a|   6|   4|\n",
      "+----+----+----+\n",
      "\n"
     ]
    }
   ],
   "source": [
    "df.withColumn(\"rank\", rank().over(window)).show() "
   ]
  },
  {
   "cell_type": "code",
   "execution_count": null,
   "metadata": {},
   "outputs": [],
   "source": []
  },
  {
   "cell_type": "code",
   "execution_count": null,
   "metadata": {},
   "outputs": [],
   "source": [
    "window.rowsBetween(Window.)"
   ]
  },
  {
   "cell_type": "code",
   "execution_count": null,
   "metadata": {},
   "outputs": [],
   "source": []
  },
  {
   "cell_type": "code",
   "execution_count": null,
   "metadata": {},
   "outputs": [],
   "source": [
    "\n",
    "\n",
    ", min\n",
    "df.withColumn(\"rank\", rank().over(window))                 .withColumn(\"min\", min('age').over(window)).show()\n"
   ]
  }
 ],
 "metadata": {
  "kernelspec": {
   "display_name": "Python 3",
   "language": "python",
   "name": "python3"
  },
  "language_info": {
   "codemirror_mode": {
    "name": "ipython",
    "version": 3
   },
   "file_extension": ".py",
   "mimetype": "text/x-python",
   "name": "python",
   "nbconvert_exporter": "python",
   "pygments_lexer": "ipython3",
   "version": "3.7.3"
  },
  "toc": {
   "base_numbering": 1,
   "nav_menu": {},
   "number_sections": true,
   "sideBar": true,
   "skip_h1_title": false,
   "title_cell": "Table of Contents",
   "title_sidebar": "Contents",
   "toc_cell": false,
   "toc_position": {},
   "toc_section_display": true,
   "toc_window_display": false
  }
 },
 "nbformat": 4,
 "nbformat_minor": 2
}
