{
 "cells": [
  {
   "cell_type": "code",
   "execution_count": 1,
   "metadata": {},
   "outputs": [],
   "source": [
    "df1 = spark.read.csv(\"/home/hadoop/Desktop/doc_class.dat\", sep='|', header=True)"
   ]
  },
  {
   "cell_type": "code",
   "execution_count": 2,
   "metadata": {},
   "outputs": [
    {
     "data": {
      "text/plain": [
       "334500"
      ]
     },
     "execution_count": 2,
     "metadata": {},
     "output_type": "execute_result"
    }
   ],
   "source": [
    "df1.count()"
   ]
  },
  {
   "cell_type": "code",
   "execution_count": 3,
   "metadata": {},
   "outputs": [
    {
     "name": "stdout",
     "output_type": "stream",
     "text": [
      "+--------+----------+--------+--------------------+--------------------+\n",
      "|myapp_id|typenameid|typename|          myapp_word|      myapp_word_all|\n",
      "+--------+----------+--------+--------------------+--------------------+\n",
      "| 1376533|         2|  action|game, android, world|game, android, wo...|\n",
      "+--------+----------+--------+--------------------+--------------------+\n",
      "only showing top 1 row\n",
      "\n"
     ]
    }
   ],
   "source": [
    "df1.show(1)"
   ]
  },
  {
   "cell_type": "code",
   "execution_count": 4,
   "metadata": {},
   "outputs": [],
   "source": [
    "from pyspark.ml import Pipeline, PipelineModel\n",
    "from pyspark.ml.classification import LogisticRegression\n",
    "from pyspark.ml.feature import HashingTF, Tokenizer\n",
    "from pyspark.sql import Row\n",
    "from pyspark.ml.linalg import Vector"
   ]
  },
  {
   "cell_type": "code",
   "execution_count": 5,
   "metadata": {},
   "outputs": [],
   "source": [
    "tokenizer = Tokenizer(inputCol='myapp_word_all', outputCol='words')\n",
    "hashingTF = HashingTF(inputCol='words', outputCol='features')"
   ]
  },
  {
   "cell_type": "code",
   "execution_count": 6,
   "metadata": {},
   "outputs": [],
   "source": [
    "from pyspark.sql.functions import col\n",
    "from pyspark.sql.types import IntegerType"
   ]
  },
  {
   "cell_type": "code",
   "execution_count": 7,
   "metadata": {},
   "outputs": [],
   "source": [
    "training = df1.withColumnRenamed('typenameid','label').withColumn('label', col('label').cast(IntegerType()))"
   ]
  },
  {
   "cell_type": "code",
   "execution_count": 16,
   "metadata": {},
   "outputs": [],
   "source": [
    "lr = LogisticRegression(maxIter=10)\n",
    "pipeline = Pipeline(stages=[tokenizer, hashingTF, lr])"
   ]
  },
  {
   "cell_type": "code",
   "execution_count": 21,
   "metadata": {},
   "outputs": [],
   "source": [
    "from pyspark.ml.tuning import ParamGridBuilder\n",
    "paramGrid = ParamGridBuilder().addGrid(hashingTF.numFeatures,[10, 100, 1000]).addGrid(lr.regParam, [0.1, 0.01]).build()"
   ]
  },
  {
   "cell_type": "code",
   "execution_count": 34,
   "metadata": {},
   "outputs": [],
   "source": [
    "from pyspark.ml.evaluation import BinaryClassificationEvaluator\n",
    "evaluator = BinaryClassificationEvaluator()"
   ]
  },
  {
   "cell_type": "code",
   "execution_count": 35,
   "metadata": {},
   "outputs": [],
   "source": [
    "from pyspark.ml.tuning import CrossValidator\n",
    "cv = CrossValidator(estimator=pipeline, evaluator=evaluator, estimatorParamMaps=paramGrid, numFolds=2)"
   ]
  },
  {
   "cell_type": "code",
   "execution_count": 36,
   "metadata": {},
   "outputs": [],
   "source": [
    "cvModel = cv.fit(training)"
   ]
  },
  {
   "cell_type": "code",
   "execution_count": 76,
   "metadata": {},
   "outputs": [],
   "source": [
    "test = training.limit(40)"
   ]
  },
  {
   "cell_type": "code",
   "execution_count": 31,
   "metadata": {},
   "outputs": [],
   "source": [
    "p = cvModel.transform(test)"
   ]
  },
  {
   "cell_type": "code",
   "execution_count": 33,
   "metadata": {
    "scrolled": true
   },
   "outputs": [
    {
     "name": "stdout",
     "output_type": "stream",
     "text": [
      "+--------+-----+--------+--------------------+--------------------+--------------------+--------------------+--------------------+--------------------+----------+\n",
      "|myapp_id|label|typename|          myapp_word|      myapp_word_all|               words|            features|       rawPrediction|         probability|prediction|\n",
      "+--------+-----+--------+--------------------+--------------------+--------------------+--------------------+--------------------+--------------------+----------+\n",
      "| 1376533|    2|  action|game, android, world|game, android, wo...|[game,, android,,...|(10,[0,1,2,3,4,5,...|[-7.5729925252911...|[1.49808390669311...|       2.0|\n",
      "| 1376542|    2|  action|                game|game, app, enjoy,...|[game,, app,, enj...|(10,[0,1,2,3,4,5,...|[-7.5729925252911...|[1.49808390669311...|       2.0|\n",
      "| 1376603|    2|  action|run, tap, collect...|run, tap, collect...|[run,, tap,, coll...|(10,[0,1,2,3,4,5,...|[-7.5729925252911...|[1.49808390669311...|       2.0|\n",
      "| 1376792|    2|  action|                 run|run, ath, game, m...|[run,, ath,, game...|(10,[0,1,2,3,4,5,...|[-7.5729925252911...|[1.49808390669311...|       2.0|\n",
      "+--------+-----+--------+--------------------+--------------------+--------------------+--------------------+--------------------+--------------------+----------+\n",
      "\n"
     ]
    }
   ],
   "source": [
    "p.show()"
   ]
  },
  {
   "cell_type": "code",
   "execution_count": 52,
   "metadata": {},
   "outputs": [
    {
     "data": {
      "text/plain": [
       "10"
      ]
     },
     "execution_count": 52,
     "metadata": {},
     "output_type": "execute_result"
    }
   ],
   "source": [
    "cvModel.bestModel.stages[2].numFeatures"
   ]
  },
  {
   "cell_type": "code",
   "execution_count": 51,
   "metadata": {},
   "outputs": [
    {
     "data": {
      "text/plain": [
       "49"
      ]
     },
     "execution_count": 51,
     "metadata": {},
     "output_type": "execute_result"
    }
   ],
   "source": [
    "cvModel.bestModel.stages[2].numClasses"
   ]
  },
  {
   "cell_type": "code",
   "execution_count": 72,
   "metadata": {},
   "outputs": [
    {
     "data": {
      "text/plain": [
       "<pyspark.ml.classification.LogisticRegressionTrainingSummary at 0x7f38b5dbcdd8>"
      ]
     },
     "execution_count": 72,
     "metadata": {},
     "output_type": "execute_result"
    }
   ],
   "source": [
    "cvModel.bestModel.stages[2].summary"
   ]
  },
  {
   "cell_type": "code",
   "execution_count": 56,
   "metadata": {},
   "outputs": [
    {
     "data": {
      "text/plain": [
       "Param(parent='LogisticRegression_436d80994f403bb078ad', name='regParam', doc='regularization parameter (>= 0)')"
      ]
     },
     "execution_count": 56,
     "metadata": {},
     "output_type": "execute_result"
    }
   ],
   "source": [
    "cvModel.bestModel.stages[2].getParam('regParam')"
   ]
  },
  {
   "cell_type": "code",
   "execution_count": 75,
   "metadata": {},
   "outputs": [
    {
     "data": {
      "text/plain": [
       "1.0"
      ]
     },
     "execution_count": 75,
     "metadata": {},
     "output_type": "execute_result"
    }
   ],
   "source": [
    "cvModel.getEvaluator().evaluate(cvModel.transform(test))"
   ]
  },
  {
   "cell_type": "code",
   "execution_count": 8,
   "metadata": {},
   "outputs": [],
   "source": [
    "from pyspark.ml.linalg import Vectors\n",
    "scoreAndLabels = map(lambda x: (Vectors.dense([1.0 - x[0], x[0]]), x[1]),[(0.1, 0.0), (0.1, 1.0), (0.4, 0.0), (0.6, 0.0), (0.6, 1.0), (0.6, 1.0), (0.8, 1.0)])\n",
    "dataset = spark.createDataFrame(scoreAndLabels, [\"raw\", \"label\"])"
   ]
  },
  {
   "cell_type": "code",
   "execution_count": 10,
   "metadata": {},
   "outputs": [
    {
     "data": {
      "text/plain": [
       "0.7083333333333334"
      ]
     },
     "execution_count": 10,
     "metadata": {},
     "output_type": "execute_result"
    }
   ],
   "source": [
    "from pyspark.ml.evaluation import BinaryClassificationEvaluator\n",
    "evaluator = BinaryClassificationEvaluator(rawPredictionCol=\"raw\")\n",
    "evaluator.evaluate(dataset)"
   ]
  },
  {
   "cell_type": "code",
   "execution_count": 11,
   "metadata": {},
   "outputs": [
    {
     "name": "stdout",
     "output_type": "stream",
     "text": [
      "+--------------------+-----+\n",
      "|                 raw|label|\n",
      "+--------------------+-----+\n",
      "|           [0.9,0.1]|  0.0|\n",
      "|           [0.9,0.1]|  1.0|\n",
      "|           [0.6,0.4]|  0.0|\n",
      "|           [0.4,0.6]|  0.0|\n",
      "|           [0.4,0.6]|  1.0|\n",
      "|           [0.4,0.6]|  1.0|\n",
      "|[0.19999999999999...|  1.0|\n",
      "+--------------------+-----+\n",
      "\n"
     ]
    }
   ],
   "source": [
    "dataset.show()"
   ]
  },
  {
   "cell_type": "code",
   "execution_count": 12,
   "metadata": {},
   "outputs": [
    {
     "data": {
      "text/plain": [
       "True"
      ]
     },
     "execution_count": 12,
     "metadata": {},
     "output_type": "execute_result"
    }
   ],
   "source": [
    "from pyspark.ml.classification import LogisticRegression\n",
    "from pyspark.ml.tuning import ParamGridBuilder\n",
    "lr = LogisticRegression()\n",
    "output = ParamGridBuilder() \\\n",
    "        .baseOn({lr.labelCol: 'l'}) \\\n",
    "        .baseOn([lr.predictionCol, 'p']) \\\n",
    "        .addGrid(lr.regParam, [1.0, 2.0]) \\\n",
    "        .addGrid(lr.maxIter, [1, 5]) \\\n",
    "        .build()\n",
    "expected = [\n",
    "        {lr.regParam: 1.0, lr.maxIter: 1, lr.labelCol: 'l', lr.predictionCol: 'p'},\n",
    "        {lr.regParam: 2.0, lr.maxIter: 1, lr.labelCol: 'l', lr.predictionCol: 'p'},\n",
    "        {lr.regParam: 1.0, lr.maxIter: 5, lr.labelCol: 'l', lr.predictionCol: 'p'},\n",
    "        {lr.regParam: 2.0, lr.maxIter: 5, lr.labelCol: 'l', lr.predictionCol: 'p'}]\n",
    "len(output) == len(expected)"
   ]
  },
  {
   "cell_type": "code",
   "execution_count": 13,
   "metadata": {},
   "outputs": [
    {
     "data": {
      "text/plain": [
       "[{Param(parent='LogisticRegression_446d98d24feabc468dc1', name='labelCol', doc='label column name.'): 'l',\n",
       "  Param(parent='LogisticRegression_446d98d24feabc468dc1', name='predictionCol', doc='prediction column name.'): 'p',\n",
       "  Param(parent='LogisticRegression_446d98d24feabc468dc1', name='regParam', doc='regularization parameter (>= 0).'): 1.0,\n",
       "  Param(parent='LogisticRegression_446d98d24feabc468dc1', name='maxIter', doc='max number of iterations (>= 0).'): 1},\n",
       " {Param(parent='LogisticRegression_446d98d24feabc468dc1', name='labelCol', doc='label column name.'): 'l',\n",
       "  Param(parent='LogisticRegression_446d98d24feabc468dc1', name='predictionCol', doc='prediction column name.'): 'p',\n",
       "  Param(parent='LogisticRegression_446d98d24feabc468dc1', name='regParam', doc='regularization parameter (>= 0).'): 1.0,\n",
       "  Param(parent='LogisticRegression_446d98d24feabc468dc1', name='maxIter', doc='max number of iterations (>= 0).'): 5},\n",
       " {Param(parent='LogisticRegression_446d98d24feabc468dc1', name='labelCol', doc='label column name.'): 'l',\n",
       "  Param(parent='LogisticRegression_446d98d24feabc468dc1', name='predictionCol', doc='prediction column name.'): 'p',\n",
       "  Param(parent='LogisticRegression_446d98d24feabc468dc1', name='regParam', doc='regularization parameter (>= 0).'): 2.0,\n",
       "  Param(parent='LogisticRegression_446d98d24feabc468dc1', name='maxIter', doc='max number of iterations (>= 0).'): 1},\n",
       " {Param(parent='LogisticRegression_446d98d24feabc468dc1', name='labelCol', doc='label column name.'): 'l',\n",
       "  Param(parent='LogisticRegression_446d98d24feabc468dc1', name='predictionCol', doc='prediction column name.'): 'p',\n",
       "  Param(parent='LogisticRegression_446d98d24feabc468dc1', name='regParam', doc='regularization parameter (>= 0).'): 2.0,\n",
       "  Param(parent='LogisticRegression_446d98d24feabc468dc1', name='maxIter', doc='max number of iterations (>= 0).'): 5}]"
      ]
     },
     "execution_count": 13,
     "metadata": {},
     "output_type": "execute_result"
    }
   ],
   "source": [
    "output"
   ]
  },
  {
   "cell_type": "code",
   "execution_count": 14,
   "metadata": {},
   "outputs": [
    {
     "data": {
      "text/plain": [
       "True"
      ]
     },
     "execution_count": 14,
     "metadata": {},
     "output_type": "execute_result"
    }
   ],
   "source": [
    "all([m in expected for m in output])"
   ]
  },
  {
   "cell_type": "code",
   "execution_count": 15,
   "metadata": {},
   "outputs": [
    {
     "name": "stdout",
     "output_type": "stream",
     "text": [
      "{Param(parent='LogisticRegression_446d98d24feabc468dc1', name='labelCol', doc='label column name.'): 'l', Param(parent='LogisticRegression_446d98d24feabc468dc1', name='predictionCol', doc='prediction column name.'): 'p', Param(parent='LogisticRegression_446d98d24feabc468dc1', name='regParam', doc='regularization parameter (>= 0).'): 1.0, Param(parent='LogisticRegression_446d98d24feabc468dc1', name='maxIter', doc='max number of iterations (>= 0).'): 1}\n",
      "{Param(parent='LogisticRegression_446d98d24feabc468dc1', name='labelCol', doc='label column name.'): 'l', Param(parent='LogisticRegression_446d98d24feabc468dc1', name='predictionCol', doc='prediction column name.'): 'p', Param(parent='LogisticRegression_446d98d24feabc468dc1', name='regParam', doc='regularization parameter (>= 0).'): 1.0, Param(parent='LogisticRegression_446d98d24feabc468dc1', name='maxIter', doc='max number of iterations (>= 0).'): 5}\n",
      "{Param(parent='LogisticRegression_446d98d24feabc468dc1', name='labelCol', doc='label column name.'): 'l', Param(parent='LogisticRegression_446d98d24feabc468dc1', name='predictionCol', doc='prediction column name.'): 'p', Param(parent='LogisticRegression_446d98d24feabc468dc1', name='regParam', doc='regularization parameter (>= 0).'): 2.0, Param(parent='LogisticRegression_446d98d24feabc468dc1', name='maxIter', doc='max number of iterations (>= 0).'): 1}\n",
      "{Param(parent='LogisticRegression_446d98d24feabc468dc1', name='labelCol', doc='label column name.'): 'l', Param(parent='LogisticRegression_446d98d24feabc468dc1', name='predictionCol', doc='prediction column name.'): 'p', Param(parent='LogisticRegression_446d98d24feabc468dc1', name='regParam', doc='regularization parameter (>= 0).'): 2.0, Param(parent='LogisticRegression_446d98d24feabc468dc1', name='maxIter', doc='max number of iterations (>= 0).'): 5}\n"
     ]
    }
   ],
   "source": [
    "for m in output:\n",
    "    print(m)"
   ]
  },
  {
   "cell_type": "code",
   "execution_count": 18,
   "metadata": {},
   "outputs": [
    {
     "data": {
      "text/plain": [
       "0.5"
      ]
     },
     "execution_count": 18,
     "metadata": {},
     "output_type": "execute_result"
    }
   ],
   "source": [
    "from pyspark.ml.tuning import CrossValidator\n",
    "from pyspark.ml.classification import LogisticRegression\n",
    "from pyspark.ml.evaluation import BinaryClassificationEvaluator\n",
    "from pyspark.ml.linalg import Vectors\n",
    "dataset = spark.createDataFrame(\n",
    "        [(Vectors.dense([0.0]), 0.0),\n",
    "         (Vectors.dense([0.4]), 1.0),\n",
    "         (Vectors.dense([0.5]), 0.0),\n",
    "         (Vectors.dense([0.6]), 1.0),\n",
    "         (Vectors.dense([1.0]), 1.0)] * 10,\n",
    "        [\"features\", \"label\"])\n",
    "lr = LogisticRegression()\n",
    "grid = ParamGridBuilder().addGrid(lr.maxIter, [0, 1]).build()\n",
    "evaluator = BinaryClassificationEvaluator()\n",
    "cv = CrossValidator(estimator=lr, estimatorParamMaps=grid, evaluator=evaluator,\n",
    "        parallelism=2)\n",
    "cvModel = cv.fit(dataset)\n",
    "cvModel.avgMetrics[0]\n"
   ]
  },
  {
   "cell_type": "code",
   "execution_count": 19,
   "metadata": {},
   "outputs": [
    {
     "data": {
      "text/plain": [
       "0.8333333333333333"
      ]
     },
     "execution_count": 19,
     "metadata": {},
     "output_type": "execute_result"
    }
   ],
   "source": [
    "evaluator.evaluate(cvModel.transform(dataset))"
   ]
  }
 ],
 "metadata": {
  "kernelspec": {
   "display_name": "Python 3",
   "language": "python",
   "name": "python3"
  },
  "language_info": {
   "codemirror_mode": {
    "name": "ipython",
    "version": 3
   },
   "file_extension": ".py",
   "mimetype": "text/x-python",
   "name": "python",
   "nbconvert_exporter": "python",
   "pygments_lexer": "ipython3",
   "version": "3.6.5"
  }
 },
 "nbformat": 4,
 "nbformat_minor": 2
}
