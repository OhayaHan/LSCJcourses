{
 "cells": [
  {
   "cell_type": "markdown",
   "metadata": {},
   "source": [
    "## pysparkhw03\n",
    "第3次课的作业和第2次的课一样，只是需要采用交叉验证的方法来做，并且还要计算各种分类指标，这里要分2次实验，  \n",
    "* 第1次设计1个2元分类器，\n",
    "注：这里的2元分类器，指的就是2值分类，2分类。   \n",
    "* 第2次设计1个多元分类器。  \n",
    "注：这里的多元分类器，指的就是多值分类，多分类。\n",
    "\n",
    "\n",
    "采用ML Pipelines构建一个文档分类器，需要将模型进行保存，并且加载模型后对测试样本进行预测，考查点：\n",
    "1）  spark读取文件  \n",
    "2）  数据清洗，考查Datasets的基本操作  \n",
    "3）  构建分类器的管道，考查构建各种转换操作  \n",
    "4）  读取模型，读取测试数据，并且进行模型测试  \n",
    "5）  重点：自己设置交叉验证的网格参数，采用交叉验证的模型来做  \n",
    "6）  重点：计算分类结果的指标  \n",
    " \n",
    "数据格式：\n",
    "myapp_id|typenameid|typename|myapp_word|myapp_word_all\n",
    " \n",
    "其中文档ID字段为：myapp_id\n",
    "其中文档类别字段为：typenameid\n",
    "其中文档内容为：myapp_word_all"
   ]
  },
  {
   "cell_type": "markdown",
   "metadata": {},
   "source": [
    "#### 有点不明白，语料有46个分类，为什么多分类问题要选择二元分类器？"
   ]
  },
  {
   "cell_type": "code",
   "execution_count": 1,
   "metadata": {},
   "outputs": [
    {
     "name": "stdout",
     "output_type": "stream",
     "text": [
      "+--------+----------+--------+--------------------+--------------------+\n",
      "|myapp_id|typenameid|typename|          myapp_word|      myapp_word_all|\n",
      "+--------+----------+--------+--------------------+--------------------+\n",
      "| 1376533|         2|  action|game, android, world|game, android, wo...|\n",
      "| 1376542|         2|  action|                game|game, app, enjoy,...|\n",
      "| 1376603|         2|  action|run, tap, collect...|run, tap, collect...|\n",
      "| 1376792|         2|  action|                 run|run, ath, game, m...|\n",
      "| 1376941|         2|  action|fight, game, play...|fight, game, play...|\n",
      "+--------+----------+--------+--------------------+--------------------+\n",
      "only showing top 5 rows\n",
      "\n"
     ]
    }
   ],
   "source": [
    "import pyspark\n",
    "from pyspark.sql import SparkSession\n",
    "#生成SparkSession实例\n",
    "spark = SparkSession.builder \\\n",
    "     .master(\"local[*]\") \\\n",
    "     .appName(\"sparkmlhw02\") \\\n",
    "     .config(\"spark.some.config.option\", \"some-value\") \\\n",
    "     .getOrCreate()\n",
    "df1 = spark.read.csv(\"file:///home/ian/code/data/sparkml/doc_class.dat\", sep='|', header=True)\n",
    "df1.show(5)"
   ]
  },
  {
   "cell_type": "code",
   "execution_count": 2,
   "metadata": {},
   "outputs": [
    {
     "data": {
      "text/plain": [
       "334500"
      ]
     },
     "execution_count": 2,
     "metadata": {},
     "output_type": "execute_result"
    }
   ],
   "source": [
    "df1.count()"
   ]
  },
  {
   "cell_type": "markdown",
   "metadata": {},
   "source": [
    "### 查看文章分类数"
   ]
  },
  {
   "cell_type": "code",
   "execution_count": 27,
   "metadata": {},
   "outputs": [
    {
     "data": {
      "text/plain": [
       "46"
      ]
     },
     "execution_count": 27,
     "metadata": {},
     "output_type": "execute_result"
    }
   ],
   "source": [
    "df1.select('typenameid').distinct().count()"
   ]
  },
  {
   "cell_type": "code",
   "execution_count": 3,
   "metadata": {},
   "outputs": [],
   "source": [
    "from pyspark.ml import Pipeline, PipelineModel\n",
    "from pyspark.ml.classification import LogisticRegression\n",
    "from pyspark.ml.feature import HashingTF, Tokenizer\n",
    "from pyspark.sql import Row\n",
    "from pyspark.ml.linalg import Vector\n",
    "from pyspark.sql.functions import col\n",
    "from pyspark.sql.types import IntegerType"
   ]
  },
  {
   "cell_type": "code",
   "execution_count": 4,
   "metadata": {},
   "outputs": [],
   "source": [
    "tokenizer = Tokenizer(inputCol='myapp_word_all', outputCol='words')\n",
    "hashingTF = HashingTF(inputCol='words', outputCol='features')\n",
    "df2 = df1.withColumnRenamed('typenameid','label').withColumn('label', col('label').cast(IntegerType()))\n",
    "#切分训练集和测试集,会先打乱数据集\n",
    "train_set, test_set = df2.randomSplit([0.9,0.1])\n",
    "lr = LogisticRegression(maxIter=10)\n",
    "pipeline = Pipeline(stages=[tokenizer, hashingTF, lr])"
   ]
  },
  {
   "cell_type": "code",
   "execution_count": 12,
   "metadata": {},
   "outputs": [],
   "source": [
    "from pyspark.ml.tuning import ParamGridBuilder\n",
    "paramGrid = ParamGridBuilder().addGrid(hashingTF.numFeatures,[10, 100, 1000]).addGrid(lr.regParam, [0.1, 0.01]).build()"
   ]
  },
  {
   "cell_type": "markdown",
   "metadata": {},
   "source": [
    "### 二元分类器"
   ]
  },
  {
   "cell_type": "code",
   "execution_count": 13,
   "metadata": {},
   "outputs": [],
   "source": [
    "from pyspark.ml.evaluation import BinaryClassificationEvaluator\n",
    "evaluator = BinaryClassificationEvaluator()"
   ]
  },
  {
   "cell_type": "markdown",
   "metadata": {},
   "source": [
    "### 多元分类器"
   ]
  },
  {
   "cell_type": "code",
   "execution_count": 28,
   "metadata": {},
   "outputs": [],
   "source": [
    "from pyspark.ml.evaluation import MulticlassClassificationEvaluator\n",
    "evaluator1 = MulticlassClassificationEvaluator()\n",
    "\n",
    "from pyspark.ml.evaluation import MulticlassClassificationEvaluator\n",
    "evaluator2 = MulticlassClassificationEvaluator(metricName='accuracy')"
   ]
  },
  {
   "cell_type": "code",
   "execution_count": 14,
   "metadata": {},
   "outputs": [],
   "source": [
    "from pyspark.ml.tuning import CrossValidator\n",
    "cv = CrossValidator(estimator=pipeline, evaluator=evaluator, estimatorParamMaps=paramGrid, numFolds=2)"
   ]
  },
  {
   "cell_type": "code",
   "execution_count": 29,
   "metadata": {},
   "outputs": [],
   "source": [
    "cv2 = CrossValidator(estimator=pipeline, evaluator=evaluator1, estimatorParamMaps=paramGrid, numFolds=2)\n",
    "\n",
    "cv3 = CrossValidator(estimator=pipeline, evaluator=evaluator2, estimatorParamMaps=paramGrid, numFolds=2)"
   ]
  },
  {
   "cell_type": "code",
   "execution_count": 33,
   "metadata": {},
   "outputs": [
    {
     "name": "stdout",
     "output_type": "stream",
     "text": [
      "CPU times: user 803 ms, sys: 219 ms, total: 1.02 s\n",
      "Wall time: 47.9 s\n",
      "+--------+-----+---------+--------------------+--------------------+--------------------+--------------------+--------------------+--------------------+----------+\n",
      "|myapp_id|label| typename|          myapp_word|      myapp_word_all|               words|            features|       rawPrediction|         probability|prediction|\n",
      "+--------+-----+---------+--------------------+--------------------+--------------------+--------------------+--------------------+--------------------+----------+\n",
      "| 1376542|    2|   action|                game|game, app, enjoy,...|[game,, app,, enj...|(10,[0,1,2,3,4,5,...|[-7.4660730221135...|[3.76817326402624...|      31.0|\n",
      "| 1376565|    4|   arcade|          game, athi|game, athi, app, ...|[game,, athi,, ap...|(10,[0,1,2,3,4,5,...|[-7.4656338457702...|[3.09631842524217...|      43.0|\n",
      "| 1376595|    4|   arcade|                play|play, easi, game,...|[play,, easi,, ga...|(10,[0,1,2,3,4,5,...|[-7.4656500131951...|[2.82017206312844...|       4.0|\n",
      "| 1376621|    4|   arcade|            challeng|challeng, control...|[challeng,, contr...|(10,[0,1,2,3,4,5,...|[-7.4656338457702...|[3.09631842524217...|      43.0|\n",
      "| 1377044|    4|   arcade|         level, play|level, play, andr...|[level,, play,, a...|(10,[0,1,2,3,4,5,...|[-7.4656338457702...|[3.09631842524217...|      43.0|\n",
      "| 1377059|    4|   arcade|                game|game, control, ea...|[game,, control,,...|(10,[0,1,2,3,4,5,...|[-7.4656338457702...|[3.09631842524217...|      43.0|\n",
      "| 1377092|    3|adventure|game, easi, featu...|game, easi, featu...|[game,, easi,, fe...|(10,[0,1,2,3,4,5,...|[-7.4657407347515...|[3.33315980151349...|      43.0|\n",
      "| 1377191|    2|   action|       shoot, upgrad|shoot, upgrad, at...|[shoot,, upgrad,,...|(10,[0,1,2,3,4,5,...|[-7.4660730221135...|[3.76817326402624...|      31.0|\n",
      "| 1377203|    4|   arcade|  app, play, android|app, play, androi...|[app,, play,, and...|(10,[0,1,2,3,4,5,...|[-7.4656338457702...|[3.09631842524217...|      43.0|\n",
      "| 1377260|    4|   arcade|               enjoy|enjoy, game, game...|[enjoy,, game,, g...|(10,[0,1,2,3,4,5,...|[-7.4656338457702...|[3.09631842524217...|      43.0|\n",
      "| 1377281|    4|   arcade|                 fun|fun, addict, arca...|[fun,, addict,, a...|(10,[0,1,2,3,4,5,...|[-7.4656500131951...|[2.82017206312844...|       4.0|\n",
      "| 1377532|    4|   arcade|                 fun|fun, addict, arca...|[fun,, addict,, a...|(10,[0,1,2,3,4,5,...|[-7.4656500131951...|[2.82017206312844...|       4.0|\n",
      "| 1378114|    4|   arcade|              action|action, addict, a...|[action,, addict,...|(10,[0,1,2,3,4,5,...|[-7.4656338457702...|[3.09631842524217...|      43.0|\n",
      "| 1378210|    4|   arcade|game, run, contro...|game, run, contro...|[game,, run,, con...|(10,[0,1,2,3,4,5,...|[-7.4656338457702...|[3.09631842524217...|      43.0|\n",
      "| 1378280|    4|   arcade|         level, game|level, game, cont...|[level,, game,, c...|(10,[0,1,2,3,4,5,...|[-7.4656338457702...|[3.09631842524217...|      43.0|\n",
      "| 1378293|    4|   arcade|          mode, play|mode, play, actio...|[mode,, play,, ac...|(10,[0,1,2,3,4,5,...|[-7.4656338457702...|[3.09631842524217...|      43.0|\n",
      "| 1378537|    4|   arcade| game, collect, free|game, collect, fr...|[game,, collect,,...|(10,[0,1,2,3,4,5,...|[-7.4656338457702...|[3.09631842524217...|      43.0|\n",
      "| 1378750|    4|   arcade|        enemi, power|enemi, power, eas...|[enemi,, power,, ...|(10,[0,1,2,3,4,5,...|[-7.4656338457702...|[3.09631842524217...|      43.0|\n",
      "| 1378755|    4|   arcade|game, enemi, enjo...|game, enemi, enjo...|[game,, enemi,, e...|(10,[0,1,2,3,4,5,...|[-7.4656500131951...|[2.82017206312844...|       4.0|\n",
      "| 1378975|    4|   arcade|game, mode, addic...|game, mode, addic...|[game,, mode,, ad...|(10,[0,1,2,3,4,5,...|[-7.4656338457702...|[3.09631842524217...|      43.0|\n",
      "+--------+-----+---------+--------------------+--------------------+--------------------+--------------------+--------------------+--------------------+----------+\n",
      "only showing top 20 rows\n",
      "\n"
     ]
    }
   ],
   "source": [
    "%time cvModel = cv.fit(train_set)\n",
    "p = cvModel.transform(test_set)\n",
    "p.show()"
   ]
  },
  {
   "cell_type": "code",
   "execution_count": 30,
   "metadata": {},
   "outputs": [
    {
     "name": "stdout",
     "output_type": "stream",
     "text": [
      "CPU times: user 5 µs, sys: 2 µs, total: 7 µs\n",
      "Wall time: 14.8 µs\n",
      "+--------+-----+---------+--------------------+--------------------+--------------------+--------------------+--------------------+--------------------+----------+\n",
      "|myapp_id|label| typename|          myapp_word|      myapp_word_all|               words|            features|       rawPrediction|         probability|prediction|\n",
      "+--------+-----+---------+--------------------+--------------------+--------------------+--------------------+--------------------+--------------------+----------+\n",
      "| 1376542|    2|   action|                game|game, app, enjoy,...|[game,, app,, enj...|(1000,[10,39,40,4...|[-7.4653634298607...|[1.03979107063494...|       2.0|\n",
      "| 1376565|    4|   arcade|          game, athi|game, athi, app, ...|[game,, athi,, ap...|(1000,[39,57,59,6...|[-7.4653006328221...|[3.56702219049619...|       4.0|\n",
      "| 1376595|    4|   arcade|                play|play, easi, game,...|[play,, easi,, ga...|(1000,[39,57,59,6...|[-7.4652957261185...|[3.26073608822662...|       4.0|\n",
      "| 1376621|    4|   arcade|            challeng|challeng, control...|[challeng,, contr...|(1000,[39,57,59,6...|[-7.4653006328221...|[3.56702219049619...|       4.0|\n",
      "| 1377044|    4|   arcade|         level, play|level, play, andr...|[level,, play,, a...|(1000,[39,57,59,6...|[-7.4653006328221...|[3.56702219049619...|       4.0|\n",
      "| 1377059|    4|   arcade|                game|game, control, ea...|[game,, control,,...|(1000,[39,57,59,6...|[-7.4653006328221...|[3.56702219049619...|       4.0|\n",
      "| 1377092|    3|adventure|game, easi, featu...|game, easi, featu...|[game,, easi,, fe...|(1000,[39,48,59,6...|[-7.4653091130364...|[2.14483627463726...|       3.0|\n",
      "| 1377191|    2|   action|       shoot, upgrad|shoot, upgrad, at...|[shoot,, upgrad,,...|(1000,[10,39,40,4...|[-7.4653634298607...|[1.03979107063494...|       2.0|\n",
      "| 1377203|    4|   arcade|  app, play, android|app, play, androi...|[app,, play,, and...|(1000,[39,57,59,6...|[-7.4653006328221...|[3.56702219049619...|       4.0|\n",
      "| 1377260|    4|   arcade|               enjoy|enjoy, game, game...|[enjoy,, game,, g...|(1000,[39,57,59,6...|[-7.4653006328221...|[3.56702219049619...|       4.0|\n",
      "| 1377281|    4|   arcade|                 fun|fun, addict, arca...|[fun,, addict,, a...|(1000,[39,57,59,6...|[-7.4652957261185...|[3.26073608822662...|       4.0|\n",
      "| 1377532|    4|   arcade|                 fun|fun, addict, arca...|[fun,, addict,, a...|(1000,[39,57,59,6...|[-7.4652957261185...|[3.26073608822662...|       4.0|\n",
      "| 1378114|    4|   arcade|              action|action, addict, a...|[action,, addict,...|(1000,[39,57,59,6...|[-7.4653006328221...|[3.56702219049619...|       4.0|\n",
      "| 1378210|    4|   arcade|game, run, contro...|game, run, contro...|[game,, run,, con...|(1000,[39,57,59,6...|[-7.4653006328221...|[3.56702219049619...|       4.0|\n",
      "| 1378280|    4|   arcade|         level, game|level, game, cont...|[level,, game,, c...|(1000,[39,57,59,6...|[-7.4653006328221...|[3.56702219049619...|       4.0|\n",
      "| 1378293|    4|   arcade|          mode, play|mode, play, actio...|[mode,, play,, ac...|(1000,[39,57,59,6...|[-7.4653006328221...|[3.56702219049619...|       4.0|\n",
      "| 1378537|    4|   arcade| game, collect, free|game, collect, fr...|[game,, collect,,...|(1000,[39,57,59,6...|[-7.4653006328221...|[3.56702219049619...|       4.0|\n",
      "| 1378750|    4|   arcade|        enemi, power|enemi, power, eas...|[enemi,, power,, ...|(1000,[39,57,59,6...|[-7.4653006328221...|[3.56702219049619...|       4.0|\n",
      "| 1378755|    4|   arcade|game, enemi, enjo...|game, enemi, enjo...|[game,, enemi,, e...|(1000,[39,57,59,6...|[-7.4652957261185...|[3.26073608822662...|       4.0|\n",
      "| 1378975|    4|   arcade|game, mode, addic...|game, mode, addic...|[game,, mode,, ad...|(1000,[39,57,59,6...|[-7.4653006328221...|[3.56702219049619...|       4.0|\n",
      "+--------+-----+---------+--------------------+--------------------+--------------------+--------------------+--------------------+--------------------+----------+\n",
      "only showing top 20 rows\n",
      "\n"
     ]
    }
   ],
   "source": [
    "%time\n",
    "cvModel2 = cv2.fit(train_set)\n",
    "p2 = cvModel2.transform(test_set)\n",
    "p2.show()"
   ]
  },
  {
   "cell_type": "code",
   "execution_count": 44,
   "metadata": {},
   "outputs": [
    {
     "name": "stdout",
     "output_type": "stream",
     "text": [
      "CPU times: user 845 ms, sys: 251 ms, total: 1.1 s\n",
      "Wall time: 54.9 s\n",
      "+--------+-----+---------+--------------------+--------------------+--------------------+--------------------+--------------------+--------------------+----------+\n",
      "|myapp_id|label| typename|          myapp_word|      myapp_word_all|               words|            features|       rawPrediction|         probability|prediction|\n",
      "+--------+-----+---------+--------------------+--------------------+--------------------+--------------------+--------------------+--------------------+----------+\n",
      "| 1376542|    2|   action|                game|game, app, enjoy,...|[game,, app,, enj...|(1000,[10,39,40,4...|[-7.4653634298607...|[1.03979107063492...|       2.0|\n",
      "| 1376565|    4|   arcade|          game, athi|game, athi, app, ...|[game,, athi,, ap...|(1000,[39,57,59,6...|[-7.4653006328221...|[3.56702219049621...|       4.0|\n",
      "| 1376595|    4|   arcade|                play|play, easi, game,...|[play,, easi,, ga...|(1000,[39,57,59,6...|[-7.4652957261185...|[3.26073608822666...|       4.0|\n",
      "| 1376621|    4|   arcade|            challeng|challeng, control...|[challeng,, contr...|(1000,[39,57,59,6...|[-7.4653006328221...|[3.56702219049621...|       4.0|\n",
      "| 1377044|    4|   arcade|         level, play|level, play, andr...|[level,, play,, a...|(1000,[39,57,59,6...|[-7.4653006328221...|[3.56702219049621...|       4.0|\n",
      "| 1377059|    4|   arcade|                game|game, control, ea...|[game,, control,,...|(1000,[39,57,59,6...|[-7.4653006328221...|[3.56702219049621...|       4.0|\n",
      "| 1377092|    3|adventure|game, easi, featu...|game, easi, featu...|[game,, easi,, fe...|(1000,[39,48,59,6...|[-7.4653091130364...|[2.14483627463723...|       3.0|\n",
      "| 1377191|    2|   action|       shoot, upgrad|shoot, upgrad, at...|[shoot,, upgrad,,...|(1000,[10,39,40,4...|[-7.4653634298607...|[1.03979107063492...|       2.0|\n",
      "| 1377203|    4|   arcade|  app, play, android|app, play, androi...|[app,, play,, and...|(1000,[39,57,59,6...|[-7.4653006328221...|[3.56702219049621...|       4.0|\n",
      "| 1377260|    4|   arcade|               enjoy|enjoy, game, game...|[enjoy,, game,, g...|(1000,[39,57,59,6...|[-7.4653006328221...|[3.56702219049621...|       4.0|\n",
      "| 1377281|    4|   arcade|                 fun|fun, addict, arca...|[fun,, addict,, a...|(1000,[39,57,59,6...|[-7.4652957261185...|[3.26073608822666...|       4.0|\n",
      "| 1377532|    4|   arcade|                 fun|fun, addict, arca...|[fun,, addict,, a...|(1000,[39,57,59,6...|[-7.4652957261185...|[3.26073608822666...|       4.0|\n",
      "| 1378114|    4|   arcade|              action|action, addict, a...|[action,, addict,...|(1000,[39,57,59,6...|[-7.4653006328221...|[3.56702219049621...|       4.0|\n",
      "| 1378210|    4|   arcade|game, run, contro...|game, run, contro...|[game,, run,, con...|(1000,[39,57,59,6...|[-7.4653006328221...|[3.56702219049621...|       4.0|\n",
      "| 1378280|    4|   arcade|         level, game|level, game, cont...|[level,, game,, c...|(1000,[39,57,59,6...|[-7.4653006328221...|[3.56702219049621...|       4.0|\n",
      "| 1378293|    4|   arcade|          mode, play|mode, play, actio...|[mode,, play,, ac...|(1000,[39,57,59,6...|[-7.4653006328221...|[3.56702219049621...|       4.0|\n",
      "| 1378537|    4|   arcade| game, collect, free|game, collect, fr...|[game,, collect,,...|(1000,[39,57,59,6...|[-7.4653006328221...|[3.56702219049621...|       4.0|\n",
      "| 1378750|    4|   arcade|        enemi, power|enemi, power, eas...|[enemi,, power,, ...|(1000,[39,57,59,6...|[-7.4653006328221...|[3.56702219049621...|       4.0|\n",
      "| 1378755|    4|   arcade|game, enemi, enjo...|game, enemi, enjo...|[game,, enemi,, e...|(1000,[39,57,59,6...|[-7.4652957261185...|[3.26073608822666...|       4.0|\n",
      "| 1378975|    4|   arcade|game, mode, addic...|game, mode, addic...|[game,, mode,, ad...|(1000,[39,57,59,6...|[-7.4653006328221...|[3.56702219049621...|       4.0|\n",
      "+--------+-----+---------+--------------------+--------------------+--------------------+--------------------+--------------------+--------------------+----------+\n",
      "only showing top 20 rows\n",
      "\n"
     ]
    }
   ],
   "source": [
    "%time cvModel3 = cv3.fit(train_set)\n",
    "p3 = cvModel3.transform(test_set)\n",
    "p3.show()"
   ]
  },
  {
   "cell_type": "code",
   "execution_count": 31,
   "metadata": {},
   "outputs": [
    {
     "data": {
      "text/plain": [
       "1.0"
      ]
     },
     "execution_count": 31,
     "metadata": {},
     "output_type": "execute_result"
    }
   ],
   "source": [
    "evaluator.evaluate(p)"
   ]
  },
  {
   "cell_type": "code",
   "execution_count": 37,
   "metadata": {},
   "outputs": [
    {
     "data": {
      "text/plain": [
       "1.0"
      ]
     },
     "execution_count": 37,
     "metadata": {},
     "output_type": "execute_result"
    }
   ],
   "source": [
    "evaluator.evaluate(p, {evaluator.metricName: \"areaUnderROC\"})"
   ]
  },
  {
   "cell_type": "code",
   "execution_count": 36,
   "metadata": {},
   "outputs": [
    {
     "data": {
      "text/plain": [
       "1.0"
      ]
     },
     "execution_count": 36,
     "metadata": {},
     "output_type": "execute_result"
    }
   ],
   "source": [
    "evaluator.evaluate(p, {evaluator.metricName: \"areaUnderPR\"})"
   ]
  },
  {
   "cell_type": "code",
   "execution_count": 38,
   "metadata": {},
   "outputs": [
    {
     "data": {
      "text/plain": [
       "0.9999386223068399"
      ]
     },
     "execution_count": 38,
     "metadata": {},
     "output_type": "execute_result"
    }
   ],
   "source": [
    "evaluator1.evaluate(p2, {evaluator.metricName: \"f1\"})"
   ]
  },
  {
   "cell_type": "code",
   "execution_count": 39,
   "metadata": {},
   "outputs": [
    {
     "data": {
      "text/plain": [
       "0.9999386223068399"
      ]
     },
     "execution_count": 39,
     "metadata": {},
     "output_type": "execute_result"
    }
   ],
   "source": [
    "evaluator1.evaluate(p2, {evaluator.metricName: \"accuracy\"})"
   ]
  },
  {
   "cell_type": "code",
   "execution_count": 40,
   "metadata": {},
   "outputs": [
    {
     "data": {
      "text/plain": [
       "0.9999386223068399"
      ]
     },
     "execution_count": 40,
     "metadata": {},
     "output_type": "execute_result"
    }
   ],
   "source": [
    "evaluator1.evaluate(p2, {evaluator.metricName: \"weightedPrecision\"})"
   ]
  },
  {
   "cell_type": "code",
   "execution_count": 41,
   "metadata": {},
   "outputs": [
    {
     "data": {
      "text/plain": [
       "0.9999386223068399"
      ]
     },
     "execution_count": 41,
     "metadata": {},
     "output_type": "execute_result"
    }
   ],
   "source": [
    "evaluator1.evaluate(p2, {evaluator.metricName: \"weightedRecall\"})"
   ]
  },
  {
   "cell_type": "code",
   "execution_count": 45,
   "metadata": {},
   "outputs": [
    {
     "data": {
      "text/plain": [
       "0.9999398496240601"
      ]
     },
     "execution_count": 45,
     "metadata": {},
     "output_type": "execute_result"
    }
   ],
   "source": [
    "evaluator2.evaluate(p3)"
   ]
  },
  {
   "cell_type": "markdown",
   "metadata": {},
   "source": [
    "## end"
   ]
  },
  {
   "cell_type": "code",
   "execution_count": 19,
   "metadata": {},
   "outputs": [
    {
     "data": {
      "text/plain": [
       "10"
      ]
     },
     "execution_count": 19,
     "metadata": {},
     "output_type": "execute_result"
    }
   ],
   "source": [
    "cvModel.bestModel.stages[2].numFeatures"
   ]
  },
  {
   "cell_type": "code",
   "execution_count": 20,
   "metadata": {},
   "outputs": [
    {
     "data": {
      "text/plain": [
       "49"
      ]
     },
     "execution_count": 20,
     "metadata": {},
     "output_type": "execute_result"
    }
   ],
   "source": [
    "cvModel.bestModel.stages[2].numClasses"
   ]
  },
  {
   "cell_type": "code",
   "execution_count": 21,
   "metadata": {},
   "outputs": [
    {
     "data": {
      "text/plain": [
       "<pyspark.ml.classification.LogisticRegressionTrainingSummary at 0x7f0e8c86fa90>"
      ]
     },
     "execution_count": 21,
     "metadata": {},
     "output_type": "execute_result"
    }
   ],
   "source": [
    "cvModel.bestModel.stages[2].summary"
   ]
  },
  {
   "cell_type": "code",
   "execution_count": 22,
   "metadata": {},
   "outputs": [
    {
     "data": {
      "text/plain": [
       "Param(parent='LogisticRegression_4613a0ab804d5f8035c4', name='regParam', doc='regularization parameter (>= 0)')"
      ]
     },
     "execution_count": 22,
     "metadata": {},
     "output_type": "execute_result"
    }
   ],
   "source": [
    "cvModel.bestModel.stages[2].getParam('regParam')"
   ]
  },
  {
   "cell_type": "code",
   "execution_count": 24,
   "metadata": {},
   "outputs": [
    {
     "data": {
      "text/plain": [
       "1.0"
      ]
     },
     "execution_count": 24,
     "metadata": {},
     "output_type": "execute_result"
    }
   ],
   "source": [
    "cvModel.getEvaluator().evaluate(cvModel.transform(test_set))"
   ]
  },
  {
   "cell_type": "code",
   "execution_count": 8,
   "metadata": {},
   "outputs": [],
   "source": [
    "from pyspark.ml.linalg import Vectors\n",
    "scoreAndLabels = map(lambda x: (Vectors.dense([1.0 - x[0], x[0]]), x[1]),[(0.1, 0.0), (0.1, 1.0), (0.4, 0.0), (0.6, 0.0), (0.6, 1.0), (0.6, 1.0), (0.8, 1.0)])\n",
    "dataset = spark.createDataFrame(scoreAndLabels, [\"raw\", \"label\"])"
   ]
  },
  {
   "cell_type": "code",
   "execution_count": 10,
   "metadata": {},
   "outputs": [
    {
     "data": {
      "text/plain": [
       "0.7083333333333334"
      ]
     },
     "execution_count": 10,
     "metadata": {},
     "output_type": "execute_result"
    }
   ],
   "source": [
    "from pyspark.ml.evaluation import BinaryClassificationEvaluator\n",
    "evaluator = BinaryClassificationEvaluator(rawPredictionCol=\"raw\")\n",
    "evaluator.evaluate(dataset)"
   ]
  },
  {
   "cell_type": "code",
   "execution_count": 11,
   "metadata": {},
   "outputs": [
    {
     "name": "stdout",
     "output_type": "stream",
     "text": [
      "+--------------------+-----+\n",
      "|                 raw|label|\n",
      "+--------------------+-----+\n",
      "|           [0.9,0.1]|  0.0|\n",
      "|           [0.9,0.1]|  1.0|\n",
      "|           [0.6,0.4]|  0.0|\n",
      "|           [0.4,0.6]|  0.0|\n",
      "|           [0.4,0.6]|  1.0|\n",
      "|           [0.4,0.6]|  1.0|\n",
      "|[0.19999999999999...|  1.0|\n",
      "+--------------------+-----+\n",
      "\n"
     ]
    }
   ],
   "source": [
    "dataset.show()"
   ]
  },
  {
   "cell_type": "code",
   "execution_count": 12,
   "metadata": {},
   "outputs": [
    {
     "data": {
      "text/plain": [
       "True"
      ]
     },
     "execution_count": 12,
     "metadata": {},
     "output_type": "execute_result"
    }
   ],
   "source": [
    "from pyspark.ml.classification import LogisticRegression\n",
    "from pyspark.ml.tuning import ParamGridBuilder\n",
    "lr = LogisticRegression()\n",
    "output = ParamGridBuilder() \\\n",
    "        .baseOn({lr.labelCol: 'l'}) \\\n",
    "        .baseOn([lr.predictionCol, 'p']) \\\n",
    "        .addGrid(lr.regParam, [1.0, 2.0]) \\\n",
    "        .addGrid(lr.maxIter, [1, 5]) \\\n",
    "        .build()\n",
    "expected = [\n",
    "        {lr.regParam: 1.0, lr.maxIter: 1, lr.labelCol: 'l', lr.predictionCol: 'p'},\n",
    "        {lr.regParam: 2.0, lr.maxIter: 1, lr.labelCol: 'l', lr.predictionCol: 'p'},\n",
    "        {lr.regParam: 1.0, lr.maxIter: 5, lr.labelCol: 'l', lr.predictionCol: 'p'},\n",
    "        {lr.regParam: 2.0, lr.maxIter: 5, lr.labelCol: 'l', lr.predictionCol: 'p'}]\n",
    "len(output) == len(expected)"
   ]
  },
  {
   "cell_type": "code",
   "execution_count": 13,
   "metadata": {},
   "outputs": [
    {
     "data": {
      "text/plain": [
       "[{Param(parent='LogisticRegression_446d98d24feabc468dc1', name='labelCol', doc='label column name.'): 'l',\n",
       "  Param(parent='LogisticRegression_446d98d24feabc468dc1', name='predictionCol', doc='prediction column name.'): 'p',\n",
       "  Param(parent='LogisticRegression_446d98d24feabc468dc1', name='regParam', doc='regularization parameter (>= 0).'): 1.0,\n",
       "  Param(parent='LogisticRegression_446d98d24feabc468dc1', name='maxIter', doc='max number of iterations (>= 0).'): 1},\n",
       " {Param(parent='LogisticRegression_446d98d24feabc468dc1', name='labelCol', doc='label column name.'): 'l',\n",
       "  Param(parent='LogisticRegression_446d98d24feabc468dc1', name='predictionCol', doc='prediction column name.'): 'p',\n",
       "  Param(parent='LogisticRegression_446d98d24feabc468dc1', name='regParam', doc='regularization parameter (>= 0).'): 1.0,\n",
       "  Param(parent='LogisticRegression_446d98d24feabc468dc1', name='maxIter', doc='max number of iterations (>= 0).'): 5},\n",
       " {Param(parent='LogisticRegression_446d98d24feabc468dc1', name='labelCol', doc='label column name.'): 'l',\n",
       "  Param(parent='LogisticRegression_446d98d24feabc468dc1', name='predictionCol', doc='prediction column name.'): 'p',\n",
       "  Param(parent='LogisticRegression_446d98d24feabc468dc1', name='regParam', doc='regularization parameter (>= 0).'): 2.0,\n",
       "  Param(parent='LogisticRegression_446d98d24feabc468dc1', name='maxIter', doc='max number of iterations (>= 0).'): 1},\n",
       " {Param(parent='LogisticRegression_446d98d24feabc468dc1', name='labelCol', doc='label column name.'): 'l',\n",
       "  Param(parent='LogisticRegression_446d98d24feabc468dc1', name='predictionCol', doc='prediction column name.'): 'p',\n",
       "  Param(parent='LogisticRegression_446d98d24feabc468dc1', name='regParam', doc='regularization parameter (>= 0).'): 2.0,\n",
       "  Param(parent='LogisticRegression_446d98d24feabc468dc1', name='maxIter', doc='max number of iterations (>= 0).'): 5}]"
      ]
     },
     "execution_count": 13,
     "metadata": {},
     "output_type": "execute_result"
    }
   ],
   "source": [
    "output"
   ]
  },
  {
   "cell_type": "code",
   "execution_count": 14,
   "metadata": {},
   "outputs": [
    {
     "data": {
      "text/plain": [
       "True"
      ]
     },
     "execution_count": 14,
     "metadata": {},
     "output_type": "execute_result"
    }
   ],
   "source": [
    "all([m in expected for m in output])"
   ]
  },
  {
   "cell_type": "code",
   "execution_count": 15,
   "metadata": {},
   "outputs": [
    {
     "name": "stdout",
     "output_type": "stream",
     "text": [
      "{Param(parent='LogisticRegression_446d98d24feabc468dc1', name='labelCol', doc='label column name.'): 'l', Param(parent='LogisticRegression_446d98d24feabc468dc1', name='predictionCol', doc='prediction column name.'): 'p', Param(parent='LogisticRegression_446d98d24feabc468dc1', name='regParam', doc='regularization parameter (>= 0).'): 1.0, Param(parent='LogisticRegression_446d98d24feabc468dc1', name='maxIter', doc='max number of iterations (>= 0).'): 1}\n",
      "{Param(parent='LogisticRegression_446d98d24feabc468dc1', name='labelCol', doc='label column name.'): 'l', Param(parent='LogisticRegression_446d98d24feabc468dc1', name='predictionCol', doc='prediction column name.'): 'p', Param(parent='LogisticRegression_446d98d24feabc468dc1', name='regParam', doc='regularization parameter (>= 0).'): 1.0, Param(parent='LogisticRegression_446d98d24feabc468dc1', name='maxIter', doc='max number of iterations (>= 0).'): 5}\n",
      "{Param(parent='LogisticRegression_446d98d24feabc468dc1', name='labelCol', doc='label column name.'): 'l', Param(parent='LogisticRegression_446d98d24feabc468dc1', name='predictionCol', doc='prediction column name.'): 'p', Param(parent='LogisticRegression_446d98d24feabc468dc1', name='regParam', doc='regularization parameter (>= 0).'): 2.0, Param(parent='LogisticRegression_446d98d24feabc468dc1', name='maxIter', doc='max number of iterations (>= 0).'): 1}\n",
      "{Param(parent='LogisticRegression_446d98d24feabc468dc1', name='labelCol', doc='label column name.'): 'l', Param(parent='LogisticRegression_446d98d24feabc468dc1', name='predictionCol', doc='prediction column name.'): 'p', Param(parent='LogisticRegression_446d98d24feabc468dc1', name='regParam', doc='regularization parameter (>= 0).'): 2.0, Param(parent='LogisticRegression_446d98d24feabc468dc1', name='maxIter', doc='max number of iterations (>= 0).'): 5}\n"
     ]
    }
   ],
   "source": [
    "for m in output:\n",
    "    print(m)"
   ]
  },
  {
   "cell_type": "code",
   "execution_count": 18,
   "metadata": {},
   "outputs": [
    {
     "data": {
      "text/plain": [
       "0.5"
      ]
     },
     "execution_count": 18,
     "metadata": {},
     "output_type": "execute_result"
    }
   ],
   "source": [
    "from pyspark.ml.tuning import CrossValidator\n",
    "from pyspark.ml.classification import LogisticRegression\n",
    "from pyspark.ml.evaluation import BinaryClassificationEvaluator\n",
    "from pyspark.ml.linalg import Vectors\n",
    "dataset = spark.createDataFrame(\n",
    "        [(Vectors.dense([0.0]), 0.0),\n",
    "         (Vectors.dense([0.4]), 1.0),\n",
    "         (Vectors.dense([0.5]), 0.0),\n",
    "         (Vectors.dense([0.6]), 1.0),\n",
    "         (Vectors.dense([1.0]), 1.0)] * 10,\n",
    "        [\"features\", \"label\"])\n",
    "lr = LogisticRegression()\n",
    "grid = ParamGridBuilder().addGrid(lr.maxIter, [0, 1]).build()\n",
    "evaluator = BinaryClassificationEvaluator()\n",
    "cv = CrossValidator(estimator=lr, estimatorParamMaps=grid, evaluator=evaluator,\n",
    "        parallelism=2)\n",
    "cvModel = cv.fit(dataset)\n",
    "cvModel.avgMetrics[0]\n"
   ]
  },
  {
   "cell_type": "code",
   "execution_count": 19,
   "metadata": {},
   "outputs": [
    {
     "data": {
      "text/plain": [
       "0.8333333333333333"
      ]
     },
     "execution_count": 19,
     "metadata": {},
     "output_type": "execute_result"
    }
   ],
   "source": [
    "evaluator.evaluate(cvModel.transform(dataset))"
   ]
  }
 ],
 "metadata": {
  "kernelspec": {
   "display_name": "Python 3",
   "language": "python",
   "name": "python3"
  },
  "language_info": {
   "codemirror_mode": {
    "name": "ipython",
    "version": 3
   },
   "file_extension": ".py",
   "mimetype": "text/x-python",
   "name": "python",
   "nbconvert_exporter": "python",
   "pygments_lexer": "ipython3",
   "version": "3.7.3"
  },
  "toc": {
   "base_numbering": 1,
   "nav_menu": {},
   "number_sections": true,
   "sideBar": true,
   "skip_h1_title": false,
   "title_cell": "Table of Contents",
   "title_sidebar": "Contents",
   "toc_cell": false,
   "toc_position": {},
   "toc_section_display": true,
   "toc_window_display": false
  }
 },
 "nbformat": 4,
 "nbformat_minor": 2
}
