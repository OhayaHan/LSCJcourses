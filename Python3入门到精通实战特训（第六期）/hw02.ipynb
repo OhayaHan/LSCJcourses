{
 "cells": [
  {
   "cell_type": "markdown",
   "metadata": {},
   "source": [
    "## 以2to3.py -l列出的内容为全集，列出2to3.py工具默认转换哪些语法点。【注：作业勿提交压缩包】"
   ]
  },
  {
   "cell_type": "code",
   "execution_count": 1,
   "metadata": {
    "scrolled": false
   },
   "outputs": [
    {
     "name": "stdout",
     "output_type": "stream",
     "text": [
      "Available transformations for the -f/--fix option:\r\n",
      "apply\r\n",
      "asserts\r\n",
      "basestring\r\n",
      "buffer\r\n",
      "dict\r\n",
      "except\r\n",
      "exec\r\n",
      "execfile\r\n",
      "exitfunc\r\n",
      "filter\r\n",
      "funcattrs\r\n",
      "future\r\n",
      "getcwdu\r\n",
      "has_key\r\n",
      "idioms\r\n",
      "import\r\n",
      "imports\r\n",
      "imports2\r\n",
      "input\r\n",
      "intern\r\n",
      "isinstance\r\n",
      "itertools\r\n",
      "itertools_imports\r\n",
      "long\r\n",
      "map\r\n",
      "metaclass\r\n",
      "methodattrs\r\n",
      "ne\r\n",
      "next\r\n",
      "nonzero\r\n",
      "numliterals\r\n",
      "operator\r\n",
      "paren\r\n",
      "print\r\n",
      "raise\r\n",
      "raw_input\r\n",
      "reduce\r\n",
      "reload\r\n",
      "renames\r\n",
      "repr\r\n",
      "set_literal\r\n",
      "standarderror\r\n",
      "sys_exc\r\n",
      "throw\r\n",
      "tuple_params\r\n",
      "types\r\n",
      "unicode\r\n",
      "urllib\r\n",
      "ws_comma\r\n",
      "xrange\r\n",
      "xreadlines\r\n",
      "zip\r\n"
     ]
    }
   ],
   "source": [
    "!python /Users/__/anaconda3/bin/2to3 -l"
   ]
  },
  {
   "cell_type": "code",
   "execution_count": 4,
   "metadata": {},
   "outputs": [
    {
     "name": "stdout",
     "output_type": "stream",
     "text": [
      "RefactoringTool: Skipping optional fixer: buffer\n",
      "RefactoringTool: Skipping optional fixer: idioms\n",
      "RefactoringTool: Skipping optional fixer: set_literal\n",
      "RefactoringTool: Skipping optional fixer: ws_comma\n",
      "RefactoringTool: Refactored ../../../Downloads/t.py\n",
      "--- ../../../Downloads/t.py\t(original)\n",
      "+++ ../../../Downloads/t.py\t(refactored)\n",
      "@@ -1 +1 @@\n",
      "-print 'hello'\n",
      "+print('hello')\n",
      "RefactoringTool: Files that need to be modified:\n",
      "RefactoringTool: ../../../Downloads/t.py\n"
     ]
    }
   ],
   "source": [
    "!python /Users/__/anaconda3/bin/2to3 ../../../Downloads/t.py"
   ]
  },
  {
   "cell_type": "markdown",
   "metadata": {},
   "source": [
    "**默认的转换语法点：buffer idioms set_literal ws_comma**"
   ]
  },
  {
   "cell_type": "code",
   "execution_count": null,
   "metadata": {},
   "outputs": [],
   "source": []
  }
 ],
 "metadata": {
  "kernelspec": {
   "display_name": "Python 3",
   "language": "python",
   "name": "python3"
  },
  "language_info": {
   "codemirror_mode": {
    "name": "ipython",
    "version": 3
   },
   "file_extension": ".py",
   "mimetype": "text/x-python",
   "name": "python",
   "nbconvert_exporter": "python",
   "pygments_lexer": "ipython3",
   "version": "3.7.3"
  },
  "toc": {
   "base_numbering": 1,
   "nav_menu": {},
   "number_sections": true,
   "sideBar": true,
   "skip_h1_title": false,
   "title_cell": "Table of Contents",
   "title_sidebar": "Contents",
   "toc_cell": false,
   "toc_position": {},
   "toc_section_display": true,
   "toc_window_display": false
  }
 },
 "nbformat": 4,
 "nbformat_minor": 2
}
