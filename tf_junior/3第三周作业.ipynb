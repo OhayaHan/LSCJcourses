{
 "cells": [
  {
   "cell_type": "markdown",
   "metadata": {},
   "source": [
    "### tfhw03\n",
    "优化mnist分类的程序，把测试准确率提升到95%。把程序和运行结果截图上传。\n",
    "\n",
    "试着加了一层100个神经元的隐层  \n",
    "* 如果隐层和输出层的激活函数都使用tanh,外加一层softmax，精度到91%左右  \n",
    "* 如果隐层和输出层的激活函数都使用relu,外加一层softmax，精度到85%左右  \n",
    "* 如果隐层和输出层的激活函数都使用relu,不使用softmax，精度到97%左右  "
   ]
  },
  {
   "cell_type": "code",
   "execution_count": 1,
   "metadata": {
    "scrolled": true
   },
   "outputs": [
    {
     "name": "stderr",
     "output_type": "stream",
     "text": [
      "/home/ian/installed/anaconda3/lib/python3.6/site-packages/h5py/__init__.py:36: FutureWarning: Conversion of the second argument of issubdtype from `float` to `np.floating` is deprecated. In future, it will be treated as `np.float64 == np.dtype(float).type`.\n",
      "  from ._conv import register_converters as _register_converters\n"
     ]
    }
   ],
   "source": [
    "import tensorflow as tf\n",
    "from tensorflow.examples.tutorials.mnist import input_data"
   ]
  },
  {
   "cell_type": "code",
   "execution_count": 2,
   "metadata": {},
   "outputs": [
    {
     "name": "stdout",
     "output_type": "stream",
     "text": [
      "WARNING:tensorflow:From <ipython-input-2-a11908f952e0>:2: read_data_sets (from tensorflow.contrib.learn.python.learn.datasets.mnist) is deprecated and will be removed in a future version.\n",
      "Instructions for updating:\n",
      "Please use alternatives such as official/mnist/dataset.py from tensorflow/models.\n",
      "WARNING:tensorflow:From /home/ian/installed/anaconda3/lib/python3.6/site-packages/tensorflow/contrib/learn/python/learn/datasets/mnist.py:260: maybe_download (from tensorflow.contrib.learn.python.learn.datasets.base) is deprecated and will be removed in a future version.\n",
      "Instructions for updating:\n",
      "Please write your own downloading logic.\n",
      "WARNING:tensorflow:From /home/ian/installed/anaconda3/lib/python3.6/site-packages/tensorflow/contrib/learn/python/learn/datasets/mnist.py:262: extract_images (from tensorflow.contrib.learn.python.learn.datasets.mnist) is deprecated and will be removed in a future version.\n",
      "Instructions for updating:\n",
      "Please use tf.data to implement this functionality.\n",
      "Extracting MNIST_data/train-images-idx3-ubyte.gz\n",
      "WARNING:tensorflow:From /home/ian/installed/anaconda3/lib/python3.6/site-packages/tensorflow/contrib/learn/python/learn/datasets/mnist.py:267: extract_labels (from tensorflow.contrib.learn.python.learn.datasets.mnist) is deprecated and will be removed in a future version.\n",
      "Instructions for updating:\n",
      "Please use tf.data to implement this functionality.\n",
      "Extracting MNIST_data/train-labels-idx1-ubyte.gz\n",
      "WARNING:tensorflow:From /home/ian/installed/anaconda3/lib/python3.6/site-packages/tensorflow/contrib/learn/python/learn/datasets/mnist.py:110: dense_to_one_hot (from tensorflow.contrib.learn.python.learn.datasets.mnist) is deprecated and will be removed in a future version.\n",
      "Instructions for updating:\n",
      "Please use tf.one_hot on tensors.\n",
      "Extracting MNIST_data/t10k-images-idx3-ubyte.gz\n",
      "Extracting MNIST_data/t10k-labels-idx1-ubyte.gz\n",
      "WARNING:tensorflow:From /home/ian/installed/anaconda3/lib/python3.6/site-packages/tensorflow/contrib/learn/python/learn/datasets/mnist.py:290: DataSet.__init__ (from tensorflow.contrib.learn.python.learn.datasets.mnist) is deprecated and will be removed in a future version.\n",
      "Instructions for updating:\n",
      "Please use alternatives such as official/mnist/dataset.py from tensorflow/models.\n"
     ]
    }
   ],
   "source": [
    "#载入数据集\n",
    "mnist = input_data.read_data_sets(\"MNIST_data\",one_hot=True)"
   ]
  },
  {
   "cell_type": "code",
   "execution_count": 3,
   "metadata": {},
   "outputs": [],
   "source": [
    "#每个批次的大小\n",
    "batch_size = 100\n",
    "#计算一共有多少个批次\n",
    "n_batch = mnist.train.num_examples // batch_size"
   ]
  },
  {
   "cell_type": "code",
   "execution_count": 12,
   "metadata": {},
   "outputs": [],
   "source": [
    "#定义两个placeholder\n",
    "x = tf.placeholder(tf.float32,[None,784])\n",
    "y = tf.placeholder(tf.float32,[None,10])\n",
    "\n",
    "#创建一个简单的神经网络\n",
    "W = tf.Variable(tf.random_normal([784,100],0,0.02))\n",
    "b = tf.Variable(tf.zeros([100]))\n",
    "L1 = tf.nn.relu(tf.matmul(x,W)+b)\n",
    "#创建一个简单的神经网络\n",
    "W2 = tf.Variable(tf.random_normal([100,10],0,0.02))\n",
    "b2 = tf.Variable(tf.zeros([10]))\n",
    "prediction = tf.nn.relu(tf.matmul(L1,W2)+b2)\n",
    "# prediction = tf.nn.softmax(L2)\n",
    "#二次代价函数\n",
    "loss = tf.reduce_mean(tf.square(y-prediction))\n",
    "#使用梯度下降法\n",
    "train_step = tf.train.GradientDescentOptimizer(0.2).minimize(loss)\n",
    "\n",
    "#初始化变量\n",
    "init = tf.global_variables_initializer()\n",
    "\n",
    "#结果存放在一个布尔型列表中\n",
    "correct_prediction = tf.equal(tf.argmax(y,1),tf.argmax(prediction,1))#argmax返回一维张量中最大的值所在的位置\n",
    "#求准确率\n",
    "accuracy = tf.reduce_mean(tf.cast(correct_prediction,tf.float32))"
   ]
  },
  {
   "cell_type": "code",
   "execution_count": 13,
   "metadata": {
    "scrolled": false
   },
   "outputs": [
    {
     "name": "stdout",
     "output_type": "stream",
     "text": [
      "Iter 0,Testing Accuracy 0.8181\n",
      "Iter 1,Testing Accuracy 0.8589\n",
      "Iter 2,Testing Accuracy 0.8812\n",
      "Iter 3,Testing Accuracy 0.8909\n",
      "Iter 4,Testing Accuracy 0.9001\n",
      "Iter 5,Testing Accuracy 0.9071\n",
      "Iter 6,Testing Accuracy 0.9419\n",
      "Iter 7,Testing Accuracy 0.9465\n",
      "Iter 8,Testing Accuracy 0.9489\n",
      "Iter 9,Testing Accuracy 0.9522\n",
      "Iter 10,Testing Accuracy 0.9541\n",
      "Iter 11,Testing Accuracy 0.9556\n",
      "Iter 12,Testing Accuracy 0.9563\n",
      "Iter 13,Testing Accuracy 0.9587\n",
      "Iter 14,Testing Accuracy 0.9593\n",
      "Iter 15,Testing Accuracy 0.9608\n",
      "Iter 16,Testing Accuracy 0.9627\n",
      "Iter 17,Testing Accuracy 0.9633\n",
      "Iter 18,Testing Accuracy 0.9637\n",
      "Iter 19,Testing Accuracy 0.9646\n",
      "Iter 20,Testing Accuracy 0.9658\n",
      "Iter 21,Testing Accuracy 0.9672\n",
      "Iter 22,Testing Accuracy 0.9662\n",
      "Iter 23,Testing Accuracy 0.9685\n",
      "Iter 24,Testing Accuracy 0.9692\n",
      "Iter 25,Testing Accuracy 0.9689\n",
      "Iter 26,Testing Accuracy 0.97\n",
      "Iter 27,Testing Accuracy 0.97\n",
      "Iter 28,Testing Accuracy 0.9697\n",
      "Iter 29,Testing Accuracy 0.9706\n",
      "Iter 30,Testing Accuracy 0.9713\n",
      "Iter 31,Testing Accuracy 0.9714\n",
      "Iter 32,Testing Accuracy 0.972\n",
      "Iter 33,Testing Accuracy 0.972\n",
      "Iter 34,Testing Accuracy 0.9737\n",
      "Iter 35,Testing Accuracy 0.973\n",
      "Iter 36,Testing Accuracy 0.9731\n",
      "Iter 37,Testing Accuracy 0.9741\n",
      "Iter 38,Testing Accuracy 0.974\n",
      "Iter 39,Testing Accuracy 0.9749\n",
      "Iter 40,Testing Accuracy 0.9746\n"
     ]
    }
   ],
   "source": [
    "with tf.Session() as sess:\n",
    "    sess.run(init)\n",
    "    for epoch in range(41):\n",
    "        for batch in range(n_batch):\n",
    "            batch_xs,batch_ys =  mnist.train.next_batch(batch_size)\n",
    "            sess.run(train_step,feed_dict={x:batch_xs,y:batch_ys})\n",
    "        \n",
    "        acc = sess.run(accuracy,feed_dict={x:mnist.test.images,y:mnist.test.labels})\n",
    "        print(\"Iter \" + str(epoch) + \",Testing Accuracy \" + str(acc))"
   ]
  },
  {
   "cell_type": "code",
   "execution_count": null,
   "metadata": {
    "collapsed": true
   },
   "outputs": [],
   "source": []
  }
 ],
 "metadata": {
  "anaconda-cloud": {},
  "kernelspec": {
   "display_name": "Python 3",
   "language": "python",
   "name": "python3"
  },
  "language_info": {
   "codemirror_mode": {
    "name": "ipython",
    "version": 3
   },
   "file_extension": ".py",
   "mimetype": "text/x-python",
   "name": "python",
   "nbconvert_exporter": "python",
   "pygments_lexer": "ipython3",
   "version": "3.6.5"
  }
 },
 "nbformat": 4,
 "nbformat_minor": 1
}
