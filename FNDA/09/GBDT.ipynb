{
 "cells": [
  {
   "cell_type": "markdown",
   "metadata": {},
   "source": [
    "## FNDAHW09"
   ]
  },
  {
   "cell_type": "markdown",
   "metadata": {},
   "source": [
    "## 1，运用sklearn中的 GradientBoostingClassifier构建GBDT模型，需要对参数n_estimator， max_depth， min_samples_split，min_samples_leaf，max_features， Subsample进行调优"
   ]
  },
  {
   "cell_type": "code",
   "execution_count": 2,
   "metadata": {},
   "outputs": [
    {
     "name": "stderr",
     "output_type": "stream",
     "text": [
      "C:\\Users\\Ian\\Anaconda3\\lib\\site-packages\\sklearn\\cross_validation.py:41: DeprecationWarning: This module was deprecated in version 0.18 in favor of the model_selection module into which all the refactored classes and functions are moved. Also note that the interface of the new CV iterators are different from that of this module. This module will be removed in 0.20.\n",
      "  \"This module will be removed in 0.20.\", DeprecationWarning)\n"
     ]
    }
   ],
   "source": [
    "# %load GBDT.py\n",
    "import pandas as pd\n",
    "import numpy as np\n",
    "from sklearn.ensemble import GradientBoostingClassifier\n",
    "from sklearn import cross_validation, metrics\n",
    "from sklearn.model_selection import GridSearchCV, train_test_split\n",
    "import matplotlib.pylab as plt\n",
    "from sklearn.metrics import roc_auc_score\n",
    "\n",
    "def Missingrate_Column(df, col):\n",
    "    '''\n",
    "    :param df:\n",
    "    :param col:\n",
    "    :return:\n",
    "    '''\n",
    "    missing_records = df[col].map(lambda x: int(x!=x))\n",
    "    return missing_records.mean()\n",
    "\n",
    "\n",
    "def Makeup_Missing(df,col, makeup_value):\n",
    "    '''\n",
    "    :param df:\n",
    "    :param col:\n",
    "    :return:\n",
    "    '''\n",
    "    raw_values = list(df[col])\n",
    "    missing_position = [i for i in range(len(raw_values)) if raw_values[i] != raw_values[i]]\n",
    "    for i in missing_position:\n",
    "        raw_values[i] = makeup_value\n",
    "    return raw_values\n",
    "\n",
    "\n",
    "\n",
    "def Avg_Calc(numerator, denominator):\n",
    "    if denominator == 0:\n",
    "        return 0\n",
    "    else:\n",
    "        return numerator/denominator\n",
    "\n",
    "def ROC_AUC(df, score, target, plot=True):\n",
    "    df2 = df.copy()\n",
    "    s = list(set(df2[score]))\n",
    "    s.sort()\n",
    "    tpr_list = [0]\n",
    "    fpr_list = [0]\n",
    "    for k in s:\n",
    "        df2['label_temp'] = df[score].map(lambda x: int(x >= k))\n",
    "        TP = df2[(df2.label_temp==1) & (df2[target]==1)].shape[0]\n",
    "        FN = df2[(df2.label_temp == 1) & (df2[target] == 0)].shape[0]\n",
    "        FP = df2[(df2.label_temp == 0) & (df2[target] == 1)].shape[0]\n",
    "        TN = df2[(df2.label_temp == 0) & (df2[target] == 0)].shape[0]\n",
    "        try:\n",
    "            TPR = TP / (TP + FN)\n",
    "        except:\n",
    "            TPR =0\n",
    "        try:\n",
    "            FPR = FP / (FP + TN)\n",
    "        except:\n",
    "            FPR = 0\n",
    "        tpr_list.append(TPR)\n",
    "        fpr_list.append(FPR)\n",
    "    tpr_list.append(1)\n",
    "    fpr_list.append(1)\n",
    "    ROC_df = pd.DataFrame({'tpr': tpr_list, 'fpr': fpr_list})\n",
    "    ROC_df = ROC_df.sort_values(by='tpr')\n",
    "    ROC_df = ROC_df.drop_duplicates()\n",
    "    auc = 0\n",
    "    ROC_mat = np.mat(ROC_df)\n",
    "    for i in range(1, ROC_mat.shape[0]):\n",
    "        auc = auc + (ROC_mat[i, 1] + ROC_mat[i - 1, 1]) * (ROC_mat[i, 0] - ROC_mat[i - 1, 0]) * 0.5\n",
    "    if plot:\n",
    "        plt.plot(ROC_df['fpr'], ROC_df['tpr'])\n",
    "        plt.plot([0, 1], [0, 1])\n",
    "        plt.title(\"AUC={}%\".format(int(auc * 100)))\n",
    "    return auc\n",
    "\n",
    "\n",
    "def KS(df, score, target, plot = True):\n",
    "    '''\n",
    "    :param df: 包含目标变量与预测值的数据集\n",
    "    :param score: 得分或者概率\n",
    "    :param target: 目标变量\n",
    "    :return: KS值\n",
    "    :return: KS值\n",
    "    '''\n",
    "    total = df.groupby([score])[target].count()\n",
    "    bad = df.groupby([score])[target].sum()\n",
    "    all = pd.DataFrame({'total':total, 'bad':bad})\n",
    "    all['good'] = all['total'] - all['bad']\n",
    "    all[score] = all.index\n",
    "    all = all.sort_values(by=score, ascending = False)\n",
    "    all.index = range(len(all))\n",
    "    all['badCumRate'] = all['bad'].cumsum() / all['bad'].sum()\n",
    "    all['goodCumRate'] = all['good'].cumsum() / all['good'].sum()\n",
    "    KS_list = all.apply(lambda x: x.badCumRate - x.goodCumRate, axis=1)\n",
    "    KS = max(KS_list)\n",
    "    if plot:\n",
    "        plt.plot(list(all.index), all['badCumRate'])\n",
    "        plt.plot(list(all.index), all['goodCumRate'])\n",
    "        plt.title('KS ={}%'.format(int(KS*100)))\n",
    "    return KS"
   ]
  },
  {
   "cell_type": "code",
   "execution_count": 26,
   "metadata": {},
   "outputs": [],
   "source": [
    "#######################\n",
    "####  1，读取数据  #####\n",
    "#######################\n",
    "folderOfData = '../05/'\n",
    "data = pd.read_csv(folderOfData + 'anti_fraud_data.csv', header = 0)\n",
    "\n",
    "#为了减少训练时间，减少数据集\n",
    "data = data.iloc[:10000,:]\n",
    "\n",
    "del data['ID']\n",
    "train_data, test_data = train_test_split(data, test_size=0.3)\n",
    "\n",
    "#########################\n",
    "####  2，数据预处理  #####\n",
    "#########################\n",
    "\n",
    "all_columns = list(train_data.columns)\n",
    "all_columns.remove('flag')\n",
    "\n",
    "#查看每个字段的缺失率\n",
    "column_missingrate = {col: Missingrate_Column(train_data, col) for col in all_columns}\n",
    "column_MR_df = pd.DataFrame.from_dict(column_missingrate, orient='index')\n",
    "column_MR_df.columns = ['missing_rate']\n",
    "column_MR_df_sorted = column_MR_df.sort_values(by='missing_rate', ascending=False)\n",
    "#由于变量ip_desc_danger在训练集中全部缺失，故将其删去。\n",
    "all_columns.remove('ip_desc_danger')\n",
    "del train_data['ip_desc_danger']\n",
    "column_MR_df_sorted = column_MR_df_sorted.drop(index=['ip_desc_danger'])\n",
    "columns_with_missing = column_MR_df_sorted[column_MR_df_sorted.missing_rate > 0].index\n",
    "\n",
    "\n",
    "categorical_cols_withmissing = ['area1_danger','registered_channels','sex','is_email_acct','area8_danger','area6_danger','area11_danger']\n",
    "dummy_map = {}\n",
    "dummy_columns = []\n",
    "for raw_col in categorical_cols_withmissing:\n",
    "    dummies = pd.get_dummies(train_data.loc[:, raw_col], prefix=raw_col)\n",
    "    col_onehot = pd.concat([train_data[raw_col], dummies], axis=1)\n",
    "    col_onehot = col_onehot.drop_duplicates()\n",
    "    train_data = pd.concat([train_data, dummies], axis=1)\n",
    "    del train_data[raw_col]\n",
    "    dummy_map[raw_col] = col_onehot\n",
    "    dummy_columns = dummy_columns + list(dummies)\n",
    "\n",
    "#对于数值型变量，可以将原始变量与表示缺失状态的示性变量交互地使用.此外，由于这些变量都是非负数，对于缺失，可以用0来填补\n",
    "continuous_cols_withmissing = [i for i in columns_with_missing if i not in categorical_cols_withmissing]\n",
    "for col in continuous_cols_withmissing:\n",
    "    train_data[col+'_ismissing']  = train_data[col].map(lambda x: int(x!=x))\n",
    "    train_data[col] = Makeup_Missing(train_data, col, 0)\n",
    "\n",
    "#注意到，原始数据中，年龄age没有缺失值，但是有0.需要将0看成缺失\n",
    "train_data['age'+'_ismissing']  = train_data['age'].map(lambda x: int(x==0))\n",
    "\n",
    "\n",
    "\n",
    "#######################\n",
    "####  3，特征衍生  #####\n",
    "#######################\n",
    "#（1）构造平均值型变量\n",
    "periods = ['10m','30m','1h','12h','1d','7d','15d','30d','60d','90d']\n",
    "for period in periods:\n",
    "    amount = period+'_Sum_pay_amount'\n",
    "    times = period+'_pay_times'\n",
    "    avg_payment = period+'_Avg_pay_amount'\n",
    "    train_data[avg_payment] = train_data[[amount,times]].apply(lambda x: Avg_Calc(x[amount],x[times]),axis=1)\n",
    "\n",
    "#（2）构造变量，检查平均每次支付金额上升量\n",
    "for i in range(len(periods)-1):\n",
    "    avg_payment_1 = periods[i]+'_Avg_pay_amount'\n",
    "    avg_payment_2 = periods[i+1] + '_Avg_pay_amount'\n",
    "    increase_payment = periods[i] + '_' + periods[i+1] + '_payment_increase'\n",
    "    train_data[increase_payment] = train_data[[avg_payment_1,avg_payment_2]].apply(lambda x: x[avg_payment_1] - x[avg_payment_2],axis=1)\n",
    "\n",
    "\n",
    "#（3）在（1）的基础上求最大的平均支付金额值\n",
    "avg_payments = [d+'_Avg_pay_amount' for d in periods]\n",
    "train_data['max_Avg_pay_amount'] = train_data[avg_payments].apply(lambda x: max(x),axis=1)\n",
    "features = list(train_data.columns)\n",
    "features.remove('flag')\n",
    "X,y = train_data[features], train_data['flag']"
   ]
  },
  {
   "cell_type": "code",
   "execution_count": 5,
   "metadata": {},
   "outputs": [
    {
     "data": {
      "text/plain": [
       "60"
      ]
     },
     "execution_count": 5,
     "metadata": {},
     "output_type": "execute_result"
    }
   ],
   "source": [
    "#############################\n",
    "#### 4，对GBDT模型参数调优 #####\n",
    "#############################\n",
    "# 1, 选择较小的步长(learning rate)后，对迭代次数(n_estimators)进行调参\n",
    "\n",
    "\n",
    "param_test1 = {'n_estimators':range(20,81,10)}\n",
    "gsearch1 = GridSearchCV(estimator = GradientBoostingClassifier(learning_rate=0.1, min_samples_split=30,\n",
    "                                  min_samples_leaf=5,max_depth=8,max_features='sqrt', subsample=0.8,random_state=10),\n",
    "                       param_grid = param_test1, scoring='roc_auc',iid=False,cv=5)\n",
    "gsearch1.fit(X,y)\n",
    "gsearch1.best_params_, gsearch1.best_score_\n",
    "best_n_estimator = gsearch1.best_params_['n_estimators']  #40\n",
    "best_n_estimator"
   ]
  },
  {
   "cell_type": "code",
   "execution_count": 6,
   "metadata": {},
   "outputs": [
    {
     "data": {
      "text/plain": [
       "3"
      ]
     },
     "execution_count": 6,
     "metadata": {},
     "output_type": "execute_result"
    }
   ],
   "source": [
    "# 2, 对决策树最大深度max_depth和内部节点再划分所需最小样本数min_samples_split进行网格搜索\n",
    "param_test2 = {'max_depth':range(3,16), 'min_samples_split':range(2,10)}\n",
    "gsearch2 = GridSearchCV(estimator = GradientBoostingClassifier(learning_rate=0.1, n_estimators=best_n_estimator, min_samples_leaf=20, max_features='sqrt', subsample=0.8, random_state=10),\n",
    "                        param_grid = param_test2, scoring='roc_auc',iid=False, cv=5)\n",
    "gsearch2.fit(X,y)\n",
    "gsearch2.best_params_, gsearch2.best_score_\n",
    "best_max_depth = gsearch2.best_params_['max_depth']   #8\n",
    "best_max_depth"
   ]
  },
  {
   "cell_type": "code",
   "execution_count": 13,
   "metadata": {},
   "outputs": [
    {
     "data": {
      "text/plain": [
       "(100, 15)"
      ]
     },
     "execution_count": 13,
     "metadata": {},
     "output_type": "execute_result"
    }
   ],
   "source": [
    "#3, 再对内部节点再划分所需最小样本数min_samples_split和叶子节点最少样本数min_samples_leaf一起调参\n",
    "param_test3 = {'min_samples_split':range(10,101,10), 'min_samples_leaf':range(5,51,5)}\n",
    "gsearch3 = GridSearchCV(estimator = GradientBoostingClassifier(learning_rate=0.1, n_estimators=best_n_estimator,max_depth=best_max_depth,\n",
    "                                     max_features='sqrt', subsample=0.8, random_state=10),\n",
    "                       param_grid = param_test3, scoring='roc_auc',iid=False, cv=5)\n",
    "gsearch3.fit(X,y)\n",
    "gsearch3.best_params_, gsearch3.best_score_\n",
    "best_min_samples_split, best_min_samples_leaf = gsearch3.best_params_['min_samples_split'],gsearch3.best_params_['min_samples_leaf']  #70，5\n",
    "best_min_samples_split, best_min_samples_leaf"
   ]
  },
  {
   "cell_type": "code",
   "execution_count": 14,
   "metadata": {},
   "outputs": [
    {
     "data": {
      "text/plain": [
       "10"
      ]
     },
     "execution_count": 14,
     "metadata": {},
     "output_type": "execute_result"
    }
   ],
   "source": [
    "#4, 对最大特征数max_features进行网格搜索\n",
    "param_test4 = {'max_features':range(5,int(np.sqrt(X.shape[1])),5)}\n",
    "gsearch4 = GridSearchCV(estimator = GradientBoostingClassifier(learning_rate=0.1, n_estimators=best_n_estimator,max_depth=best_max_depth, min_samples_leaf =best_min_samples_leaf,\n",
    "               min_samples_split =best_min_samples_split, subsample=0.8, random_state=10),\n",
    "                       param_grid = param_test4, scoring='roc_auc',iid=False, cv=5)\n",
    "gsearch4.fit(X,y)\n",
    "gsearch4.best_params_, gsearch4.best_score_\n",
    "best_max_features = gsearch4.best_params_['max_features']    #10\n",
    "best_max_features"
   ]
  },
  {
   "cell_type": "code",
   "execution_count": 15,
   "metadata": {},
   "outputs": [
    {
     "data": {
      "text/plain": [
       "0.75"
      ]
     },
     "execution_count": 15,
     "metadata": {},
     "output_type": "execute_result"
    }
   ],
   "source": [
    "#5, 对采样比例进行网格搜索\n",
    "param_test5 = {'subsample':[0.6+i*0.05 for i in range(8)]}\n",
    "gsearch5 = GridSearchCV(estimator = GradientBoostingClassifier(learning_rate=0.1, n_estimators=best_n_estimator,max_depth=best_max_depth,\n",
    "                                                               min_samples_leaf =best_min_samples_leaf, max_features=best_max_features,random_state=10),\n",
    "                       param_grid = param_test5, scoring='roc_auc',iid=False, cv=5)\n",
    "gsearch5.fit(X,y)\n",
    "gsearch5.best_params_, gsearch5.best_score_\n",
    "best_subsample = gsearch5.best_params_['subsample']   #0.7\n",
    "best_subsample"
   ]
  },
  {
   "cell_type": "code",
   "execution_count": 16,
   "metadata": {},
   "outputs": [
    {
     "data": {
      "text/plain": [
       "array([1.12738899e-03, 2.06773731e-02, 4.07119846e-02, 4.41724690e-02,\n",
       "       8.00232998e-04, 6.86018103e-03, 1.31302365e-02, 0.00000000e+00,\n",
       "       0.00000000e+00, 0.00000000e+00, 0.00000000e+00, 1.35233280e-04,\n",
       "       8.20899220e-03, 1.00322147e-02, 0.00000000e+00, 4.16978055e-03,\n",
       "       1.79334815e-04, 2.12147444e-02, 0.00000000e+00, 9.78804503e-04,\n",
       "       7.03751343e-04, 0.00000000e+00, 0.00000000e+00, 0.00000000e+00,\n",
       "       6.73067017e-04, 1.08918044e-02, 2.57500088e-02, 1.29003752e-02,\n",
       "       3.45423156e-04, 5.81231558e-04, 0.00000000e+00, 4.60188957e-03,\n",
       "       8.91638808e-04, 6.71409753e-03, 1.17217004e-01, 0.00000000e+00,\n",
       "       2.78045152e-02, 0.00000000e+00, 3.00628671e-02, 5.75875887e-02,\n",
       "       2.10638216e-02, 1.72871853e-03, 3.25381496e-04, 1.81980348e-02,\n",
       "       2.96636208e-02, 4.46854684e-02, 1.40344093e-03, 1.22753212e-03,\n",
       "       0.00000000e+00, 5.17960777e-03, 0.00000000e+00, 0.00000000e+00,\n",
       "       8.18740121e-03, 6.30845029e-03, 9.94024268e-03, 1.76928860e-03,\n",
       "       1.25950392e-02, 3.63788045e-04, 3.80769210e-03, 1.31804110e-02,\n",
       "       2.28366801e-03, 3.36317506e-03, 1.67871238e-03, 4.97555919e-04,\n",
       "       2.41162372e-03, 4.47609509e-04, 4.96964879e-03, 6.82469639e-03,\n",
       "       8.41912541e-03, 3.19160409e-03, 6.84733205e-04, 8.04077136e-03,\n",
       "       1.16013221e-03, 2.71116601e-03, 0.00000000e+00, 0.00000000e+00,\n",
       "       0.00000000e+00, 0.00000000e+00, 2.96360441e-05, 2.36642339e-04,\n",
       "       0.00000000e+00, 0.00000000e+00, 0.00000000e+00, 1.04108644e-03,\n",
       "       0.00000000e+00, 0.00000000e+00, 0.00000000e+00, 0.00000000e+00,\n",
       "       0.00000000e+00, 0.00000000e+00, 7.17468396e-04, 0.00000000e+00,\n",
       "       1.54813413e-02, 2.62385446e-03, 2.47630077e-03, 1.04430086e-03,\n",
       "       0.00000000e+00, 0.00000000e+00, 9.14416151e-03, 3.12306102e-03,\n",
       "       1.07557329e-02, 9.95405990e-03, 8.38988924e-04, 5.90607930e-03,\n",
       "       6.07610928e-04, 8.68635743e-03, 6.83719042e-03, 5.97528454e-04,\n",
       "       0.00000000e+00, 0.00000000e+00, 1.15897329e-02, 9.76778420e-03,\n",
       "       2.96623554e-02, 2.74610989e-03, 0.00000000e+00, 0.00000000e+00,\n",
       "       5.13753840e-03, 1.04631145e-02, 0.00000000e+00, 0.00000000e+00,\n",
       "       0.00000000e+00, 0.00000000e+00, 0.00000000e+00, 0.00000000e+00,\n",
       "       0.00000000e+00, 0.00000000e+00, 0.00000000e+00, 0.00000000e+00,\n",
       "       0.00000000e+00, 0.00000000e+00, 1.46442290e-04, 1.24723710e-03,\n",
       "       4.94513034e-03, 6.00507908e-05, 2.34431258e-03, 0.00000000e+00,\n",
       "       5.50499390e-03, 0.00000000e+00, 2.74495368e-04, 9.10724349e-03,\n",
       "       1.23826251e-03, 6.01668347e-04, 4.54022694e-03, 4.42626523e-03,\n",
       "       1.12813820e-02, 0.00000000e+00, 0.00000000e+00, 0.00000000e+00,\n",
       "       1.19597089e-03, 1.20917078e-02, 2.10162400e-03, 4.51459674e-04,\n",
       "       1.02467890e-03, 9.58198848e-03, 2.05045914e-02, 7.13211588e-03,\n",
       "       1.17670379e-05, 0.00000000e+00, 1.36013596e-03, 1.47791370e-02,\n",
       "       0.00000000e+00, 1.91204996e-04, 7.24176556e-03, 1.03950617e-02,\n",
       "       2.13146485e-02])"
      ]
     },
     "execution_count": 16,
     "metadata": {},
     "output_type": "execute_result"
    }
   ],
   "source": [
    "gbm_best = GradientBoostingClassifier(learning_rate=0.1, random_state=10,\n",
    "                                      n_estimators=best_n_estimator,\n",
    "                                      max_depth=best_max_depth,\n",
    "                                      min_samples_leaf =best_min_samples_leaf,\n",
    "                                      max_features=best_max_features,\n",
    "                                      subsample =best_subsample)\n",
    "gbm_best.fit(X,y)\n",
    "\n",
    "\n",
    "###### 评估特征重要性  ######\n",
    "feature_importances = gbm_best.feature_importances_\n",
    "feature_importances"
   ]
  },
  {
   "cell_type": "code",
   "execution_count": 44,
   "metadata": {},
   "outputs": [],
   "source": [
    "###############################\n",
    "####  5，在测试集上进行测试  #####\n",
    "###############################\n",
    "#准备测试样本#\n",
    "del test_data['ip_desc_danger']\n",
    "#在对测试集进行哑变量编码或者独热编码的时候，要按照在训练集中的编码方式来进行\n",
    "#例如，在训练集中，设备类型={Android， Apple， SDK}，但是在测试集中设备类型={Android， Apple， SDK， PC}。多出来的值在编码中全部为0\n",
    "# train_data, test_data = train_test_split(data, test_size=0.3)\n",
    "test_data_cp = test_data.copy()\n",
    "\n",
    "for raw_col in categorical_cols_withmissing:\n",
    "    test_data = pd.merge(test_data, dummy_map[raw_col],on =raw_col, how='left')\n",
    "    del test_data[raw_col]\n",
    "# dummy_columns = test_data[dummy_columns]\n",
    "# dummy_columns.isnull().any()\n",
    "\n",
    "\n",
    "for col in continuous_cols_withmissing:\n",
    "    test_data[col+'_ismissing']  = test_data[col].map(lambda x: int(x!=x))\n",
    "    test_data[col] = Makeup_Missing(test_data, col, 0)\n",
    "\n",
    "#注意到，原始数据中，年龄age没有缺失值，但是有0.需要将0看成缺失\n",
    "test_data['age'+'_ismissing']  = test_data['age'].map(lambda x: int(x==0))\n",
    "for period in periods:\n",
    "    amount = period+'_Sum_pay_amount'\n",
    "    times = period+'_pay_times'\n",
    "    avg_payment = period+'_Avg_pay_amount'\n",
    "    test_data[avg_payment] = test_data[[amount,times]].apply(lambda x: Avg_Calc(x[amount],x[times]),axis=1)\n",
    "\n",
    "#（2）构造变量，检查平均每次支付金额上升量\n",
    "for i in range(len(periods)-1):\n",
    "    avg_payment_1 = periods[i]+'_Avg_pay_amount'\n",
    "    avg_payment_2 = periods[i+1] + '_Avg_pay_amount'\n",
    "    increase_payment = periods[i] + '_' + periods[i+1] + '_payment_increase'\n",
    "    test_data[increase_payment] = test_data[[avg_payment_1,avg_payment_2]].apply(lambda x: x[avg_payment_1] - x[avg_payment_2],axis=1)\n",
    "\n",
    "\n",
    "#（3）在（1）的基础上求最大的平均支付金额值\n",
    "avg_payments = [d+'_Avg_pay_amount' for d in periods]\n",
    "test_data['max_Avg_pay_amount'] = test_data[avg_payments].apply(lambda x: max(x),axis=1)"
   ]
  },
  {
   "cell_type": "code",
   "execution_count": 23,
   "metadata": {},
   "outputs": [
    {
     "data": {
      "text/plain": [
       "(array([1.04841352e+02, 1.20690523e+01, 6.23947231e+00, 3.41576951e+00,\n",
       "        1.86728733e+00, 1.18413343e+00, 1.00195906e+00, 5.92066715e-01,\n",
       "        8.65328276e-01, 4.55435935e-01, 2.27717967e-01, 4.09892341e-01,\n",
       "        9.10871869e-02, 9.10871869e-02, 9.10871869e-02, 3.64348748e-01,\n",
       "        3.18805154e-01, 2.73261561e-01, 1.36630780e-01, 1.36630780e-01,\n",
       "        4.55435935e-02, 4.55435935e-02, 0.00000000e+00, 0.00000000e+00,\n",
       "        9.10871869e-02, 0.00000000e+00, 4.55435935e-02, 4.55435935e-02,\n",
       "        0.00000000e+00, 0.00000000e+00, 4.55435935e-02, 4.55435935e-02,\n",
       "        4.55435935e-02, 0.00000000e+00, 0.00000000e+00, 0.00000000e+00,\n",
       "        0.00000000e+00, 9.10871869e-02, 0.00000000e+00, 0.00000000e+00,\n",
       "        0.00000000e+00, 0.00000000e+00, 4.55435935e-02, 0.00000000e+00,\n",
       "        0.00000000e+00, 0.00000000e+00, 0.00000000e+00, 0.00000000e+00,\n",
       "        0.00000000e+00, 0.00000000e+00, 0.00000000e+00, 0.00000000e+00,\n",
       "        0.00000000e+00, 0.00000000e+00, 0.00000000e+00, 0.00000000e+00,\n",
       "        0.00000000e+00, 0.00000000e+00, 0.00000000e+00, 0.00000000e+00,\n",
       "        0.00000000e+00, 0.00000000e+00, 0.00000000e+00, 0.00000000e+00,\n",
       "        0.00000000e+00, 0.00000000e+00, 0.00000000e+00, 0.00000000e+00,\n",
       "        0.00000000e+00, 0.00000000e+00, 0.00000000e+00, 0.00000000e+00,\n",
       "        0.00000000e+00, 0.00000000e+00, 0.00000000e+00, 0.00000000e+00,\n",
       "        0.00000000e+00, 0.00000000e+00, 0.00000000e+00, 0.00000000e+00,\n",
       "        0.00000000e+00, 0.00000000e+00, 0.00000000e+00, 0.00000000e+00,\n",
       "        0.00000000e+00, 0.00000000e+00, 0.00000000e+00, 0.00000000e+00,\n",
       "        0.00000000e+00, 0.00000000e+00, 0.00000000e+00, 0.00000000e+00,\n",
       "        0.00000000e+00, 0.00000000e+00, 0.00000000e+00, 0.00000000e+00,\n",
       "        0.00000000e+00, 0.00000000e+00, 0.00000000e+00, 4.55435935e-02]),\n",
       " array([2.53008442e-04, 7.64593269e-03, 1.50388569e-02, 2.24317812e-02,\n",
       "        2.98247054e-02, 3.72176297e-02, 4.46105540e-02, 5.20034782e-02,\n",
       "        5.93964025e-02, 6.67893267e-02, 7.41822510e-02, 8.15751752e-02,\n",
       "        8.89680995e-02, 9.63610237e-02, 1.03753948e-01, 1.11146872e-01,\n",
       "        1.18539796e-01, 1.25932721e-01, 1.33325645e-01, 1.40718569e-01,\n",
       "        1.48111493e-01, 1.55504418e-01, 1.62897342e-01, 1.70290266e-01,\n",
       "        1.77683190e-01, 1.85076115e-01, 1.92469039e-01, 1.99861963e-01,\n",
       "        2.07254887e-01, 2.14647812e-01, 2.22040736e-01, 2.29433660e-01,\n",
       "        2.36826584e-01, 2.44219509e-01, 2.51612433e-01, 2.59005357e-01,\n",
       "        2.66398282e-01, 2.73791206e-01, 2.81184130e-01, 2.88577054e-01,\n",
       "        2.95969979e-01, 3.03362903e-01, 3.10755827e-01, 3.18148751e-01,\n",
       "        3.25541676e-01, 3.32934600e-01, 3.40327524e-01, 3.47720448e-01,\n",
       "        3.55113373e-01, 3.62506297e-01, 3.69899221e-01, 3.77292145e-01,\n",
       "        3.84685070e-01, 3.92077994e-01, 3.99470918e-01, 4.06863842e-01,\n",
       "        4.14256767e-01, 4.21649691e-01, 4.29042615e-01, 4.36435539e-01,\n",
       "        4.43828464e-01, 4.51221388e-01, 4.58614312e-01, 4.66007236e-01,\n",
       "        4.73400161e-01, 4.80793085e-01, 4.88186009e-01, 4.95578933e-01,\n",
       "        5.02971858e-01, 5.10364782e-01, 5.17757706e-01, 5.25150630e-01,\n",
       "        5.32543555e-01, 5.39936479e-01, 5.47329403e-01, 5.54722327e-01,\n",
       "        5.62115252e-01, 5.69508176e-01, 5.76901100e-01, 5.84294024e-01,\n",
       "        5.91686949e-01, 5.99079873e-01, 6.06472797e-01, 6.13865721e-01,\n",
       "        6.21258646e-01, 6.28651570e-01, 6.36044494e-01, 6.43437418e-01,\n",
       "        6.50830343e-01, 6.58223267e-01, 6.65616191e-01, 6.73009115e-01,\n",
       "        6.80402040e-01, 6.87794964e-01, 6.95187888e-01, 7.02580812e-01,\n",
       "        7.09973737e-01, 7.17366661e-01, 7.24759585e-01, 7.32152509e-01,\n",
       "        7.39545434e-01]),\n",
       " <a list of 100 Patch objects>)"
      ]
     },
     "execution_count": 23,
     "metadata": {},
     "output_type": "execute_result"
    },
    {
     "data": {
      "image/png": "[encoded data removed]",
      "text/plain": [
       "<matplotlib.figure.Figure at 0x20d0e53f5f8>"
      ]
     },
     "metadata": {},
     "output_type": "display_data"
    }
   ],
   "source": [
    "#######################\n",
    "#### 测试GBDT的性能 ####\n",
    "#######################\n",
    "X_test,y_test = test_data[features], test_data['flag']\n",
    "y_predprob = gbm_best.predict_proba(X_test)[:,1]\n",
    "result = pd.DataFrame({'real':y_test,'pred':y_predprob})\n",
    "ROC_AUC(result, 'pred', 'real')\n",
    "\n",
    "result.groupby(['real'])['pred'].mean()\n",
    "bad, good = result[result.real == 1],result[result.real == 0]\n",
    "plt.hist(bad['pred'], bins = 100,normed=True)\n",
    "plt.hist(good['pred'], bins = 100,normed=True)"
   ]
  },
  {
   "cell_type": "markdown",
   "metadata": {},
   "source": [
    "## 2，在1的结果之上，利用feature_importances_估计变量的重要性，从中选取N个（N自取）最重要的模型构建SVM或者逻辑回归模型"
   ]
  },
  {
   "cell_type": "code",
   "execution_count": 29,
   "metadata": {},
   "outputs": [
    {
     "data": {
      "text/html": [
       "<div>\n",
       "<style scoped>\n",
       "    .dataframe tbody tr th:only-of-type {\n",
       "        vertical-align: middle;\n",
       "    }\n",
       "\n",
       "    .dataframe tbody tr th {\n",
       "        vertical-align: top;\n",
       "    }\n",
       "\n",
       "    .dataframe thead th {\n",
       "        text-align: right;\n",
       "    }\n",
       "</style>\n",
       "<table border=\"1\" class=\"dataframe\">\n",
       "  <thead>\n",
       "    <tr style=\"text-align: right;\">\n",
       "      <th></th>\n",
       "      <th>features</th>\n",
       "      <th>imp</th>\n",
       "    </tr>\n",
       "  </thead>\n",
       "  <tbody>\n",
       "    <tr>\n",
       "      <th>0</th>\n",
       "      <td>certificationtype</td>\n",
       "      <td>0.001127</td>\n",
       "    </tr>\n",
       "    <tr>\n",
       "      <th>1</th>\n",
       "      <td>age</td>\n",
       "      <td>0.020677</td>\n",
       "    </tr>\n",
       "    <tr>\n",
       "      <th>2</th>\n",
       "      <td>registered_days</td>\n",
       "      <td>0.040712</td>\n",
       "    </tr>\n",
       "    <tr>\n",
       "      <th>3</th>\n",
       "      <td>area4_danger</td>\n",
       "      <td>0.044172</td>\n",
       "    </tr>\n",
       "    <tr>\n",
       "      <th>4</th>\n",
       "      <td>is_area3_eqaul_area4</td>\n",
       "      <td>0.000800</td>\n",
       "    </tr>\n",
       "  </tbody>\n",
       "</table>\n",
       "</div>"
      ],
      "text/plain": [
       "               features       imp\n",
       "0     certificationtype  0.001127\n",
       "1                   age  0.020677\n",
       "2       registered_days  0.040712\n",
       "3          area4_danger  0.044172\n",
       "4  is_area3_eqaul_area4  0.000800"
      ]
     },
     "execution_count": 29,
     "metadata": {},
     "output_type": "execute_result"
    }
   ],
   "source": [
    "from pandas import DataFrame\n",
    "df = DataFrame({'imp':feature_importances,'features':features})\n",
    "df.head()"
   ]
  },
  {
   "cell_type": "code",
   "execution_count": 30,
   "metadata": {},
   "outputs": [
    {
     "data": {
      "text/html": [
       "<div>\n",
       "<style scoped>\n",
       "    .dataframe tbody tr th:only-of-type {\n",
       "        vertical-align: middle;\n",
       "    }\n",
       "\n",
       "    .dataframe tbody tr th {\n",
       "        vertical-align: top;\n",
       "    }\n",
       "\n",
       "    .dataframe thead th {\n",
       "        text-align: right;\n",
       "    }\n",
       "</style>\n",
       "<table border=\"1\" class=\"dataframe\">\n",
       "  <thead>\n",
       "    <tr style=\"text-align: right;\">\n",
       "      <th></th>\n",
       "      <th>features</th>\n",
       "      <th>imp</th>\n",
       "    </tr>\n",
       "  </thead>\n",
       "  <tbody>\n",
       "    <tr>\n",
       "      <th>34</th>\n",
       "      <td>is_area9_equal_area6</td>\n",
       "      <td>0.117217</td>\n",
       "    </tr>\n",
       "    <tr>\n",
       "      <th>39</th>\n",
       "      <td>pay_amount</td>\n",
       "      <td>0.057588</td>\n",
       "    </tr>\n",
       "    <tr>\n",
       "      <th>45</th>\n",
       "      <td>12h_sign_bank_cnt</td>\n",
       "      <td>0.044685</td>\n",
       "    </tr>\n",
       "    <tr>\n",
       "      <th>3</th>\n",
       "      <td>area4_danger</td>\n",
       "      <td>0.044172</td>\n",
       "    </tr>\n",
       "    <tr>\n",
       "      <th>2</th>\n",
       "      <td>registered_days</td>\n",
       "      <td>0.040712</td>\n",
       "    </tr>\n",
       "  </tbody>\n",
       "</table>\n",
       "</div>"
      ],
      "text/plain": [
       "                features       imp\n",
       "34  is_area9_equal_area6  0.117217\n",
       "39            pay_amount  0.057588\n",
       "45     12h_sign_bank_cnt  0.044685\n",
       "3           area4_danger  0.044172\n",
       "2        registered_days  0.040712"
      ]
     },
     "execution_count": 30,
     "metadata": {},
     "output_type": "execute_result"
    }
   ],
   "source": [
    "df_sorted = df.sort_values(by='imp', ascending=False)\n",
    "df_sorted.head()"
   ]
  },
  {
   "cell_type": "code",
   "execution_count": 39,
   "metadata": {},
   "outputs": [],
   "source": [
    "#选取前10个特征\n",
    "train1 = train_data[df_sorted['features'][:10]]"
   ]
  },
  {
   "cell_type": "code",
   "execution_count": 40,
   "metadata": {},
   "outputs": [],
   "source": [
    "from sklearn.linear_model import LogisticRegression"
   ]
  },
  {
   "cell_type": "code",
   "execution_count": 41,
   "metadata": {},
   "outputs": [],
   "source": [
    "LR = LogisticRegression().fit(train_data[df_sorted['features'][:10]],train_data['flag'])"
   ]
  },
  {
   "cell_type": "code",
   "execution_count": 42,
   "metadata": {},
   "outputs": [
    {
     "name": "stderr",
     "output_type": "stream",
     "text": [
      "C:\\Users\\Ian\\Anaconda3\\lib\\site-packages\\sklearn\\linear_model\\base.py:340: RuntimeWarning: overflow encountered in exp\n",
      "  np.exp(prob, prob)\n"
     ]
    },
    {
     "data": {
      "text/plain": [
       "array([[9.99733371e-01, 2.66629331e-04],\n",
       "       [1.00000000e+00, 2.00708718e-67],\n",
       "       [9.34451638e-01, 6.55483620e-02],\n",
       "       ...,\n",
       "       [9.97602790e-01, 2.39721025e-03],\n",
       "       [9.79826972e-01, 2.01730276e-02],\n",
       "       [9.99999970e-01, 3.03102537e-08]])"
      ]
     },
     "execution_count": 42,
     "metadata": {},
     "output_type": "execute_result"
    }
   ],
   "source": [
    "pred = LR.predict_proba(train_data[df_sorted['features'][:10]])\n",
    "pred"
   ]
  },
  {
   "cell_type": "code",
   "execution_count": 45,
   "metadata": {},
   "outputs": [
    {
     "name": "stderr",
     "output_type": "stream",
     "text": [
      "C:\\Users\\Ian\\Anaconda3\\lib\\site-packages\\sklearn\\linear_model\\base.py:340: RuntimeWarning: overflow encountered in exp\n",
      "  np.exp(prob, prob)\n"
     ]
    },
    {
     "data": {
      "text/plain": [
       "0.6542600235849056"
      ]
     },
     "execution_count": 45,
     "metadata": {},
     "output_type": "execute_result"
    }
   ],
   "source": [
    "from sklearn import metrics\n",
    "pred1 = LR.predict_proba(test_data[df_sorted['features'][:10]])[:,1]\n",
    "metrics.roc_auc_score(test_data['flag'], pred1)"
   ]
  },
  {
   "cell_type": "markdown",
   "metadata": {},
   "source": [
    "### end"
   ]
  },
  {
   "cell_type": "markdown",
   "metadata": {},
   "source": [
    "### end"
   ]
  },
  {
   "cell_type": "markdown",
   "metadata": {},
   "source": [
    "### end"
   ]
  },
  {
   "cell_type": "markdown",
   "metadata": {},
   "source": [
    "### end"
   ]
  },
  {
   "cell_type": "markdown",
   "metadata": {},
   "source": [
    "### end"
   ]
  },
  {
   "cell_type": "markdown",
   "metadata": {},
   "source": [
    "### end"
   ]
  },
  {
   "cell_type": "markdown",
   "metadata": {},
   "source": [
    "### end"
   ]
  },
  {
   "cell_type": "markdown",
   "metadata": {},
   "source": [
    "### end"
   ]
  },
  {
   "cell_type": "code",
   "execution_count": null,
   "metadata": {},
   "outputs": [],
   "source": []
  }
 ],
 "metadata": {
  "kernelspec": {
   "display_name": "Python 3",
   "language": "python",
   "name": "python3"
  },
  "language_info": {
   "codemirror_mode": {
    "name": "ipython",
    "version": 3
   },
   "file_extension": ".py",
   "mimetype": "text/x-python",
   "name": "python",
   "nbconvert_exporter": "python",
   "pygments_lexer": "ipython3",
   "version": "3.6.4"
  }
 },
 "nbformat": 4,
 "nbformat_minor": 2
}
