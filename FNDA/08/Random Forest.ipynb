{
 "cells": [
  {
   "cell_type": "markdown",
   "metadata": {},
   "source": [
    "## FNDAhw08\n",
    "from sklearn.tree import DecisionTreeClassifier  \n",
    "用上述的DecisionTreeClassifier构建决策树模型，对下述4个变量进行调优：  \n",
    "* max_depth  \n",
    "* min_samples_split  \n",
    "* min_samples_leaf  \n",
    "* max_features\n",
    "\n",
    "比较决策树和随机森林模型的准确度（用代码中的ROC_AUC的结果衡量，越高越好）\n"
   ]
  },
  {
   "cell_type": "code",
   "execution_count": 1,
   "metadata": {},
   "outputs": [
    {
     "name": "stderr",
     "output_type": "stream",
     "text": [
      "C:\\Users\\Ian\\Anaconda3\\lib\\site-packages\\sklearn\\cross_validation.py:41: DeprecationWarning: This module was deprecated in version 0.18 in favor of the model_selection module into which all the refactored classes and functions are moved. Also note that the interface of the new CV iterators are different from that of this module. This module will be removed in 0.20.\n",
      "  \"This module will be removed in 0.20.\", DeprecationWarning)\n"
     ]
    }
   ],
   "source": [
    "# %load Random Forest.py\n",
    "import pandas as pd\n",
    "import numpy as np\n",
    "from sklearn.model_selection import train_test_split,GridSearchCV\n",
    "from sklearn.ensemble import RandomForestClassifier\n",
    "from sklearn.tree import DecisionTreeClassifier\n",
    "from sklearn.preprocessing import OneHotEncoder\n",
    "from sklearn.model_selection import GridSearchCV\n",
    "from sklearn import metrics,cross_validation\n",
    "from matplotlib import pyplot as plt"
   ]
  },
  {
   "cell_type": "code",
   "execution_count": 3,
   "metadata": {},
   "outputs": [],
   "source": [
    "def Missingrate_Column(df, col):\n",
    "    '''\n",
    "    :param df:\n",
    "    :param col:\n",
    "    :return:\n",
    "    '''\n",
    "    missing_records = df[col].map(lambda x: int(x!=x))\n",
    "    return missing_records.mean()\n",
    "\n",
    "\n",
    "def Makeup_Missing(df,col, makeup_value):\n",
    "    '''\n",
    "    :param df:\n",
    "    :param col:\n",
    "    :return:\n",
    "    '''\n",
    "    raw_values = list(df[col])\n",
    "    missing_position = [i for i in range(len(raw_values)) if raw_values[i] != raw_values[i]]\n",
    "    for i in missing_position:\n",
    "        raw_values[i] = makeup_value\n",
    "    return raw_values\n",
    "\n",
    "\n",
    "\n",
    "def Avg_Calc(numerator, denominator):\n",
    "    if denominator == 0:\n",
    "        return 0\n",
    "    else:\n",
    "        return numerator/denominator\n",
    "\n",
    "def ROC_AUC(df, score, target, plot=True):\n",
    "    df2 = df.copy()\n",
    "    s = list(set(df2[score]))\n",
    "    s.sort()\n",
    "    tpr_list = [0]\n",
    "    fpr_list = [0]\n",
    "    for k in s:\n",
    "        df2['label_temp'] = df[score].map(lambda x: int(x >= k))\n",
    "        TP = df2[(df2.label_temp==1) & (df2[target]==1)].shape[0]\n",
    "        FN = df2[(df2.label_temp == 1) & (df2[target] == 0)].shape[0]\n",
    "        FP = df2[(df2.label_temp == 0) & (df2[target] == 1)].shape[0]\n",
    "        TN = df2[(df2.label_temp == 0) & (df2[target] == 0)].shape[0]\n",
    "        try:\n",
    "            TPR = TP / (TP + FN)\n",
    "        except:\n",
    "            TPR =0\n",
    "        try:\n",
    "            FPR = FP / (FP + TN)\n",
    "        except:\n",
    "            FPR = 0\n",
    "        tpr_list.append(TPR)\n",
    "        fpr_list.append(FPR)\n",
    "    tpr_list.append(1)\n",
    "    fpr_list.append(1)\n",
    "    ROC_df = pd.DataFrame({'tpr': tpr_list, 'fpr': fpr_list})\n",
    "    ROC_df = ROC_df.sort_values(by='tpr')\n",
    "    ROC_df = ROC_df.drop_duplicates()\n",
    "    auc = 0\n",
    "    ROC_mat = np.mat(ROC_df)\n",
    "    for i in range(1, ROC_mat.shape[0]):\n",
    "        auc = auc + (ROC_mat[i, 1] + ROC_mat[i - 1, 1]) * (ROC_mat[i, 0] - ROC_mat[i - 1, 0]) * 0.5\n",
    "    if plot:\n",
    "        plt.plot(ROC_df['fpr'], ROC_df['tpr'])\n",
    "        plt.plot([0, 1], [0, 1])\n",
    "        plt.title(\"AUC={}%\".format(int(auc * 100)))\n",
    "    return auc\n",
    "\n",
    "\n",
    "def KS(df, score, target, plot = True):\n",
    "    '''\n",
    "    :param df: 包含目标变量与预测值的数据集\n",
    "    :param score: 得分或者概率\n",
    "    :param target: 目标变量\n",
    "    :return: KS值\n",
    "    :return: KS值\n",
    "    '''\n",
    "    total = df.groupby([score])[target].count()\n",
    "    bad = df.groupby([score])[target].sum()\n",
    "    all = pd.DataFrame({'total':total, 'bad':bad})\n",
    "    all['good'] = all['total'] - all['bad']\n",
    "    all[score] = all.index\n",
    "    all = all.sort_values(by=score, ascending = False)\n",
    "    all.index = range(len(all))\n",
    "    all['badCumRate'] = all['bad'].cumsum() / all['bad'].sum()\n",
    "    all['goodCumRate'] = all['good'].cumsum() / all['good'].sum()\n",
    "    KS_list = all.apply(lambda x: x.badCumRate - x.goodCumRate, axis=1)\n",
    "    KS = max(KS_list)\n",
    "    if plot:\n",
    "        plt.plot(list(all.index), all['badCumRate'])\n",
    "        plt.plot(list(all.index), all['goodCumRate'])\n",
    "        plt.title('KS ={}%'.format(int(KS*100)))\n",
    "    return KS"
   ]
  },
  {
   "cell_type": "code",
   "execution_count": 5,
   "metadata": {},
   "outputs": [
    {
     "data": {
      "text/html": [
       "<div>\n",
       "<style scoped>\n",
       "    .dataframe tbody tr th:only-of-type {\n",
       "        vertical-align: middle;\n",
       "    }\n",
       "\n",
       "    .dataframe tbody tr th {\n",
       "        vertical-align: top;\n",
       "    }\n",
       "\n",
       "    .dataframe thead th {\n",
       "        text-align: right;\n",
       "    }\n",
       "</style>\n",
       "<table border=\"1\" class=\"dataframe\">\n",
       "  <thead>\n",
       "    <tr style=\"text-align: right;\">\n",
       "      <th></th>\n",
       "      <th>is_email_acct</th>\n",
       "      <th>certificationtype</th>\n",
       "      <th>registered_channels</th>\n",
       "      <th>sex</th>\n",
       "      <th>age</th>\n",
       "      <th>registered_days</th>\n",
       "      <th>area1_danger</th>\n",
       "      <th>area4_danger</th>\n",
       "      <th>is_area3_eqaul_area4</th>\n",
       "      <th>is_area3_equal_area6</th>\n",
       "      <th>...</th>\n",
       "      <th>10m_pay_times</th>\n",
       "      <th>12h_pay_times</th>\n",
       "      <th>1d_pay_times</th>\n",
       "      <th>1h_pay_times</th>\n",
       "      <th>30m_pay_times</th>\n",
       "      <th>10m_Sum_pay_amount</th>\n",
       "      <th>12h_Sum_pay_amount</th>\n",
       "      <th>1d_Sum_pay_amount</th>\n",
       "      <th>1h_Sum_pay_amount</th>\n",
       "      <th>flag</th>\n",
       "    </tr>\n",
       "  </thead>\n",
       "  <tbody>\n",
       "    <tr>\n",
       "      <th>0</th>\n",
       "      <td>0.0</td>\n",
       "      <td>2</td>\n",
       "      <td>SDK</td>\n",
       "      <td>1.0</td>\n",
       "      <td>42</td>\n",
       "      <td>219</td>\n",
       "      <td>5.0</td>\n",
       "      <td>1</td>\n",
       "      <td>1</td>\n",
       "      <td>0</td>\n",
       "      <td>...</td>\n",
       "      <td>NaN</td>\n",
       "      <td>NaN</td>\n",
       "      <td>NaN</td>\n",
       "      <td>NaN</td>\n",
       "      <td>NaN</td>\n",
       "      <td>NaN</td>\n",
       "      <td>NaN</td>\n",
       "      <td>0</td>\n",
       "      <td>NaN</td>\n",
       "      <td>0</td>\n",
       "    </tr>\n",
       "  </tbody>\n",
       "</table>\n",
       "<p>1 rows × 95 columns</p>\n",
       "</div>"
      ],
      "text/plain": [
       "   is_email_acct  certificationtype registered_channels  sex  age  \\\n",
       "0            0.0                  2                 SDK  1.0   42   \n",
       "\n",
       "   registered_days  area1_danger  area4_danger  is_area3_eqaul_area4  \\\n",
       "0              219           5.0             1                     1   \n",
       "\n",
       "   is_area3_equal_area6  ...   10m_pay_times  12h_pay_times  1d_pay_times  \\\n",
       "0                     0  ...             NaN            NaN           NaN   \n",
       "\n",
       "   1h_pay_times  30m_pay_times  10m_Sum_pay_amount  12h_Sum_pay_amount  \\\n",
       "0           NaN            NaN                 NaN                 NaN   \n",
       "\n",
       "   1d_Sum_pay_amount  1h_Sum_pay_amount  flag  \n",
       "0                  0                NaN     0  \n",
       "\n",
       "[1 rows x 95 columns]"
      ]
     },
     "execution_count": 5,
     "metadata": {},
     "output_type": "execute_result"
    }
   ],
   "source": [
    "#######################\n",
    "####  1，读取数据  #####\n",
    "#######################\n",
    "# folderOfData = '/Users/Code/Data Collections/AF/'\n",
    "data = pd.read_csv('../05/anti_fraud_data.csv', header = 0)\n",
    "del data['ID']\n",
    "data.head(1)"
   ]
  },
  {
   "cell_type": "code",
   "execution_count": 6,
   "metadata": {},
   "outputs": [
    {
     "data": {
      "text/plain": [
       "(46978, 95)"
      ]
     },
     "execution_count": 6,
     "metadata": {},
     "output_type": "execute_result"
    }
   ],
   "source": [
    "data.shape"
   ]
  },
  {
   "cell_type": "code",
   "execution_count": 7,
   "metadata": {},
   "outputs": [],
   "source": [
    "#为了减少训练时间，减少数据集\n",
    "data = data.iloc[:10000,:]"
   ]
  },
  {
   "cell_type": "code",
   "execution_count": 9,
   "metadata": {
    "collapsed": true
   },
   "outputs": [
    {
     "data": {
      "text/plain": [
       "['is_email_acct',\n",
       " 'certificationtype',\n",
       " 'registered_channels',\n",
       " 'sex',\n",
       " 'age',\n",
       " 'registered_days',\n",
       " 'area1_danger',\n",
       " 'area4_danger',\n",
       " 'is_area3_eqaul_area4',\n",
       " 'is_area3_equal_area6',\n",
       " 'is_area4_equal_area6',\n",
       " 'is_area5_equal_area3',\n",
       " 'is_area5_equal_area4',\n",
       " 'is_area5_equal_area6',\n",
       " 'is_area1_equal_area2',\n",
       " 'is_area7_equal_area3',\n",
       " 'is_area7_equal_area4',\n",
       " 'is_area7_equal_area6',\n",
       " 'is_area7_equal_area5',\n",
       " 'is_area2_equal_area3',\n",
       " 'is_area2_equal_area4',\n",
       " 'is_area2_equal_area6',\n",
       " 'is_area2_equal_area5',\n",
       " 'area4_danger.1',\n",
       " 'area2_danger',\n",
       " 'area10_danger',\n",
       " 'ip_desc_danger',\n",
       " 'is_area1_equal_area11',\n",
       " 'is_area10_equal_area8',\n",
       " 'is_area10_equal_area9',\n",
       " 'is_area2_equal_area8',\n",
       " 'is_area2_equal_area9',\n",
       " 'is_area8_equal_area3',\n",
       " 'is_area8_equal_area4',\n",
       " 'is_area8_equal_area6',\n",
       " 'is_area8_equal_area5',\n",
       " 'is_area8_equal_area9',\n",
       " 'is_area9_equal_area3',\n",
       " 'is_area9_equal_area4',\n",
       " 'is_area9_equal_area6',\n",
       " 'is_area9_equal_area5',\n",
       " 'area8_danger',\n",
       " 'area11_danger',\n",
       " 'area6_danger',\n",
       " 'paytime_hour',\n",
       " 'goods_type',\n",
       " 'is_danger_goods',\n",
       " 'pay_amount',\n",
       " 'Bank_Bind_Hour',\n",
       " '30days_sign_bank_cnt',\n",
       " '90days_sign_bank_cnt',\n",
       " '1h_sign_bank_cnt',\n",
       " '24h_sign_bank_cnt',\n",
       " '12h_sign_bank_cnt',\n",
       " '1h_release_bank_cnt',\n",
       " '24h_release_bank_cnt',\n",
       " '12h_release_bank_cnt',\n",
       " '30m_Sum_pay_amount',\n",
       " '30d_AcctPerDevice',\n",
       " '30d_AcctPerIP',\n",
       " '15d_Max_pay_amount',\n",
       " '30d_Max_pay_amount',\n",
       " '60d_Max_pay_amount',\n",
       " '7d_Max_pay_amount',\n",
       " '90d_Max_pay_amount',\n",
       " '15d_Min_pay_amount',\n",
       " '30d_Min_pay_amount',\n",
       " '60d_Min_pay_amount',\n",
       " '7d_Min_pay_amount',\n",
       " '90d_Min_pay_amount',\n",
       " '15d_pay_times',\n",
       " '30d_pay_times',\n",
       " '60d_pay_times',\n",
       " '7d_pay_times',\n",
       " '90d_pay_times',\n",
       " '15d_Sum_pay_amount',\n",
       " '30d_Sum_pay_amount',\n",
       " '60d_Sum_pay_amount',\n",
       " '7d_Sum_pay_amount',\n",
       " '90d_Sum_pay_amount',\n",
       " '24h_AcctPerDevice',\n",
       " '24h_AcctPerIP',\n",
       " '1d_Max_pay_amount',\n",
       " '12h_Min_pay_amount',\n",
       " '1d_Min_pay_amount',\n",
       " '10m_pay_times',\n",
       " '12h_pay_times',\n",
       " '1d_pay_times',\n",
       " '1h_pay_times',\n",
       " '30m_pay_times',\n",
       " '10m_Sum_pay_amount',\n",
       " '12h_Sum_pay_amount',\n",
       " '1d_Sum_pay_amount',\n",
       " '1h_Sum_pay_amount']"
      ]
     },
     "execution_count": 9,
     "metadata": {},
     "output_type": "execute_result"
    }
   ],
   "source": [
    "train_data, test_data = train_test_split(data, test_size=0.3)\n",
    "\n",
    "#########################\n",
    "####  2，数据预处理  #####\n",
    "#########################\n",
    "\n",
    "all_columns = list(train_data.columns)\n",
    "all_columns.remove('flag')\n",
    "all_columns"
   ]
  },
  {
   "cell_type": "code",
   "execution_count": 10,
   "metadata": {},
   "outputs": [],
   "source": [
    "#查看每个字段的缺失率\n",
    "column_missingrate = {col: Missingrate_Column(train_data, col) for col in all_columns}\n",
    "column_MR_df = pd.DataFrame.from_dict(column_missingrate, orient='index')\n",
    "column_MR_df.columns = ['missing_rate']\n",
    "column_MR_df_sorted = column_MR_df.sort_values(by='missing_rate', ascending=False)\n",
    "#由于变量ip_desc_danger在训练集中全部缺失，故将其删去。\n",
    "all_columns.remove('ip_desc_danger')\n",
    "del train_data['ip_desc_danger']\n",
    "column_MR_df_sorted = column_MR_df_sorted.drop(index=['ip_desc_danger'])\n",
    "columns_with_missing = column_MR_df_sorted[column_MR_df_sorted.missing_rate > 0].index\n",
    "\n",
    "\n",
    "categorical_cols_withmissing = ['area1_danger','registered_channels','sex','is_email_acct','area8_danger','area6_danger','area11_danger']\n",
    "dummy_map = {}\n",
    "dummy_columns = []\n",
    "for raw_col in categorical_cols_withmissing:\n",
    "    dummies = pd.get_dummies(train_data.loc[:, raw_col], prefix=raw_col)\n",
    "    col_onehot = pd.concat([train_data[raw_col], dummies], axis=1)\n",
    "    col_onehot = col_onehot.drop_duplicates()\n",
    "    train_data = pd.concat([train_data, dummies], axis=1)\n",
    "    del train_data[raw_col]\n",
    "    dummy_map[raw_col] = col_onehot\n",
    "    dummy_columns = dummy_columns + list(dummies)\n",
    "\n",
    "#对于数值型变量，可以将原始变量与表示缺失状态的示性变量交互地使用.此外，由于这些变量都是非负数，对于缺失，可以用0来填补\n",
    "continuous_cols_withmissing = [i for i in columns_with_missing if i not in categorical_cols_withmissing]\n",
    "for col in continuous_cols_withmissing:\n",
    "    train_data[col+'_ismissing']  = train_data[col].map(lambda x: int(x!=x))\n",
    "    train_data[col] = Makeup_Missing(train_data, col, 0)\n",
    "\n",
    "#注意到，原始数据中，年龄age没有缺失值，但是有0.需要将0看成缺失\n",
    "train_data['age'+'_ismissing']  = train_data['age'].map(lambda x: int(x==0))"
   ]
  },
  {
   "cell_type": "code",
   "execution_count": 11,
   "metadata": {},
   "outputs": [],
   "source": [
    "#######################\n",
    "####  3，特征衍生  #####\n",
    "#######################\n",
    "#（1）构造平均值型变量\n",
    "periods = ['10m','30m','1h','12h','1d','7d','15d','30d','60d','90d']\n",
    "for period in periods:\n",
    "    amount = period+'_Sum_pay_amount'\n",
    "    times = period+'_pay_times'\n",
    "    avg_payment = period+'_Avg_pay_amount'\n",
    "    train_data[avg_payment] = train_data[[amount,times]].apply(lambda x: Avg_Calc(x[amount],x[times]),axis=1)\n",
    "\n",
    "#（2）构造变量，检查平均每次支付金额上升量\n",
    "for i in range(len(periods)-1):\n",
    "    avg_payment_1 = periods[i]+'_Avg_pay_amount'\n",
    "    avg_payment_2 = periods[i+1] + '_Avg_pay_amount'\n",
    "    increase_payment = periods[i] + '_' + periods[i+1] + '_payment_increase'\n",
    "    train_data[increase_payment] = train_data[[avg_payment_1,avg_payment_2]].apply(lambda x: x[avg_payment_1] - x[avg_payment_2],axis=1)\n",
    "\n",
    "\n",
    "#（3）在（1）的基础上求最大的平均支付金额值\n",
    "avg_payments = [d+'_Avg_pay_amount' for d in periods]\n",
    "train_data['max_Avg_pay_amount'] = train_data[avg_payments].apply(lambda x: max(x),axis=1)\n",
    "features = list(train_data.columns)\n",
    "features.remove('flag')\n",
    "X,y = train_data[features], train_data['flag']"
   ]
  },
  {
   "cell_type": "code",
   "execution_count": 12,
   "metadata": {},
   "outputs": [
    {
     "name": "stderr",
     "output_type": "stream",
     "text": [
      "C:\\Users\\Ian\\Anaconda3\\lib\\site-packages\\sklearn\\ensemble\\forest.py:453: UserWarning: Some inputs do not have OOB scores. This probably means too few trees were used to compute any reliable oob estimates.\n",
      "  warn(\"Some inputs do not have OOB scores. \"\n",
      "C:\\Users\\Ian\\Anaconda3\\lib\\site-packages\\sklearn\\ensemble\\forest.py:458: RuntimeWarning: invalid value encountered in true_divide\n",
      "  predictions[k].sum(axis=1)[:, np.newaxis])\n"
     ]
    },
    {
     "name": "stdout",
     "output_type": "stream",
     "text": [
      "0.9875714285714285\n"
     ]
    },
    {
     "data": {
      "text/plain": [
       "0.9999908638948739"
      ]
     },
     "execution_count": 12,
     "metadata": {},
     "output_type": "execute_result"
    },
    {
     "data": {
      "image/png": "[encoded data removed]",
      "text/plain": [
       "<matplotlib.figure.Figure at 0x2151be71ac8>"
      ]
     },
     "metadata": {},
     "output_type": "display_data"
    }
   ],
   "source": [
    "##########################\n",
    "####  4，构建随机森林  #####\n",
    "##########################\n",
    "#使用默认参数进行建模\n",
    "RFC = RandomForestClassifier(oob_score=True)\n",
    "RFC.fit(X,y)\n",
    "#袋外数据准确率\n",
    "print(RFC.oob_score_)\n",
    "y_predprob = RFC.predict_proba(X)[:,1]\n",
    "result = pd.DataFrame({'real':y,'pred':y_predprob})\n",
    "#print(\"AUC Score (Train): %f\" % metrics.roc_auc_score(y, y_predprob))\n",
    "ROC_AUC(result, 'pred', 'real')"
   ]
  },
  {
   "cell_type": "code",
   "execution_count": 13,
   "metadata": {},
   "outputs": [
    {
     "data": {
      "text/plain": [
       "100"
      ]
     },
     "execution_count": 13,
     "metadata": {},
     "output_type": "execute_result"
    }
   ],
   "source": [
    "#参数调整\n",
    "#1，调整n_estimators\n",
    "param_test1 = {'n_estimators':range(10,101,10)}\n",
    "gsearch1 = GridSearchCV(estimator = RandomForestClassifier(),param_grid = param_test1, scoring='roc_auc',cv=5)\n",
    "gsearch1.fit(X,y)\n",
    "best_n_estimators_1 = gsearch1.best_params_['n_estimators']  #80\n",
    "best_n_estimators_1"
   ]
  },
  {
   "cell_type": "code",
   "execution_count": 14,
   "metadata": {},
   "outputs": [
    {
     "data": {
      "text/plain": [
       "80"
      ]
     },
     "execution_count": 14,
     "metadata": {},
     "output_type": "execute_result"
    }
   ],
   "source": [
    "param_test1 = {'n_estimators':range(71,89)}\n",
    "gsearch1 = GridSearchCV(estimator = RandomForestClassifier(),param_grid = param_test1, scoring='roc_auc',cv=5)\n",
    "gsearch1.fit(X,y)\n",
    "best_n_estimators = gsearch1.best_params_['n_estimators']  #84\n",
    "best_n_estimators"
   ]
  },
  {
   "cell_type": "code",
   "execution_count": 15,
   "metadata": {},
   "outputs": [
    {
     "data": {
      "text/plain": [
       "(13, 5, 20)"
      ]
     },
     "execution_count": 15,
     "metadata": {},
     "output_type": "execute_result"
    }
   ],
   "source": [
    "#2，对决策树最大深度max_depth,内部节点再划分所需最小样本数min_samples_split和叶子节点最少样本数min_samples_leaf进行网格搜索\n",
    "param_test2 = {'max_depth':range(5,15), 'min_samples_split':range(20,81,10), 'min_samples_leaf':range(5,21,5)}\n",
    "gsearch2 = GridSearchCV(estimator = RandomForestClassifier(n_estimators= best_n_estimators),param_grid = param_test2, scoring='roc_auc',cv=5)\n",
    "gsearch2.fit(X,y)\n",
    "best_max_depth, best_min_samples_split, best_min_samples_leaf = gsearch2.best_params_['max_depth'],gsearch2.best_params_['min_samples_leaf'],gsearch2.best_params_['min_samples_split']\n",
    "best_max_depth, best_min_samples_split, best_min_samples_leaf"
   ]
  },
  {
   "cell_type": "code",
   "execution_count": 19,
   "metadata": {},
   "outputs": [
    {
     "name": "stdout",
     "output_type": "stream",
     "text": [
      "0.9872857142857143\n"
     ]
    },
    {
     "data": {
      "text/plain": [
       "0.9930328937378701"
      ]
     },
     "execution_count": 19,
     "metadata": {},
     "output_type": "execute_result"
    },
    {
     "data": {
      "image/png": "[encoded data removed]",
      "text/plain": [
       "<matplotlib.figure.Figure at 0x2151e4af5f8>"
      ]
     },
     "metadata": {},
     "output_type": "display_data"
    }
   ],
   "source": [
    "#3，对max_features进行调优\n",
    "param_test3 ={'max_features':['sqrt','log2']}\n",
    "gsearch3 = GridSearchCV(estimator = RandomForestClassifier(n_estimators= best_n_estimators,\n",
    "                                                           max_depth = best_max_depth,\n",
    "                                                           min_samples_split = best_min_samples_split,\n",
    "                                                           min_samples_leaf = best_min_samples_leaf),\n",
    "                        param_grid = param_test3, scoring='roc_auc',cv=5)\n",
    "gsearch3.fit(X,y)\n",
    "best_max_features = gsearch3.best_params_['max_features']\n",
    "\n",
    "RFC_2 = RandomForestClassifier(oob_score=True, n_estimators= best_n_estimators,\n",
    "                            max_depth = best_max_depth,min_samples_split = best_min_samples_split,\n",
    "                            min_samples_leaf = best_min_samples_leaf,max_features = best_max_features)\n",
    "RFC_2.fit(X,y)\n",
    "print(RFC_2.oob_score_)\n",
    "y_predprob = RFC_2.predict_proba(X)[:,1]\n",
    "result = pd.DataFrame({'real':y,'pred':y_predprob})\n",
    "#print(\"AUC Score (Train): %f\" % metrics.roc_auc_score(y, y_predprob))\n",
    "ROC_AUC(result, 'pred', 'real')"
   ]
  },
  {
   "cell_type": "code",
   "execution_count": 20,
   "metadata": {},
   "outputs": [
    {
     "data": {
      "text/plain": [
       "Text(0.5,1,'feature importance')"
      ]
     },
     "execution_count": 20,
     "metadata": {},
     "output_type": "execute_result"
    },
    {
     "data": {
      "image/png": "[encoded data removed]",
      "text/plain": [
       "<matplotlib.figure.Figure at 0x2151d4aee48>"
      ]
     },
     "metadata": {},
     "output_type": "display_data"
    }
   ],
   "source": [
    "#特征重要性评估\n",
    "fi = RFC_2.feature_importances_\n",
    "fi = sorted(fi, reverse=True)\n",
    "plt.bar(list(range(len(fi))), fi)\n",
    "plt.title('feature importance')"
   ]
  },
  {
   "cell_type": "code",
   "execution_count": 21,
   "metadata": {},
   "outputs": [
    {
     "data": {
      "text/plain": [
       "area1_danger_5.0               False\n",
       "registered_channels_31         False\n",
       "registered_channels_ANDROID    False\n",
       "registered_channels_APP        False\n",
       "registered_channels_IOS        False\n",
       "registered_channels_PC         False\n",
       "registered_channels_SDK        False\n",
       "registered_channels_WAP        False\n",
       "sex_1.0                        False\n",
       "sex_2.0                        False\n",
       "is_email_acct_0.0              False\n",
       "is_email_acct_1.0              False\n",
       "area8_danger_1.0               False\n",
       "area8_danger_2.0               False\n",
       "area8_danger_3.0               False\n",
       "area8_danger_4.0               False\n",
       "area8_danger_5.0               False\n",
       "area6_danger_1                 False\n",
       "area6_danger_2                 False\n",
       "area6_danger_3                 False\n",
       "area6_danger_4                 False\n",
       "area6_danger_5                 False\n",
       "area6_danger_other             False\n",
       "area11_danger_1                False\n",
       "area11_danger_2                False\n",
       "area11_danger_3                False\n",
       "area11_danger_4                False\n",
       "area11_danger_5                False\n",
       "area11_danger_other            False\n",
       "dtype: bool"
      ]
     },
     "execution_count": 21,
     "metadata": {},
     "output_type": "execute_result"
    }
   ],
   "source": [
    "###############################\n",
    "####  5，在测试集上进行测试  #####\n",
    "###############################\n",
    "#准备测试样本#\n",
    "del test_data['ip_desc_danger']\n",
    "#在对测试集进行哑变量编码或者独热编码的时候，要按照在训练集中的编码方式来进行\n",
    "#例如，在训练集中，设备类型={Android， Apple， SDK}，但是在测试集中设备类型={Android， Apple， SDK， PC}。多出来的值在编码中全部为0\n",
    "train_data, test_data = train_test_split(data, test_size=0.3)\n",
    "test_data_cp = test_data.copy()\n",
    "\n",
    "for raw_col in categorical_cols_withmissing:\n",
    "    test_data = pd.merge(test_data, dummy_map[raw_col],on =raw_col, how='left')\n",
    "    del test_data[raw_col]\n",
    "dummy_columns = test_data[dummy_columns]\n",
    "dummy_columns.isnull().any()"
   ]
  },
  {
   "cell_type": "code",
   "execution_count": 22,
   "metadata": {},
   "outputs": [
    {
     "data": {
      "text/plain": [
       "0.9986385678209382"
      ]
     },
     "execution_count": 22,
     "metadata": {},
     "output_type": "execute_result"
    },
    {
     "data": {
      "image/png": "[encoded data removed]",
      "text/plain": [
       "<matplotlib.figure.Figure at 0x2151d5524a8>"
      ]
     },
     "metadata": {},
     "output_type": "display_data"
    }
   ],
   "source": [
    "for col in continuous_cols_withmissing:\n",
    "    test_data[col+'_ismissing']  = test_data[col].map(lambda x: int(x!=x))\n",
    "    test_data[col] = Makeup_Missing(test_data, col, 0)\n",
    "\n",
    "#注意到，原始数据中，年龄age没有缺失值，但是有0.需要将0看成缺失\n",
    "test_data['age'+'_ismissing']  = test_data['age'].map(lambda x: int(x==0))\n",
    "for period in periods:\n",
    "    amount = period+'_Sum_pay_amount'\n",
    "    times = period+'_pay_times'\n",
    "    avg_payment = period+'_Avg_pay_amount'\n",
    "    test_data[avg_payment] = test_data[[amount,times]].apply(lambda x: Avg_Calc(x[amount],x[times]),axis=1)\n",
    "\n",
    "#（2）构造变量，检查平均每次支付金额上升量\n",
    "for i in range(len(periods)-1):\n",
    "    avg_payment_1 = periods[i]+'_Avg_pay_amount'\n",
    "    avg_payment_2 = periods[i+1] + '_Avg_pay_amount'\n",
    "    increase_payment = periods[i] + '_' + periods[i+1] + '_payment_increase'\n",
    "    test_data[increase_payment] = test_data[[avg_payment_1,avg_payment_2]].apply(lambda x: x[avg_payment_1] - x[avg_payment_2],axis=1)\n",
    "\n",
    "\n",
    "#（3）在（1）的基础上求最大的平均支付金额值\n",
    "avg_payments = [d+'_Avg_pay_amount' for d in periods]\n",
    "test_data['max_Avg_pay_amount'] = test_data[avg_payments].apply(lambda x: max(x),axis=1)\n",
    "\n",
    "# 用默认参数的随机森林进行建模\n",
    "X_test,y_test = test_data[features], test_data['flag']\n",
    "y_predprob = RFC.predict_proba(X_test)[:,1]\n",
    "result = pd.DataFrame({'real':y_test,'pred':y_predprob})\n",
    "ROC_AUC(result, 'pred', 'real')"
   ]
  },
  {
   "cell_type": "code",
   "execution_count": 23,
   "metadata": {},
   "outputs": [
    {
     "data": {
      "text/plain": [
       "0.9935556211396905"
      ]
     },
     "execution_count": 23,
     "metadata": {},
     "output_type": "execute_result"
    },
    {
     "data": {
      "image/png": "[encoded data removed]",
      "text/plain": [
       "<matplotlib.figure.Figure at 0x2151d665c88>"
      ]
     },
     "metadata": {},
     "output_type": "display_data"
    }
   ],
   "source": [
    "# 用调优后的随机森林进行建模\n",
    "y_predprob2 = RFC_2.predict_proba(X_test)[:,1]\n",
    "result = pd.DataFrame({'real':y_test,'pred':y_predprob2})\n",
    "ROC_AUC(result, 'pred', 'real')"
   ]
  },
  {
   "cell_type": "code",
   "execution_count": 24,
   "metadata": {},
   "outputs": [
    {
     "data": {
      "text/plain": [
       "0.8822097444827464"
      ]
     },
     "execution_count": 24,
     "metadata": {},
     "output_type": "execute_result"
    },
    {
     "data": {
      "image/png": "[encoded data removed]",
      "text/plain": [
       "<matplotlib.figure.Figure at 0x2151d557668>"
      ]
     },
     "metadata": {},
     "output_type": "display_data"
    }
   ],
   "source": [
    "KS(result, 'pred', 'real')"
   ]
  },
  {
   "cell_type": "code",
   "execution_count": 25,
   "metadata": {},
   "outputs": [],
   "source": [
    "from sklearn.tree import DecisionTreeClassifier"
   ]
  },
  {
   "cell_type": "code",
   "execution_count": 26,
   "metadata": {},
   "outputs": [
    {
     "data": {
      "text/plain": [
       "DecisionTreeClassifier(class_weight=None, criterion='gini', max_depth=None,\n",
       "            max_features=None, max_leaf_nodes=None,\n",
       "            min_impurity_decrease=0.0, min_impurity_split=None,\n",
       "            min_samples_leaf=1, min_samples_split=2,\n",
       "            min_weight_fraction_leaf=0.0, presort=False, random_state=None,\n",
       "            splitter='best')"
      ]
     },
     "execution_count": 26,
     "metadata": {},
     "output_type": "execute_result"
    }
   ],
   "source": [
    "model = DecisionTreeClassifier()\n",
    "model.fit(X, y)"
   ]
  },
  {
   "cell_type": "code",
   "execution_count": 32,
   "metadata": {},
   "outputs": [
    {
     "data": {
      "text/plain": [
       "1.0"
      ]
     },
     "execution_count": 32,
     "metadata": {},
     "output_type": "execute_result"
    },
    {
     "data": {
      "image/png": "[encoded data removed]",
      "text/plain": [
       "<matplotlib.figure.Figure at 0x21522a46668>"
      ]
     },
     "metadata": {},
     "output_type": "display_data"
    }
   ],
   "source": [
    "y_predprob = model.predict_proba(X)[:,1]\n",
    "result = pd.DataFrame({'real':y,'pred':y_predprob})\n",
    "ROC_AUC(result, 'pred', 'real')"
   ]
  }
 ],
 "metadata": {
  "kernelspec": {
   "display_name": "Python 3",
   "language": "python",
   "name": "python3"
  },
  "language_info": {
   "codemirror_mode": {
    "name": "ipython",
    "version": 3
   },
   "file_extension": ".py",
   "mimetype": "text/x-python",
   "name": "python",
   "nbconvert_exporter": "python",
   "pygments_lexer": "ipython3",
   "version": "3.6.4"
  }
 },
 "nbformat": 4,
 "nbformat_minor": 2
}
