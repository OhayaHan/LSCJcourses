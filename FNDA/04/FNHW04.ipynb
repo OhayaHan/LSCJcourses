{
 "cells": [
  {
   "cell_type": "markdown",
   "metadata": {},
   "source": [
    "## FNHW04"
   ]
  },
  {
   "cell_type": "markdown",
   "metadata": {},
   "source": [
    "Python文件“MyLogisticRegression.py”里有基于批量梯度上升法求解极大似然函数中的权重参数的代码。  \n",
    "\n",
    "（1）\t结合给出的数据，运行代码，得到权重参数的估计。  \n",
    "（2）\t在（1）权重参数的结果下，计算每个样本属于类别为1的概率  \n",
    "（3）\t以0.5为阈值，概率大于等于该阈值的样本划分为1，否则划分为0.结合真实的标签，计算混淆矩阵，并且计算  \n",
    "Accuracy  \n",
    "Precision  \n",
    "Recall   \n",
    "Specificity  "
   ]
  },
  {
   "cell_type": "code",
   "execution_count": 30,
   "metadata": {},
   "outputs": [],
   "source": [
    "import pandas as pd\n",
    "import numpy as np\n",
    "import statsmodels.api as sm\n",
    "from sklearn.linear_model import LogisticRegression,LogisticRegressionCV"
   ]
  },
  {
   "cell_type": "code",
   "execution_count": 2,
   "metadata": {},
   "outputs": [],
   "source": [
    "def BSD(X,y, w_initial, h=0.01, maxSteps = 100000):   #批量梯度下降法求逻辑回归参数\n",
    "    '''\n",
    "    :param X: 输入特征矩阵，第一列为向量1\n",
    "    :param y: 标签，用1、0表示\n",
    "    :param w_initial: 初始化权重\n",
    "    :param h: 固定步长----学习率\n",
    "    :param maxSteps: 最大迭代步数\n",
    "    :return: 权重的估计值\n",
    "    '''\n",
    "    w0 = w_initial\n",
    "    for i in range(maxSteps):\n",
    "        s = np.exp(X*w0)/(1+np.exp(X*w0))\n",
    "        descent = X.T*y-X.T*s  #梯度\n",
    "        w1 = w0 + descent*h    #梯度上升\n",
    "        w0 = w1\n",
    "        if max(abs(descent*h)) < 0.00001:    #若当前的权重的更新很小时，认为迭代已经收敛，可以提前退出迭代\n",
    "            break\n",
    "    return w1"
   ]
  },
  {
   "cell_type": "code",
   "execution_count": 3,
   "metadata": {
    "scrolled": true
   },
   "outputs": [
    {
     "data": {
      "text/html": [
       "<div>\n",
       "<style scoped>\n",
       "    .dataframe tbody tr th:only-of-type {\n",
       "        vertical-align: middle;\n",
       "    }\n",
       "\n",
       "    .dataframe tbody tr th {\n",
       "        vertical-align: top;\n",
       "    }\n",
       "\n",
       "    .dataframe thead th {\n",
       "        text-align: right;\n",
       "    }\n",
       "</style>\n",
       "<table border=\"1\" class=\"dataframe\">\n",
       "  <thead>\n",
       "    <tr style=\"text-align: right;\">\n",
       "      <th></th>\n",
       "      <th>X1</th>\n",
       "      <th>X2</th>\n",
       "      <th>Y</th>\n",
       "    </tr>\n",
       "  </thead>\n",
       "  <tbody>\n",
       "    <tr>\n",
       "      <th>0</th>\n",
       "      <td>-0.017612</td>\n",
       "      <td>14.053064</td>\n",
       "      <td>0</td>\n",
       "    </tr>\n",
       "    <tr>\n",
       "      <th>1</th>\n",
       "      <td>-1.395634</td>\n",
       "      <td>4.662541</td>\n",
       "      <td>1</td>\n",
       "    </tr>\n",
       "    <tr>\n",
       "      <th>2</th>\n",
       "      <td>-0.752157</td>\n",
       "      <td>6.538620</td>\n",
       "      <td>0</td>\n",
       "    </tr>\n",
       "    <tr>\n",
       "      <th>3</th>\n",
       "      <td>-1.322371</td>\n",
       "      <td>7.152853</td>\n",
       "      <td>0</td>\n",
       "    </tr>\n",
       "    <tr>\n",
       "      <th>4</th>\n",
       "      <td>0.423363</td>\n",
       "      <td>11.054677</td>\n",
       "      <td>0</td>\n",
       "    </tr>\n",
       "  </tbody>\n",
       "</table>\n",
       "</div>"
      ],
      "text/plain": [
       "         X1         X2  Y\n",
       "0 -0.017612  14.053064  0\n",
       "1 -1.395634   4.662541  1\n",
       "2 -0.752157   6.538620  0\n",
       "3 -1.322371   7.152853  0\n",
       "4  0.423363  11.054677  0"
      ]
     },
     "execution_count": 3,
     "metadata": {},
     "output_type": "execute_result"
    }
   ],
   "source": [
    "#读取数据，并转换成矩阵\n",
    "data = pd.read_csv('data.csv',header = 0)\n",
    "data.head()"
   ]
  },
  {
   "cell_type": "code",
   "execution_count": 7,
   "metadata": {},
   "outputs": [],
   "source": [
    "data2 = np.matrix(data.values)\n",
    "X,y = data2[:,:2],data2[:,-1]"
   ]
  },
  {
   "cell_type": "code",
   "execution_count": 9,
   "metadata": {},
   "outputs": [
    {
     "data": {
      "text/plain": [
       "matrix([[ 1.      , -0.017612, 14.053064],\n",
       "        [ 1.      , -1.395634,  4.662541],\n",
       "        [ 1.      , -0.752157,  6.53862 ],\n",
       "        [ 1.      , -1.322371,  7.152853],\n",
       "        [ 1.      ,  0.423363, 11.054677]])"
      ]
     },
     "execution_count": 9,
     "metadata": {},
     "output_type": "execute_result"
    }
   ],
   "source": [
    "ones = np.mat(np.ones((X.shape[0],1)))\n",
    "X = np.hstack((ones, X))\n",
    "X[:5,:]"
   ]
  },
  {
   "cell_type": "markdown",
   "metadata": {},
   "source": [
    "### （1）   结合给出的数据，运行代码，得到权重参数的估计。"
   ]
  },
  {
   "cell_type": "code",
   "execution_count": 38,
   "metadata": {},
   "outputs": [
    {
     "name": "stdout",
     "output_type": "stream",
     "text": [
      "[[14.73245533]\n",
      " [ 1.25224897]\n",
      " [-2.00004285]]\n"
     ]
    }
   ],
   "source": [
    "#设置初始值，带入批量梯度下降法中\n",
    "w_initial = np.matrix(np.array([1,1,1])).T\n",
    "w2 = BSD(X,y, w_initial, 0.01, maxSteps = 100000)\n",
    "print(w2)"
   ]
  },
  {
   "cell_type": "code",
   "execution_count": 11,
   "metadata": {},
   "outputs": [
    {
     "name": "stdout",
     "output_type": "stream",
     "text": [
      "Optimization terminated successfully.\n",
      "         Current function value: 0.093158\n",
      "         Iterations 10\n"
     ]
    },
    {
     "data": {
      "text/html": [
       "<table class=\"simpletable\">\n",
       "<tr>\n",
       "        <td>Model:</td>              <td>Logit</td>      <td>Pseudo R-squared:</td>    <td>0.865</td>  \n",
       "</tr>\n",
       "<tr>\n",
       "  <td>Dependent Variable:</td>         <td>y</td>              <td>AIC:</td>          <td>24.6315</td> \n",
       "</tr>\n",
       "<tr>\n",
       "         <td>Date:</td>        <td>2018-12-19 13:41</td>       <td>BIC:</td>          <td>32.4470</td> \n",
       "</tr>\n",
       "<tr>\n",
       "   <td>No. Observations:</td>         <td>100</td>        <td>Log-Likelihood:</td>    <td>-9.3158</td> \n",
       "</tr>\n",
       "<tr>\n",
       "       <td>Df Model:</td>              <td>2</td>            <td>LL-Null:</td>        <td>-69.135</td> \n",
       "</tr>\n",
       "<tr>\n",
       "     <td>Df Residuals:</td>           <td>97</td>          <td>LLR p-value:</td>    <td>1.0496e-26</td>\n",
       "</tr>\n",
       "<tr>\n",
       "      <td>Converged:</td>           <td>1.0000</td>           <td>Scale:</td>         <td>1.0000</td>  \n",
       "</tr>\n",
       "<tr>\n",
       "    <td>No. Iterations:</td>        <td>10.0000</td>             <td></td>               <td></td>     \n",
       "</tr>\n",
       "</table>\n",
       "<table class=\"simpletable\">\n",
       "<tr>\n",
       "    <td></td>     <th>Coef.</th>  <th>Std.Err.</th>    <th>z</th>     <th>P>|z|</th> <th>[0.025</th>  <th>0.975]</th> \n",
       "</tr>\n",
       "<tr>\n",
       "  <th>const</th> <td>14.7521</td>  <td>4.3948</td>  <td>3.3567</td>  <td>0.0008</td> <td>6.1385</td>  <td>23.3658</td>\n",
       "</tr>\n",
       "<tr>\n",
       "  <th>x1</th>    <td>1.2536</td>   <td>0.5770</td>  <td>2.1726</td>  <td>0.0298</td> <td>0.1227</td>  <td>2.3845</td> \n",
       "</tr>\n",
       "<tr>\n",
       "  <th>x2</th>    <td>-2.0027</td>  <td>0.5924</td>  <td>-3.3805</td> <td>0.0007</td> <td>-3.1638</td> <td>-0.8416</td>\n",
       "</tr>\n",
       "</table>"
      ],
      "text/plain": [
       "<class 'statsmodels.iolib.summary2.Summary'>\n",
       "\"\"\"\n",
       "                         Results: Logit\n",
       "=================================================================\n",
       "Model:              Logit            Pseudo R-squared: 0.865     \n",
       "Dependent Variable: y                AIC:              24.6315   \n",
       "Date:               2018-12-19 13:41 BIC:              32.4470   \n",
       "No. Observations:   100              Log-Likelihood:   -9.3158   \n",
       "Df Model:           2                LL-Null:          -69.135   \n",
       "Df Residuals:       97               LLR p-value:      1.0496e-26\n",
       "Converged:          1.0000           Scale:            1.0000    \n",
       "No. Iterations:     10.0000                                      \n",
       "-------------------------------------------------------------------\n",
       "           Coef.    Std.Err.      z      P>|z|     [0.025    0.975]\n",
       "-------------------------------------------------------------------\n",
       "const     14.7521     4.3948    3.3567   0.0008    6.1385   23.3658\n",
       "x1         1.2536     0.5770    2.1726   0.0298    0.1227    2.3845\n",
       "x2        -2.0027     0.5924   -3.3805   0.0007   -3.1638   -0.8416\n",
       "=================================================================\n",
       "\n",
       "\"\"\""
      ]
     },
     "execution_count": 11,
     "metadata": {},
     "output_type": "execute_result"
    }
   ],
   "source": [
    "#同时，用python内置逻辑回归算法求解参数，作为对比\n",
    "logit = sm.Logit(y, X)\n",
    "result = logit.fit()\n",
    "result.summary2()"
   ]
  },
  {
   "cell_type": "code",
   "execution_count": 12,
   "metadata": {},
   "outputs": [
    {
     "name": "stderr",
     "output_type": "stream",
     "text": [
      "/home/ian/installed/anaconda3/lib/python3.6/site-packages/sklearn/utils/validation.py:578: DataConversionWarning: A column-vector y was passed when a 1d array was expected. Please change the shape of y to (n_samples, ), for example using ravel().\n",
      "  y = column_or_1d(y, warn=True)\n"
     ]
    },
    {
     "data": {
      "text/plain": [
       "LogisticRegression(C=1.0, class_weight=None, dual=False, fit_intercept=True,\n",
       "          intercept_scaling=1, max_iter=100, multi_class='ovr', n_jobs=1,\n",
       "          penalty='l2', random_state=None, solver='liblinear', tol=0.0001,\n",
       "          verbose=0, warm_start=False)"
      ]
     },
     "execution_count": 12,
     "metadata": {},
     "output_type": "execute_result"
    }
   ],
   "source": [
    "clf = LogisticRegression()\n",
    "clf.fit(X[:,1:],y)"
   ]
  },
  {
   "cell_type": "code",
   "execution_count": 13,
   "metadata": {},
   "outputs": [
    {
     "data": {
      "text/plain": [
       "array([[ 0.44732445, -0.58003724]])"
      ]
     },
     "execution_count": 13,
     "metadata": {},
     "output_type": "execute_result"
    }
   ],
   "source": [
    "clf.coef_"
   ]
  },
  {
   "cell_type": "code",
   "execution_count": 14,
   "metadata": {},
   "outputs": [
    {
     "data": {
      "text/plain": [
       "array([3.83513265])"
      ]
     },
     "execution_count": 14,
     "metadata": {},
     "output_type": "execute_result"
    }
   ],
   "source": [
    "clf.intercept_"
   ]
  },
  {
   "cell_type": "code",
   "execution_count": 16,
   "metadata": {},
   "outputs": [
    {
     "name": "stderr",
     "output_type": "stream",
     "text": [
      "/home/ian/installed/anaconda3/lib/python3.6/site-packages/sklearn/utils/validation.py:578: DataConversionWarning: A column-vector y was passed when a 1d array was expected. Please change the shape of y to (n_samples, ), for example using ravel().\n",
      "  y = column_or_1d(y, warn=True)\n"
     ]
    },
    {
     "data": {
      "text/plain": [
       "LogisticRegression(C=1.0, class_weight=None, dual=False, fit_intercept=False,\n",
       "          intercept_scaling=1, max_iter=100, multi_class='ovr', n_jobs=1,\n",
       "          penalty='l2', random_state=None, solver='liblinear', tol=0.0001,\n",
       "          verbose=0, warm_start=False)"
      ]
     },
     "execution_count": 16,
     "metadata": {},
     "output_type": "execute_result"
    }
   ],
   "source": [
    "clf = LogisticRegression(fit_intercept=False)\n",
    "clf.fit(X,y)"
   ]
  },
  {
   "cell_type": "code",
   "execution_count": 17,
   "metadata": {},
   "outputs": [
    {
     "data": {
      "text/plain": [
       "array([[ 3.83513265,  0.44732445, -0.58003724]])"
      ]
     },
     "execution_count": 17,
     "metadata": {},
     "output_type": "execute_result"
    }
   ],
   "source": [
    "clf.coef_"
   ]
  },
  {
   "cell_type": "code",
   "execution_count": 32,
   "metadata": {},
   "outputs": [],
   "source": [
    "clf1 = LogisticRegressionCV(fit_intercept=False)"
   ]
  },
  {
   "cell_type": "code",
   "execution_count": 33,
   "metadata": {},
   "outputs": [
    {
     "name": "stderr",
     "output_type": "stream",
     "text": [
      "/home/ian/installed/anaconda3/lib/python3.6/site-packages/sklearn/utils/validation.py:578: DataConversionWarning: A column-vector y was passed when a 1d array was expected. Please change the shape of y to (n_samples, ), for example using ravel().\n",
      "  y = column_or_1d(y, warn=True)\n"
     ]
    },
    {
     "data": {
      "text/plain": [
       "LogisticRegressionCV(Cs=10, class_weight=None, cv=None, dual=False,\n",
       "           fit_intercept=False, intercept_scaling=1.0, max_iter=100,\n",
       "           multi_class='ovr', n_jobs=1, penalty='l2', random_state=None,\n",
       "           refit=True, scoring=None, solver='lbfgs', tol=0.0001, verbose=0)"
      ]
     },
     "execution_count": 33,
     "metadata": {},
     "output_type": "execute_result"
    }
   ],
   "source": [
    "clf1.fit(X, y)"
   ]
  },
  {
   "cell_type": "code",
   "execution_count": 34,
   "metadata": {},
   "outputs": [
    {
     "data": {
      "text/plain": [
       "array([[ 9.83133958,  0.90703517, -1.35155844]])"
      ]
     },
     "execution_count": 34,
     "metadata": {},
     "output_type": "execute_result"
    }
   ],
   "source": [
    "clf1.coef_"
   ]
  },
  {
   "cell_type": "markdown",
   "metadata": {},
   "source": [
    "### （2）   在（1）权重参数的结果下，计算每个样本属于类别为1的概率"
   ]
  },
  {
   "cell_type": "code",
   "execution_count": 19,
   "metadata": {
    "scrolled": true
   },
   "outputs": [
    {
     "data": {
      "text/plain": [
       "matrix([[1.52071345e-06],\n",
       "        [9.74900618e-01],\n",
       "        [6.71074158e-01],\n",
       "        [2.26269846e-01],\n",
       "        [1.06128131e-03],\n",
       "        [7.51527787e-01],\n",
       "        [4.94128229e-05],\n",
       "        [1.10841998e-01],\n",
       "        [2.52730323e-02],\n",
       "        [2.11448476e-03],\n",
       "        [8.76147666e-01],\n",
       "        [4.85872554e-05],\n",
       "        [9.99948400e-01],\n",
       "        [3.35084376e-03],\n",
       "        [9.25853367e-01],\n",
       "        [9.99997009e-01],\n",
       "        [9.16692618e-01],\n",
       "        [9.99909014e-01],\n",
       "        [9.99998756e-01],\n",
       "        [9.88945110e-01],\n",
       "        [9.99978708e-01],\n",
       "        [9.99998907e-01],\n",
       "        [7.13496890e-05],\n",
       "        [9.99999979e-01],\n",
       "        [9.98803331e-01],\n",
       "        [5.03616220e-02],\n",
       "        [1.23171491e-02],\n",
       "        [9.99998497e-01],\n",
       "        [9.99690453e-01],\n",
       "        [6.10844947e-02],\n",
       "        [9.98111232e-01],\n",
       "        [2.38582920e-01],\n",
       "        [9.97831553e-04],\n",
       "        [9.99999982e-01],\n",
       "        [9.98215778e-01],\n",
       "        [1.77998969e-02],\n",
       "        [3.41039337e-02],\n",
       "        [1.20570320e-03],\n",
       "        [1.03085589e-05],\n",
       "        [8.51603373e-05],\n",
       "        [9.99489499e-01],\n",
       "        [9.78689305e-01],\n",
       "        [1.24816197e-03],\n",
       "        [9.99999717e-01],\n",
       "        [9.99970105e-01],\n",
       "        [3.64723479e-04],\n",
       "        [9.99999988e-01],\n",
       "        [9.59908038e-01],\n",
       "        [6.90419790e-05],\n",
       "        [1.30869348e-03],\n",
       "        [7.73265271e-02],\n",
       "        [1.71712916e-03],\n",
       "        [1.32061154e-01],\n",
       "        [8.32769756e-06],\n",
       "        [9.98591746e-01],\n",
       "        [7.65898940e-01],\n",
       "        [7.97080433e-04],\n",
       "        [8.22190751e-01],\n",
       "        [7.19806231e-05],\n",
       "        [9.91688937e-01],\n",
       "        [9.95679556e-01],\n",
       "        [9.99989086e-01],\n",
       "        [3.14157461e-02],\n",
       "        [6.01944970e-05],\n",
       "        [8.26013475e-05],\n",
       "        [9.99999941e-01],\n",
       "        [9.92950602e-01],\n",
       "        [1.04845346e-03],\n",
       "        [1.58008696e-04],\n",
       "        [2.56449006e-04],\n",
       "        [7.30061608e-04],\n",
       "        [9.99994556e-01],\n",
       "        [2.43845414e-06],\n",
       "        [9.99849011e-01],\n",
       "        [1.22139639e-02],\n",
       "        [7.02639600e-01],\n",
       "        [9.99996981e-01],\n",
       "        [9.99994113e-01],\n",
       "        [9.99302404e-01],\n",
       "        [9.92713576e-01],\n",
       "        [6.72002656e-01],\n",
       "        [9.99999997e-01],\n",
       "        [2.77736817e-02],\n",
       "        [8.45276030e-01],\n",
       "        [9.99953641e-01],\n",
       "        [9.99999965e-01],\n",
       "        [9.97462259e-01],\n",
       "        [1.54931657e-04],\n",
       "        [9.97504789e-01],\n",
       "        [9.99999592e-01],\n",
       "        [9.99999915e-01],\n",
       "        [2.31772787e-04],\n",
       "        [1.08789400e-02],\n",
       "        [9.99997841e-01],\n",
       "        [9.99989244e-01],\n",
       "        [9.99971569e-01],\n",
       "        [3.32707740e-03],\n",
       "        [9.99991946e-01],\n",
       "        [9.85843870e-02],\n",
       "        [5.86421179e-07]])"
      ]
     },
     "execution_count": 19,
     "metadata": {},
     "output_type": "execute_result"
    }
   ],
   "source": [
    "p = np.exp(X*w2)/(1+np.exp(X*w2))\n",
    "p"
   ]
  },
  {
   "cell_type": "markdown",
   "metadata": {},
   "source": [
    "### （3）   以0.5为阈值，概率大于等于该阈值的样本划分为1，否则划分为0.结合真实的标签，计算混淆矩阵，并且计算\n",
    "Accuracy\n",
    "Precision\n",
    "Recall\n",
    "Specificity"
   ]
  },
  {
   "cell_type": "code",
   "execution_count": 20,
   "metadata": {},
   "outputs": [],
   "source": [
    "p1 = pd.DataFrame(p,columns=['p'])"
   ]
  },
  {
   "cell_type": "code",
   "execution_count": 21,
   "metadata": {},
   "outputs": [],
   "source": [
    "p1['y_test'] = 1"
   ]
  },
  {
   "cell_type": "code",
   "execution_count": 22,
   "metadata": {},
   "outputs": [
    {
     "name": "stderr",
     "output_type": "stream",
     "text": [
      "/home/ian/installed/anaconda3/lib/python3.6/site-packages/ipykernel_launcher.py:1: SettingWithCopyWarning: \n",
      "A value is trying to be set on a copy of a slice from a DataFrame\n",
      "\n",
      "See the caveats in the documentation: http://pandas.pydata.org/pandas-docs/stable/indexing.html#indexing-view-versus-copy\n",
      "  \"\"\"Entry point for launching an IPython kernel.\n"
     ]
    }
   ],
   "source": [
    "p1['y_test'][p1['p']<0.5]=0"
   ]
  },
  {
   "cell_type": "code",
   "execution_count": 23,
   "metadata": {},
   "outputs": [],
   "source": [
    "p1['y']=data['Y']"
   ]
  },
  {
   "cell_type": "code",
   "execution_count": 24,
   "metadata": {},
   "outputs": [
    {
     "data": {
      "text/html": [
       "<div>\n",
       "<style scoped>\n",
       "    .dataframe tbody tr th:only-of-type {\n",
       "        vertical-align: middle;\n",
       "    }\n",
       "\n",
       "    .dataframe tbody tr th {\n",
       "        vertical-align: top;\n",
       "    }\n",
       "\n",
       "    .dataframe thead th {\n",
       "        text-align: right;\n",
       "    }\n",
       "</style>\n",
       "<table border=\"1\" class=\"dataframe\">\n",
       "  <thead>\n",
       "    <tr style=\"text-align: right;\">\n",
       "      <th></th>\n",
       "      <th>p</th>\n",
       "      <th>y_test</th>\n",
       "      <th>y</th>\n",
       "    </tr>\n",
       "  </thead>\n",
       "  <tbody>\n",
       "    <tr>\n",
       "      <th>0</th>\n",
       "      <td>0.000002</td>\n",
       "      <td>0</td>\n",
       "      <td>0</td>\n",
       "    </tr>\n",
       "    <tr>\n",
       "      <th>1</th>\n",
       "      <td>0.974901</td>\n",
       "      <td>1</td>\n",
       "      <td>1</td>\n",
       "    </tr>\n",
       "    <tr>\n",
       "      <th>2</th>\n",
       "      <td>0.671074</td>\n",
       "      <td>1</td>\n",
       "      <td>0</td>\n",
       "    </tr>\n",
       "    <tr>\n",
       "      <th>3</th>\n",
       "      <td>0.226270</td>\n",
       "      <td>0</td>\n",
       "      <td>0</td>\n",
       "    </tr>\n",
       "    <tr>\n",
       "      <th>4</th>\n",
       "      <td>0.001061</td>\n",
       "      <td>0</td>\n",
       "      <td>0</td>\n",
       "    </tr>\n",
       "  </tbody>\n",
       "</table>\n",
       "</div>"
      ],
      "text/plain": [
       "          p  y_test  y\n",
       "0  0.000002       0  0\n",
       "1  0.974901       1  1\n",
       "2  0.671074       1  0\n",
       "3  0.226270       0  0\n",
       "4  0.001061       0  0"
      ]
     },
     "execution_count": 24,
     "metadata": {},
     "output_type": "execute_result"
    }
   ],
   "source": [
    "p1.head()"
   ]
  },
  {
   "cell_type": "code",
   "execution_count": 25,
   "metadata": {},
   "outputs": [
    {
     "data": {
      "text/html": [
       "<div>\n",
       "<style scoped>\n",
       "    .dataframe tbody tr th:only-of-type {\n",
       "        vertical-align: middle;\n",
       "    }\n",
       "\n",
       "    .dataframe tbody tr th {\n",
       "        vertical-align: top;\n",
       "    }\n",
       "\n",
       "    .dataframe thead th {\n",
       "        text-align: right;\n",
       "    }\n",
       "</style>\n",
       "<table border=\"1\" class=\"dataframe\">\n",
       "  <thead>\n",
       "    <tr style=\"text-align: right;\">\n",
       "      <th></th>\n",
       "      <th></th>\n",
       "      <th>p</th>\n",
       "    </tr>\n",
       "    <tr>\n",
       "      <th>y</th>\n",
       "      <th>y_test</th>\n",
       "      <th></th>\n",
       "    </tr>\n",
       "  </thead>\n",
       "  <tbody>\n",
       "    <tr>\n",
       "      <th rowspan=\"2\" valign=\"top\">0</th>\n",
       "      <th>0</th>\n",
       "      <td>44</td>\n",
       "    </tr>\n",
       "    <tr>\n",
       "      <th>1</th>\n",
       "      <td>3</td>\n",
       "    </tr>\n",
       "    <tr>\n",
       "      <th rowspan=\"2\" valign=\"top\">1</th>\n",
       "      <th>0</th>\n",
       "      <td>2</td>\n",
       "    </tr>\n",
       "    <tr>\n",
       "      <th>1</th>\n",
       "      <td>51</td>\n",
       "    </tr>\n",
       "  </tbody>\n",
       "</table>\n",
       "</div>"
      ],
      "text/plain": [
       "           p\n",
       "y y_test    \n",
       "0 0       44\n",
       "  1        3\n",
       "1 0        2\n",
       "  1       51"
      ]
     },
     "execution_count": 25,
     "metadata": {},
     "output_type": "execute_result"
    }
   ],
   "source": [
    "m = p1.groupby(['y','y_test']).count()\n",
    "m"
   ]
  },
  {
   "cell_type": "code",
   "execution_count": 26,
   "metadata": {},
   "outputs": [],
   "source": [
    "from sklearn.metrics import accuracy_score, classification_report"
   ]
  },
  {
   "cell_type": "code",
   "execution_count": 27,
   "metadata": {},
   "outputs": [
    {
     "name": "stdout",
     "output_type": "stream",
     "text": [
      "accuracy score: \n",
      "0.95\n",
      "             precision    recall  f1-score   support\n",
      "\n",
      "          0       0.96      0.94      0.95        47\n",
      "          1       0.94      0.96      0.95        53\n",
      "\n",
      "avg / total       0.95      0.95      0.95       100\n",
      "\n"
     ]
    }
   ],
   "source": [
    "print(\"accuracy score: \")\n",
    "print(accuracy_score(p1['y'], p1['y_test']))\n",
    "print(classification_report(p1['y'], p1['y_test']))"
   ]
  },
  {
   "cell_type": "code",
   "execution_count": 29,
   "metadata": {},
   "outputs": [
    {
     "name": "stdout",
     "output_type": "stream",
     "text": [
      "accuracy score: \n",
      "0.96\n",
      "             precision    recall  f1-score   support\n",
      "\n",
      "          0       0.92      1.00      0.96        47\n",
      "          1       1.00      0.92      0.96        53\n",
      "\n",
      "avg / total       0.96      0.96      0.96       100\n",
      "\n"
     ]
    }
   ],
   "source": [
    "print(\"accuracy score: \")\n",
    "print(accuracy_score(p1['y'], clf.predict(X)))\n",
    "print(classification_report(p1['y'], clf.predict(X)))"
   ]
  },
  {
   "cell_type": "code",
   "execution_count": 35,
   "metadata": {},
   "outputs": [
    {
     "name": "stdout",
     "output_type": "stream",
     "text": [
      "accuracy score: \n",
      "0.95\n",
      "             precision    recall  f1-score   support\n",
      "\n",
      "          0       0.96      0.94      0.95        47\n",
      "          1       0.94      0.96      0.95        53\n",
      "\n",
      "avg / total       0.95      0.95      0.95       100\n",
      "\n"
     ]
    }
   ],
   "source": [
    "print(\"accuracy score: \")\n",
    "print(accuracy_score(p1['y'], clf1.predict(X)))\n",
    "print(classification_report(p1['y'], clf1.predict(X)))"
   ]
  },
  {
   "cell_type": "markdown",
   "metadata": {},
   "source": [
    "### sklearn中的LogisticRegression加入了正则项，预测的结果比不加正则会好一些; LogisticRegressionCV的效果和自己计算的效果差不多"
   ]
  },
  {
   "cell_type": "code",
   "execution_count": 55,
   "metadata": {},
   "outputs": [
    {
     "data": {
      "text/plain": [
       "2"
      ]
     },
     "execution_count": 55,
     "metadata": {},
     "output_type": "execute_result"
    }
   ],
   "source": [
    "m.iloc[2,0]"
   ]
  },
  {
   "cell_type": "code",
   "execution_count": 56,
   "metadata": {},
   "outputs": [
    {
     "data": {
      "text/plain": [
       "(51, 2, 3, 44)"
      ]
     },
     "execution_count": 56,
     "metadata": {},
     "output_type": "execute_result"
    }
   ],
   "source": [
    "TP,FN,FP,TN = m.iloc[3,0],m.iloc[2,0],m.iloc[1,0],m.iloc[0,0]\n",
    "TP,FN,FP,TN"
   ]
  },
  {
   "cell_type": "code",
   "execution_count": 57,
   "metadata": {},
   "outputs": [
    {
     "data": {
      "text/plain": [
       "0.95"
      ]
     },
     "execution_count": 57,
     "metadata": {},
     "output_type": "execute_result"
    }
   ],
   "source": [
    "Accuracy = (TP+TN)/(TP+TN+FP+FN)\n",
    "Accuracy"
   ]
  },
  {
   "cell_type": "code",
   "execution_count": 58,
   "metadata": {},
   "outputs": [
    {
     "data": {
      "text/plain": [
       "0.9444444444444444"
      ]
     },
     "execution_count": 58,
     "metadata": {},
     "output_type": "execute_result"
    }
   ],
   "source": [
    "Precision = TP/(TP+FP)\n",
    "Precision"
   ]
  },
  {
   "cell_type": "code",
   "execution_count": 59,
   "metadata": {},
   "outputs": [
    {
     "data": {
      "text/plain": [
       "(0.9622641509433962, 0.9361702127659575)"
      ]
     },
     "execution_count": 59,
     "metadata": {},
     "output_type": "execute_result"
    }
   ],
   "source": [
    "Recall = TP/(TP+FN)\n",
    "Specificity = TN/(TN+FP)\n",
    "Recall, Specificity"
   ]
  }
 ],
 "metadata": {
  "kernelspec": {
   "display_name": "Python 3",
   "language": "python",
   "name": "python3"
  },
  "language_info": {
   "codemirror_mode": {
    "name": "ipython",
    "version": 3
   },
   "file_extension": ".py",
   "mimetype": "text/x-python",
   "name": "python",
   "nbconvert_exporter": "python",
   "pygments_lexer": "ipython3",
   "version": "3.6.5"
  }
 },
 "nbformat": 4,
 "nbformat_minor": 2
}
