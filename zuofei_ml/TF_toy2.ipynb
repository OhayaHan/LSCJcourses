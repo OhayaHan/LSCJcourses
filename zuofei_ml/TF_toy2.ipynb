{
 "cells": [
  {
   "cell_type": "code",
   "execution_count": 7,
   "metadata": {
    "collapsed": true
   },
   "outputs": [],
   "source": [
    "import tensorflow as tf\n",
    "import numpy as np"
   ]
  },
  {
   "cell_type": "code",
   "execution_count": 8,
   "metadata": {
    "collapsed": true
   },
   "outputs": [],
   "source": [
    "W = tf.Variable([1], dtype=tf.float32)  \n",
    "b = tf.Variable([.3], dtype=tf.float32)  \n",
    "x = tf.placeholder(tf.float32)  \n",
    "linear_model = W * x + b"
   ]
  },
  {
   "cell_type": "code",
   "execution_count": 9,
   "metadata": {
    "collapsed": true
   },
   "outputs": [],
   "source": [
    "y = tf.placeholder(tf.float32)  \n",
    "squared_deltas = tf.square(linear_model - y)  \n",
    "loss = tf.reduce_sum(squared_deltas)  "
   ]
  },
  {
   "cell_type": "code",
   "execution_count": 10,
   "metadata": {
    "collapsed": true
   },
   "outputs": [],
   "source": [
    "# training data\n",
    "x_train = [2,  2,  2,  2,  3,  3,  3,  3,  4,  4,  4,  4,  5,  5,  5,  5,  6,  6,  6,  6,  7,  7,  7,  7]\n",
    "y_train = [5.6,4.8,5.3,5.7,6.2,5.9,6.4,6.1,6.2,6.7,6.4,6.7,7.1,7.3,6.9,6.9,7.2,7.5,7.8,7.8,8.9,9.2,8.5,8.7]\n",
    "\n",
    "optimizer = tf.train.AdamOptimizer(0.01)  \n",
    "train = optimizer.minimize(loss) "
   ]
  },
  {
   "cell_type": "code",
   "execution_count": 11,
   "metadata": {
    "collapsed": false
   },
   "outputs": [],
   "source": [
    "init = tf.global_variables_initializer() \n",
    "sess = tf.Session()\n",
    "sess.run(init) "
   ]
  },
  {
   "cell_type": "code",
   "execution_count": 12,
   "metadata": {
    "collapsed": false
   },
   "outputs": [
    {
     "name": "stdout",
     "output_type": "stream",
     "text": [
      "[array([ 0.63432759], dtype=float32), array([ 4.05383348], dtype=float32)]\n"
     ]
    }
   ],
   "source": [
    "for i in range(2000):  \n",
    "  sess.run(train, {x: x_train, y: y_train})  \n",
    "  \n",
    "print(sess.run([W, b]))  "
   ]
  },
  {
   "cell_type": "code",
   "execution_count": null,
   "metadata": {
    "collapsed": true
   },
   "outputs": [],
   "source": []
  }
 ],
 "metadata": {
  "kernelspec": {
   "display_name": "Python 3",
   "language": "python",
   "name": "python3"
  },
  "language_info": {
   "codemirror_mode": {
    "name": "ipython",
    "version": 3
   },
   "file_extension": ".py",
   "mimetype": "text/x-python",
   "name": "python",
   "nbconvert_exporter": "python",
   "pygments_lexer": "ipython3",
   "version": "3.5.1"
  }
 },
 "nbformat": 4,
 "nbformat_minor": 0
}
