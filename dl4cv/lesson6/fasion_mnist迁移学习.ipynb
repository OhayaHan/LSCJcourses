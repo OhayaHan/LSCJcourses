{
 "cells": [
  {
   "cell_type": "code",
   "execution_count": 1,
   "metadata": {},
   "outputs": [
    {
     "name": "stderr",
     "output_type": "stream",
     "text": [
      "/home/ian/installed/anaconda3/lib/python3.6/site-packages/h5py/__init__.py:36: FutureWarning: Conversion of the second argument of issubdtype from `float` to `np.floating` is deprecated. In future, it will be treated as `np.float64 == np.dtype(float).type`.\n",
      "  from ._conv import register_converters as _register_converters\n",
      "Using TensorFlow backend.\n"
     ]
    },
    {
     "name": "stdout",
     "output_type": "stream",
     "text": [
      "_________________________________________________________________\n",
      "Layer (type)                 Output Shape              Param #   \n",
      "=================================================================\n",
      "input_1 (InputLayer)         (None, 48, 48, 3)         0         \n",
      "_________________________________________________________________\n",
      "block1_conv1 (Conv2D)        (None, 48, 48, 64)        1792      \n",
      "_________________________________________________________________\n",
      "block1_conv2 (Conv2D)        (None, 48, 48, 64)        36928     \n",
      "_________________________________________________________________\n",
      "block1_pool (MaxPooling2D)   (None, 24, 24, 64)        0         \n",
      "_________________________________________________________________\n",
      "block2_conv1 (Conv2D)        (None, 24, 24, 128)       73856     \n",
      "_________________________________________________________________\n",
      "block2_conv2 (Conv2D)        (None, 24, 24, 128)       147584    \n",
      "_________________________________________________________________\n",
      "block2_pool (MaxPooling2D)   (None, 12, 12, 128)       0         \n",
      "_________________________________________________________________\n",
      "block3_conv1 (Conv2D)        (None, 12, 12, 256)       295168    \n",
      "_________________________________________________________________\n",
      "block3_conv2 (Conv2D)        (None, 12, 12, 256)       590080    \n",
      "_________________________________________________________________\n",
      "block3_conv3 (Conv2D)        (None, 12, 12, 256)       590080    \n",
      "_________________________________________________________________\n",
      "block3_pool (MaxPooling2D)   (None, 6, 6, 256)         0         \n",
      "_________________________________________________________________\n",
      "block4_conv1 (Conv2D)        (None, 6, 6, 512)         1180160   \n",
      "_________________________________________________________________\n",
      "block4_conv2 (Conv2D)        (None, 6, 6, 512)         2359808   \n",
      "_________________________________________________________________\n",
      "block4_conv3 (Conv2D)        (None, 6, 6, 512)         2359808   \n",
      "_________________________________________________________________\n",
      "block4_pool (MaxPooling2D)   (None, 3, 3, 512)         0         \n",
      "_________________________________________________________________\n",
      "block5_conv1 (Conv2D)        (None, 3, 3, 512)         2359808   \n",
      "_________________________________________________________________\n",
      "block5_conv2 (Conv2D)        (None, 3, 3, 512)         2359808   \n",
      "_________________________________________________________________\n",
      "block5_conv3 (Conv2D)        (None, 3, 3, 512)         2359808   \n",
      "_________________________________________________________________\n",
      "block5_pool (MaxPooling2D)   (None, 1, 1, 512)         0         \n",
      "_________________________________________________________________\n",
      "flatten_1 (Flatten)          (None, 512)               0         \n",
      "_________________________________________________________________\n",
      "fc1 (Dense)                  (None, 4096)              2101248   \n",
      "_________________________________________________________________\n",
      "fc2 (Dense)                  (None, 4096)              16781312  \n",
      "_________________________________________________________________\n",
      "dropout_1 (Dropout)          (None, 4096)              0         \n",
      "_________________________________________________________________\n",
      "prediction (Dense)           (None, 10)                40970     \n",
      "=================================================================\n",
      "Total params: 33,638,218\n",
      "Trainable params: 18,923,530\n",
      "Non-trainable params: 14,714,688\n",
      "_________________________________________________________________\n",
      "Train on 60000 samples, validate on 10000 samples\n",
      "Epoch 1/10\n",
      "60000/60000 [==============================] - 321s 5ms/step - loss: 0.6341 - acc: 0.7722 - val_loss: 0.5626 - val_acc: 0.7988\n",
      "Epoch 2/10\n",
      "60000/60000 [==============================] - 323s 5ms/step - loss: 0.4645 - acc: 0.8286 - val_loss: 0.5393 - val_acc: 0.8013\n",
      "Epoch 3/10\n",
      "60000/60000 [==============================] - 327s 5ms/step - loss: 0.4231 - acc: 0.8452 - val_loss: 0.4488 - val_acc: 0.8301\n",
      "Epoch 4/10\n",
      "60000/60000 [==============================] - 328s 5ms/step - loss: 0.3984 - acc: 0.8536 - val_loss: 0.4299 - val_acc: 0.8365\n",
      "Epoch 5/10\n",
      "60000/60000 [==============================] - 329s 5ms/step - loss: 0.3813 - acc: 0.8587 - val_loss: 0.3927 - val_acc: 0.8567\n",
      "Epoch 6/10\n",
      "60000/60000 [==============================] - 331s 6ms/step - loss: 0.3651 - acc: 0.8665 - val_loss: 0.4171 - val_acc: 0.8437\n",
      "Epoch 7/10\n",
      "60000/60000 [==============================] - 330s 6ms/step - loss: 0.3552 - acc: 0.8702 - val_loss: 0.3686 - val_acc: 0.8669\n",
      "Epoch 8/10\n",
      "60000/60000 [==============================] - 328s 5ms/step - loss: 0.3437 - acc: 0.8730 - val_loss: 0.3696 - val_acc: 0.8645\n",
      "Epoch 9/10\n",
      "60000/60000 [==============================] - 329s 5ms/step - loss: 0.3345 - acc: 0.8773 - val_loss: 0.3810 - val_acc: 0.8598\n",
      "Epoch 10/10\n",
      "60000/60000 [==============================] - 334s 6ms/step - loss: 0.3281 - acc: 0.8793 - val_loss: 0.3970 - val_acc: 0.8534\n",
      "Test loss: 0.397029146361351\n",
      "Test accuracy: 0.8534\n"
     ]
    }
   ],
   "source": [
    "# %load fasion_mnist迁移学习.py\n",
    "import numpy as np\n",
    "from keras.datasets import fashion_mnist\n",
    "import gc\n",
    "\n",
    "from keras.models import Sequential, Model\n",
    "from keras.layers import Input, Dense, Dropout, Flatten\n",
    "from keras.layers.convolutional import Conv2D, MaxPooling2D\n",
    "from keras.applications.vgg16 import VGG16\n",
    "from keras.optimizers import SGD\n",
    "import matplotlib.pyplot as plt\n",
    "import os\n",
    "\n",
    "import cv2\n",
    "import h5py as h5py \n",
    "import numpy as np\n",
    "def tran_y(y): \n",
    "    y_ohe = np.zeros(10) \n",
    "    y_ohe[y] = 1 \n",
    "    return y_ohe\n",
    "epochs = 10\n",
    "\n",
    "# 如果硬件配置较高，比如主机具备32GB以上内存，GPU具备8GB以上显存，可以适当增大这个值。VGG要求至少48像素\n",
    "ishape=48\n",
    "(X_train, y_train), (X_test, y_test) = fashion_mnist.load_data() \n",
    "\n",
    "X_train = [cv2.cvtColor(cv2.resize(i, (ishape, ishape)), cv2.COLOR_GRAY2BGR) for i in X_train] \n",
    "X_train = np.concatenate([arr[np.newaxis] for arr in X_train]).astype('float32') \n",
    "X_train /= 255.0\n",
    "\n",
    "X_test = [cv2.cvtColor(cv2.resize(i, (ishape, ishape)), cv2.COLOR_GRAY2BGR) for i in X_test] \n",
    "X_test = np.concatenate([arr[np.newaxis] for arr in X_test]).astype('float32')\n",
    "X_test /= 255.0\n",
    "\n",
    "y_train_ohe = np.array([tran_y(y_train[i]) for i in range(len(y_train))]) \n",
    "y_test_ohe = np.array([tran_y(y_test[i]) for i in range(len(y_test))])\n",
    "y_train_ohe = y_train_ohe.astype('float32')\n",
    "y_test_ohe = y_test_ohe.astype('float32')\n",
    "\n",
    "\n",
    "model_vgg = VGG16(include_top = False, weights = 'imagenet', input_shape = (ishape, ishape, 3)) \n",
    "for layer in model_vgg.layers:\n",
    "        layer.trainable = False\n",
    "model = Flatten()(model_vgg.output) \n",
    "model = Dense(4096, activation='relu', name='fc1')(model)\n",
    "model = Dense(4096, activation='relu', name='fc2')(model)\n",
    "model = Dropout(0.5)(model)\n",
    "model = Dense(10, activation = 'softmax', name='prediction')(model) \n",
    "model_vgg_mnist_pretrain = Model(model_vgg.input, model, name = 'vgg16_pretrain')\n",
    "model_vgg_mnist_pretrain.summary()\n",
    "sgd = SGD(lr = 0.05, decay = 1e-5) \n",
    "model_vgg_mnist_pretrain.compile(loss = 'categorical_crossentropy', optimizer = sgd, metrics = ['accuracy'])\n",
    "log  = model_vgg_mnist_pretrain.fit(X_train, y_train_ohe, validation_data = (X_test, y_test_ohe), epochs = epochs, batch_size = 64)\n",
    "\n",
    "score = model_vgg_mnist_pretrain.evaluate(X_test, y_test_ohe, verbose=0)\n",
    "print('Test loss:', score[0])\n",
    "print('Test accuracy:', score[1])\n",
    "\n"
   ]
  },
  {
   "cell_type": "code",
   "execution_count": 2,
   "metadata": {},
   "outputs": [
    {
     "data": {
      "image/png": "[encoded data removed]",
      "text/plain": [
       "<Figure size 432x288 with 1 Axes>"
      ]
     },
     "metadata": {},
     "output_type": "display_data"
    },
    {
     "data": {
      "image/png": "[encoded data removed]",
      "text/plain": [
       "<Figure size 432x288 with 1 Axes>"
      ]
     },
     "metadata": {},
     "output_type": "display_data"
    }
   ],
   "source": [
    "plt.figure('acc')  \n",
    "plt.subplot(2, 1, 1)  \n",
    "plt.plot(log.history['acc'],'r--',label='Training Accuracy')  \n",
    "plt.plot(log.history['val_acc'],'r-',label='Validation Accuracy')  \n",
    "plt.legend(loc='best')  \n",
    "plt.xlabel('Epochs')  \n",
    "plt.axis([0, epochs, 0.9, 1])  \n",
    "plt.figure('loss')  \n",
    "plt.subplot(2, 1, 2)  \n",
    "plt.plot(log.history['loss'],'b--',label='Training Loss')  \n",
    "plt.plot(log.history['val_loss'],'b-',label='Validation Loss')  \n",
    "plt.legend(loc='best')  \n",
    "plt.xlabel('Epochs')  \n",
    "plt.axis([0, epochs, 0, 1])  \n",
    "  \n",
    "plt.show() "
   ]
  },
  {
   "cell_type": "code",
   "execution_count": null,
   "metadata": {},
   "outputs": [],
   "source": []
  }
 ],
 "metadata": {
  "kernelspec": {
   "display_name": "Python 3",
   "language": "python",
   "name": "python3"
  },
  "language_info": {
   "codemirror_mode": {
    "name": "ipython",
    "version": 3
   },
   "file_extension": ".py",
   "mimetype": "text/x-python",
   "name": "python",
   "nbconvert_exporter": "python",
   "pygments_lexer": "ipython3",
   "version": "3.6.5"
  }
 },
 "nbformat": 4,
 "nbformat_minor": 2
}
