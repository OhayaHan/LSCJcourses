{
 "cells": [
  {
   "cell_type": "markdown",
   "metadata": {},
   "source": [
    "#### L4《深度学习入门者的Python快速教程》 by jsxyhelu 2018年4月"
   ]
  },
  {
   "cell_type": "markdown",
   "metadata": {},
   "source": [
    "### Python程序的最基本的组成元素是语句，一条语句可以占有一个逻辑行\n",
    "也可以是多个物理行，需要使用'\\'符号将上下进行连接"
   ]
  },
  {
   "cell_type": "code",
   "execution_count": 1,
   "metadata": {},
   "outputs": [
    {
     "name": "stdout",
     "output_type": "stream",
     "text": [
      "我有两333个物理行\n"
     ]
    }
   ],
   "source": [
    "a=\"我有两333个\\\n",
    "物理行\"                      #注意：第一行不能有注释，a结果为'我有两个物理行'\n",
    "print(a)"
   ]
  },
  {
   "cell_type": "markdown",
   "metadata": {},
   "source": [
    "### 一个只包含注释或空格的物理行，称为空行，Python将完全忽略这一行代码。"
   ]
  },
  {
   "cell_type": "code",
   "execution_count": 2,
   "metadata": {},
   "outputs": [],
   "source": [
    "#请问一个只包含注释或空格的物理行，称为空行，Python将完全忽略这一行代码。"
   ]
  },
  {
   "cell_type": "markdown",
   "metadata": {},
   "source": [
    "### 为注释符号。Python解释器将忽略注释部分\n",
    "\"\"\"……\"\"\"为字符串符合。可以用来表示文本常量，也可以用来表示注释"
   ]
  },
  {
   "cell_type": "code",
   "execution_count": 3,
   "metadata": {},
   "outputs": [
    {
     "data": {
      "text/plain": [
       "'\\n字符串符合。可以用来表示文本常量，也可以用来表示注释\\n'"
      ]
     },
     "execution_count": 3,
     "metadata": {},
     "output_type": "execute_result"
    }
   ],
   "source": [
    "\"\"\"\n",
    "字符串符合。可以用来表示文本常量，也可以用来表示注释\n",
    "\"\"\""
   ]
  },
  {
   "cell_type": "markdown",
   "metadata": {},
   "source": [
    "### 缩进是Python表示语句块的唯一方法，也就是没有大括号\n",
    "标准Python风格是每个缩进级别是使用4个空格，永远不要使用Tab制表符！Python的代码原则是代码只包含空格！"
   ]
  },
  {
   "cell_type": "code",
   "execution_count": 5,
   "metadata": {
    "scrolled": true
   },
   "outputs": [
    {
     "name": "stdout",
     "output_type": "stream",
     "text": [
      "ha\n",
      "ha\n",
      "ha\n",
      "ha\n",
      "ha\n",
      "ha\n",
      "ha\n",
      "ha\n",
      "ha\n",
      "ha\n",
      "ha\n",
      "ha\n",
      "ha\n",
      "ha\n",
      "ha\n",
      "ha\n",
      "ha\n",
      "ha\n",
      "ha\n",
      "ha\n",
      "ha\n",
      "ha\n",
      "ha\n",
      "ha\n",
      "ha\n",
      "ha\n",
      "ha\n",
      "ha\n",
      "ha\n",
      "ha\n",
      "ha\n",
      "ha\n",
      "ha\n",
      "ha\n",
      "ha\n",
      "ha\n",
      "ha\n",
      "ha\n",
      "ha\n",
      "ha\n",
      "ha\n",
      "ha\n",
      "ha\n",
      "ha\n",
      "ha\n",
      "ha\n",
      "ha\n",
      "ha\n",
      "ha\n",
      "ha\n",
      "ha\n",
      "ha\n",
      "ha\n",
      "ha\n",
      "ha\n",
      "ha\n",
      "ha\n",
      "ha\n",
      "ha\n",
      "ha\n",
      "ha\n",
      "ha\n",
      "ha\n",
      "ha\n",
      "ha\n",
      "ha\n",
      "ha\n",
      "ha\n",
      "ha\n",
      "ha\n",
      "ha\n",
      "ha\n",
      "ha\n",
      "ha\n",
      "ha\n",
      "ha\n",
      "ha\n",
      "ha\n",
      "ha\n",
      "ha\n",
      "ha\n",
      "ha\n",
      "ha\n",
      "ha\n",
      "ha\n",
      "ha\n",
      "ha\n",
      "ha\n",
      "ha\n",
      "ha\n",
      "ha\n",
      "ha\n",
      "ha\n",
      "ha\n",
      "ha\n",
      "ha\n",
      "ha\n",
      "ha\n",
      "ha\n",
      "ha\n"
     ]
    }
   ],
   "source": [
    "i = 0\n",
    "while i < 100:  # 笑100遍\n",
    "    print(\"ha\")\n",
    "    i += 1"
   ]
  },
  {
   "cell_type": "markdown",
   "metadata": {},
   "source": [
    "### for循环"
   ]
  },
  {
   "cell_type": "code",
   "execution_count": null,
   "metadata": {},
   "outputs": [],
   "source": [
    "a = ['This', 'is', 'a', 'list', '!']\n",
    "b = ['This', 'is', 'a', 'tuple', '!']\n",
    "c = {'This': 'is', 'an': 'unordered', 'dict': '!'}\n",
    "\n",
    "# 依次输出：'This', 'is', 'a', 'list', '!'\n",
    "for x in a:\n",
    "    print(x)\n",
    "\n",
    "# 依次输出：'This', 'is', 'a', 'tuple', '!'\n",
    "for x in b:\n",
    "    print(x)\n",
    "\n",
    "# 键的遍历。不依次输出：'This', 'dict', 'an'\n",
    "for key in c:\n",
    "    print(key)\n",
    "\n",
    "# 依次输出0到9\n",
    "for i in range(10):\n",
    "    print(i)"
   ]
  },
  {
   "cell_type": "markdown",
   "metadata": {},
   "source": [
    "### if和分支结构"
   ]
  },
  {
   "cell_type": "code",
   "execution_count": null,
   "metadata": {},
   "outputs": [],
   "source": [
    "pets =['dog', 'cat', 'droid', 'fly']\n",
    "\n",
    "for pet in pets:\n",
    "    if pet == 'dog':        # 狗粮\n",
    "        food = 'steak'      # 牛排\n",
    "    elif pet == 'cat':      # 猫粮\n",
    "        food = 'milk'       # 牛奶\n",
    "    elif pet == 'droid':    # 机器人\n",
    "        food = 'oil'        # 机油\n",
    "    elif pet == 'fly':      # 苍蝇\n",
    "        food = 'sh*t'       # \n",
    "    else:\n",
    "        pass\n",
    "    print(food)"
   ]
  },
  {
   "cell_type": "markdown",
   "metadata": {},
   "source": [
    "### while循环"
   ]
  },
  {
   "cell_type": "code",
   "execution_count": null,
   "metadata": {},
   "outputs": [],
   "source": [
    "i = 0\n",
    "while i < 100:  # 笑100遍\n",
    "    print(\"ha\")\n",
    "\n",
    "while True:     # 一直笑\n",
    "    print(\"ha\")"
   ]
  },
  {
   "cell_type": "markdown",
   "metadata": {},
   "source": [
    "# Python中的容器"
   ]
  },
  {
   "cell_type": "markdown",
   "metadata": {},
   "source": [
    "### 列表对类型没什么限制，什么都可以往里面放。其基本操作有访问，增加，删除，和拼接："
   ]
  },
  {
   "cell_type": "code",
   "execution_count": null,
   "metadata": {},
   "outputs": [],
   "source": [
    "a = [1, 2, 3, 4]\n",
    "b = [1]\n",
    "c = [1]\n",
    "d = b\n",
    "e = [1, \"Hello world!\", c, False]\n",
    "print(id(b), id(c))                 # (194100040L, 194100552L)\n",
    "print(id(b), id(d))                 # (194100040L, 194100040L)\n",
    "print(b == c)                       # True\n",
    "f = list(\"abcd\")\n",
    "print(f)                            # ['a', 'b', 'c', 'd']\n",
    "g = [0]*3 + [1]*4 + [2]*2\t    # [0, 0, 0, 1, 1, 1, 1, 2, 2]"
   ]
  },
  {
   "cell_type": "code",
   "execution_count": null,
   "metadata": {},
   "outputs": [],
   "source": [
    "a.pop()             # 把最后一个值4从列表中移除并作为pop的返回值\n",
    "a.append(5)         # 末尾插入值，[1, 2, 3, 5]\n",
    "a.index(2)          # 找到第一个2所在的位置，也就是1\n",
    "a[2]                # 取下标，也就是位置在2的值，也就是第三个值3\n",
    "a += [4, 3, 2]      # 拼接，[1, 2, 3, 5, 4, 3, 2]\n",
    "a.insert(1, 0)      # 在下标为1处插入元素0，[1, 0, 2, 3, 5, 4, 3, 2]\n",
    "a.remove(2)         # 移除第一个2，[1, 0, 3, 5, 4, 3, 2]\n",
    "a.reverse()         # 倒序，a变为[2, 3, 4, 5, 3, 0, 1]\n",
    "a[3] = 9            # 指定下标处赋值，[2, 3, 4, 9, 3, 0, 1]\n",
    "b = a[2:5]          # 取下标2开始到5之前的子序列，[4, 9, 3]\n",
    "c = a[2:-2]         # 下标也可以倒着数，方便算不过来的人，[4, 9, 3]\n",
    "d = a[2:]           # 取下标2开始到结尾的子序列，[4, 9, 3, 0, 1]\n",
    "e = a[:5]           # 取开始到下标5之前的子序列，[2, 3, 4, 9, 3]\n",
    "f = a[:]            # 取从开头到最后的整个子序列，相当于值拷贝，[2, 3, 4, 9, 3, 0, 1]\n",
    "a[2:-2] = [1, 2, 3] # 赋值也可以按照一段来，[2, 3, 1, 2, 3, 0, 1]\n",
    "g = a[::-1]\t    # 也是倒序，通过slicing实现并赋值，效率略低于reverse()\n",
    "a.sort()\n",
    "print(a)            # 列表内排序，a变为[0, 1, 1, 2, 2, 3, 3]"
   ]
  },
  {
   "cell_type": "markdown",
   "metadata": {},
   "source": [
    "### 元组和列表有很多相似的地方，最大的区别在于不可变"
   ]
  },
  {
   "cell_type": "code",
   "execution_count": null,
   "metadata": {},
   "outputs": [],
   "source": [
    "a = (1, 2)\n",
    "b = tuple(['3', 4]) # 也可以从列表初始化\n",
    "c = (5,)\n",
    "print(c)            # (5,)\n",
    "d = (6)\n",
    "print(d)            # 6\n",
    "e = 3, 4, 5\n",
    "print(e)            # (3, 4, 5)"
   ]
  },
  {
   "cell_type": "markdown",
   "metadata": {},
   "source": [
    "### 集合是一种很有用的数学操作，比如列表去重，或是理清两组数据之间的关系"
   ]
  },
  {
   "cell_type": "code",
   "execution_count": null,
   "metadata": {},
   "outputs": [],
   "source": [
    "A = set([1, 2, 3, 4])\n",
    "B = {3, 4, 5, 6}\n",
    "C = set([1, 1, 2, 2, 2, 3, 3, 3, 3])\n",
    "print(C)        # 集合的去重效果，set([1, 2, 3])\n",
    "print(A | B)    # 求并集，set([1, 2, 3, 4, 5, 6])\n",
    "print(A & B)    # 求交集，set([3, 4])\n",
    "print(A - B)    # 求差集，属于A但不属于B的，set([1, 2])\n",
    "print(B - A)    # 求差集，属于B但不属于A的，set([5, 6])\n",
    "print(A ^ B)    # 求对称差集，相当于(A-B)|(B-A)，set([1, 2, 5, 6])"
   ]
  },
  {
   "cell_type": "markdown",
   "metadata": {},
   "source": [
    "### 字典是一种非常常见的“键-值”(key-value)映射结构"
   ]
  },
  {
   "cell_type": "code",
   "execution_count": null,
   "metadata": {},
   "outputs": [],
   "source": [
    "a = {'Tom': 8, 'Jerry': 7}\n",
    "print(a['Tom'])             # 8\n",
    "b = dict(Tom=8, Jerry=7)    # 一种字符串作为键更方便的初始化方式\n",
    "print(b['Tom'])             # 8\n",
    "if 'Jerry' in a:            # 判断'Jerry'是否在keys里面\n",
    "    print(a['Jerry'])        # 7\n",
    "print(a.get('Spike'))       # None，通过get获得值，即使键不存在也不会报异常\n",
    "a['Spike'] = 10\n",
    "a['Tyke'] = 3\n",
    "a.update({'Tuffy': 2, 'Mammy Two Shoes': 42})\n",
    "print(a.values())   # dict_values([8, 2, 3, 7, 10, 42])\n",
    "print(a.pop('Mammy Two Shoes'))     # 移除'Mammy Two Shoes'的键值对，并返回42\n",
    "print(a.keys())     # dict_keys(['Tom', 'Tuffy', 'Tyke', 'Jerry', 'Spike']) "
   ]
  },
  {
   "cell_type": "markdown",
   "metadata": {},
   "source": [
    "# 函数、生成器和类"
   ]
  },
  {
   "cell_type": "markdown",
   "metadata": {},
   "source": [
    "### 函数"
   ]
  },
  {
   "cell_type": "code",
   "execution_count": null,
   "metadata": {},
   "outputs": [],
   "source": [
    "def say_hello():\n",
    "    print('Hello!')\n",
    "\n",
    "def greetings(x='Good morning!'):\n",
    "    print(x)\n",
    "\n",
    "say_hello()                 \t\t# Hello!\n",
    "greetings()                 \t\t# Good morning!\n",
    "greetings(\"What's up!\")     \t\t# What's up!\n",
    "a = greetings()             \t\t# 返回值是None\n",
    "\n",
    "def create_a_list(x, y=2, z=3):\t# 默认参数项必须放后面\n",
    "    return [x, y, z]\n",
    "\n",
    "b = create_a_list(1)        \t\t# [1, 2, 3]\n",
    "c = create_a_list(3, 3)     \t\t# [3, 3, 3]\n",
    "d = create_a_list(6, 7, 8)  \t        # [6, 7, 8]\n",
    "\n",
    "def traverse_args(*args):\n",
    "    for arg in args:\n",
    "        print(arg)\n",
    "\n",
    "traverse_args(1, 2, 3)              # 依次打印1, 2, 3\n",
    "traverse_args('A', 'B', 'C', 'D')   # 依次打印A, B, C, D\n",
    "\n",
    "def traverse_kargs(**kwargs):\n",
    "    for k, v in kwargs.items():\n",
    "        print(k, v)\n",
    "\n",
    "traverse_kargs(x=3, y=4, z=5)       # 依次打印('x', 3), ('y', 4), ('z', 5)\n",
    "traverse_kargs(fighter1='Fedor', fighter2='Randleman')\n",
    "\n",
    "def foo(x, y, *args, **kwargs):\n",
    "    print(x, y)\n",
    "    print(args)\n",
    "    print(kwargs)\n",
    "\n",
    "# 第一个pring输出(1, 2)\n",
    "# 第二个print输出(3, 4, 5)\n",
    "# 第三个print输出{'a': 3, 'b': 'bar'}\n",
    "foo(1, 2, 3, 4, 5, a=6, b='bar')"
   ]
  },
  {
   "cell_type": "markdown",
   "metadata": {},
   "source": [
    "### 生成器（Generator）"
   ]
  },
  {
   "cell_type": "code",
   "execution_count": 9,
   "metadata": {},
   "outputs": [
    {
     "data": {
      "text/plain": [
       "[10, 9, 8, 7, 6, 5, 4, 3, 2, 1, 0]"
      ]
     },
     "execution_count": 9,
     "metadata": {},
     "output_type": "execute_result"
    }
   ],
   "source": [
    "list(countdown(10))"
   ]
  },
  {
   "cell_type": "code",
   "execution_count": 6,
   "metadata": {},
   "outputs": [
    {
     "name": "stdout",
     "output_type": "stream",
     "text": [
      "10\n",
      "9\n",
      "8\n",
      "7\n",
      "6\n",
      "5\n",
      "4\n",
      "3\n",
      "2\n",
      "1\n",
      "0\n"
     ]
    }
   ],
   "source": [
    "# 从10倒数到0\n",
    "def countdown(x):\n",
    "    while x >= 0:\n",
    "        yield x\n",
    "        x -= 1\n",
    "\n",
    "for i in countdown(10):\n",
    "    print(i)"
   ]
  },
  {
   "cell_type": "code",
   "execution_count": 7,
   "metadata": {},
   "outputs": [
    {
     "name": "stdout",
     "output_type": "stream",
     "text": [
      "1\n",
      "1\n",
      "2\n",
      "3\n",
      "5\n",
      "8\n",
      "13\n",
      "21\n",
      "34\n",
      "55\n",
      "89\n"
     ]
    }
   ],
   "source": [
    "# 打印小于100的斐波那契数\n",
    "def fibonacci(n):\n",
    "    a = 0\n",
    "    b = 1\n",
    "    while b < n:\n",
    "        yield b\n",
    "        a, b = b, a + b\n",
    "\n",
    "for x in fibonacci(100):\n",
    "    print(x)"
   ]
  },
  {
   "cell_type": "code",
   "execution_count": 10,
   "metadata": {},
   "outputs": [
    {
     "name": "stdout",
     "output_type": "stream",
     "text": [
      "1\n",
      "1\n",
      "2\n"
     ]
    },
    {
     "ename": "StopIteration",
     "evalue": "",
     "output_type": "error",
     "traceback": [
      "\u001b[0;31m---------------------------------------------------------------------------\u001b[0m",
      "\u001b[0;31mStopIteration\u001b[0m                             Traceback (most recent call last)",
      "\u001b[0;32m<ipython-input-10-73a206654042>\u001b[0m in \u001b[0;36m<module>\u001b[0;34m()\u001b[0m\n\u001b[1;32m      3\u001b[0m \u001b[0mprint\u001b[0m\u001b[0;34m(\u001b[0m\u001b[0mnext\u001b[0m\u001b[0;34m(\u001b[0m\u001b[0ma\u001b[0m\u001b[0;34m)\u001b[0m\u001b[0;34m)\u001b[0m  \u001b[0;31m# 1\u001b[0m\u001b[0;34m\u001b[0m\u001b[0m\n\u001b[1;32m      4\u001b[0m \u001b[0mprint\u001b[0m\u001b[0;34m(\u001b[0m\u001b[0mnext\u001b[0m\u001b[0;34m(\u001b[0m\u001b[0ma\u001b[0m\u001b[0;34m)\u001b[0m\u001b[0;34m)\u001b[0m  \u001b[0;31m# 2\u001b[0m\u001b[0;34m\u001b[0m\u001b[0m\n\u001b[0;32m----> 5\u001b[0;31m \u001b[0mprint\u001b[0m\u001b[0;34m(\u001b[0m\u001b[0mnext\u001b[0m\u001b[0;34m(\u001b[0m\u001b[0ma\u001b[0m\u001b[0;34m)\u001b[0m\u001b[0;34m)\u001b[0m  \u001b[0;31m# 抛出StopIteration异常\u001b[0m\u001b[0;34m\u001b[0m\u001b[0m\n\u001b[0m",
      "\u001b[0;31mStopIteration\u001b[0m: "
     ]
    }
   ],
   "source": [
    "a = fibonacci(3)\n",
    "print(next(a))  # 1\n",
    "print(next(a))  # 1\n",
    "print(next(a))  # 2\n",
    "print(next(a))  # 抛出StopIteration异常"
   ]
  },
  {
   "cell_type": "code",
   "execution_count": 11,
   "metadata": {},
   "outputs": [
    {
     "name": "stdout",
     "output_type": "stream",
     "text": [
      "1\n",
      "1\n",
      "2\n"
     ]
    },
    {
     "ename": "StopIteration",
     "evalue": "No more ...",
     "output_type": "error",
     "traceback": [
      "\u001b[0;31m---------------------------------------------------------------------------\u001b[0m",
      "\u001b[0;31mStopIteration\u001b[0m                             Traceback (most recent call last)",
      "\u001b[0;32m<ipython-input-11-d6586959e49d>\u001b[0m in \u001b[0;36m<module>\u001b[0;34m()\u001b[0m\n\u001b[1;32m     12\u001b[0m \u001b[0mprint\u001b[0m\u001b[0;34m(\u001b[0m\u001b[0mnext\u001b[0m\u001b[0;34m(\u001b[0m\u001b[0ma\u001b[0m\u001b[0;34m)\u001b[0m\u001b[0;34m)\u001b[0m  \u001b[0;31m# 1\u001b[0m\u001b[0;34m\u001b[0m\u001b[0m\n\u001b[1;32m     13\u001b[0m \u001b[0mprint\u001b[0m\u001b[0;34m(\u001b[0m\u001b[0mnext\u001b[0m\u001b[0;34m(\u001b[0m\u001b[0ma\u001b[0m\u001b[0;34m)\u001b[0m\u001b[0;34m)\u001b[0m  \u001b[0;31m# 2\u001b[0m\u001b[0;34m\u001b[0m\u001b[0m\n\u001b[0;32m---> 14\u001b[0;31m \u001b[0mprint\u001b[0m\u001b[0;34m(\u001b[0m\u001b[0mnext\u001b[0m\u001b[0;34m(\u001b[0m\u001b[0ma\u001b[0m\u001b[0;34m)\u001b[0m\u001b[0;34m)\u001b[0m  \u001b[0;31m# 抛出StopIteration异常并打印No more消息\u001b[0m\u001b[0;34m\u001b[0m\u001b[0m\n\u001b[0m",
      "\u001b[0;31mStopIteration\u001b[0m: No more ..."
     ]
    }
   ],
   "source": [
    "# Python3.3以上可以return返回异常的说明\n",
    "def another_fibonacci(n):\n",
    "    a = 0\n",
    "    b = 1\n",
    "    while b < n:\n",
    "        yield b\n",
    "        a, b = b, a + b\n",
    "    return \"No more ...\"\n",
    "\n",
    "a = another_fibonacci(3)\n",
    "print(next(a))  # 1\n",
    "print(next(a))  # 1\n",
    "print(next(a))  # 2\n",
    "print(next(a))  # 抛出StopIteration异常并打印No more消息"
   ]
  },
  {
   "cell_type": "markdown",
   "metadata": {},
   "source": [
    "### 类（Class）"
   ]
  },
  {
   "cell_type": "code",
   "execution_count": null,
   "metadata": {},
   "outputs": [],
   "source": [
    "class A:\n",
    "    \"\"\"Class A\"\"\"\n",
    "    def __init__(self, x, y, name):\n",
    "        self.x = x\n",
    "        self.y = y\n",
    "        self._name = name\n",
    "\n",
    "    def introduce(self):\n",
    "        print(self._name)\n",
    "\n",
    "    def greeting(self):\n",
    "        print(\"What's up!\")\n",
    "\n",
    "    def __l2norm(self):\n",
    "        return self.x**2 + self.y**2\n",
    "\n",
    "    def cal_l2norm(self):\n",
    "        return self.__l2norm()\n",
    "\n",
    "a = A(11, 11, 'Leonardo')\n",
    "print(A.__doc__)        \t# \"Class A\"\n",
    "a.introduce()           \t# \"Leonardo\"\n",
    "a.greeting()            \t# \"What's up!\"\n",
    "print(a._name)          \t# 可以正常访问\n",
    "print(a.cal_l2norm())   # 输出11*11+11*11=242\n",
    "print(a._A__l2norm())   # 仍然可以访问，只是名字不一样\n",
    "print(a.__l2norm())     \t# 报错: 'A' object has no attribute '__l2norm'"
   ]
  },
  {
   "cell_type": "code",
   "execution_count": null,
   "metadata": {},
   "outputs": [],
   "source": [
    "class B(A):\n",
    "    \"\"\"Class B inheritenced from A\"\"\"\n",
    "    def greeting(self):\n",
    "        print(\"How's going!\")\n",
    "\n",
    "b = B(12, 12, 'Flaubert')\n",
    "b.introduce()   # Flaubert\n",
    "b.greeting()    # How's going!\n",
    "print(b._name())        # Flaubert\n",
    "print(b._A__l2norm())   # “私有”方法，必须通过_A__l2norm访问"
   ]
  },
  {
   "cell_type": "markdown",
   "metadata": {},
   "source": [
    "## 字符串操作相关函数非常丰富"
   ]
  },
  {
   "cell_type": "code",
   "execution_count": null,
   "metadata": {},
   "outputs": [],
   "source": [
    "a = 'Life is short, you need Python'\n",
    "a.lower()              \t# 'life is short, you need Python'\n",
    "a.upper()               \t# 'LIFE IS SHORT, YOU NEED PYTHON'\n",
    "a.count('i')            \t# 2\n",
    "a.find('e')             \t# 从左向右查找'e'，3\n",
    "a.rfind('need')         \t# 从右向左查找'need'，19\n",
    "a.replace('you', 'I')   # 'Life is short, I need Python'\n",
    "tokens = a.split()    \t# ['Life', 'is', 'short,', 'you', 'need', 'Python']\n",
    "b = ' '.join(tokens)\t# 用指定分隔符按顺序把字符串列表组合成新字符串\n",
    "c = a + '\\n'            \t# 加了换行符，注意+用法是字符串作为序列的用法\n",
    "c.rstrip()              \t# 右侧去除换行符\n",
    "[x for x in a]          \t# 遍历每个字符并生成由所有字符按顺序构成的列表\n",
    "'Python' in a   \t\t"
   ]
  },
  {
   "cell_type": "markdown",
   "metadata": {},
   "source": [
    "## 文件操作和pickle"
   ]
  },
  {
   "cell_type": "markdown",
   "metadata": {},
   "source": [
    "### 打开txt,open()的第一个参数是文件名，第二个参数是模式。文件的模式一般有四种，读取(r)，写入(w)，追加(a)和读写(r+)。如果希望按照二进制数据读取，则将文件模式和b一起使用（wb, r+b…）。"
   ]
  },
  {
   "cell_type": "code",
   "execution_count": null,
   "metadata": {},
   "outputs": [],
   "source": [
    "with open('name_age.txt', 'r') as f: \t# 打开文件，读取模式\n",
    "    lines = f.readlines()              \t# 一次读取所有行\n",
    "    for line in lines:                  \t# 按行格式化并显示信息\n",
    "        name, age = line.rstrip().split(',')\n",
    "        print('{} is {} years old.'.format(name, age))"
   ]
  },
  {
   "cell_type": "markdown",
   "metadata": {},
   "source": [
    "### 有的时候我们进行文件操作是希望把对象进行序列化，那么可以考虑用pickle模块："
   ]
  },
  {
   "cell_type": "code",
   "execution_count": null,
   "metadata": {},
   "outputs": [],
   "source": [
    "import pickle\n",
    "\n",
    "lines = [\n",
    "    \"I'm like a dog chasing cars.\",\n",
    "    \"I wouldn't know what to do if I caught one...\",\n",
    "    \"I'd just do things.\"\n",
    "]\n",
    "\n",
    "with open('lines.pkl', 'wb') as f: \t# 序列化并保存成文件\n",
    "    pickle.dump(lines, f)\n",
    "\n",
    "with open('lines.pkl', 'rb') as f: \t# 从文件读取并反序列化\n",
    "    lines_back = pickle.load(f)\n",
    "\n",
    "print(lines_back)                   \t# 和lines一样"
   ]
  },
  {
   "cell_type": "markdown",
   "metadata": {},
   "source": [
    "### 除了文件IO，Python中一些操作系统的相关功能也能够非常方便地帮助数据处理"
   ]
  },
  {
   "cell_type": "code",
   "execution_count": null,
   "metadata": {},
   "outputs": [],
   "source": [
    "import os\n",
    "\n",
    "# 定义文件夹名称和标签的对应关系\n",
    "label_map = {\n",
    "    'cat': 0,\n",
    "    'dog': 1,\n",
    "    'bat': 2\n",
    "}\n",
    "\n",
    "with open('data.txt', 'w') as f:\n",
    "\n",
    "    # 遍历所有文件，root为当前文件夹，dirs是所有子文件夹名，files是所有文件名\n",
    "    for root, dirs, files in os.walk('data'):\n",
    "        for filename in files:\n",
    "            filepath = os.sep.join([root, filename])   \t# 获得文件完整路径\n",
    "            dirname = root.split(os.sep)[-1]            \t# 获取当前文件夹名称\n",
    "            label = label_map[dirname]                  \t# 得到标签\n",
    "            line = '{},{}\\n'.format(filepath, label)\n",
    "            f.write(line)"
   ]
  },
  {
   "cell_type": "markdown",
   "metadata": {},
   "source": [
    "## 实际上，很多时候我们会采用处理要的数据，比如npz,npy一类，这个在后面具体来说"
   ]
  }
 ],
 "metadata": {
  "kernelspec": {
   "display_name": "Python 3",
   "language": "python",
   "name": "python3"
  },
  "language_info": {
   "codemirror_mode": {
    "name": "ipython",
    "version": 3
   },
   "file_extension": ".py",
   "mimetype": "text/x-python",
   "name": "python",
   "nbconvert_exporter": "python",
   "pygments_lexer": "ipython3",
   "version": "3.6.5"
  }
 },
 "nbformat": 4,
 "nbformat_minor": 2
}
