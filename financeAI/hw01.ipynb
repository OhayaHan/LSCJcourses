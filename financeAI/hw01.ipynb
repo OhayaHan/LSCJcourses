{
 "cells": [
  {
   "cell_type": "markdown",
   "metadata": {},
   "source": [
    "## FNAIHW01"
   ]
  },
  {
   "cell_type": "markdown",
   "metadata": {},
   "source": [
    "### 1. kaggle的冠军得主并没有公开他的代码和具体使用的特征。尝试根据你的业务知识，来提取一些有用的特征"
   ]
  },
  {
   "cell_type": "markdown",
   "metadata": {},
   "source": [
    "#### 价格相关特征  \n",
    "把流动性冲击发生前的前48个区间均分为8个子区间，然后分别计算均值作为特征；  \n",
    "把流动性冲击发生前的前48个区间均分为8个子区间，然后分别计算标准差作为特征；\n",
    "\n",
    "#### 价差相关特征\n",
    "流动性冲击发生前的前48个区间，相邻两个报价差作为特征\n",
    "\n",
    "#### 比率相关特征\n",
    "流动性冲击发生前的前48个区间，（相邻两个报价差除以前一个报价）作为特征"
   ]
  },
  {
   "cell_type": "markdown",
   "metadata": {},
   "source": [
    "### 2. 你觉得本周的问题，还能有什么更好的解决方法吗？说说你的看法"
   ]
  },
  {
   "cell_type": "markdown",
   "metadata": {},
   "source": [
    "现在流行的LSTM很适合处理这个问题。还是把bid和ask分开来做为两组：  \n",
    "\n",
    "流动性冲击发生前的前48个区间的bid（或者ask）作为特征输入到LSTM中，LSTM善于去提取序列先后的相互影响；  \n",
    "把预测区间的每一个区间分别作为预测值。\n",
    "\n",
    "这样一共会训练得到98（49*2）个模型。"
   ]
  },
  {
   "cell_type": "code",
   "execution_count": null,
   "metadata": {},
   "outputs": [],
   "source": []
  }
 ],
 "metadata": {
  "kernelspec": {
   "display_name": "Python 3",
   "language": "python",
   "name": "python3"
  },
  "language_info": {
   "codemirror_mode": {
    "name": "ipython",
    "version": 3
   },
   "file_extension": ".py",
   "mimetype": "text/x-python",
   "name": "python",
   "nbconvert_exporter": "python",
   "pygments_lexer": "ipython3",
   "version": "3.6.5"
  }
 },
 "nbformat": 4,
 "nbformat_minor": 2
}
