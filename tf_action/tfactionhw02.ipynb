{
 "cells": [
  {
   "cell_type": "markdown",
   "metadata": {},
   "source": [
    "## tfactionhw02"
   ]
  },
  {
   "cell_type": "markdown",
   "metadata": {},
   "source": [
    "### 1. 整理用于文本分类的深度神经网络模型（包括但不限于课上讲的），归纳出各个模型的特点\n",
    "1. fasttext\n",
    "    用embedding表示word，考虑的词序，会用到n-gram，\n",
    "    一个句子向量会很粗暴的用词向量的平均来表示\n",
    "    训练速度快，训练准确率低\n",
    "\n",
    "1. textCNN\n",
    "    用CNN做文本分类。大致的思想是用embedding向量把一个句子表示成一个矩阵，\n",
    "    然后用1d卷积和1d pooling对矩阵进行特征提取，\n",
    "1. textRNN\n",
    "    用RNN的好处是可以体现出前面的word对后面的word的影响，\n",
    "    缺点是无法并行计算，训练速度慢\n",
    "1. BiLstmTextRelation\n",
    "    使用双向的LSTM的好处就是可以获取到前后word的影响；\n",
    "    缺点是无法并行计算，训练速度慢\n",
    "\n",
    "\n",
    "\n"
   ]
  },
  {
   "cell_type": "markdown",
   "metadata": {},
   "source": [
    "### 2. 对于知乎的比赛，如果是你参赛的话，你有什么思路？简述你的思路\n",
    "知乎问题是典型的文本多分类问题，\n",
    "\n",
    "大的思路上就是对文本进行特征提取，softmax输出，取概率最高的前五个作为预测标签，\n",
    "\n",
    "集成学习，选择差异性较大的几个模型，结果直接相加，取值最大的前5个作为预测值输出"
   ]
  },
  {
   "cell_type": "code",
   "execution_count": null,
   "metadata": {},
   "outputs": [],
   "source": []
  }
 ],
 "metadata": {
  "kernelspec": {
   "display_name": "Python 3",
   "language": "python",
   "name": "python3"
  },
  "language_info": {
   "codemirror_mode": {
    "name": "ipython",
    "version": 3
   },
   "file_extension": ".py",
   "mimetype": "text/x-python",
   "name": "python",
   "nbconvert_exporter": "python",
   "pygments_lexer": "ipython3",
   "version": "3.7.3"
  }
 },
 "nbformat": 4,
 "nbformat_minor": 2
}
