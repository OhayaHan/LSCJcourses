{
 "cells": [
  {
   "cell_type": "code",
   "execution_count": 123,
   "metadata": {},
   "outputs": [],
   "source": [
    "import numpy as np\n",
    "import matplotlib.pyplot as plt\n",
    "import matplotlib\n",
    "matplotlib.rcParams[ 'figure.figsize' ] = ( 14, 6 )"
   ]
  },
  {
   "cell_type": "code",
   "execution_count": 124,
   "metadata": {},
   "outputs": [],
   "source": [
    "def bad_strategy(p,i,N,T):\n",
    "    #Initialization\n",
    "    flag_buy=False\n",
    "    u=np.random.rand()\n",
    "    if u<p:\n",
    "        flag_buy=True\n",
    "    \n",
    "    #Loop\n",
    "    for j in range(T):\n",
    "        u=np.random.rand()\n",
    "        if flag_buy:\n",
    "            if u<p:\n",
    "                i+=1\n",
    "                flag_buy=True\n",
    "            else:\n",
    "                i-=1\n",
    "                flag_buy=False\n",
    "        else:\n",
    "            if u<p:\n",
    "                i-=1\n",
    "                flag_buy=True\n",
    "            else:\n",
    "                i+=1\n",
    "                flag_buy=False\n",
    "        if i==0:\n",
    "            print(\"Broke\")\n",
    "            break\n",
    "        if i==N:\n",
    "            print(\"OM Achieved\")\n",
    "            break\n",
    "    return i\n",
    "            \n",
    "    "
   ]
  },
  {
   "cell_type": "code",
   "execution_count": 137,
   "metadata": {},
   "outputs": [
    {
     "name": "stdout",
     "output_type": "stream",
     "text": [
      "OM Achieved\n"
     ]
    },
    {
     "data": {
      "text/plain": [
       "20"
      ]
     },
     "execution_count": 137,
     "metadata": {},
     "output_type": "execute_result"
    }
   ],
   "source": [
    "bad_strategy(0.5,10,20,1000)"
   ]
  },
  {
   "cell_type": "code",
   "execution_count": 138,
   "metadata": {},
   "outputs": [],
   "source": [
    "def vis():\n",
    "    samples=[bad_strategy(.5,10,20,252) for i in range(10000)]\n",
    "    plt.hist(samples,density=True,bins=300)"
   ]
  },
  {
   "cell_type": "code",
   "execution_count": 120,
   "metadata": {},
   "outputs": [
    {
     "data": {
      "image/png": "[encoded data removed]",
      "text/plain": [
       "<Figure size 1008x432 with 1 Axes>"
      ]
     },
     "metadata": {
      "needs_background": "light"
     },
     "output_type": "display_data"
    }
   ],
   "source": [
    "vis()"
   ]
  },
  {
   "cell_type": "code",
   "execution_count": 121,
   "metadata": {},
   "outputs": [],
   "source": [
    "def more_vis():\n",
    "    fig,axes=plt.subplots(3,3)\n",
    "    pmatrix=np.linspace(0.1,0.9,9).reshape(3,3)\n",
    "    for i in range(3):\n",
    "        for j in range(3):\n",
    "            prob=pmatrix[i][j]\n",
    "            samples=[bad_strategy(prob,10,20,252) for i in range(1000)]\n",
    "            axes[i][j].hist(samples,bins=100,density=True)\n",
    "            axes[i][j].set_title(f\"$p={prob:.3f}$\")\n",
    "    plt.subplots_adjust(hspace=1)\n",
    "    "
   ]
  },
  {
   "cell_type": "code",
   "execution_count": 122,
   "metadata": {},
   "outputs": [
    {
     "data": {
      "image/png": "[encoded data removed]",
      "text/plain": [
       "<Figure size 1008x432 with 9 Axes>"
      ]
     },
     "metadata": {
      "needs_background": "light"
     },
     "output_type": "display_data"
    }
   ],
   "source": [
    "more_vis()"
   ]
  },
  {
   "cell_type": "code",
   "execution_count": null,
   "metadata": {},
   "outputs": [],
   "source": []
  },
  {
   "cell_type": "code",
   "execution_count": null,
   "metadata": {},
   "outputs": [],
   "source": []
  },
  {
   "cell_type": "code",
   "execution_count": null,
   "metadata": {},
   "outputs": [],
   "source": []
  }
 ],
 "metadata": {
  "kernelspec": {
   "display_name": "Python 3",
   "language": "python",
   "name": "python3"
  },
  "language_info": {
   "codemirror_mode": {
    "name": "ipython",
    "version": 3
   },
   "file_extension": ".py",
   "mimetype": "text/x-python",
   "name": "python",
   "nbconvert_exporter": "python",
   "pygments_lexer": "ipython3",
   "version": "3.7.3"
  },
  "toc": {
   "base_numbering": 1,
   "nav_menu": {},
   "number_sections": true,
   "sideBar": true,
   "skip_h1_title": false,
   "title_cell": "Table of Contents",
   "title_sidebar": "Contents",
   "toc_cell": false,
   "toc_position": {},
   "toc_section_display": true,
   "toc_window_display": false
  }
 },
 "nbformat": 4,
 "nbformat_minor": 2
}
