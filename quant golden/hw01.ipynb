{
 "cells": [
  {
   "cell_type": "markdown",
   "metadata": {},
   "source": [
    "# 模拟课堂所讲Random Walk （Gambler's Ruin Problem）"
   ]
  },
  {
   "cell_type": "code",
   "execution_count": 3,
   "metadata": {},
   "outputs": [],
   "source": [
    "import numpy as np"
   ]
  },
  {
   "cell_type": "code",
   "execution_count": 4,
   "metadata": {},
   "outputs": [],
   "source": [
    "def random_walk(p, i):\n",
    "    \"\"\"\n",
    "    每次随机一个数，如果值大于p，i+1；如果值小于p，i-1。\n",
    "    当i=0，或 i=20时，游戏结束\n",
    "    \"\"\"\n",
    "    while all([i!=0, i!=20]):\n",
    "        if np.random.rand() < p:\n",
    "            i -= 1\n",
    "        else:\n",
    "            i += 1\n",
    "        print(i)"
   ]
  },
  {
   "cell_type": "code",
   "execution_count": 5,
   "metadata": {},
   "outputs": [
    {
     "name": "stdout",
     "output_type": "stream",
     "text": [
      "11\n",
      "12\n",
      "13\n",
      "14\n",
      "15\n",
      "16\n",
      "17\n",
      "18\n",
      "19\n",
      "20\n"
     ]
    }
   ],
   "source": [
    "random_walk(0.1, 10)"
   ]
  },
  {
   "cell_type": "code",
   "execution_count": 12,
   "metadata": {},
   "outputs": [
    {
     "name": "stdout",
     "output_type": "stream",
     "text": [
      "11\n",
      "12\n",
      "13\n",
      "14\n",
      "15\n",
      "14\n",
      "13\n",
      "14\n",
      "15\n",
      "16\n",
      "17\n",
      "18\n",
      "19\n",
      "18\n",
      "19\n",
      "20\n"
     ]
    }
   ],
   "source": [
    "random_walk(0.2, 10)"
   ]
  },
  {
   "cell_type": "code",
   "execution_count": 13,
   "metadata": {
    "scrolled": false
   },
   "outputs": [
    {
     "name": "stdout",
     "output_type": "stream",
     "text": [
      "9\n",
      "10\n",
      "9\n",
      "10\n",
      "9\n",
      "10\n",
      "9\n",
      "8\n",
      "9\n",
      "8\n",
      "9\n",
      "10\n",
      "11\n",
      "10\n",
      "9\n",
      "10\n",
      "11\n",
      "10\n",
      "11\n",
      "10\n",
      "11\n",
      "12\n",
      "13\n",
      "14\n",
      "13\n",
      "14\n",
      "13\n",
      "14\n",
      "13\n",
      "12\n",
      "11\n",
      "12\n",
      "11\n",
      "10\n",
      "9\n",
      "8\n",
      "7\n",
      "8\n",
      "9\n",
      "10\n",
      "9\n",
      "10\n",
      "11\n",
      "12\n",
      "13\n",
      "12\n",
      "13\n",
      "12\n",
      "13\n",
      "14\n",
      "15\n",
      "16\n",
      "15\n",
      "14\n",
      "13\n",
      "14\n",
      "15\n",
      "16\n",
      "15\n",
      "16\n",
      "17\n",
      "18\n",
      "19\n",
      "18\n",
      "19\n",
      "18\n",
      "17\n",
      "18\n",
      "17\n",
      "18\n",
      "19\n",
      "20\n"
     ]
    }
   ],
   "source": [
    "random_walk(0.5, 10)"
   ]
  },
  {
   "cell_type": "code",
   "execution_count": 14,
   "metadata": {
    "scrolled": false
   },
   "outputs": [
    {
     "name": "stdout",
     "output_type": "stream",
     "text": [
      "9\n",
      "10\n",
      "9\n",
      "10\n",
      "9\n",
      "8\n",
      "7\n",
      "6\n",
      "7\n",
      "6\n",
      "5\n",
      "4\n",
      "3\n",
      "2\n",
      "3\n",
      "2\n",
      "1\n",
      "0\n"
     ]
    }
   ],
   "source": [
    "random_walk(0.9, 10)"
   ]
  },
  {
   "cell_type": "code",
   "execution_count": null,
   "metadata": {},
   "outputs": [],
   "source": []
  }
 ],
 "metadata": {
  "kernelspec": {
   "display_name": "Python 3",
   "language": "python",
   "name": "python3"
  },
  "language_info": {
   "codemirror_mode": {
    "name": "ipython",
    "version": 3
   },
   "file_extension": ".py",
   "mimetype": "text/x-python",
   "name": "python",
   "nbconvert_exporter": "python",
   "pygments_lexer": "ipython3",
   "version": "3.7.3"
  },
  "toc": {
   "base_numbering": 1,
   "nav_menu": {},
   "number_sections": true,
   "sideBar": true,
   "skip_h1_title": false,
   "title_cell": "Table of Contents",
   "title_sidebar": "Contents",
   "toc_cell": false,
   "toc_position": {},
   "toc_section_display": true,
   "toc_window_display": false
  }
 },
 "nbformat": 4,
 "nbformat_minor": 2
}
